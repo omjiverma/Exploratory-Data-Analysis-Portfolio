{
  "cells": [
    {
      "cell_type": "markdown",
      "metadata": {
        "id": "view-in-github",
        "colab_type": "text"
      },
      "source": [
        "<a href=\"https://colab.research.google.com/github/omjiverma/Exploratory-Data-Analysis-Portfolio/blob/main/EDA_Exports_and_Imports_of_India(1997_2022).ipynb\" target=\"_parent\"><img src=\"https://colab.research.google.com/assets/colab-badge.svg\" alt=\"Open In Colab\"/></a>"
      ]
    },
    {
      "cell_type": "markdown",
      "source": [
        "## Analysis of India's import and export\n",
        "Even before independence, the Government of India maintained semi-autonomous \n",
        "diplomatic relations. It had colonies (such as the Aden Settlement), who sent and received full missions, and was a founder member of both the League of Nations and the United Nations. After India gained independence from the United Kingdom in 1947, it soon joined the Commonwealth of Nations and strongly supported independence movements in other colonies, like the Indonesian National Revolution. The partition and various territorial disputes, particularly that over Kashmir, would strain its relations with Pakistan for years to come. During the Cold War, India adopted a foreign policy of non-alignment policy itself with any major power bloc. However, India developed close ties with the Soviet Union and received extensive military support from it.\n",
        "\n",
        "\n",
        "---\n",
        "<img src='https://images.unsplash.com/photo-1578575437130-527eed3abbec?ixlib=rb-1.2.1&ixid=MnwxMjA3fDB8MHxwaG90by1wYWdlfHx8fGVufDB8fHx8&auto=format&fit=crop&w=2070&q=80'>\n",
        "---\n",
        "\n",
        "\n",
        "India exports approximately 7500 commodities to about 190 countries, and imports around 6000 commodities from 140 countries.[11] India exported US$318.2 billion and imported $462.9 billion worth of commodities in 2014.\n",
        "\n",
        "\n",
        "---\n",
        "\n",
        "\n",
        "Trade in services\n",
        "India was the eighth largest exporter of commercial services in the world in 2016, accounting for 3.4% of global trade in services. India recorded a 5.7% growth in services trade in 2016.\n",
        "\n",
        "\n",
        "---\n",
        "\n",
        "In this EDA, I will explore the india import export data from 1997 - 2022 dataset through data visualizations and graphs using plotly and pandas.\n",
        "\n",
        "---\n",
        "\n",
        "\n",
        "**Note**:DATA IS IN US DOLLARS(IN MILLIONS)\n",
        "\n",
        "---\n",
        "\n",
        "\n"
      ],
      "metadata": {
        "id": "dfRV_ro6JbUo"
      }
    },
    {
      "cell_type": "markdown",
      "source": [
        "##Install Package and Import"
      ],
      "metadata": {
        "id": "hSId_lbnOeYN"
      }
    },
    {
      "cell_type": "code",
      "source": [
        "!pip install opendatasets chart_studio -q"
      ],
      "metadata": {
        "id": "XtlDYa1tOdtf",
        "colab": {
          "base_uri": "https://localhost:8080/"
        },
        "outputId": "04ffe608-9c90-40cb-9615-9db0c42a9ac8"
      },
      "execution_count": 1,
      "outputs": [
        {
          "output_type": "stream",
          "name": "stdout",
          "text": [
            "\u001b[?25l\r\u001b[K     |█████                           | 10 kB 16.1 MB/s eta 0:00:01\r\u001b[K     |██████████▏                     | 20 kB 16.5 MB/s eta 0:00:01\r\u001b[K     |███████████████▎                | 30 kB 14.5 MB/s eta 0:00:01\r\u001b[K     |████████████████████▍           | 40 kB 13.7 MB/s eta 0:00:01\r\u001b[K     |█████████████████████████▍      | 51 kB 6.9 MB/s eta 0:00:01\r\u001b[K     |██████████████████████████████▌ | 61 kB 8.1 MB/s eta 0:00:01\r\u001b[K     |████████████████████████████████| 64 kB 2.4 MB/s \n",
            "\u001b[?25h  Building wheel for retrying (setup.py) ... \u001b[?25l\u001b[?25hdone\n"
          ]
        }
      ]
    },
    {
      "cell_type": "markdown",
      "source": [
        "### Import required libraries"
      ],
      "metadata": {
        "id": "iDUDApIjO0BK"
      }
    },
    {
      "cell_type": "code",
      "source": [
        "import opendatasets as od\n",
        "import pandas as pd\n",
        "import plotly.express as px\n",
        "import numpy as np"
      ],
      "metadata": {
        "id": "JxvUgHNHOdo8"
      },
      "execution_count": 2,
      "outputs": []
    },
    {
      "cell_type": "markdown",
      "source": [
        "### Download Dataset from kaggle"
      ],
      "metadata": {
        "id": "K_OiOmaErkPx"
      }
    },
    {
      "cell_type": "code",
      "source": [
        "URL='https://www.kaggle.com/ramjasmaurya/exports-and-imports-of-india19972022'\n",
        "od.download_kaggle_dataset(URL,'./data')"
      ],
      "metadata": {
        "id": "35Xv-WwvJRiq",
        "colab": {
          "base_uri": "https://localhost:8080/"
        },
        "outputId": "b85089aa-6892-46d9-f07e-9c89b4ff6d11"
      },
      "execution_count": 10,
      "outputs": [
        {
          "output_type": "stream",
          "name": "stdout",
          "text": [
            "Skipping, found downloaded files in \"./data/exports-and-imports-of-india19972022\" (use force=True to force download)\n"
          ]
        }
      ]
    },
    {
      "cell_type": "markdown",
      "source": [
        "### Loading the Dataset\n",
        "We will pandas read_csv function to read data csv file and load it our notebook"
      ],
      "metadata": {
        "id": "X7cEZz9ksFml"
      }
    },
    {
      "cell_type": "code",
      "source": [
        "dataset=pd.read_csv('./data/exports-and-imports-of-india19972022/exports and imports of india(1997-2022) - exports and imports.csv')"
      ],
      "metadata": {
        "id": "2oicgxH7rvfq"
      },
      "execution_count": 11,
      "outputs": []
    },
    {
      "cell_type": "code",
      "source": [
        "dataset.head()"
      ],
      "metadata": {
        "colab": {
          "base_uri": "https://localhost:8080/",
          "height": 206
        },
        "id": "uaEMFzGssAcr",
        "outputId": "b28b83d2-d73e-4328-9319-d001adc6a54a"
      },
      "execution_count": 12,
      "outputs": [
        {
          "output_type": "execute_result",
          "data": {
            "text/plain": [
              "       Country Export Import Total Trade Trade Balance  Year(start)  Year(end)\n",
              "0  AFGHANISTAN  21.25   10.7       31.95         10.55           97         98\n",
              "1  AFGHANISTAN  12.81  28.14       40.95        -15.33           98         99\n",
              "2  AFGHANISTAN   33.2  21.06       54.26         12.15           99       2000\n",
              "3  AFGHANISTAN  25.86  26.59       52.45         -0.73         2000       2001\n",
              "4  AFGHANISTAN  24.37  17.52       41.89          6.85         2001       2002"
            ],
            "text/html": [
              "\n",
              "  <div id=\"df-14aa3419-8d68-493c-ae33-0fc365c64367\">\n",
              "    <div class=\"colab-df-container\">\n",
              "      <div>\n",
              "<style scoped>\n",
              "    .dataframe tbody tr th:only-of-type {\n",
              "        vertical-align: middle;\n",
              "    }\n",
              "\n",
              "    .dataframe tbody tr th {\n",
              "        vertical-align: top;\n",
              "    }\n",
              "\n",
              "    .dataframe thead th {\n",
              "        text-align: right;\n",
              "    }\n",
              "</style>\n",
              "<table border=\"1\" class=\"dataframe\">\n",
              "  <thead>\n",
              "    <tr style=\"text-align: right;\">\n",
              "      <th></th>\n",
              "      <th>Country</th>\n",
              "      <th>Export</th>\n",
              "      <th>Import</th>\n",
              "      <th>Total Trade</th>\n",
              "      <th>Trade Balance</th>\n",
              "      <th>Year(start)</th>\n",
              "      <th>Year(end)</th>\n",
              "    </tr>\n",
              "  </thead>\n",
              "  <tbody>\n",
              "    <tr>\n",
              "      <th>0</th>\n",
              "      <td>AFGHANISTAN</td>\n",
              "      <td>21.25</td>\n",
              "      <td>10.7</td>\n",
              "      <td>31.95</td>\n",
              "      <td>10.55</td>\n",
              "      <td>97</td>\n",
              "      <td>98</td>\n",
              "    </tr>\n",
              "    <tr>\n",
              "      <th>1</th>\n",
              "      <td>AFGHANISTAN</td>\n",
              "      <td>12.81</td>\n",
              "      <td>28.14</td>\n",
              "      <td>40.95</td>\n",
              "      <td>-15.33</td>\n",
              "      <td>98</td>\n",
              "      <td>99</td>\n",
              "    </tr>\n",
              "    <tr>\n",
              "      <th>2</th>\n",
              "      <td>AFGHANISTAN</td>\n",
              "      <td>33.2</td>\n",
              "      <td>21.06</td>\n",
              "      <td>54.26</td>\n",
              "      <td>12.15</td>\n",
              "      <td>99</td>\n",
              "      <td>2000</td>\n",
              "    </tr>\n",
              "    <tr>\n",
              "      <th>3</th>\n",
              "      <td>AFGHANISTAN</td>\n",
              "      <td>25.86</td>\n",
              "      <td>26.59</td>\n",
              "      <td>52.45</td>\n",
              "      <td>-0.73</td>\n",
              "      <td>2000</td>\n",
              "      <td>2001</td>\n",
              "    </tr>\n",
              "    <tr>\n",
              "      <th>4</th>\n",
              "      <td>AFGHANISTAN</td>\n",
              "      <td>24.37</td>\n",
              "      <td>17.52</td>\n",
              "      <td>41.89</td>\n",
              "      <td>6.85</td>\n",
              "      <td>2001</td>\n",
              "      <td>2002</td>\n",
              "    </tr>\n",
              "  </tbody>\n",
              "</table>\n",
              "</div>\n",
              "      <button class=\"colab-df-convert\" onclick=\"convertToInteractive('df-14aa3419-8d68-493c-ae33-0fc365c64367')\"\n",
              "              title=\"Convert this dataframe to an interactive table.\"\n",
              "              style=\"display:none;\">\n",
              "        \n",
              "  <svg xmlns=\"http://www.w3.org/2000/svg\" height=\"24px\"viewBox=\"0 0 24 24\"\n",
              "       width=\"24px\">\n",
              "    <path d=\"M0 0h24v24H0V0z\" fill=\"none\"/>\n",
              "    <path d=\"M18.56 5.44l.94 2.06.94-2.06 2.06-.94-2.06-.94-.94-2.06-.94 2.06-2.06.94zm-11 1L8.5 8.5l.94-2.06 2.06-.94-2.06-.94L8.5 2.5l-.94 2.06-2.06.94zm10 10l.94 2.06.94-2.06 2.06-.94-2.06-.94-.94-2.06-.94 2.06-2.06.94z\"/><path d=\"M17.41 7.96l-1.37-1.37c-.4-.4-.92-.59-1.43-.59-.52 0-1.04.2-1.43.59L10.3 9.45l-7.72 7.72c-.78.78-.78 2.05 0 2.83L4 21.41c.39.39.9.59 1.41.59.51 0 1.02-.2 1.41-.59l7.78-7.78 2.81-2.81c.8-.78.8-2.07 0-2.86zM5.41 20L4 18.59l7.72-7.72 1.47 1.35L5.41 20z\"/>\n",
              "  </svg>\n",
              "      </button>\n",
              "      \n",
              "  <style>\n",
              "    .colab-df-container {\n",
              "      display:flex;\n",
              "      flex-wrap:wrap;\n",
              "      gap: 12px;\n",
              "    }\n",
              "\n",
              "    .colab-df-convert {\n",
              "      background-color: #E8F0FE;\n",
              "      border: none;\n",
              "      border-radius: 50%;\n",
              "      cursor: pointer;\n",
              "      display: none;\n",
              "      fill: #1967D2;\n",
              "      height: 32px;\n",
              "      padding: 0 0 0 0;\n",
              "      width: 32px;\n",
              "    }\n",
              "\n",
              "    .colab-df-convert:hover {\n",
              "      background-color: #E2EBFA;\n",
              "      box-shadow: 0px 1px 2px rgba(60, 64, 67, 0.3), 0px 1px 3px 1px rgba(60, 64, 67, 0.15);\n",
              "      fill: #174EA6;\n",
              "    }\n",
              "\n",
              "    [theme=dark] .colab-df-convert {\n",
              "      background-color: #3B4455;\n",
              "      fill: #D2E3FC;\n",
              "    }\n",
              "\n",
              "    [theme=dark] .colab-df-convert:hover {\n",
              "      background-color: #434B5C;\n",
              "      box-shadow: 0px 1px 3px 1px rgba(0, 0, 0, 0.15);\n",
              "      filter: drop-shadow(0px 1px 2px rgba(0, 0, 0, 0.3));\n",
              "      fill: #FFFFFF;\n",
              "    }\n",
              "  </style>\n",
              "\n",
              "      <script>\n",
              "        const buttonEl =\n",
              "          document.querySelector('#df-14aa3419-8d68-493c-ae33-0fc365c64367 button.colab-df-convert');\n",
              "        buttonEl.style.display =\n",
              "          google.colab.kernel.accessAllowed ? 'block' : 'none';\n",
              "\n",
              "        async function convertToInteractive(key) {\n",
              "          const element = document.querySelector('#df-14aa3419-8d68-493c-ae33-0fc365c64367');\n",
              "          const dataTable =\n",
              "            await google.colab.kernel.invokeFunction('convertToInteractive',\n",
              "                                                     [key], {});\n",
              "          if (!dataTable) return;\n",
              "\n",
              "          const docLinkHtml = 'Like what you see? Visit the ' +\n",
              "            '<a target=\"_blank\" href=https://colab.research.google.com/notebooks/data_table.ipynb>data table notebook</a>'\n",
              "            + ' to learn more about interactive tables.';\n",
              "          element.innerHTML = '';\n",
              "          dataTable['output_type'] = 'display_data';\n",
              "          await google.colab.output.renderOutput(dataTable, element);\n",
              "          const docLink = document.createElement('div');\n",
              "          docLink.innerHTML = docLinkHtml;\n",
              "          element.appendChild(docLink);\n",
              "        }\n",
              "      </script>\n",
              "    </div>\n",
              "  </div>\n",
              "  "
            ]
          },
          "metadata": {},
          "execution_count": 12
        }
      ]
    },
    {
      "cell_type": "markdown",
      "source": [
        "After a quick view at the dataset, we can say that our dataset has 7 columns."
      ],
      "metadata": {
        "id": "mfnat-K_skvF"
      }
    },
    {
      "cell_type": "markdown",
      "source": [
        "# Data Preparation and Cleaning"
      ],
      "metadata": {
        "id": "jvtw5LETs7px"
      }
    },
    {
      "cell_type": "code",
      "source": [
        "dataset.info()"
      ],
      "metadata": {
        "colab": {
          "base_uri": "https://localhost:8080/"
        },
        "id": "z0NMehv7sW0a",
        "outputId": "66b34009-07c0-41de-f932-0eeb7ae90b61"
      },
      "execution_count": 13,
      "outputs": [
        {
          "output_type": "stream",
          "name": "stdout",
          "text": [
            "<class 'pandas.core.frame.DataFrame'>\n",
            "RangeIndex: 5767 entries, 0 to 5766\n",
            "Data columns (total 7 columns):\n",
            " #   Column         Non-Null Count  Dtype \n",
            "---  ------         --------------  ----- \n",
            " 0   Country        5767 non-null   object\n",
            " 1   Export         5759 non-null   object\n",
            " 2   Import         5235 non-null   object\n",
            " 3   Total Trade    5201 non-null   object\n",
            " 4   Trade Balance  5201 non-null   object\n",
            " 5   Year(start)    5767 non-null   int64 \n",
            " 6   Year(end)      5767 non-null   int64 \n",
            "dtypes: int64(2), object(5)\n",
            "memory usage: 315.5+ KB\n"
          ]
        }
      ]
    },
    {
      "cell_type": "markdown",
      "source": [
        "There are 5767 entries and 7 columns to work with for EDA. There are some  columns that contain null values. But Only two coulmn has numerical data, we see above there are 6 numerical column  [Export,Import,Total Trade, Trade Balance,Year(start), Year(end)]\n",
        "\n",
        "\n",
        "So we first convert [Export,Import,Total Trade, Trade Balance] to numerical type data"
      ],
      "metadata": {
        "id": "r9h3G05kt4Xy"
      }
    },
    {
      "cell_type": "markdown",
      "source": [
        "## Fill nan with 0"
      ],
      "metadata": {
        "id": "NKqertg3mpXc"
      }
    },
    {
      "cell_type": "code",
      "source": [
        "dataset = dataset.fillna(0)"
      ],
      "metadata": {
        "id": "aByTgJT-mgGG"
      },
      "execution_count": 14,
      "outputs": []
    },
    {
      "cell_type": "markdown",
      "source": [
        "## Coverting some columns to numerical type\n",
        "\n",
        "To covert columns to numrical type we will use pd.to_numeric method"
      ],
      "metadata": {
        "id": "BjuBsxIotK8w"
      }
    },
    {
      "cell_type": "markdown",
      "source": [
        "### First Removing special character like comma from columns converting to numerical"
      ],
      "metadata": {
        "id": "YBqxNLTCxUz6"
      }
    },
    {
      "cell_type": "code",
      "source": [
        "dataset[['Export','Import','Total Trade', 'Trade Balance']]=dataset[['Export','Import','Total Trade', 'Trade Balance']].replace('\\,','',regex=True).astype(float)"
      ],
      "metadata": {
        "id": "sK8P6ywexUXH"
      },
      "execution_count": 15,
      "outputs": []
    },
    {
      "cell_type": "code",
      "source": [
        "dataset.info()"
      ],
      "metadata": {
        "colab": {
          "base_uri": "https://localhost:8080/"
        },
        "id": "cK1gkMxkwczd",
        "outputId": "f398d74e-0cb9-44fd-9e32-20c397a326f8"
      },
      "execution_count": 16,
      "outputs": [
        {
          "output_type": "stream",
          "name": "stdout",
          "text": [
            "<class 'pandas.core.frame.DataFrame'>\n",
            "RangeIndex: 5767 entries, 0 to 5766\n",
            "Data columns (total 7 columns):\n",
            " #   Column         Non-Null Count  Dtype  \n",
            "---  ------         --------------  -----  \n",
            " 0   Country        5767 non-null   object \n",
            " 1   Export         5767 non-null   float64\n",
            " 2   Import         5767 non-null   float64\n",
            " 3   Total Trade    5767 non-null   float64\n",
            " 4   Trade Balance  5767 non-null   float64\n",
            " 5   Year(start)    5767 non-null   int64  \n",
            " 6   Year(end)      5767 non-null   int64  \n",
            "dtypes: float64(4), int64(2), object(1)\n",
            "memory usage: 315.5+ KB\n"
          ]
        }
      ]
    },
    {
      "cell_type": "markdown",
      "source": [
        "We have converted required column to numerical type data"
      ],
      "metadata": {
        "id": "Q7YTzgT8z94-"
      }
    },
    {
      "cell_type": "markdown",
      "source": [
        "# Exploratory Data Analysis"
      ],
      "metadata": {
        "id": "wBz7QfAv0fEZ"
      }
    },
    {
      "cell_type": "markdown",
      "source": [
        "### How many contries we export to and import from ?"
      ],
      "metadata": {
        "id": "I0O1LHgr0k-B"
      }
    },
    {
      "cell_type": "code",
      "source": [
        "len(dataset['Country'].unique())"
      ],
      "metadata": {
        "colab": {
          "base_uri": "https://localhost:8080/"
        },
        "id": "t7E0GvgAz9H1",
        "outputId": "c20e412b-b1d3-459e-dee9-18edabff6d8b"
      },
      "execution_count": 17,
      "outputs": [
        {
          "output_type": "execute_result",
          "data": {
            "text/plain": [
              "250"
            ]
          },
          "metadata": {},
          "execution_count": 17
        }
      ]
    },
    {
      "cell_type": "markdown",
      "source": [
        "### What is the trend of import and export from 1997-2022 ?"
      ],
      "metadata": {
        "id": "S_eU4bAE1-KB"
      }
    },
    {
      "cell_type": "code",
      "source": [
        "df_year = (dataset.groupby('Year(start)')['Import','Export','Trade Balance'].sum()).reset_index()"
      ],
      "metadata": {
        "id": "J4WqoU500x99",
        "colab": {
          "base_uri": "https://localhost:8080/"
        },
        "outputId": "10ebdf8d-6e6e-4b94-edb6-7405779adecf"
      },
      "execution_count": 18,
      "outputs": [
        {
          "output_type": "stream",
          "name": "stderr",
          "text": [
            "/usr/local/lib/python3.7/dist-packages/ipykernel_launcher.py:1: FutureWarning: Indexing with multiple keys (implicitly converted to a tuple of keys) will be deprecated, use a list instead.\n",
            "  \"\"\"Entry point for launching an IPython kernel.\n"
          ]
        }
      ]
    },
    {
      "cell_type": "code",
      "source": [
        "df_year"
      ],
      "metadata": {
        "colab": {
          "base_uri": "https://localhost:8080/",
          "height": 833
        },
        "id": "kHM3MJ677J35",
        "outputId": "3ff17322-1895-4cf0-fb15-50eb7e54f5de"
      },
      "execution_count": 19,
      "outputs": [
        {
          "output_type": "execute_result",
          "data": {
            "text/plain": [
              "    Year(start)     Import     Export  Trade Balance\n",
              "0            97   41487.38   34785.07       -6830.45\n",
              "1            98   42404.29   33218.79       -9344.27\n",
              "2            99   49740.66   36822.55      -12979.44\n",
              "3          2000   50553.54   44560.24       -6073.61\n",
              "4          2001   51418.06   43826.71       -7664.20\n",
              "5          2002   61412.12   52719.44       -8783.87\n",
              "6          2003   78149.15   63842.53      -14415.70\n",
              "7          2004  107134.53   83535.95      -23622.67\n",
              "8          2005  129707.89  103090.53      -26660.30\n",
              "9          2006  185735.30  126414.11      -59329.93\n",
              "10         2007  251654.02  163132.18      -88556.63\n",
              "11         2008  303696.33  185295.32     -118411.22\n",
              "12         2009  288375.89  178751.47     -109650.21\n",
              "13         2010  369769.14  249815.60     -119956.47\n",
              "14         2011  489319.55  305963.94     -183368.66\n",
              "15         2012  490736.67  300400.59     -190486.42\n",
              "16         2013  450197.66  314405.32     -135801.06\n",
              "17         2014  447964.44  310338.41     -137627.65\n",
              "18         2015  381008.47  262291.07     -119919.34\n",
              "19         2016  384356.36  275852.45     -109884.02\n",
              "20         2017  465580.26  303526.16     -162102.78\n",
              "21         2018  514078.34  330078.11     -184008.16\n",
              "22         2019  474717.71  313361.21     -161370.59\n",
              "23         2020  394435.93  291808.51     -102629.19\n",
              "24         2021  440923.49  305026.06     -135927.83"
            ],
            "text/html": [
              "\n",
              "  <div id=\"df-3280ac78-8f57-4c55-83a4-8ca7f322dc73\">\n",
              "    <div class=\"colab-df-container\">\n",
              "      <div>\n",
              "<style scoped>\n",
              "    .dataframe tbody tr th:only-of-type {\n",
              "        vertical-align: middle;\n",
              "    }\n",
              "\n",
              "    .dataframe tbody tr th {\n",
              "        vertical-align: top;\n",
              "    }\n",
              "\n",
              "    .dataframe thead th {\n",
              "        text-align: right;\n",
              "    }\n",
              "</style>\n",
              "<table border=\"1\" class=\"dataframe\">\n",
              "  <thead>\n",
              "    <tr style=\"text-align: right;\">\n",
              "      <th></th>\n",
              "      <th>Year(start)</th>\n",
              "      <th>Import</th>\n",
              "      <th>Export</th>\n",
              "      <th>Trade Balance</th>\n",
              "    </tr>\n",
              "  </thead>\n",
              "  <tbody>\n",
              "    <tr>\n",
              "      <th>0</th>\n",
              "      <td>97</td>\n",
              "      <td>41487.38</td>\n",
              "      <td>34785.07</td>\n",
              "      <td>-6830.45</td>\n",
              "    </tr>\n",
              "    <tr>\n",
              "      <th>1</th>\n",
              "      <td>98</td>\n",
              "      <td>42404.29</td>\n",
              "      <td>33218.79</td>\n",
              "      <td>-9344.27</td>\n",
              "    </tr>\n",
              "    <tr>\n",
              "      <th>2</th>\n",
              "      <td>99</td>\n",
              "      <td>49740.66</td>\n",
              "      <td>36822.55</td>\n",
              "      <td>-12979.44</td>\n",
              "    </tr>\n",
              "    <tr>\n",
              "      <th>3</th>\n",
              "      <td>2000</td>\n",
              "      <td>50553.54</td>\n",
              "      <td>44560.24</td>\n",
              "      <td>-6073.61</td>\n",
              "    </tr>\n",
              "    <tr>\n",
              "      <th>4</th>\n",
              "      <td>2001</td>\n",
              "      <td>51418.06</td>\n",
              "      <td>43826.71</td>\n",
              "      <td>-7664.20</td>\n",
              "    </tr>\n",
              "    <tr>\n",
              "      <th>5</th>\n",
              "      <td>2002</td>\n",
              "      <td>61412.12</td>\n",
              "      <td>52719.44</td>\n",
              "      <td>-8783.87</td>\n",
              "    </tr>\n",
              "    <tr>\n",
              "      <th>6</th>\n",
              "      <td>2003</td>\n",
              "      <td>78149.15</td>\n",
              "      <td>63842.53</td>\n",
              "      <td>-14415.70</td>\n",
              "    </tr>\n",
              "    <tr>\n",
              "      <th>7</th>\n",
              "      <td>2004</td>\n",
              "      <td>107134.53</td>\n",
              "      <td>83535.95</td>\n",
              "      <td>-23622.67</td>\n",
              "    </tr>\n",
              "    <tr>\n",
              "      <th>8</th>\n",
              "      <td>2005</td>\n",
              "      <td>129707.89</td>\n",
              "      <td>103090.53</td>\n",
              "      <td>-26660.30</td>\n",
              "    </tr>\n",
              "    <tr>\n",
              "      <th>9</th>\n",
              "      <td>2006</td>\n",
              "      <td>185735.30</td>\n",
              "      <td>126414.11</td>\n",
              "      <td>-59329.93</td>\n",
              "    </tr>\n",
              "    <tr>\n",
              "      <th>10</th>\n",
              "      <td>2007</td>\n",
              "      <td>251654.02</td>\n",
              "      <td>163132.18</td>\n",
              "      <td>-88556.63</td>\n",
              "    </tr>\n",
              "    <tr>\n",
              "      <th>11</th>\n",
              "      <td>2008</td>\n",
              "      <td>303696.33</td>\n",
              "      <td>185295.32</td>\n",
              "      <td>-118411.22</td>\n",
              "    </tr>\n",
              "    <tr>\n",
              "      <th>12</th>\n",
              "      <td>2009</td>\n",
              "      <td>288375.89</td>\n",
              "      <td>178751.47</td>\n",
              "      <td>-109650.21</td>\n",
              "    </tr>\n",
              "    <tr>\n",
              "      <th>13</th>\n",
              "      <td>2010</td>\n",
              "      <td>369769.14</td>\n",
              "      <td>249815.60</td>\n",
              "      <td>-119956.47</td>\n",
              "    </tr>\n",
              "    <tr>\n",
              "      <th>14</th>\n",
              "      <td>2011</td>\n",
              "      <td>489319.55</td>\n",
              "      <td>305963.94</td>\n",
              "      <td>-183368.66</td>\n",
              "    </tr>\n",
              "    <tr>\n",
              "      <th>15</th>\n",
              "      <td>2012</td>\n",
              "      <td>490736.67</td>\n",
              "      <td>300400.59</td>\n",
              "      <td>-190486.42</td>\n",
              "    </tr>\n",
              "    <tr>\n",
              "      <th>16</th>\n",
              "      <td>2013</td>\n",
              "      <td>450197.66</td>\n",
              "      <td>314405.32</td>\n",
              "      <td>-135801.06</td>\n",
              "    </tr>\n",
              "    <tr>\n",
              "      <th>17</th>\n",
              "      <td>2014</td>\n",
              "      <td>447964.44</td>\n",
              "      <td>310338.41</td>\n",
              "      <td>-137627.65</td>\n",
              "    </tr>\n",
              "    <tr>\n",
              "      <th>18</th>\n",
              "      <td>2015</td>\n",
              "      <td>381008.47</td>\n",
              "      <td>262291.07</td>\n",
              "      <td>-119919.34</td>\n",
              "    </tr>\n",
              "    <tr>\n",
              "      <th>19</th>\n",
              "      <td>2016</td>\n",
              "      <td>384356.36</td>\n",
              "      <td>275852.45</td>\n",
              "      <td>-109884.02</td>\n",
              "    </tr>\n",
              "    <tr>\n",
              "      <th>20</th>\n",
              "      <td>2017</td>\n",
              "      <td>465580.26</td>\n",
              "      <td>303526.16</td>\n",
              "      <td>-162102.78</td>\n",
              "    </tr>\n",
              "    <tr>\n",
              "      <th>21</th>\n",
              "      <td>2018</td>\n",
              "      <td>514078.34</td>\n",
              "      <td>330078.11</td>\n",
              "      <td>-184008.16</td>\n",
              "    </tr>\n",
              "    <tr>\n",
              "      <th>22</th>\n",
              "      <td>2019</td>\n",
              "      <td>474717.71</td>\n",
              "      <td>313361.21</td>\n",
              "      <td>-161370.59</td>\n",
              "    </tr>\n",
              "    <tr>\n",
              "      <th>23</th>\n",
              "      <td>2020</td>\n",
              "      <td>394435.93</td>\n",
              "      <td>291808.51</td>\n",
              "      <td>-102629.19</td>\n",
              "    </tr>\n",
              "    <tr>\n",
              "      <th>24</th>\n",
              "      <td>2021</td>\n",
              "      <td>440923.49</td>\n",
              "      <td>305026.06</td>\n",
              "      <td>-135927.83</td>\n",
              "    </tr>\n",
              "  </tbody>\n",
              "</table>\n",
              "</div>\n",
              "      <button class=\"colab-df-convert\" onclick=\"convertToInteractive('df-3280ac78-8f57-4c55-83a4-8ca7f322dc73')\"\n",
              "              title=\"Convert this dataframe to an interactive table.\"\n",
              "              style=\"display:none;\">\n",
              "        \n",
              "  <svg xmlns=\"http://www.w3.org/2000/svg\" height=\"24px\"viewBox=\"0 0 24 24\"\n",
              "       width=\"24px\">\n",
              "    <path d=\"M0 0h24v24H0V0z\" fill=\"none\"/>\n",
              "    <path d=\"M18.56 5.44l.94 2.06.94-2.06 2.06-.94-2.06-.94-.94-2.06-.94 2.06-2.06.94zm-11 1L8.5 8.5l.94-2.06 2.06-.94-2.06-.94L8.5 2.5l-.94 2.06-2.06.94zm10 10l.94 2.06.94-2.06 2.06-.94-2.06-.94-.94-2.06-.94 2.06-2.06.94z\"/><path d=\"M17.41 7.96l-1.37-1.37c-.4-.4-.92-.59-1.43-.59-.52 0-1.04.2-1.43.59L10.3 9.45l-7.72 7.72c-.78.78-.78 2.05 0 2.83L4 21.41c.39.39.9.59 1.41.59.51 0 1.02-.2 1.41-.59l7.78-7.78 2.81-2.81c.8-.78.8-2.07 0-2.86zM5.41 20L4 18.59l7.72-7.72 1.47 1.35L5.41 20z\"/>\n",
              "  </svg>\n",
              "      </button>\n",
              "      \n",
              "  <style>\n",
              "    .colab-df-container {\n",
              "      display:flex;\n",
              "      flex-wrap:wrap;\n",
              "      gap: 12px;\n",
              "    }\n",
              "\n",
              "    .colab-df-convert {\n",
              "      background-color: #E8F0FE;\n",
              "      border: none;\n",
              "      border-radius: 50%;\n",
              "      cursor: pointer;\n",
              "      display: none;\n",
              "      fill: #1967D2;\n",
              "      height: 32px;\n",
              "      padding: 0 0 0 0;\n",
              "      width: 32px;\n",
              "    }\n",
              "\n",
              "    .colab-df-convert:hover {\n",
              "      background-color: #E2EBFA;\n",
              "      box-shadow: 0px 1px 2px rgba(60, 64, 67, 0.3), 0px 1px 3px 1px rgba(60, 64, 67, 0.15);\n",
              "      fill: #174EA6;\n",
              "    }\n",
              "\n",
              "    [theme=dark] .colab-df-convert {\n",
              "      background-color: #3B4455;\n",
              "      fill: #D2E3FC;\n",
              "    }\n",
              "\n",
              "    [theme=dark] .colab-df-convert:hover {\n",
              "      background-color: #434B5C;\n",
              "      box-shadow: 0px 1px 3px 1px rgba(0, 0, 0, 0.15);\n",
              "      filter: drop-shadow(0px 1px 2px rgba(0, 0, 0, 0.3));\n",
              "      fill: #FFFFFF;\n",
              "    }\n",
              "  </style>\n",
              "\n",
              "      <script>\n",
              "        const buttonEl =\n",
              "          document.querySelector('#df-3280ac78-8f57-4c55-83a4-8ca7f322dc73 button.colab-df-convert');\n",
              "        buttonEl.style.display =\n",
              "          google.colab.kernel.accessAllowed ? 'block' : 'none';\n",
              "\n",
              "        async function convertToInteractive(key) {\n",
              "          const element = document.querySelector('#df-3280ac78-8f57-4c55-83a4-8ca7f322dc73');\n",
              "          const dataTable =\n",
              "            await google.colab.kernel.invokeFunction('convertToInteractive',\n",
              "                                                     [key], {});\n",
              "          if (!dataTable) return;\n",
              "\n",
              "          const docLinkHtml = 'Like what you see? Visit the ' +\n",
              "            '<a target=\"_blank\" href=https://colab.research.google.com/notebooks/data_table.ipynb>data table notebook</a>'\n",
              "            + ' to learn more about interactive tables.';\n",
              "          element.innerHTML = '';\n",
              "          dataTable['output_type'] = 'display_data';\n",
              "          await google.colab.output.renderOutput(dataTable, element);\n",
              "          const docLink = document.createElement('div');\n",
              "          docLink.innerHTML = docLinkHtml;\n",
              "          element.appendChild(docLink);\n",
              "        }\n",
              "      </script>\n",
              "    </div>\n",
              "  </div>\n",
              "  "
            ]
          },
          "metadata": {},
          "execution_count": 19
        }
      ]
    },
    {
      "cell_type": "markdown",
      "source": [
        "Replacing year 97,98 and 99 with 1997,1998,1999"
      ],
      "metadata": {
        "id": "_axRhrBz8ALH"
      }
    },
    {
      "cell_type": "code",
      "source": [
        "df_year['Year(start)'][0:3] = [1997,1998,1999]\n"
      ],
      "metadata": {
        "colab": {
          "base_uri": "https://localhost:8080/"
        },
        "id": "PpNA4fxE8S1b",
        "outputId": "3639f991-636f-4575-ef69-2fa1800d1d54"
      },
      "execution_count": 20,
      "outputs": [
        {
          "output_type": "stream",
          "name": "stderr",
          "text": [
            "/usr/local/lib/python3.7/dist-packages/ipykernel_launcher.py:1: SettingWithCopyWarning: \n",
            "A value is trying to be set on a copy of a slice from a DataFrame\n",
            "\n",
            "See the caveats in the documentation: https://pandas.pydata.org/pandas-docs/stable/user_guide/indexing.html#returning-a-view-versus-a-copy\n",
            "  \"\"\"Entry point for launching an IPython kernel.\n"
          ]
        }
      ]
    },
    {
      "cell_type": "code",
      "source": [
        "fig = px.line(df_year, x='Year(start)', y=['Import','Export'],labels={\"Year(start)\": \"Year\",\"value\":\"Amount US$ Million\"}, \n",
        "              title='India\\'s Import and export in US$ Million',template='xgridoff')\n",
        "fig.update_layout(margin=dict(r=20),)\n",
        "\n",
        "fig.show()"
      ],
      "metadata": {
        "colab": {
          "base_uri": "https://localhost:8080/",
          "height": 542
        },
        "id": "XQP5IaQg3-Sq",
        "outputId": "8b3cc4b8-3f3b-4afa-a4dc-c70699ca331f"
      },
      "execution_count": 21,
      "outputs": [
        {
          "output_type": "display_data",
          "data": {
            "text/html": [
              "<html>\n",
              "<head><meta charset=\"utf-8\" /></head>\n",
              "<body>\n",
              "    <div>            <script src=\"https://cdnjs.cloudflare.com/ajax/libs/mathjax/2.7.5/MathJax.js?config=TeX-AMS-MML_SVG\"></script><script type=\"text/javascript\">if (window.MathJax) {MathJax.Hub.Config({SVG: {font: \"STIX-Web\"}});}</script>                <script type=\"text/javascript\">window.PlotlyConfig = {MathJaxConfig: 'local'};</script>\n",
              "        <script src=\"https://cdn.plot.ly/plotly-2.8.3.min.js\"></script>                <div id=\"a6f0e0a9-45ce-4859-a0c2-d50bb82092fe\" class=\"plotly-graph-div\" style=\"height:525px; width:100%;\"></div>            <script type=\"text/javascript\">                                    window.PLOTLYENV=window.PLOTLYENV || {};                                    if (document.getElementById(\"a6f0e0a9-45ce-4859-a0c2-d50bb82092fe\")) {                    Plotly.newPlot(                        \"a6f0e0a9-45ce-4859-a0c2-d50bb82092fe\",                        [{\"hovertemplate\":\"variable=Import<br>Year=%{x}<br>Amount US$ Million=%{y}<extra></extra>\",\"legendgroup\":\"Import\",\"line\":{\"color\":\"#1F77B4\",\"dash\":\"solid\"},\"marker\":{\"symbol\":\"circle\"},\"mode\":\"lines\",\"name\":\"Import\",\"orientation\":\"v\",\"showlegend\":true,\"x\":[1997,1998,1999,2000,2001,2002,2003,2004,2005,2006,2007,2008,2009,2010,2011,2012,2013,2014,2015,2016,2017,2018,2019,2020,2021],\"xaxis\":\"x\",\"y\":[41487.38,42404.29,49740.66,50553.54,51418.06,61412.12,78149.15,107134.53,129707.89,185735.3,251654.02,303696.33,288375.89,369769.14,489319.55,490736.67000000004,450197.66000000003,447964.44,381008.47000000003,384356.36,465580.26,514078.33999999997,474717.71,394435.93,440923.49],\"yaxis\":\"y\",\"type\":\"scatter\"},{\"hovertemplate\":\"variable=Export<br>Year=%{x}<br>Amount US$ Million=%{y}<extra></extra>\",\"legendgroup\":\"Export\",\"line\":{\"color\":\"#FF7F0E\",\"dash\":\"solid\"},\"marker\":{\"symbol\":\"circle\"},\"mode\":\"lines\",\"name\":\"Export\",\"orientation\":\"v\",\"showlegend\":true,\"x\":[1997,1998,1999,2000,2001,2002,2003,2004,2005,2006,2007,2008,2009,2010,2011,2012,2013,2014,2015,2016,2017,2018,2019,2020,2021],\"xaxis\":\"x\",\"y\":[34785.07,33218.79,36822.55,44560.24,43826.71,52719.44,63842.53,83535.95,103090.53,126414.11,163132.18,185295.32,178751.47,249815.6,305963.94,300400.59,314405.32,310338.41000000003,262291.07,275852.45,303526.16000000003,330078.11,313361.21,291808.51,305026.06],\"yaxis\":\"y\",\"type\":\"scatter\"}],                        {\"template\":{\"data\":{\"pie\":[{\"automargin\":true,\"type\":\"pie\"}]},\"layout\":{\"xaxis\":{\"showgrid\":false,\"title\":{\"standoff\":15}},\"yaxis\":{\"title\":{\"standoff\":15}}}},\"xaxis\":{\"anchor\":\"y\",\"domain\":[0.0,1.0],\"title\":{\"text\":\"Year\"}},\"yaxis\":{\"anchor\":\"x\",\"domain\":[0.0,1.0],\"title\":{\"text\":\"Amount US$ Million\"}},\"legend\":{\"title\":{\"text\":\"variable\"},\"tracegroupgap\":0},\"title\":{\"text\":\"India's Import and export in US$ Million\"},\"margin\":{\"r\":20}},                        {\"responsive\": true}                    ).then(function(){\n",
              "                            \n",
              "var gd = document.getElementById('a6f0e0a9-45ce-4859-a0c2-d50bb82092fe');\n",
              "var x = new MutationObserver(function (mutations, observer) {{\n",
              "        var display = window.getComputedStyle(gd).display;\n",
              "        if (!display || display === 'none') {{\n",
              "            console.log([gd, 'removed!']);\n",
              "            Plotly.purge(gd);\n",
              "            observer.disconnect();\n",
              "        }}\n",
              "}});\n",
              "\n",
              "// Listen for the removal of the full notebook cells\n",
              "var notebookContainer = gd.closest('#notebook-container');\n",
              "if (notebookContainer) {{\n",
              "    x.observe(notebookContainer, {childList: true});\n",
              "}}\n",
              "\n",
              "// Listen for the clearing of the current output cell\n",
              "var outputEl = gd.closest('.output');\n",
              "if (outputEl) {{\n",
              "    x.observe(outputEl, {childList: true});\n",
              "}}\n",
              "\n",
              "                        })                };                            </script>        </div>\n",
              "</body>\n",
              "</html>"
            ]
          },
          "metadata": {}
        }
      ]
    },
    {
      "cell_type": "markdown",
      "source": [
        "**Infrerence from the plot**\n",
        "* Export remain less as compared to Import\n",
        "* Import decreases from 2012 to 2016 and the decrease is very sharp in (2014-2016)\n",
        "* Import has vey sharp decrease in year 2019-2020 due to covid\n",
        "* Export start again after 2015 and in 2022 is also shows positive slope\n"
      ],
      "metadata": {
        "id": "9kooW0LrLmPh"
      }
    },
    {
      "cell_type": "markdown",
      "source": [
        "## Which are the top 10 countries from which india imported in year 2021?"
      ],
      "metadata": {
        "id": "3K7TggkiNe8n"
      }
    },
    {
      "cell_type": "code",
      "source": [
        "df_2021 =dataset[dataset['Year(start)'] == 2021]"
      ],
      "metadata": {
        "id": "OxjBlq3X5PrP"
      },
      "execution_count": 22,
      "outputs": []
    },
    {
      "cell_type": "code",
      "source": [
        "fig = px.bar((df_2021.sort_values(\"Import\",ascending=False))[:10], x='Import', y='Country',orientation='h',template='xgridoff',title='Top 10 Import Countries 2021',color='Country',\n",
        "             labels={\"Import\":\"Amount in US $ Million\"},text_auto=True)\n",
        "fig.update_layout(margin=dict(l=115))\n",
        "fig.show()"
      ],
      "metadata": {
        "colab": {
          "base_uri": "https://localhost:8080/",
          "height": 542
        },
        "id": "Y9qofDyz9ORD",
        "outputId": "071051c0-56ec-4c56-95a9-e4615098f78a"
      },
      "execution_count": 23,
      "outputs": [
        {
          "output_type": "display_data",
          "data": {
            "text/html": [
              "<html>\n",
              "<head><meta charset=\"utf-8\" /></head>\n",
              "<body>\n",
              "    <div>            <script src=\"https://cdnjs.cloudflare.com/ajax/libs/mathjax/2.7.5/MathJax.js?config=TeX-AMS-MML_SVG\"></script><script type=\"text/javascript\">if (window.MathJax) {MathJax.Hub.Config({SVG: {font: \"STIX-Web\"}});}</script>                <script type=\"text/javascript\">window.PlotlyConfig = {MathJaxConfig: 'local'};</script>\n",
              "        <script src=\"https://cdn.plot.ly/plotly-2.8.3.min.js\"></script>                <div id=\"a276a60b-3d13-4dac-8da2-4967dda18f65\" class=\"plotly-graph-div\" style=\"height:525px; width:100%;\"></div>            <script type=\"text/javascript\">                                    window.PLOTLYENV=window.PLOTLYENV || {};                                    if (document.getElementById(\"a276a60b-3d13-4dac-8da2-4967dda18f65\")) {                    Plotly.newPlot(                        \"a276a60b-3d13-4dac-8da2-4967dda18f65\",                        [{\"alignmentgroup\":\"True\",\"hovertemplate\":\"Country=%{y}<br>Amount in US $ Million=%{x}<extra></extra>\",\"legendgroup\":\"CHINA P RP\",\"marker\":{\"color\":\"#1F77B4\",\"pattern\":{\"shape\":\"\"}},\"name\":\"CHINA P RP\",\"offsetgroup\":\"CHINA P RP\",\"orientation\":\"h\",\"showlegend\":true,\"textposition\":\"auto\",\"texttemplate\":\"%{x}\",\"x\":[67629.12],\"xaxis\":\"x\",\"y\":[\"CHINA P RP\"],\"yaxis\":\"y\",\"type\":\"bar\"},{\"alignmentgroup\":\"True\",\"hovertemplate\":\"Country=%{y}<br>Amount in US $ Million=%{x}<extra></extra>\",\"legendgroup\":\"U ARAB EMTS\",\"marker\":{\"color\":\"#FF7F0E\",\"pattern\":{\"shape\":\"\"}},\"name\":\"U ARAB EMTS\",\"offsetgroup\":\"U ARAB EMTS\",\"orientation\":\"h\",\"showlegend\":true,\"textposition\":\"auto\",\"texttemplate\":\"%{x}\",\"x\":[32716.4],\"xaxis\":\"x\",\"y\":[\"U ARAB EMTS\"],\"yaxis\":\"y\",\"type\":\"bar\"},{\"alignmentgroup\":\"True\",\"hovertemplate\":\"Country=%{y}<br>Amount in US $ Million=%{x}<extra></extra>\",\"legendgroup\":\"U S A\",\"marker\":{\"color\":\"#2CA02C\",\"pattern\":{\"shape\":\"\"}},\"name\":\"U S A\",\"offsetgroup\":\"U S A\",\"orientation\":\"h\",\"showlegend\":true,\"textposition\":\"auto\",\"texttemplate\":\"%{x}\",\"x\":[31344.0],\"xaxis\":\"x\",\"y\":[\"U S A\"],\"yaxis\":\"y\",\"type\":\"bar\"},{\"alignmentgroup\":\"True\",\"hovertemplate\":\"Country=%{y}<br>Amount in US $ Million=%{x}<extra></extra>\",\"legendgroup\":\"SAUDI ARAB\",\"marker\":{\"color\":\"#D62728\",\"pattern\":{\"shape\":\"\"}},\"name\":\"SAUDI ARAB\",\"offsetgroup\":\"SAUDI ARAB\",\"orientation\":\"h\",\"showlegend\":true,\"textposition\":\"auto\",\"texttemplate\":\"%{x}\",\"x\":[22649.53],\"xaxis\":\"x\",\"y\":[\"SAUDI ARAB\"],\"yaxis\":\"y\",\"type\":\"bar\"},{\"alignmentgroup\":\"True\",\"hovertemplate\":\"Country=%{y}<br>Amount in US $ Million=%{x}<extra></extra>\",\"legendgroup\":\"IRAQ\",\"marker\":{\"color\":\"#9467BD\",\"pattern\":{\"shape\":\"\"}},\"name\":\"IRAQ\",\"offsetgroup\":\"IRAQ\",\"orientation\":\"h\",\"showlegend\":true,\"textposition\":\"auto\",\"texttemplate\":\"%{x}\",\"x\":[21735.51],\"xaxis\":\"x\",\"y\":[\"IRAQ\"],\"yaxis\":\"y\",\"type\":\"bar\"},{\"alignmentgroup\":\"True\",\"hovertemplate\":\"Country=%{y}<br>Amount in US $ Million=%{x}<extra></extra>\",\"legendgroup\":\"SWITZERLAND\",\"marker\":{\"color\":\"#8C564B\",\"pattern\":{\"shape\":\"\"}},\"name\":\"SWITZERLAND\",\"offsetgroup\":\"SWITZERLAND\",\"orientation\":\"h\",\"showlegend\":true,\"textposition\":\"auto\",\"texttemplate\":\"%{x}\",\"x\":[19615.05],\"xaxis\":\"x\",\"y\":[\"SWITZERLAND\"],\"yaxis\":\"y\",\"type\":\"bar\"},{\"alignmentgroup\":\"True\",\"hovertemplate\":\"Country=%{y}<br>Amount in US $ Million=%{x}<extra></extra>\",\"legendgroup\":\"HONG KONG\",\"marker\":{\"color\":\"#E377C2\",\"pattern\":{\"shape\":\"\"}},\"name\":\"HONG KONG\",\"offsetgroup\":\"HONG KONG\",\"orientation\":\"h\",\"showlegend\":true,\"textposition\":\"auto\",\"texttemplate\":\"%{x}\",\"x\":[13761.52],\"xaxis\":\"x\",\"y\":[\"HONG KONG\"],\"yaxis\":\"y\",\"type\":\"bar\"},{\"alignmentgroup\":\"True\",\"hovertemplate\":\"Country=%{y}<br>Amount in US $ Million=%{x}<extra></extra>\",\"legendgroup\":\"SINGAPORE\",\"marker\":{\"color\":\"#7F7F7F\",\"pattern\":{\"shape\":\"\"}},\"name\":\"SINGAPORE\",\"offsetgroup\":\"SINGAPORE\",\"orientation\":\"h\",\"showlegend\":true,\"textposition\":\"auto\",\"texttemplate\":\"%{x}\",\"x\":[13258.88],\"xaxis\":\"x\",\"y\":[\"SINGAPORE\"],\"yaxis\":\"y\",\"type\":\"bar\"},{\"alignmentgroup\":\"True\",\"hovertemplate\":\"Country=%{y}<br>Amount in US $ Million=%{x}<extra></extra>\",\"legendgroup\":\"INDONESIA\",\"marker\":{\"color\":\"#BCBD22\",\"pattern\":{\"shape\":\"\"}},\"name\":\"INDONESIA\",\"offsetgroup\":\"INDONESIA\",\"orientation\":\"h\",\"showlegend\":true,\"textposition\":\"auto\",\"texttemplate\":\"%{x}\",\"x\":[12819.28],\"xaxis\":\"x\",\"y\":[\"INDONESIA\"],\"yaxis\":\"y\",\"type\":\"bar\"},{\"alignmentgroup\":\"True\",\"hovertemplate\":\"Country=%{y}<br>Amount in US $ Million=%{x}<extra></extra>\",\"legendgroup\":\"KOREA RP\",\"marker\":{\"color\":\"#17BECF\",\"pattern\":{\"shape\":\"\"}},\"name\":\"KOREA RP\",\"offsetgroup\":\"KOREA RP\",\"orientation\":\"h\",\"showlegend\":true,\"textposition\":\"auto\",\"texttemplate\":\"%{x}\",\"x\":[12793.51],\"xaxis\":\"x\",\"y\":[\"KOREA RP\"],\"yaxis\":\"y\",\"type\":\"bar\"}],                        {\"template\":{\"data\":{\"pie\":[{\"automargin\":true,\"type\":\"pie\"}]},\"layout\":{\"xaxis\":{\"showgrid\":false,\"title\":{\"standoff\":15}},\"yaxis\":{\"title\":{\"standoff\":15}}}},\"xaxis\":{\"anchor\":\"y\",\"domain\":[0.0,1.0],\"title\":{\"text\":\"Amount in US $ Million\"}},\"yaxis\":{\"anchor\":\"x\",\"domain\":[0.0,1.0],\"title\":{\"text\":\"Country\"},\"categoryorder\":\"array\",\"categoryarray\":[\"KOREA RP\",\"INDONESIA\",\"SINGAPORE\",\"HONG KONG\",\"SWITZERLAND\",\"IRAQ\",\"SAUDI ARAB\",\"U S A\",\"U ARAB EMTS\",\"CHINA P RP\"]},\"legend\":{\"title\":{\"text\":\"Country\"},\"tracegroupgap\":0},\"title\":{\"text\":\"Top 10 Import Countries 2021\"},\"barmode\":\"relative\",\"margin\":{\"l\":115}},                        {\"responsive\": true}                    ).then(function(){\n",
              "                            \n",
              "var gd = document.getElementById('a276a60b-3d13-4dac-8da2-4967dda18f65');\n",
              "var x = new MutationObserver(function (mutations, observer) {{\n",
              "        var display = window.getComputedStyle(gd).display;\n",
              "        if (!display || display === 'none') {{\n",
              "            console.log([gd, 'removed!']);\n",
              "            Plotly.purge(gd);\n",
              "            observer.disconnect();\n",
              "        }}\n",
              "}});\n",
              "\n",
              "// Listen for the removal of the full notebook cells\n",
              "var notebookContainer = gd.closest('#notebook-container');\n",
              "if (notebookContainer) {{\n",
              "    x.observe(notebookContainer, {childList: true});\n",
              "}}\n",
              "\n",
              "// Listen for the clearing of the current output cell\n",
              "var outputEl = gd.closest('.output');\n",
              "if (outputEl) {{\n",
              "    x.observe(outputEl, {childList: true});\n",
              "}}\n",
              "\n",
              "                        })                };                            </script>        </div>\n",
              "</body>\n",
              "</html>"
            ]
          },
          "metadata": {}
        }
      ]
    },
    {
      "cell_type": "markdown",
      "source": [
        "* China is top Exporter country to india (67.62K Million US $)\n",
        "\n",
        "* UAE is second top country Exporter country to india (32.71K Million US $)\n",
        "\n",
        "* USA is second top country Exporter country to india (22.64K Million US $)"
      ],
      "metadata": {
        "id": "qgGn4PIBSEys"
      }
    },
    {
      "cell_type": "markdown",
      "source": [
        "## Which are the top 10 countries to which india Exported in year 2021?"
      ],
      "metadata": {
        "id": "ZvzUsvggTPFP"
      }
    },
    {
      "cell_type": "code",
      "source": [
        "fig = px.bar((df_2021.sort_values(\"Export\",ascending=False))[:10], x='Export', y='Country',orientation='h',template='xgridoff',title='Top 10 Export Countries 2021',color='Country',\n",
        "             labels={\"Export\":\"Amount in US $ Million\"},text_auto=True)\n",
        "fig.update_layout(margin=dict(l=115))\n",
        "fig.show()"
      ],
      "metadata": {
        "colab": {
          "base_uri": "https://localhost:8080/",
          "height": 542
        },
        "id": "QGPHBuyQOT23",
        "outputId": "ce215f1b-7534-4e71-e278-56cb06f9c350"
      },
      "execution_count": 24,
      "outputs": [
        {
          "output_type": "display_data",
          "data": {
            "text/html": [
              "<html>\n",
              "<head><meta charset=\"utf-8\" /></head>\n",
              "<body>\n",
              "    <div>            <script src=\"https://cdnjs.cloudflare.com/ajax/libs/mathjax/2.7.5/MathJax.js?config=TeX-AMS-MML_SVG\"></script><script type=\"text/javascript\">if (window.MathJax) {MathJax.Hub.Config({SVG: {font: \"STIX-Web\"}});}</script>                <script type=\"text/javascript\">window.PlotlyConfig = {MathJaxConfig: 'local'};</script>\n",
              "        <script src=\"https://cdn.plot.ly/plotly-2.8.3.min.js\"></script>                <div id=\"2cad7ad6-fdf3-4576-aeda-e1e80308b0ec\" class=\"plotly-graph-div\" style=\"height:525px; width:100%;\"></div>            <script type=\"text/javascript\">                                    window.PLOTLYENV=window.PLOTLYENV || {};                                    if (document.getElementById(\"2cad7ad6-fdf3-4576-aeda-e1e80308b0ec\")) {                    Plotly.newPlot(                        \"2cad7ad6-fdf3-4576-aeda-e1e80308b0ec\",                        [{\"alignmentgroup\":\"True\",\"hovertemplate\":\"Country=%{y}<br>Amount in US $ Million=%{x}<extra></extra>\",\"legendgroup\":\"U S A\",\"marker\":{\"color\":\"#1F77B4\",\"pattern\":{\"shape\":\"\"}},\"name\":\"U S A\",\"offsetgroup\":\"U S A\",\"orientation\":\"h\",\"showlegend\":true,\"textposition\":\"auto\",\"texttemplate\":\"%{x}\",\"x\":[55786.38],\"xaxis\":\"x\",\"y\":[\"U S A\"],\"yaxis\":\"y\",\"type\":\"bar\"},{\"alignmentgroup\":\"True\",\"hovertemplate\":\"Country=%{y}<br>Amount in US $ Million=%{x}<extra></extra>\",\"legendgroup\":\"U ARAB EMTS\",\"marker\":{\"color\":\"#FF7F0E\",\"pattern\":{\"shape\":\"\"}},\"name\":\"U ARAB EMTS\",\"offsetgroup\":\"U ARAB EMTS\",\"orientation\":\"h\",\"showlegend\":true,\"textposition\":\"auto\",\"texttemplate\":\"%{x}\",\"x\":[20052.57],\"xaxis\":\"x\",\"y\":[\"U ARAB EMTS\"],\"yaxis\":\"y\",\"type\":\"bar\"},{\"alignmentgroup\":\"True\",\"hovertemplate\":\"Country=%{y}<br>Amount in US $ Million=%{x}<extra></extra>\",\"legendgroup\":\"CHINA P RP\",\"marker\":{\"color\":\"#2CA02C\",\"pattern\":{\"shape\":\"\"}},\"name\":\"CHINA P RP\",\"offsetgroup\":\"CHINA P RP\",\"orientation\":\"h\",\"showlegend\":true,\"textposition\":\"auto\",\"texttemplate\":\"%{x}\",\"x\":[17122.55],\"xaxis\":\"x\",\"y\":[\"CHINA P RP\"],\"yaxis\":\"y\",\"type\":\"bar\"},{\"alignmentgroup\":\"True\",\"hovertemplate\":\"Country=%{y}<br>Amount in US $ Million=%{x}<extra></extra>\",\"legendgroup\":\"BANGLADESH PR\",\"marker\":{\"color\":\"#D62728\",\"pattern\":{\"shape\":\"\"}},\"name\":\"BANGLADESH PR\",\"offsetgroup\":\"BANGLADESH PR\",\"orientation\":\"h\",\"showlegend\":true,\"textposition\":\"auto\",\"texttemplate\":\"%{x}\",\"x\":[10963.29],\"xaxis\":\"x\",\"y\":[\"BANGLADESH PR\"],\"yaxis\":\"y\",\"type\":\"bar\"},{\"alignmentgroup\":\"True\",\"hovertemplate\":\"Country=%{y}<br>Amount in US $ Million=%{x}<extra></extra>\",\"legendgroup\":\"HONG KONG\",\"marker\":{\"color\":\"#9467BD\",\"pattern\":{\"shape\":\"\"}},\"name\":\"HONG KONG\",\"offsetgroup\":\"HONG KONG\",\"orientation\":\"h\",\"showlegend\":true,\"textposition\":\"auto\",\"texttemplate\":\"%{x}\",\"x\":[8429.2],\"xaxis\":\"x\",\"y\":[\"HONG KONG\"],\"yaxis\":\"y\",\"type\":\"bar\"},{\"alignmentgroup\":\"True\",\"hovertemplate\":\"Country=%{y}<br>Amount in US $ Million=%{x}<extra></extra>\",\"legendgroup\":\"SINGAPORE\",\"marker\":{\"color\":\"#8C564B\",\"pattern\":{\"shape\":\"\"}},\"name\":\"SINGAPORE\",\"offsetgroup\":\"SINGAPORE\",\"orientation\":\"h\",\"showlegend\":true,\"textposition\":\"auto\",\"texttemplate\":\"%{x}\",\"x\":[8239.26],\"xaxis\":\"x\",\"y\":[\"SINGAPORE\"],\"yaxis\":\"y\",\"type\":\"bar\"},{\"alignmentgroup\":\"True\",\"hovertemplate\":\"Country=%{y}<br>Amount in US $ Million=%{x}<extra></extra>\",\"legendgroup\":\"NETHERLAND\",\"marker\":{\"color\":\"#E377C2\",\"pattern\":{\"shape\":\"\"}},\"name\":\"NETHERLAND\",\"offsetgroup\":\"NETHERLAND\",\"orientation\":\"h\",\"showlegend\":true,\"textposition\":\"auto\",\"texttemplate\":\"%{x}\",\"x\":[8114.98],\"xaxis\":\"x\",\"y\":[\"NETHERLAND\"],\"yaxis\":\"y\",\"type\":\"bar\"},{\"alignmentgroup\":\"True\",\"hovertemplate\":\"Country=%{y}<br>Amount in US $ Million=%{x}<extra></extra>\",\"legendgroup\":\"U K\",\"marker\":{\"color\":\"#7F7F7F\",\"pattern\":{\"shape\":\"\"}},\"name\":\"U K\",\"offsetgroup\":\"U K\",\"orientation\":\"h\",\"showlegend\":true,\"textposition\":\"auto\",\"texttemplate\":\"%{x}\",\"x\":[7676.83],\"xaxis\":\"x\",\"y\":[\"U K\"],\"yaxis\":\"y\",\"type\":\"bar\"},{\"alignmentgroup\":\"True\",\"hovertemplate\":\"Country=%{y}<br>Amount in US $ Million=%{x}<extra></extra>\",\"legendgroup\":\"BELGIUM\",\"marker\":{\"color\":\"#BCBD22\",\"pattern\":{\"shape\":\"\"}},\"name\":\"BELGIUM\",\"offsetgroup\":\"BELGIUM\",\"orientation\":\"h\",\"showlegend\":true,\"textposition\":\"auto\",\"texttemplate\":\"%{x}\",\"x\":[7082.32],\"xaxis\":\"x\",\"y\":[\"BELGIUM\"],\"yaxis\":\"y\",\"type\":\"bar\"},{\"alignmentgroup\":\"True\",\"hovertemplate\":\"Country=%{y}<br>Amount in US $ Million=%{x}<extra></extra>\",\"legendgroup\":\"NEPAL\",\"marker\":{\"color\":\"#17BECF\",\"pattern\":{\"shape\":\"\"}},\"name\":\"NEPAL\",\"offsetgroup\":\"NEPAL\",\"orientation\":\"h\",\"showlegend\":true,\"textposition\":\"auto\",\"texttemplate\":\"%{x}\",\"x\":[7073.0],\"xaxis\":\"x\",\"y\":[\"NEPAL\"],\"yaxis\":\"y\",\"type\":\"bar\"}],                        {\"template\":{\"data\":{\"pie\":[{\"automargin\":true,\"type\":\"pie\"}]},\"layout\":{\"xaxis\":{\"showgrid\":false,\"title\":{\"standoff\":15}},\"yaxis\":{\"title\":{\"standoff\":15}}}},\"xaxis\":{\"anchor\":\"y\",\"domain\":[0.0,1.0],\"title\":{\"text\":\"Amount in US $ Million\"}},\"yaxis\":{\"anchor\":\"x\",\"domain\":[0.0,1.0],\"title\":{\"text\":\"Country\"},\"categoryorder\":\"array\",\"categoryarray\":[\"NEPAL\",\"BELGIUM\",\"U K\",\"NETHERLAND\",\"SINGAPORE\",\"HONG KONG\",\"BANGLADESH PR\",\"CHINA P RP\",\"U ARAB EMTS\",\"U S A\"]},\"legend\":{\"title\":{\"text\":\"Country\"},\"tracegroupgap\":0},\"title\":{\"text\":\"Top 10 Export Countries 2021\"},\"barmode\":\"relative\",\"margin\":{\"l\":115}},                        {\"responsive\": true}                    ).then(function(){\n",
              "                            \n",
              "var gd = document.getElementById('2cad7ad6-fdf3-4576-aeda-e1e80308b0ec');\n",
              "var x = new MutationObserver(function (mutations, observer) {{\n",
              "        var display = window.getComputedStyle(gd).display;\n",
              "        if (!display || display === 'none') {{\n",
              "            console.log([gd, 'removed!']);\n",
              "            Plotly.purge(gd);\n",
              "            observer.disconnect();\n",
              "        }}\n",
              "}});\n",
              "\n",
              "// Listen for the removal of the full notebook cells\n",
              "var notebookContainer = gd.closest('#notebook-container');\n",
              "if (notebookContainer) {{\n",
              "    x.observe(notebookContainer, {childList: true});\n",
              "}}\n",
              "\n",
              "// Listen for the clearing of the current output cell\n",
              "var outputEl = gd.closest('.output');\n",
              "if (outputEl) {{\n",
              "    x.observe(outputEl, {childList: true});\n",
              "}}\n",
              "\n",
              "                        })                };                            </script>        </div>\n",
              "</body>\n",
              "</html>"
            ]
          },
          "metadata": {}
        }
      ]
    },
    {
      "cell_type": "markdown",
      "source": [
        "* USA is biggest importer to india impoted goods of around 55.78k US $\n",
        "\n",
        "* UAE is Second biggest importer to india impoted goods of around 20.05k US $\n",
        "\n",
        "* China is biggest importer to india impoted goods of around 17.12k US $"
      ],
      "metadata": {
        "id": "5C2AhZ3hUK5X"
      }
    },
    {
      "cell_type": "markdown",
      "source": [
        "## Which are the common top 10 Countries in Import and Export ?"
      ],
      "metadata": {
        "id": "JstJpu7FXwgj"
      }
    },
    {
      "cell_type": "markdown",
      "source": [
        "* USA\n",
        "* UAE\n",
        "* China\n",
        "* Hong Cong\n",
        "* Singapore\n"
      ],
      "metadata": {
        "id": "RyusB5HBYZ7_"
      }
    },
    {
      "cell_type": "markdown",
      "source": [
        "## What is distribution of Import and export over the year and find the year max and min import export value?"
      ],
      "metadata": {
        "id": "mjBSFKYFZO4Q"
      }
    },
    {
      "cell_type": "code",
      "source": [
        "fig = px.histogram(df_year, x=\"Year(start)\", y=[\"Export\",\"Import\"],nbins=25,title='Distribution of Import & Export 1997-2022')\n",
        "fig.update_layout(margin=dict(l=50,r=50))\n",
        "fig.show()"
      ],
      "metadata": {
        "colab": {
          "base_uri": "https://localhost:8080/",
          "height": 542
        },
        "id": "nHv4PKqEavb4",
        "outputId": "a76169f8-b899-4900-ed92-61c0cea3d931"
      },
      "execution_count": 40,
      "outputs": [
        {
          "output_type": "display_data",
          "data": {
            "text/html": [
              "<html>\n",
              "<head><meta charset=\"utf-8\" /></head>\n",
              "<body>\n",
              "    <div>            <script src=\"https://cdnjs.cloudflare.com/ajax/libs/mathjax/2.7.5/MathJax.js?config=TeX-AMS-MML_SVG\"></script><script type=\"text/javascript\">if (window.MathJax) {MathJax.Hub.Config({SVG: {font: \"STIX-Web\"}});}</script>                <script type=\"text/javascript\">window.PlotlyConfig = {MathJaxConfig: 'local'};</script>\n",
              "        <script src=\"https://cdn.plot.ly/plotly-2.8.3.min.js\"></script>                <div id=\"2f176d1f-3b2e-4e3e-9c16-592e028bd131\" class=\"plotly-graph-div\" style=\"height:525px; width:100%;\"></div>            <script type=\"text/javascript\">                                    window.PLOTLYENV=window.PLOTLYENV || {};                                    if (document.getElementById(\"2f176d1f-3b2e-4e3e-9c16-592e028bd131\")) {                    Plotly.newPlot(                        \"2f176d1f-3b2e-4e3e-9c16-592e028bd131\",                        [{\"alignmentgroup\":\"True\",\"bingroup\":\"x\",\"histfunc\":\"sum\",\"hovertemplate\":\"variable=Export<br>Year(start)=%{x}<br>sum of value=%{y}<extra></extra>\",\"legendgroup\":\"Export\",\"marker\":{\"color\":\"#636efa\",\"pattern\":{\"shape\":\"\"}},\"name\":\"Export\",\"nbinsx\":25,\"offsetgroup\":\"Export\",\"orientation\":\"v\",\"showlegend\":true,\"x\":[1997,1998,1999,2000,2001,2002,2003,2004,2005,2006,2007,2008,2009,2010,2011,2012,2013,2014,2015,2016,2017,2018,2019,2020,2021],\"xaxis\":\"x\",\"y\":[34785.07,33218.79,36822.55,44560.24,43826.71,52719.44,63842.53,83535.95,103090.53,126414.11,163132.18,185295.32,178751.47,249815.6,305963.94,300400.59,314405.32,310338.41000000003,262291.07,275852.45,303526.16000000003,330078.11,313361.21,291808.51,305026.06],\"yaxis\":\"y\",\"type\":\"histogram\"},{\"alignmentgroup\":\"True\",\"bingroup\":\"x\",\"histfunc\":\"sum\",\"hovertemplate\":\"variable=Import<br>Year(start)=%{x}<br>sum of value=%{y}<extra></extra>\",\"legendgroup\":\"Import\",\"marker\":{\"color\":\"#EF553B\",\"pattern\":{\"shape\":\"\"}},\"name\":\"Import\",\"nbinsx\":25,\"offsetgroup\":\"Import\",\"orientation\":\"v\",\"showlegend\":true,\"x\":[1997,1998,1999,2000,2001,2002,2003,2004,2005,2006,2007,2008,2009,2010,2011,2012,2013,2014,2015,2016,2017,2018,2019,2020,2021],\"xaxis\":\"x\",\"y\":[41487.38,42404.29,49740.66,50553.54,51418.06,61412.12,78149.15,107134.53,129707.89,185735.3,251654.02,303696.33,288375.89,369769.14,489319.55,490736.67000000004,450197.66000000003,447964.44,381008.47000000003,384356.36,465580.26,514078.33999999997,474717.71,394435.93,440923.49],\"yaxis\":\"y\",\"type\":\"histogram\"}],                        {\"template\":{\"data\":{\"bar\":[{\"error_x\":{\"color\":\"#2a3f5f\"},\"error_y\":{\"color\":\"#2a3f5f\"},\"marker\":{\"line\":{\"color\":\"#E5ECF6\",\"width\":0.5},\"pattern\":{\"fillmode\":\"overlay\",\"size\":10,\"solidity\":0.2}},\"type\":\"bar\"}],\"barpolar\":[{\"marker\":{\"line\":{\"color\":\"#E5ECF6\",\"width\":0.5},\"pattern\":{\"fillmode\":\"overlay\",\"size\":10,\"solidity\":0.2}},\"type\":\"barpolar\"}],\"carpet\":[{\"aaxis\":{\"endlinecolor\":\"#2a3f5f\",\"gridcolor\":\"white\",\"linecolor\":\"white\",\"minorgridcolor\":\"white\",\"startlinecolor\":\"#2a3f5f\"},\"baxis\":{\"endlinecolor\":\"#2a3f5f\",\"gridcolor\":\"white\",\"linecolor\":\"white\",\"minorgridcolor\":\"white\",\"startlinecolor\":\"#2a3f5f\"},\"type\":\"carpet\"}],\"choropleth\":[{\"colorbar\":{\"outlinewidth\":0,\"ticks\":\"\"},\"type\":\"choropleth\"}],\"contour\":[{\"colorbar\":{\"outlinewidth\":0,\"ticks\":\"\"},\"colorscale\":[[0.0,\"#0d0887\"],[0.1111111111111111,\"#46039f\"],[0.2222222222222222,\"#7201a8\"],[0.3333333333333333,\"#9c179e\"],[0.4444444444444444,\"#bd3786\"],[0.5555555555555556,\"#d8576b\"],[0.6666666666666666,\"#ed7953\"],[0.7777777777777778,\"#fb9f3a\"],[0.8888888888888888,\"#fdca26\"],[1.0,\"#f0f921\"]],\"type\":\"contour\"}],\"contourcarpet\":[{\"colorbar\":{\"outlinewidth\":0,\"ticks\":\"\"},\"type\":\"contourcarpet\"}],\"heatmap\":[{\"colorbar\":{\"outlinewidth\":0,\"ticks\":\"\"},\"colorscale\":[[0.0,\"#0d0887\"],[0.1111111111111111,\"#46039f\"],[0.2222222222222222,\"#7201a8\"],[0.3333333333333333,\"#9c179e\"],[0.4444444444444444,\"#bd3786\"],[0.5555555555555556,\"#d8576b\"],[0.6666666666666666,\"#ed7953\"],[0.7777777777777778,\"#fb9f3a\"],[0.8888888888888888,\"#fdca26\"],[1.0,\"#f0f921\"]],\"type\":\"heatmap\"}],\"heatmapgl\":[{\"colorbar\":{\"outlinewidth\":0,\"ticks\":\"\"},\"colorscale\":[[0.0,\"#0d0887\"],[0.1111111111111111,\"#46039f\"],[0.2222222222222222,\"#7201a8\"],[0.3333333333333333,\"#9c179e\"],[0.4444444444444444,\"#bd3786\"],[0.5555555555555556,\"#d8576b\"],[0.6666666666666666,\"#ed7953\"],[0.7777777777777778,\"#fb9f3a\"],[0.8888888888888888,\"#fdca26\"],[1.0,\"#f0f921\"]],\"type\":\"heatmapgl\"}],\"histogram\":[{\"marker\":{\"pattern\":{\"fillmode\":\"overlay\",\"size\":10,\"solidity\":0.2}},\"type\":\"histogram\"}],\"histogram2d\":[{\"colorbar\":{\"outlinewidth\":0,\"ticks\":\"\"},\"colorscale\":[[0.0,\"#0d0887\"],[0.1111111111111111,\"#46039f\"],[0.2222222222222222,\"#7201a8\"],[0.3333333333333333,\"#9c179e\"],[0.4444444444444444,\"#bd3786\"],[0.5555555555555556,\"#d8576b\"],[0.6666666666666666,\"#ed7953\"],[0.7777777777777778,\"#fb9f3a\"],[0.8888888888888888,\"#fdca26\"],[1.0,\"#f0f921\"]],\"type\":\"histogram2d\"}],\"histogram2dcontour\":[{\"colorbar\":{\"outlinewidth\":0,\"ticks\":\"\"},\"colorscale\":[[0.0,\"#0d0887\"],[0.1111111111111111,\"#46039f\"],[0.2222222222222222,\"#7201a8\"],[0.3333333333333333,\"#9c179e\"],[0.4444444444444444,\"#bd3786\"],[0.5555555555555556,\"#d8576b\"],[0.6666666666666666,\"#ed7953\"],[0.7777777777777778,\"#fb9f3a\"],[0.8888888888888888,\"#fdca26\"],[1.0,\"#f0f921\"]],\"type\":\"histogram2dcontour\"}],\"mesh3d\":[{\"colorbar\":{\"outlinewidth\":0,\"ticks\":\"\"},\"type\":\"mesh3d\"}],\"parcoords\":[{\"line\":{\"colorbar\":{\"outlinewidth\":0,\"ticks\":\"\"}},\"type\":\"parcoords\"}],\"pie\":[{\"automargin\":true,\"type\":\"pie\"}],\"scatter\":[{\"marker\":{\"colorbar\":{\"outlinewidth\":0,\"ticks\":\"\"}},\"type\":\"scatter\"}],\"scatter3d\":[{\"line\":{\"colorbar\":{\"outlinewidth\":0,\"ticks\":\"\"}},\"marker\":{\"colorbar\":{\"outlinewidth\":0,\"ticks\":\"\"}},\"type\":\"scatter3d\"}],\"scattercarpet\":[{\"marker\":{\"colorbar\":{\"outlinewidth\":0,\"ticks\":\"\"}},\"type\":\"scattercarpet\"}],\"scattergeo\":[{\"marker\":{\"colorbar\":{\"outlinewidth\":0,\"ticks\":\"\"}},\"type\":\"scattergeo\"}],\"scattergl\":[{\"marker\":{\"colorbar\":{\"outlinewidth\":0,\"ticks\":\"\"}},\"type\":\"scattergl\"}],\"scattermapbox\":[{\"marker\":{\"colorbar\":{\"outlinewidth\":0,\"ticks\":\"\"}},\"type\":\"scattermapbox\"}],\"scatterpolar\":[{\"marker\":{\"colorbar\":{\"outlinewidth\":0,\"ticks\":\"\"}},\"type\":\"scatterpolar\"}],\"scatterpolargl\":[{\"marker\":{\"colorbar\":{\"outlinewidth\":0,\"ticks\":\"\"}},\"type\":\"scatterpolargl\"}],\"scatterternary\":[{\"marker\":{\"colorbar\":{\"outlinewidth\":0,\"ticks\":\"\"}},\"type\":\"scatterternary\"}],\"surface\":[{\"colorbar\":{\"outlinewidth\":0,\"ticks\":\"\"},\"colorscale\":[[0.0,\"#0d0887\"],[0.1111111111111111,\"#46039f\"],[0.2222222222222222,\"#7201a8\"],[0.3333333333333333,\"#9c179e\"],[0.4444444444444444,\"#bd3786\"],[0.5555555555555556,\"#d8576b\"],[0.6666666666666666,\"#ed7953\"],[0.7777777777777778,\"#fb9f3a\"],[0.8888888888888888,\"#fdca26\"],[1.0,\"#f0f921\"]],\"type\":\"surface\"}],\"table\":[{\"cells\":{\"fill\":{\"color\":\"#EBF0F8\"},\"line\":{\"color\":\"white\"}},\"header\":{\"fill\":{\"color\":\"#C8D4E3\"},\"line\":{\"color\":\"white\"}},\"type\":\"table\"}]},\"layout\":{\"annotationdefaults\":{\"arrowcolor\":\"#2a3f5f\",\"arrowhead\":0,\"arrowwidth\":1},\"autotypenumbers\":\"strict\",\"coloraxis\":{\"colorbar\":{\"outlinewidth\":0,\"ticks\":\"\"}},\"colorscale\":{\"diverging\":[[0,\"#8e0152\"],[0.1,\"#c51b7d\"],[0.2,\"#de77ae\"],[0.3,\"#f1b6da\"],[0.4,\"#fde0ef\"],[0.5,\"#f7f7f7\"],[0.6,\"#e6f5d0\"],[0.7,\"#b8e186\"],[0.8,\"#7fbc41\"],[0.9,\"#4d9221\"],[1,\"#276419\"]],\"sequential\":[[0.0,\"#0d0887\"],[0.1111111111111111,\"#46039f\"],[0.2222222222222222,\"#7201a8\"],[0.3333333333333333,\"#9c179e\"],[0.4444444444444444,\"#bd3786\"],[0.5555555555555556,\"#d8576b\"],[0.6666666666666666,\"#ed7953\"],[0.7777777777777778,\"#fb9f3a\"],[0.8888888888888888,\"#fdca26\"],[1.0,\"#f0f921\"]],\"sequentialminus\":[[0.0,\"#0d0887\"],[0.1111111111111111,\"#46039f\"],[0.2222222222222222,\"#7201a8\"],[0.3333333333333333,\"#9c179e\"],[0.4444444444444444,\"#bd3786\"],[0.5555555555555556,\"#d8576b\"],[0.6666666666666666,\"#ed7953\"],[0.7777777777777778,\"#fb9f3a\"],[0.8888888888888888,\"#fdca26\"],[1.0,\"#f0f921\"]]},\"colorway\":[\"#636efa\",\"#EF553B\",\"#00cc96\",\"#ab63fa\",\"#FFA15A\",\"#19d3f3\",\"#FF6692\",\"#B6E880\",\"#FF97FF\",\"#FECB52\"],\"font\":{\"color\":\"#2a3f5f\"},\"geo\":{\"bgcolor\":\"white\",\"lakecolor\":\"white\",\"landcolor\":\"#E5ECF6\",\"showlakes\":true,\"showland\":true,\"subunitcolor\":\"white\"},\"hoverlabel\":{\"align\":\"left\"},\"hovermode\":\"closest\",\"mapbox\":{\"style\":\"light\"},\"paper_bgcolor\":\"white\",\"plot_bgcolor\":\"#E5ECF6\",\"polar\":{\"angularaxis\":{\"gridcolor\":\"white\",\"linecolor\":\"white\",\"ticks\":\"\"},\"bgcolor\":\"#E5ECF6\",\"radialaxis\":{\"gridcolor\":\"white\",\"linecolor\":\"white\",\"ticks\":\"\"}},\"scene\":{\"xaxis\":{\"backgroundcolor\":\"#E5ECF6\",\"gridcolor\":\"white\",\"gridwidth\":2,\"linecolor\":\"white\",\"showbackground\":true,\"ticks\":\"\",\"zerolinecolor\":\"white\"},\"yaxis\":{\"backgroundcolor\":\"#E5ECF6\",\"gridcolor\":\"white\",\"gridwidth\":2,\"linecolor\":\"white\",\"showbackground\":true,\"ticks\":\"\",\"zerolinecolor\":\"white\"},\"zaxis\":{\"backgroundcolor\":\"#E5ECF6\",\"gridcolor\":\"white\",\"gridwidth\":2,\"linecolor\":\"white\",\"showbackground\":true,\"ticks\":\"\",\"zerolinecolor\":\"white\"}},\"shapedefaults\":{\"line\":{\"color\":\"#2a3f5f\"}},\"ternary\":{\"aaxis\":{\"gridcolor\":\"white\",\"linecolor\":\"white\",\"ticks\":\"\"},\"baxis\":{\"gridcolor\":\"white\",\"linecolor\":\"white\",\"ticks\":\"\"},\"bgcolor\":\"#E5ECF6\",\"caxis\":{\"gridcolor\":\"white\",\"linecolor\":\"white\",\"ticks\":\"\"}},\"title\":{\"x\":0.05},\"xaxis\":{\"automargin\":true,\"gridcolor\":\"white\",\"linecolor\":\"white\",\"ticks\":\"\",\"title\":{\"standoff\":15},\"zerolinecolor\":\"white\",\"zerolinewidth\":2},\"yaxis\":{\"automargin\":true,\"gridcolor\":\"white\",\"linecolor\":\"white\",\"ticks\":\"\",\"title\":{\"standoff\":15},\"zerolinecolor\":\"white\",\"zerolinewidth\":2}}},\"xaxis\":{\"anchor\":\"y\",\"domain\":[0.0,1.0],\"title\":{\"text\":\"Year(start)\"}},\"yaxis\":{\"anchor\":\"x\",\"domain\":[0.0,1.0],\"title\":{\"text\":\"sum of value\"}},\"legend\":{\"title\":{\"text\":\"variable\"},\"tracegroupgap\":0},\"title\":{\"text\":\"Distribution of Import & Export 1997-2022\"},\"barmode\":\"relative\",\"margin\":{\"l\":50,\"r\":50}},                        {\"responsive\": true}                    ).then(function(){\n",
              "                            \n",
              "var gd = document.getElementById('2f176d1f-3b2e-4e3e-9c16-592e028bd131');\n",
              "var x = new MutationObserver(function (mutations, observer) {{\n",
              "        var display = window.getComputedStyle(gd).display;\n",
              "        if (!display || display === 'none') {{\n",
              "            console.log([gd, 'removed!']);\n",
              "            Plotly.purge(gd);\n",
              "            observer.disconnect();\n",
              "        }}\n",
              "}});\n",
              "\n",
              "// Listen for the removal of the full notebook cells\n",
              "var notebookContainer = gd.closest('#notebook-container');\n",
              "if (notebookContainer) {{\n",
              "    x.observe(notebookContainer, {childList: true});\n",
              "}}\n",
              "\n",
              "// Listen for the clearing of the current output cell\n",
              "var outputEl = gd.closest('.output');\n",
              "if (outputEl) {{\n",
              "    x.observe(outputEl, {childList: true});\n",
              "}}\n",
              "\n",
              "                        })                };                            </script>        </div>\n",
              "</body>\n",
              "</html>"
            ]
          },
          "metadata": {}
        }
      ]
    },
    {
      "cell_type": "markdown",
      "source": [
        "* Import is maximum in year 2018\n",
        "* Export is maximum in year 2018\n",
        "\n",
        "* Import minimum in year 1997\n",
        "* Export minimum in year 1997\n"
      ],
      "metadata": {
        "id": "LIqqok5jiWLc"
      }
    },
    {
      "cell_type": "markdown",
      "source": [
        "## Compare import and export over time"
      ],
      "metadata": {
        "id": "-UgwuinHrfYn"
      }
    },
    {
      "cell_type": "code",
      "source": [
        "fig = px.scatter(dataset[dataset['Import'] > 0],  y=\"Import\",x='Year(start)',\n",
        "\t         size=\"Export\", color=\"Country\",\n",
        "                 hover_name=\"Country\", size_max=60,range_x=(1997,2022))\n",
        "fig.show()\n"
      ],
      "metadata": {
        "colab": {
          "base_uri": "https://localhost:8080/",
          "height": 542
        },
        "id": "BQOdnrQNhf07",
        "outputId": "516c0056-509b-4f80-a237-7feef2ee897f"
      },
      "execution_count": 44,
      "outputs": [
        {
          "output_type": "display_data",
          "data": {
            "text/html": [
              "<html>\n",
              "<head><meta charset=\"utf-8\" /></head>\n",
              "<body>\n",
              "    <div>            <script src=\"https://cdnjs.cloudflare.com/ajax/libs/mathjax/2.7.5/MathJax.js?config=TeX-AMS-MML_SVG\"></script><script type=\"text/javascript\">if (window.MathJax) {MathJax.Hub.Config({SVG: {font: \"STIX-Web\"}});}</script>                <script type=\"text/javascript\">window.PlotlyConfig = {MathJaxConfig: 'local'};</script>\n",
              "        <script src=\"https://cdn.plot.ly/plotly-2.8.3.min.js\"></script>                <div id=\"1a0f07b8-cdad-41d1-8291-29bfb1bbdd6c\" class=\"plotly-graph-div\" style=\"height:525px; width:100%;\"></div>            <script type=\"text/javascript\">                                    window.PLOTLYENV=window.PLOTLYENV || {};                                    if (document.getElementById(\"1a0f07b8-cdad-41d1-8291-29bfb1bbdd6c\")) {                    Plotly.newPlot(                        \"1a0f07b8-cdad-41d1-8291-29bfb1bbdd6c\",                        [{\"hovertemplate\":\"<b>%{hovertext}</b><br><br>Country=AFGHANISTAN<br>Year(start)=%{x}<br>Import=%{y}<br>Export=%{marker.size}<extra></extra>\",\"hovertext\":[\"AFGHANISTAN\",\"AFGHANISTAN\",\"AFGHANISTAN\",\"AFGHANISTAN\",\"AFGHANISTAN\",\"AFGHANISTAN\",\"AFGHANISTAN\",\"AFGHANISTAN\",\"AFGHANISTAN\",\"AFGHANISTAN\",\"AFGHANISTAN\",\"AFGHANISTAN\",\"AFGHANISTAN\",\"AFGHANISTAN\",\"AFGHANISTAN\",\"AFGHANISTAN\",\"AFGHANISTAN\",\"AFGHANISTAN\",\"AFGHANISTAN\",\"AFGHANISTAN\",\"AFGHANISTAN\",\"AFGHANISTAN\",\"AFGHANISTAN\",\"AFGHANISTAN\",\"AFGHANISTAN\"],\"legendgroup\":\"AFGHANISTAN\",\"marker\":{\"color\":\"#636efa\",\"size\":[21.25,12.81,33.2,25.86,24.37,60.77,145.47,165.44,142.67,182.11,249.21,394.23,463.55,422.41,510.9,472.63,474.34,422.56,526.6,506.34,709.75,715.44,997.58,825.78,401.72],\"sizemode\":\"area\",\"sizeref\":15.496216666666665,\"symbol\":\"circle\"},\"mode\":\"markers\",\"name\":\"AFGHANISTAN\",\"showlegend\":true,\"x\":[97,98,99,2000,2001,2002,2003,2004,2005,2006,2007,2008,2009,2010,2011,2012,2013,2014,2015,2016,2017,2018,2019,2020,2021],\"xaxis\":\"x\",\"y\":[10.7,28.14,21.06,26.59,17.52,18.46,40.51,47.01,58.42,34.37,109.97,126.24,125.19,146.03,132.5,159.55,208.77,261.91,307.9,292.9,433.78,435.44,529.84,509.49,412.78],\"yaxis\":\"y\",\"type\":\"scattergl\"},{\"hovertemplate\":\"<b>%{hovertext}</b><br><br>Country=ALBANIA<br>Year(start)=%{x}<br>Import=%{y}<br>Export=%{marker.size}<extra></extra>\",\"hovertext\":[\"ALBANIA\",\"ALBANIA\",\"ALBANIA\",\"ALBANIA\",\"ALBANIA\",\"ALBANIA\",\"ALBANIA\",\"ALBANIA\",\"ALBANIA\",\"ALBANIA\",\"ALBANIA\",\"ALBANIA\",\"ALBANIA\",\"ALBANIA\",\"ALBANIA\",\"ALBANIA\",\"ALBANIA\",\"ALBANIA\",\"ALBANIA\",\"ALBANIA\",\"ALBANIA\",\"ALBANIA\",\"ALBANIA\"],\"legendgroup\":\"ALBANIA\",\"marker\":{\"color\":\"#EF553B\",\"size\":[0.55,0.8,1.83,2.32,4.95,5.23,5.61,4.48,6.9,12.14,8.51,11.5,12.63,17.48,18.73,19.42,24.04,26.45,29.34,37.08,44.12,46.75,44.64],\"sizemode\":\"area\",\"sizeref\":15.496216666666665,\"symbol\":\"circle\"},\"mode\":\"markers\",\"name\":\"ALBANIA\",\"showlegend\":true,\"x\":[97,98,2000,2001,2003,2004,2005,2006,2007,2008,2009,2010,2011,2012,2013,2014,2015,2016,2017,2018,2019,2020,2021],\"xaxis\":\"x\",\"y\":[0.03,0.18,0.04,0.01,0.02,0.03,0.19,0.04,0.56,0.18,0.27,0.12,141.15,31.04,198.8,50.76,17.2,6.5,38.86,22.62,47.51,8.3,26.44],\"yaxis\":\"y\",\"type\":\"scattergl\"},{\"hovertemplate\":\"<b>%{hovertext}</b><br><br>Country=ALGERIA<br>Year(start)=%{x}<br>Import=%{y}<br>Export=%{marker.size}<extra></extra>\",\"hovertext\":[\"ALGERIA\",\"ALGERIA\",\"ALGERIA\",\"ALGERIA\",\"ALGERIA\",\"ALGERIA\",\"ALGERIA\",\"ALGERIA\",\"ALGERIA\",\"ALGERIA\",\"ALGERIA\",\"ALGERIA\",\"ALGERIA\",\"ALGERIA\",\"ALGERIA\",\"ALGERIA\",\"ALGERIA\",\"ALGERIA\",\"ALGERIA\",\"ALGERIA\",\"ALGERIA\",\"ALGERIA\",\"ALGERIA\",\"ALGERIA\",\"ALGERIA\"],\"legendgroup\":\"ALGERIA\",\"marker\":{\"color\":\"#00cc96\",\"size\":[17.06,24.6,14.36,21.04,29.43,66.78,122.15,231.22,271.39,335.04,377.17,653.08,574.19,781.94,835.65,1088.73,1069.53,1063.73,787.81,841.89,823.23,940.27,611.02,594.74,525.67],\"sizemode\":\"area\",\"sizeref\":15.496216666666665,\"symbol\":\"circle\"},\"mode\":\"markers\",\"name\":\"ALGERIA\",\"showlegend\":true,\"x\":[97,98,99,2000,2001,2002,2003,2004,2005,2006,2007,2008,2009,2010,2011,2012,2013,2014,2015,2016,2017,2018,2019,2020,2021],\"xaxis\":\"x\",\"y\":[0.58,0.47,17.06,2.6,1.41,1.11,4.47,6.31,14.65,755.46,1238.95,1052.57,995.32,1816.19,2111.43,683.55,860.9,551.82,299.44,605.12,1260.98,1696.96,1996.76,408.79,545.1],\"yaxis\":\"y\",\"type\":\"scattergl\"},{\"hovertemplate\":\"<b>%{hovertext}</b><br><br>Country=AMERI SAMOA<br>Year(start)=%{x}<br>Import=%{y}<br>Export=%{marker.size}<extra></extra>\",\"hovertext\":[\"AMERI SAMOA\",\"AMERI SAMOA\",\"AMERI SAMOA\",\"AMERI SAMOA\",\"AMERI SAMOA\",\"AMERI SAMOA\",\"AMERI SAMOA\",\"AMERI SAMOA\",\"AMERI SAMOA\",\"AMERI SAMOA\",\"AMERI SAMOA\",\"AMERI SAMOA\",\"AMERI SAMOA\",\"AMERI SAMOA\",\"AMERI SAMOA\",\"AMERI SAMOA\",\"AMERI SAMOA\",\"AMERI SAMOA\"],\"legendgroup\":\"AMERI SAMOA\",\"marker\":{\"color\":\"#ab63fa\",\"size\":[0.06,0.31,1.27,0.29,0.28,0.2,0.13,0.08,0.2,2.05,0.37,0.05,0.19,0.16,0.08,0.31,0.13,0.58],\"sizemode\":\"area\",\"sizeref\":15.496216666666665,\"symbol\":\"circle\"},\"mode\":\"markers\",\"name\":\"AMERI SAMOA\",\"showlegend\":true,\"x\":[97,2002,2004,2005,2006,2007,2008,2009,2010,2011,2012,2013,2014,2015,2016,2017,2019,2020],\"xaxis\":\"x\",\"y\":[0.06,0.42,0.05,0.29,83.73,1.13,0.24,0.35,0.15,1.41,0.78,0.13,0.67,1.13,0.14,0.3,3.08,0.96],\"yaxis\":\"y\",\"type\":\"scattergl\"},{\"hovertemplate\":\"<b>%{hovertext}</b><br><br>Country=ANDORRA<br>Year(start)=%{x}<br>Import=%{y}<br>Export=%{marker.size}<extra></extra>\",\"hovertext\":[\"ANDORRA\",\"ANDORRA\",\"ANDORRA\",\"ANDORRA\",\"ANDORRA\",\"ANDORRA\",\"ANDORRA\",\"ANDORRA\",\"ANDORRA\",\"ANDORRA\",\"ANDORRA\",\"ANDORRA\",\"ANDORRA\",\"ANDORRA\"],\"legendgroup\":\"ANDORRA\",\"marker\":{\"color\":\"#FFA15A\",\"size\":[0.01,0.03,0.18,0.13,0.13,0.89,0.27,0.25,0.11,0.26,0.14,0.33,0.08,0.02],\"sizemode\":\"area\",\"sizeref\":15.496216666666665,\"symbol\":\"circle\"},\"mode\":\"markers\",\"name\":\"ANDORRA\",\"showlegend\":true,\"x\":[97,98,2004,2006,2007,2008,2010,2011,2012,2014,2016,2018,2019,2020],\"xaxis\":\"x\",\"y\":[0.02,0.07,0.02,0.03,0.01,0.09,0.01,0.03,0.01,5.28,0.09,0.04,0.03,0.01],\"yaxis\":\"y\",\"type\":\"scattergl\"},{\"hovertemplate\":\"<b>%{hovertext}</b><br><br>Country=ANGOLA<br>Year(start)=%{x}<br>Import=%{y}<br>Export=%{marker.size}<extra></extra>\",\"hovertext\":[\"ANGOLA\",\"ANGOLA\",\"ANGOLA\",\"ANGOLA\",\"ANGOLA\",\"ANGOLA\",\"ANGOLA\",\"ANGOLA\",\"ANGOLA\",\"ANGOLA\",\"ANGOLA\",\"ANGOLA\",\"ANGOLA\",\"ANGOLA\",\"ANGOLA\",\"ANGOLA\",\"ANGOLA\",\"ANGOLA\",\"ANGOLA\",\"ANGOLA\"],\"legendgroup\":\"ANGOLA\",\"marker\":{\"color\":\"#19d3f3\",\"size\":[25.02,37.31,72.89,151.66,201.89,261.47,370.45,635.07,675.44,454.33,488.79,536.03,552.64,223.19,154.63,234.92,282.36,285.1,259.6,326.89],\"sizemode\":\"area\",\"sizeref\":15.496216666666665,\"symbol\":\"circle\"},\"mode\":\"markers\",\"name\":\"ANGOLA\",\"showlegend\":true,\"x\":[2001,2002,2004,2005,2006,2007,2008,2009,2010,2011,2012,2013,2014,2015,2016,2017,2018,2019,2020,2021],\"xaxis\":\"x\",\"y\":[0.01,7.2,0.91,3.25,244.71,1024.74,1386.25,4242.79,5112.12,6625.07,7157.54,5992.31,4617.64,2766.81,2596.49,4323.85,4027.49,3649.02,1879.74,1729.5],\"yaxis\":\"y\",\"type\":\"scattergl\"},{\"hovertemplate\":\"<b>%{hovertext}</b><br><br>Country=ANGUILLA<br>Year(start)=%{x}<br>Import=%{y}<br>Export=%{marker.size}<extra></extra>\",\"hovertext\":[\"ANGUILLA\",\"ANGUILLA\",\"ANGUILLA\",\"ANGUILLA\",\"ANGUILLA\",\"ANGUILLA\",\"ANGUILLA\",\"ANGUILLA\",\"ANGUILLA\"],\"legendgroup\":\"ANGUILLA\",\"marker\":{\"color\":\"#FF6692\",\"size\":[0.17,0.12,0.05,0.02,0.5,0.16,0.04,0.05,0.08],\"sizemode\":\"area\",\"sizeref\":15.496216666666665,\"symbol\":\"circle\"},\"mode\":\"markers\",\"name\":\"ANGUILLA\",\"showlegend\":true,\"x\":[2010,2011,2014,2015,2017,2018,2019,2020,2021],\"xaxis\":\"x\",\"y\":[0.01,0.14,0.07,0.01,0.18,0.19,0.1,0.18,0.03],\"yaxis\":\"y\",\"type\":\"scattergl\"},{\"hovertemplate\":\"<b>%{hovertext}</b><br><br>Country=ANTARTICA<br>Year(start)=%{x}<br>Import=%{y}<br>Export=%{marker.size}<extra></extra>\",\"hovertext\":[\"ANTARTICA\",\"ANTARTICA\",\"ANTARTICA\",\"ANTARTICA\",\"ANTARTICA\",\"ANTARTICA\",\"ANTARTICA\",\"ANTARTICA\",\"ANTARTICA\",\"ANTARTICA\",\"ANTARTICA\",\"ANTARTICA\"],\"legendgroup\":\"ANTARTICA\",\"marker\":{\"color\":\"#B6E880\",\"size\":[0.43,0.1,0.17,0.06,0.06,0.0,0.0,0.1,0.0,0.02,1.05,0.01],\"sizemode\":\"area\",\"sizeref\":15.496216666666665,\"symbol\":\"circle\"},\"mode\":\"markers\",\"name\":\"ANTARTICA\",\"showlegend\":true,\"x\":[2007,2009,2010,2011,2013,2014,2015,2017,2018,2019,2020,2021],\"xaxis\":\"x\",\"y\":[0.01,0.07,0.08,0.45,0.41,4.84,1.11,0.05,0.03,0.08,0.67,0.54],\"yaxis\":\"y\",\"type\":\"scattergl\"},{\"hovertemplate\":\"<b>%{hovertext}</b><br><br>Country=ANTIGUA<br>Year(start)=%{x}<br>Import=%{y}<br>Export=%{marker.size}<extra></extra>\",\"hovertext\":[\"ANTIGUA\",\"ANTIGUA\",\"ANTIGUA\",\"ANTIGUA\",\"ANTIGUA\",\"ANTIGUA\",\"ANTIGUA\",\"ANTIGUA\",\"ANTIGUA\",\"ANTIGUA\",\"ANTIGUA\",\"ANTIGUA\",\"ANTIGUA\",\"ANTIGUA\",\"ANTIGUA\",\"ANTIGUA\",\"ANTIGUA\",\"ANTIGUA\",\"ANTIGUA\"],\"legendgroup\":\"ANTIGUA\",\"marker\":{\"color\":\"#FF97FF\",\"size\":[0.18,4.55,1.05,1.13,1.4,1.87,2.98,1.45,0.94,0.87,1.36,2.19,2.07,2.56,2.17,2.71,2.19,1.62,1.71],\"sizemode\":\"area\",\"sizeref\":15.496216666666665,\"symbol\":\"circle\"},\"mode\":\"markers\",\"name\":\"ANTIGUA\",\"showlegend\":true,\"x\":[2000,2003,2004,2005,2006,2007,2008,2009,2010,2011,2012,2013,2014,2015,2017,2018,2019,2020,2021],\"xaxis\":\"x\",\"y\":[0.01,0.46,0.01,0.12,1.14,0.06,0.07,0.01,15.63,0.06,0.23,0.04,0.49,0.01,0.02,0.15,0.2,0.14,0.13],\"yaxis\":\"y\",\"type\":\"scattergl\"},{\"hovertemplate\":\"<b>%{hovertext}</b><br><br>Country=ARGENTINA<br>Year(start)=%{x}<br>Import=%{y}<br>Export=%{marker.size}<extra></extra>\",\"hovertext\":[\"ARGENTINA\",\"ARGENTINA\",\"ARGENTINA\",\"ARGENTINA\",\"ARGENTINA\",\"ARGENTINA\",\"ARGENTINA\",\"ARGENTINA\",\"ARGENTINA\",\"ARGENTINA\",\"ARGENTINA\",\"ARGENTINA\",\"ARGENTINA\",\"ARGENTINA\",\"ARGENTINA\",\"ARGENTINA\",\"ARGENTINA\",\"ARGENTINA\",\"ARGENTINA\",\"ARGENTINA\",\"ARGENTINA\",\"ARGENTINA\",\"ARGENTINA\",\"ARGENTINA\",\"ARGENTINA\"],\"legendgroup\":\"ARGENTINA\",\"marker\":{\"color\":\"#FECB52\",\"size\":[92.71,74.0,62.61,98.5,64.62,60.29,87.33,186.32,199.5,211.38,290.09,352.01,269.96,404.36,473.57,539.95,611.48,460.19,536.46,510.72,708.71,562.93,763.24,687.84,977.08],\"sizemode\":\"area\",\"sizeref\":15.496216666666665,\"symbol\":\"circle\"},\"mode\":\"markers\",\"name\":\"ARGENTINA\",\"showlegend\":true,\"x\":[97,98,99,2000,2001,2002,2003,2004,2005,2006,2007,2008,2009,2010,2011,2012,2013,2014,2015,2016,2017,2018,2019,2020,2021],\"xaxis\":\"x\",\"y\":[128.19,339.29,347.47,380.76,436.0,404.14,523.96,539.59,754.04,876.0,906.84,499.07,672.21,1022.73,1105.55,1198.71,1338.35,1992.25,2471.52,2500.75,2229.2,1954.99,2327.26,2627.05,3319.92],\"yaxis\":\"y\",\"type\":\"scattergl\"},{\"hovertemplate\":\"<b>%{hovertext}</b><br><br>Country=ARMENIA<br>Year(start)=%{x}<br>Import=%{y}<br>Export=%{marker.size}<extra></extra>\",\"hovertext\":[\"ARMENIA\",\"ARMENIA\",\"ARMENIA\",\"ARMENIA\",\"ARMENIA\",\"ARMENIA\",\"ARMENIA\",\"ARMENIA\",\"ARMENIA\",\"ARMENIA\",\"ARMENIA\",\"ARMENIA\",\"ARMENIA\",\"ARMENIA\",\"ARMENIA\",\"ARMENIA\",\"ARMENIA\",\"ARMENIA\",\"ARMENIA\",\"ARMENIA\",\"ARMENIA\",\"ARMENIA\",\"ARMENIA\"],\"legendgroup\":\"ARMENIA\",\"marker\":{\"color\":\"#636efa\",\"size\":[0.18,1.4,1.31,2.52,3.53,7.24,7.19,8.58,19.88,19.98,18.48,19.83,38.29,40.48,72.47,91.47,22.78,30.33,33.27,25.94,40.49,69.83,22.88],\"sizemode\":\"area\",\"sizeref\":15.496216666666665,\"symbol\":\"circle\"},\"mode\":\"markers\",\"name\":\"ARMENIA\",\"showlegend\":true,\"x\":[98,2000,2001,2002,2003,2004,2005,2006,2007,2008,2009,2010,2011,2012,2013,2014,2015,2016,2017,2018,2019,2020,2021],\"xaxis\":\"x\",\"y\":[0.02,0.56,0.45,0.16,0.66,0.78,2.08,77.06,3.79,2.78,2.96,7.07,6.16,1.48,1.7,0.82,14.04,1.05,0.65,0.91,1.56,96.46,100.55],\"yaxis\":\"y\",\"type\":\"scattergl\"},{\"hovertemplate\":\"<b>%{hovertext}</b><br><br>Country=ARUBA<br>Year(start)=%{x}<br>Import=%{y}<br>Export=%{marker.size}<extra></extra>\",\"hovertext\":[\"ARUBA\",\"ARUBA\",\"ARUBA\",\"ARUBA\",\"ARUBA\",\"ARUBA\",\"ARUBA\",\"ARUBA\",\"ARUBA\",\"ARUBA\",\"ARUBA\",\"ARUBA\",\"ARUBA\",\"ARUBA\",\"ARUBA\"],\"legendgroup\":\"ARUBA\",\"marker\":{\"color\":\"#EF553B\",\"size\":[0.44,1.46,1.88,1.49,2.68,2.88,3.33,3.88,6.93,7.91,6.44,9.63,9.87,2.79,4.23],\"sizemode\":\"area\",\"sizeref\":15.496216666666665,\"symbol\":\"circle\"},\"mode\":\"markers\",\"name\":\"ARUBA\",\"showlegend\":true,\"x\":[2004,2006,2008,2010,2011,2012,2013,2014,2015,2016,2017,2018,2019,2020,2021],\"xaxis\":\"x\",\"y\":[0.02,0.04,0.02,1.92,0.11,0.24,0.13,0.03,0.3,4.27,0.4,0.55,0.3,0.81,1.64],\"yaxis\":\"y\",\"type\":\"scattergl\"},{\"hovertemplate\":\"<b>%{hovertext}</b><br><br>Country=AUSTRALIA<br>Year(start)=%{x}<br>Import=%{y}<br>Export=%{marker.size}<extra></extra>\",\"hovertext\":[\"AUSTRALIA\",\"AUSTRALIA\",\"AUSTRALIA\",\"AUSTRALIA\",\"AUSTRALIA\",\"AUSTRALIA\",\"AUSTRALIA\",\"AUSTRALIA\",\"AUSTRALIA\",\"AUSTRALIA\",\"AUSTRALIA\",\"AUSTRALIA\",\"AUSTRALIA\",\"AUSTRALIA\",\"AUSTRALIA\",\"AUSTRALIA\",\"AUSTRALIA\",\"AUSTRALIA\",\"AUSTRALIA\",\"AUSTRALIA\",\"AUSTRALIA\",\"AUSTRALIA\",\"AUSTRALIA\",\"AUSTRALIA\",\"AUSTRALIA\"],\"legendgroup\":\"AUSTRALIA\",\"marker\":{\"color\":\"#00cc96\",\"size\":[438.25,387.41,403.28,405.87,418.02,504.18,584.29,720.25,821.23,925.2,1152.4,1439.32,1384.96,1713.02,2476.84,2348.65,2300.28,2782.13,3262.98,2957.79,4012.32,3520.44,2852.14,4043.88,5644.16],\"sizemode\":\"area\",\"sizeref\":15.496216666666665,\"symbol\":\"circle\"},\"mode\":\"markers\",\"name\":\"AUSTRALIA\",\"showlegend\":true,\"x\":[97,98,99,2000,2001,2002,2003,2004,2005,2006,2007,2008,2009,2010,2011,2012,2013,2014,2015,2016,2017,2018,2019,2020,2021],\"xaxis\":\"x\",\"y\":[1485.56,1445.01,1081.76,1062.76,1306.1,1336.79,2649.22,3824.53,4947.91,6999.59,7815.32,11098.07,12407.37,10789.0,15578.52,13085.7,9822.52,10247.24,8898.78,11154.48,13993.75,13131.21,9782.22,8247.3,12106.69],\"yaxis\":\"y\",\"type\":\"scattergl\"},{\"hovertemplate\":\"<b>%{hovertext}</b><br><br>Country=AUSTRIA<br>Year(start)=%{x}<br>Import=%{y}<br>Export=%{marker.size}<extra></extra>\",\"hovertext\":[\"AUSTRIA\",\"AUSTRIA\",\"AUSTRIA\",\"AUSTRIA\",\"AUSTRIA\",\"AUSTRIA\",\"AUSTRIA\",\"AUSTRIA\",\"AUSTRIA\",\"AUSTRIA\",\"AUSTRIA\",\"AUSTRIA\",\"AUSTRIA\",\"AUSTRIA\",\"AUSTRIA\",\"AUSTRIA\",\"AUSTRIA\",\"AUSTRIA\",\"AUSTRIA\",\"AUSTRIA\",\"AUSTRIA\",\"AUSTRIA\",\"AUSTRIA\",\"AUSTRIA\",\"AUSTRIA\"],\"legendgroup\":\"AUSTRIA\",\"marker\":{\"color\":\"#ab63fa\",\"size\":[85.17,77.58,75.17,81.02,76.33,81.11,106.38,117.15,132.47,132.01,183.41,490.67,252.74,593.7,341.82,328.58,336.47,363.1,339.83,383.16,460.03,483.16,455.59,453.07,429.3],\"sizemode\":\"area\",\"sizeref\":15.496216666666665,\"symbol\":\"circle\"},\"mode\":\"markers\",\"name\":\"AUSTRIA\",\"showlegend\":true,\"x\":[97,98,99,2000,2001,2002,2003,2004,2005,2006,2007,2008,2009,2010,2011,2012,2013,2014,2015,2016,2017,2018,2019,2020,2021],\"xaxis\":\"x\",\"y\":[81.13,59.64,66.59,69.32,77.82,164.21,201.67,262.34,344.02,456.84,585.94,701.64,789.37,817.07,1081.12,929.22,828.77,815.92,827.11,908.34,973.33,716.43,629.74,623.1,598.22],\"yaxis\":\"y\",\"type\":\"scattergl\"},{\"hovertemplate\":\"<b>%{hovertext}</b><br><br>Country=AZERBAIJAN<br>Year(start)=%{x}<br>Import=%{y}<br>Export=%{marker.size}<extra></extra>\",\"hovertext\":[\"AZERBAIJAN\",\"AZERBAIJAN\",\"AZERBAIJAN\",\"AZERBAIJAN\",\"AZERBAIJAN\",\"AZERBAIJAN\",\"AZERBAIJAN\",\"AZERBAIJAN\",\"AZERBAIJAN\",\"AZERBAIJAN\",\"AZERBAIJAN\",\"AZERBAIJAN\",\"AZERBAIJAN\",\"AZERBAIJAN\",\"AZERBAIJAN\",\"AZERBAIJAN\",\"AZERBAIJAN\",\"AZERBAIJAN\",\"AZERBAIJAN\",\"AZERBAIJAN\",\"AZERBAIJAN\",\"AZERBAIJAN\",\"AZERBAIJAN\",\"AZERBAIJAN\",\"AZERBAIJAN\"],\"legendgroup\":\"AZERBAIJAN\",\"marker\":{\"color\":\"#FFA15A\",\"size\":[2.95,4.02,7.34,11.67,10.68,8.64,12.28,30.79,28.81,24.57,25.78,33.8,29.91,38.65,71.62,87.16,123.89,110.42,33.38,40.27,33.68,43.46,53.21,50.81,27.4],\"sizemode\":\"area\",\"sizeref\":15.496216666666665,\"symbol\":\"circle\"},\"mode\":\"markers\",\"name\":\"AZERBAIJAN\",\"showlegend\":true,\"x\":[97,98,99,2000,2001,2002,2003,2004,2005,2006,2007,2008,2009,2010,2011,2012,2013,2014,2015,2016,2017,2018,2019,2020,2021],\"xaxis\":\"x\",\"y\":[0.1,0.02,0.39,0.13,0.22,1.73,3.02,7.71,5.86,67.56,173.88,194.62,284.83,203.48,675.0,521.39,1136.83,198.54,77.09,461.67,592.61,147.87,273.91,229.07,10.17],\"yaxis\":\"y\",\"type\":\"scattergl\"},{\"hovertemplate\":\"<b>%{hovertext}</b><br><br>Country=BAHAMAS<br>Year(start)=%{x}<br>Import=%{y}<br>Export=%{marker.size}<extra></extra>\",\"hovertext\":[\"BAHAMAS\",\"BAHAMAS\",\"BAHAMAS\",\"BAHAMAS\",\"BAHAMAS\",\"BAHAMAS\",\"BAHAMAS\",\"BAHAMAS\",\"BAHAMAS\",\"BAHAMAS\",\"BAHAMAS\",\"BAHAMAS\",\"BAHAMAS\",\"BAHAMAS\",\"BAHAMAS\",\"BAHAMAS\",\"BAHAMAS\",\"BAHAMAS\",\"BAHAMAS\",\"BAHAMAS\",\"BAHAMAS\",\"BAHAMAS\",\"BAHAMAS\",\"BAHAMAS\",\"BAHAMAS\"],\"legendgroup\":\"BAHAMAS\",\"marker\":{\"color\":\"#19d3f3\",\"size\":[1.06,0.67,1.41,2.33,0.67,3.17,3.23,5.55,9.35,61.08,17.5,2.23,883.78,2173.18,2243.52,2669.86,228.03,123.5,11.96,5.93,8.07,6.06,60.48,4.56,6.05],\"sizemode\":\"area\",\"sizeref\":15.496216666666665,\"symbol\":\"circle\"},\"mode\":\"markers\",\"name\":\"BAHAMAS\",\"showlegend\":true,\"x\":[97,98,99,2000,2001,2002,2003,2004,2005,2006,2007,2008,2009,2010,2011,2012,2013,2014,2015,2016,2017,2018,2019,2020,2021],\"xaxis\":\"x\",\"y\":[1.06,0.03,0.02,0.08,0.67,0.36,0.07,45.4,0.21,12.13,0.25,40.37,0.48,4.5,3.54,102.28,494.21,0.67,77.23,258.82,40.26,39.21,14.7,35.84,2.73],\"yaxis\":\"y\",\"type\":\"scattergl\"},{\"hovertemplate\":\"<b>%{hovertext}</b><br><br>Country=BAHARAIN IS<br>Year(start)=%{x}<br>Import=%{y}<br>Export=%{marker.size}<extra></extra>\",\"hovertext\":[\"BAHARAIN IS\",\"BAHARAIN IS\",\"BAHARAIN IS\",\"BAHARAIN IS\",\"BAHARAIN IS\",\"BAHARAIN IS\",\"BAHARAIN IS\",\"BAHARAIN IS\",\"BAHARAIN IS\",\"BAHARAIN IS\",\"BAHARAIN IS\",\"BAHARAIN IS\",\"BAHARAIN IS\",\"BAHARAIN IS\",\"BAHARAIN IS\",\"BAHARAIN IS\",\"BAHARAIN IS\",\"BAHARAIN IS\",\"BAHARAIN IS\",\"BAHARAIN IS\",\"BAHARAIN IS\",\"BAHARAIN IS\",\"BAHARAIN IS\",\"BAHARAIN IS\",\"BAHARAIN IS\"],\"legendgroup\":\"BAHARAIN IS\",\"marker\":{\"color\":\"#FF6692\",\"size\":[61.2,56.84,60.22,78.67,75.59,99.54,111.63,156.46,192.25,184.52,252.47,286.52,250.21,651.83,439.99,603.47,639.36,472.98,654.14,471.71,556.82,742.14,559.09,528.25,702.48],\"sizemode\":\"area\",\"sizeref\":15.496216666666665,\"symbol\":\"circle\"},\"mode\":\"markers\",\"name\":\"BAHARAIN IS\",\"showlegend\":true,\"x\":[97,98,99,2000,2001,2002,2003,2004,2005,2006,2007,2008,2009,2010,2011,2012,2013,2014,2015,2016,2017,2018,2019,2020,2021],\"xaxis\":\"x\",\"y\":[132.93,470.44,159.17,202.53,134.01,121.13,74.52,121.87,189.56,471.23,835.42,1442.82,502.86,641.25,905.98,664.66,563.24,446.25,356.9,290.69,431.12,539.63,421.5,547.49,575.25],\"yaxis\":\"y\",\"type\":\"scattergl\"},{\"hovertemplate\":\"<b>%{hovertext}</b><br><br>Country=BANGLADESH PR<br>Year(start)=%{x}<br>Import=%{y}<br>Export=%{marker.size}<extra></extra>\",\"hovertext\":[\"BANGLADESH PR\",\"BANGLADESH PR\",\"BANGLADESH PR\",\"BANGLADESH PR\",\"BANGLADESH PR\",\"BANGLADESH PR\",\"BANGLADESH PR\",\"BANGLADESH PR\",\"BANGLADESH PR\",\"BANGLADESH PR\",\"BANGLADESH PR\",\"BANGLADESH PR\",\"BANGLADESH PR\",\"BANGLADESH PR\",\"BANGLADESH PR\",\"BANGLADESH PR\",\"BANGLADESH PR\",\"BANGLADESH PR\",\"BANGLADESH PR\",\"BANGLADESH PR\",\"BANGLADESH PR\",\"BANGLADESH PR\",\"BANGLADESH PR\",\"BANGLADESH PR\",\"BANGLADESH PR\"],\"legendgroup\":\"BANGLADESH PR\",\"marker\":{\"color\":\"#B6E880\",\"size\":[786.46,995.64,636.31,935.04,1002.18,1176.0,1740.74,1631.12,1664.36,1629.57,2923.72,2497.87,2433.77,3242.9,3789.2,5144.99,6166.93,6451.47,6034.94,6820.11,8614.35,9210.06,8200.75,9691.56,10963.29],\"sizemode\":\"area\",\"sizeref\":15.496216666666665,\"symbol\":\"circle\"},\"mode\":\"markers\",\"name\":\"BANGLADESH PR\",\"showlegend\":true,\"x\":[97,98,99,2000,2001,2002,2003,2004,2005,2006,2007,2008,2009,2010,2011,2012,2013,2014,2015,2016,2017,2018,2019,2020,2021],\"xaxis\":\"x\",\"y\":[50.81,62.4,78.15,80.51,59.12,62.05,77.63,59.37,127.03,228.0,257.02,313.11,254.66,446.75,585.73,639.33,484.34,621.37,727.15,701.68,685.65,1044.8,1264.74,1091.66,1479.13],\"yaxis\":\"y\",\"type\":\"scattergl\"},{\"hovertemplate\":\"<b>%{hovertext}</b><br><br>Country=BARBADOS<br>Year(start)=%{x}<br>Import=%{y}<br>Export=%{marker.size}<extra></extra>\",\"hovertext\":[\"BARBADOS\",\"BARBADOS\",\"BARBADOS\",\"BARBADOS\",\"BARBADOS\",\"BARBADOS\",\"BARBADOS\",\"BARBADOS\",\"BARBADOS\",\"BARBADOS\",\"BARBADOS\",\"BARBADOS\",\"BARBADOS\",\"BARBADOS\",\"BARBADOS\",\"BARBADOS\",\"BARBADOS\",\"BARBADOS\",\"BARBADOS\",\"BARBADOS\",\"BARBADOS\",\"BARBADOS\",\"BARBADOS\",\"BARBADOS\",\"BARBADOS\"],\"legendgroup\":\"BARBADOS\",\"marker\":{\"color\":\"#FF97FF\",\"size\":[1.52,2.87,3.57,3.06,1.07,2.46,1.18,1.74,2.31,2.65,2.52,3.88,4.3,5.44,7.55,5.87,6.44,10.19,10.5,12.35,12.74,12.43,12.76,11.1,11.07],\"sizemode\":\"area\",\"sizeref\":15.496216666666665,\"symbol\":\"circle\"},\"mode\":\"markers\",\"name\":\"BARBADOS\",\"showlegend\":true,\"x\":[97,98,99,2000,2001,2002,2003,2004,2005,2006,2007,2008,2009,2010,2011,2012,2013,2014,2015,2016,2017,2018,2019,2020,2021],\"xaxis\":\"x\",\"y\":[0.01,0.09,0.04,0.03,0.01,0.01,0.05,0.01,0.04,0.15,0.03,0.08,0.2,0.15,0.79,0.1,0.11,0.17,0.17,0.18,0.2,1.74,1.48,0.61,0.57],\"yaxis\":\"y\",\"type\":\"scattergl\"},{\"hovertemplate\":\"<b>%{hovertext}</b><br><br>Country=BELARUS<br>Year(start)=%{x}<br>Import=%{y}<br>Export=%{marker.size}<extra></extra>\",\"hovertext\":[\"BELARUS\",\"BELARUS\",\"BELARUS\",\"BELARUS\",\"BELARUS\",\"BELARUS\",\"BELARUS\",\"BELARUS\",\"BELARUS\",\"BELARUS\",\"BELARUS\",\"BELARUS\",\"BELARUS\",\"BELARUS\",\"BELARUS\",\"BELARUS\",\"BELARUS\",\"BELARUS\",\"BELARUS\",\"BELARUS\",\"BELARUS\",\"BELARUS\",\"BELARUS\",\"BELARUS\",\"BELARUS\"],\"legendgroup\":\"BELARUS\",\"marker\":{\"color\":\"#FECB52\",\"size\":[3.6,1.61,2.36,4.05,2.15,5.91,6.49,10.61,12.22,14.41,21.23,36.49,37.86,36.31,121.72,55.27,53.34,48.16,35.73,40.16,47.58,55.71,55.77,62.3,54.44],\"sizemode\":\"area\",\"sizeref\":15.496216666666665,\"symbol\":\"circle\"},\"mode\":\"markers\",\"name\":\"BELARUS\",\"showlegend\":true,\"x\":[97,98,99,2000,2001,2002,2003,2004,2005,2006,2007,2008,2009,2010,2011,2012,2013,2014,2015,2016,2017,2018,2019,2020,2021],\"xaxis\":\"x\",\"y\":[0.08,0.32,1.54,2.09,4.95,7.1,6.74,12.32,37.86,93.61,124.87,279.65,432.14,204.3,178.17,214.55,157.77,182.16,164.9,170.57,207.81,227.19,147.44,287.65,258.47],\"yaxis\":\"y\",\"type\":\"scattergl\"},{\"hovertemplate\":\"<b>%{hovertext}</b><br><br>Country=BELGIUM<br>Year(start)=%{x}<br>Import=%{y}<br>Export=%{marker.size}<extra></extra>\",\"hovertext\":[\"BELGIUM\",\"BELGIUM\",\"BELGIUM\",\"BELGIUM\",\"BELGIUM\",\"BELGIUM\",\"BELGIUM\",\"BELGIUM\",\"BELGIUM\",\"BELGIUM\",\"BELGIUM\",\"BELGIUM\",\"BELGIUM\",\"BELGIUM\",\"BELGIUM\",\"BELGIUM\",\"BELGIUM\",\"BELGIUM\",\"BELGIUM\",\"BELGIUM\",\"BELGIUM\",\"BELGIUM\",\"BELGIUM\",\"BELGIUM\",\"BELGIUM\"],\"legendgroup\":\"BELGIUM\",\"marker\":{\"color\":\"#636efa\",\"size\":[1215.31,1287.88,1367.65,1470.56,1390.62,1661.84,1805.72,2509.71,2871.23,3478.18,4207.08,4480.32,3759.26,5784.38,7160.76,5507.3,6377.32,5519.47,5027.61,5656.89,6206.88,6729.93,5809.88,5235.59,7082.32],\"sizemode\":\"area\",\"sizeref\":15.496216666666665,\"symbol\":\"circle\"},\"mode\":\"markers\",\"name\":\"BELGIUM\",\"showlegend\":true,\"x\":[97,98,99,2000,2001,2002,2003,2004,2005,2006,2007,2008,2009,2010,2011,2012,2013,2014,2015,2016,2017,2018,2019,2020,2021],\"xaxis\":\"x\",\"y\":[2668.08,2876.8,3681.27,2870.05,2763.0,3711.93,3975.89,4588.91,4725.14,4146.19,4349.93,5776.77,6019.2,8609.82,10401.43,10046.87,10752.04,10805.92,8256.06,6624.63,5993.41,10469.22,8879.46,6940.68,7363.58],\"yaxis\":\"y\",\"type\":\"scattergl\"},{\"hovertemplate\":\"<b>%{hovertext}</b><br><br>Country=BELIZE<br>Year(start)=%{x}<br>Import=%{y}<br>Export=%{marker.size}<extra></extra>\",\"hovertext\":[\"BELIZE\",\"BELIZE\",\"BELIZE\",\"BELIZE\",\"BELIZE\",\"BELIZE\",\"BELIZE\",\"BELIZE\",\"BELIZE\",\"BELIZE\",\"BELIZE\",\"BELIZE\",\"BELIZE\",\"BELIZE\",\"BELIZE\",\"BELIZE\",\"BELIZE\",\"BELIZE\",\"BELIZE\",\"BELIZE\"],\"legendgroup\":\"BELIZE\",\"marker\":{\"color\":\"#EF553B\",\"size\":[0.26,0.66,1.0,2.67,1.56,6.13,2.89,2.48,14.3,26.1,23.56,22.46,24.49,14.51,15.23,13.48,16.98,14.27,9.43,9.82],\"sizemode\":\"area\",\"sizeref\":15.496216666666665,\"symbol\":\"circle\"},\"mode\":\"markers\",\"name\":\"BELIZE\",\"showlegend\":true,\"x\":[2001,2002,2004,2005,2006,2007,2008,2009,2010,2011,2012,2013,2014,2015,2016,2017,2018,2019,2020,2021],\"xaxis\":\"x\",\"y\":[0.26,0.48,0.01,0.03,5.81,13.69,0.11,0.38,0.21,0.08,0.21,1.55,0.21,1.01,0.52,1.36,0.65,0.96,0.5,0.39],\"yaxis\":\"y\",\"type\":\"scattergl\"},{\"hovertemplate\":\"<b>%{hovertext}</b><br><br>Country=BENIN<br>Year(start)=%{x}<br>Import=%{y}<br>Export=%{marker.size}<extra></extra>\",\"hovertext\":[\"BENIN\",\"BENIN\",\"BENIN\",\"BENIN\",\"BENIN\",\"BENIN\",\"BENIN\",\"BENIN\",\"BENIN\",\"BENIN\",\"BENIN\",\"BENIN\",\"BENIN\",\"BENIN\",\"BENIN\",\"BENIN\",\"BENIN\",\"BENIN\",\"BENIN\",\"BENIN\",\"BENIN\",\"BENIN\",\"BENIN\",\"BENIN\",\"BENIN\"],\"legendgroup\":\"BENIN\",\"marker\":{\"color\":\"#00cc96\",\"size\":[20.67,27.14,28.36,45.14,55.42,64.35,52.71,47.12,96.62,151.41,276.33,204.39,221.75,263.66,654.69,479.13,763.98,497.95,427.3,447.89,479.72,426.9,326.62,555.2,446.5],\"sizemode\":\"area\",\"sizeref\":15.496216666666665,\"symbol\":\"circle\"},\"mode\":\"markers\",\"name\":\"BENIN\",\"showlegend\":true,\"x\":[97,98,99,2000,2001,2002,2003,2004,2005,2006,2007,2008,2009,2010,2011,2012,2013,2014,2015,2016,2017,2018,2019,2020,2021],\"xaxis\":\"x\",\"y\":[13.51,12.83,42.74,52.08,43.05,38.19,53.19,79.79,77.47,80.18,71.59,112.62,123.83,153.43,261.21,245.73,167.61,222.12,275.66,207.4,223.02,375.81,358.94,325.97,332.79],\"yaxis\":\"y\",\"type\":\"scattergl\"},{\"hovertemplate\":\"<b>%{hovertext}</b><br><br>Country=BERMUDA<br>Year(start)=%{x}<br>Import=%{y}<br>Export=%{marker.size}<extra></extra>\",\"hovertext\":[\"BERMUDA\",\"BERMUDA\",\"BERMUDA\",\"BERMUDA\",\"BERMUDA\",\"BERMUDA\",\"BERMUDA\",\"BERMUDA\",\"BERMUDA\",\"BERMUDA\",\"BERMUDA\",\"BERMUDA\",\"BERMUDA\",\"BERMUDA\",\"BERMUDA\",\"BERMUDA\"],\"legendgroup\":\"BERMUDA\",\"marker\":{\"color\":\"#ab63fa\",\"size\":[0.64,0.84,0.69,0.41,0.63,0.33,0.74,1.25,0.75,0.83,1.35,2.73,4.2,3.15,2.48,4.5],\"sizemode\":\"area\",\"sizeref\":15.496216666666665,\"symbol\":\"circle\"},\"mode\":\"markers\",\"name\":\"BERMUDA\",\"showlegend\":true,\"x\":[97,98,99,2001,2004,2005,2006,2007,2008,2009,2012,2014,2016,2018,2019,2020],\"xaxis\":\"x\",\"y\":[0.02,0.84,0.69,0.27,1.3,0.04,0.54,0.39,64.02,0.2,0.04,0.09,0.02,7.69,2.48,0.04],\"yaxis\":\"y\",\"type\":\"scattergl\"},{\"hovertemplate\":\"<b>%{hovertext}</b><br><br>Country=BHUTAN<br>Year(start)=%{x}<br>Import=%{y}<br>Export=%{marker.size}<extra></extra>\",\"hovertext\":[\"BHUTAN\",\"BHUTAN\",\"BHUTAN\",\"BHUTAN\",\"BHUTAN\",\"BHUTAN\",\"BHUTAN\",\"BHUTAN\",\"BHUTAN\",\"BHUTAN\",\"BHUTAN\",\"BHUTAN\",\"BHUTAN\",\"BHUTAN\",\"BHUTAN\",\"BHUTAN\",\"BHUTAN\",\"BHUTAN\",\"BHUTAN\",\"BHUTAN\",\"BHUTAN\",\"BHUTAN\",\"BHUTAN\",\"BHUTAN\",\"BHUTAN\"],\"legendgroup\":\"BHUTAN\",\"marker\":{\"color\":\"#FFA15A\",\"size\":[13.33,9.56,7.57,1.08,7.6,39.05,89.49,84.58,99.17,57.66,86.74,111.15,118.86,176.03,229.86,233.22,355.6,333.94,468.95,509.28,546.12,657.33,738.6,701.02,657.93],\"sizemode\":\"area\",\"sizeref\":15.496216666666665,\"symbol\":\"circle\"},\"mode\":\"markers\",\"name\":\"BHUTAN\",\"showlegend\":true,\"x\":[97,98,99,2000,2001,2002,2003,2004,2005,2006,2007,2008,2009,2010,2011,2012,2013,2014,2015,2016,2017,2018,2019,2020,2021],\"xaxis\":\"x\",\"y\":[13.44,6.13,18.01,21.09,23.92,32.15,52.37,71.0,88.77,142.05,194.72,151.79,153.11,201.57,202.55,164.0,152.17,149.87,281.27,307.82,377.99,370.96,405.73,433.0,444.51],\"yaxis\":\"y\",\"type\":\"scattergl\"},{\"hovertemplate\":\"<b>%{hovertext}</b><br><br>Country=BOLIVIA<br>Year(start)=%{x}<br>Import=%{y}<br>Export=%{marker.size}<extra></extra>\",\"hovertext\":[\"BOLIVIA\",\"BOLIVIA\",\"BOLIVIA\",\"BOLIVIA\",\"BOLIVIA\",\"BOLIVIA\",\"BOLIVIA\",\"BOLIVIA\",\"BOLIVIA\",\"BOLIVIA\",\"BOLIVIA\",\"BOLIVIA\",\"BOLIVIA\",\"BOLIVIA\",\"BOLIVIA\",\"BOLIVIA\",\"BOLIVIA\",\"BOLIVIA\",\"BOLIVIA\",\"BOLIVIA\",\"BOLIVIA\",\"BOLIVIA\",\"BOLIVIA\",\"BOLIVIA\",\"BOLIVIA\"],\"legendgroup\":\"BOLIVIA\",\"marker\":{\"color\":\"#19d3f3\",\"size\":[0.7,0.98,0.83,1.98,1.19,2.13,3.7,3.96,6.55,5.43,7.6,9.71,9.77,15.71,24.84,57.39,53.19,70.84,74.43,79.52,105.19,104.71,113.46,94.33,96.61],\"sizemode\":\"area\",\"sizeref\":15.496216666666665,\"symbol\":\"circle\"},\"mode\":\"markers\",\"name\":\"BOLIVIA\",\"showlegend\":true,\"x\":[97,98,99,2000,2001,2002,2003,2004,2005,2006,2007,2008,2009,2010,2011,2012,2013,2014,2015,2016,2017,2018,2019,2020,2021],\"xaxis\":\"x\",\"y\":[0.01,0.04,0.04,14.36,2.72,1.03,1.73,0.21,0.94,2.96,3.55,7.4,3.36,6.69,4.06,7.41,2.42,3.56,240.25,173.54,667.25,852.21,845.88,1159.14,1517.07],\"yaxis\":\"y\",\"type\":\"scattergl\"},{\"hovertemplate\":\"<b>%{hovertext}</b><br><br>Country=BOSNIA-HRZGOVIN<br>Year(start)=%{x}<br>Import=%{y}<br>Export=%{marker.size}<extra></extra>\",\"hovertext\":[\"BOSNIA-HRZGOVIN\",\"BOSNIA-HRZGOVIN\",\"BOSNIA-HRZGOVIN\",\"BOSNIA-HRZGOVIN\",\"BOSNIA-HRZGOVIN\",\"BOSNIA-HRZGOVIN\",\"BOSNIA-HRZGOVIN\",\"BOSNIA-HRZGOVIN\",\"BOSNIA-HRZGOVIN\",\"BOSNIA-HRZGOVIN\",\"BOSNIA-HRZGOVIN\",\"BOSNIA-HRZGOVIN\",\"BOSNIA-HRZGOVIN\",\"BOSNIA-HRZGOVIN\",\"BOSNIA-HRZGOVIN\",\"BOSNIA-HRZGOVIN\",\"BOSNIA-HRZGOVIN\",\"BOSNIA-HRZGOVIN\",\"BOSNIA-HRZGOVIN\",\"BOSNIA-HRZGOVIN\",\"BOSNIA-HRZGOVIN\",\"BOSNIA-HRZGOVIN\",\"BOSNIA-HRZGOVIN\"],\"legendgroup\":\"BOSNIA-HRZGOVIN\",\"marker\":{\"color\":\"#FF6692\",\"size\":[0.28,0.18,1.33,2.33,3.32,2.74,1.33,3.66,5.05,5.43,2.71,3.2,5.79,6.91,11.57,17.88,19.7,13.1,15.37,17.08,15.32,15.09,12.29],\"sizemode\":\"area\",\"sizeref\":15.496216666666665,\"symbol\":\"circle\"},\"mode\":\"markers\",\"name\":\"BOSNIA-HRZGOVIN\",\"showlegend\":true,\"x\":[99,2000,2001,2002,2003,2004,2005,2006,2007,2008,2009,2010,2011,2012,2013,2014,2015,2016,2017,2018,2019,2020,2021],\"xaxis\":\"x\",\"y\":[0.01,0.35,0.06,3.31,2.04,0.12,0.39,0.42,12.23,1.31,0.5,19.09,18.45,19.82,1.66,4.26,4.4,3.32,8.75,2.45,3.33,1.92,2.19],\"yaxis\":\"y\",\"type\":\"scattergl\"},{\"hovertemplate\":\"<b>%{hovertext}</b><br><br>Country=BOTSWANA<br>Year(start)=%{x}<br>Import=%{y}<br>Export=%{marker.size}<extra></extra>\",\"hovertext\":[\"BOTSWANA\",\"BOTSWANA\",\"BOTSWANA\",\"BOTSWANA\",\"BOTSWANA\",\"BOTSWANA\",\"BOTSWANA\",\"BOTSWANA\",\"BOTSWANA\",\"BOTSWANA\",\"BOTSWANA\",\"BOTSWANA\",\"BOTSWANA\",\"BOTSWANA\",\"BOTSWANA\",\"BOTSWANA\",\"BOTSWANA\",\"BOTSWANA\",\"BOTSWANA\",\"BOTSWANA\"],\"legendgroup\":\"BOTSWANA\",\"marker\":{\"color\":\"#B6E880\",\"size\":[2.11,4.09,6.7,7.91,10.78,10.85,25.54,22.2,33.59,50.44,51.48,54.44,44.46,52.38,77.12,108.58,178.31,178.74,172.69,200.38],\"sizemode\":\"area\",\"sizeref\":15.496216666666665,\"symbol\":\"circle\"},\"mode\":\"markers\",\"name\":\"BOTSWANA\",\"showlegend\":true,\"x\":[99,2002,2003,2004,2005,2006,2008,2009,2010,2011,2012,2013,2014,2015,2016,2017,2018,2019,2020,2021],\"xaxis\":\"x\",\"y\":[2.11,0.01,0.05,0.42,0.14,0.06,21.08,7.08,26.77,51.39,57.61,382.98,1012.89,542.23,1307.39,1638.29,974.48,744.0,461.72,421.77],\"yaxis\":\"y\",\"type\":\"scattergl\"},{\"hovertemplate\":\"<b>%{hovertext}</b><br><br>Country=BR VIRGN IS<br>Year(start)=%{x}<br>Import=%{y}<br>Export=%{marker.size}<extra></extra>\",\"hovertext\":[\"BR VIRGN IS\",\"BR VIRGN IS\",\"BR VIRGN IS\",\"BR VIRGN IS\",\"BR VIRGN IS\",\"BR VIRGN IS\",\"BR VIRGN IS\",\"BR VIRGN IS\",\"BR VIRGN IS\",\"BR VIRGN IS\",\"BR VIRGN IS\",\"BR VIRGN IS\",\"BR VIRGN IS\",\"BR VIRGN IS\",\"BR VIRGN IS\",\"BR VIRGN IS\",\"BR VIRGN IS\",\"BR VIRGN IS\"],\"legendgroup\":\"BR VIRGN IS\",\"marker\":{\"color\":\"#FF97FF\",\"size\":[2.02,0.67,0.89,0.43,34.78,81.58,0.42,1.04,0.55,0.39,0.66,0.84,0.41,0.76,10.69,0.49,0.25,0.29],\"sizemode\":\"area\",\"sizeref\":15.496216666666665,\"symbol\":\"circle\"},\"mode\":\"markers\",\"name\":\"BR VIRGN IS\",\"showlegend\":true,\"x\":[2002,2005,2006,2007,2008,2009,2010,2011,2012,2013,2014,2015,2016,2017,2018,2019,2020,2021],\"xaxis\":\"x\",\"y\":[0.09,0.19,19.38,0.17,0.33,0.17,0.87,0.42,0.97,0.16,0.82,1.55,6.72,0.88,16.83,8.57,11.03,13.83],\"yaxis\":\"y\",\"type\":\"scattergl\"},{\"hovertemplate\":\"<b>%{hovertext}</b><br><br>Country=BRAZIL<br>Year(start)=%{x}<br>Import=%{y}<br>Export=%{marker.size}<extra></extra>\",\"hovertext\":[\"BRAZIL\",\"BRAZIL\",\"BRAZIL\",\"BRAZIL\",\"BRAZIL\",\"BRAZIL\",\"BRAZIL\",\"BRAZIL\",\"BRAZIL\",\"BRAZIL\",\"BRAZIL\",\"BRAZIL\",\"BRAZIL\",\"BRAZIL\",\"BRAZIL\",\"BRAZIL\",\"BRAZIL\",\"BRAZIL\",\"BRAZIL\",\"BRAZIL\",\"BRAZIL\",\"BRAZIL\",\"BRAZIL\",\"BRAZIL\",\"BRAZIL\"],\"legendgroup\":\"BRAZIL\",\"marker\":{\"color\":\"#FECB52\",\"size\":[143.36,133.29,135.02,226.05,219.01,479.03,275.62,678.17,1090.61,1449.25,2525.9,2651.43,2414.29,4024.16,5769.75,6048.53,5552.47,5963.82,2650.34,2400.46,3063.49,3800.49,3967.39,4244.94,4798.9],\"sizemode\":\"area\",\"sizeref\":15.496216666666665,\"symbol\":\"circle\"},\"mode\":\"markers\",\"name\":\"BRAZIL\",\"showlegend\":true,\"x\":[97,98,99,2000,2001,2002,2003,2004,2005,2006,2007,2008,2009,2010,2011,2012,2013,2014,2015,2016,2017,2018,2019,2020,2021],\"xaxis\":\"x\",\"y\":[199.21,195.81,330.89,145.17,308.17,316.79,313.52,792.4,893.06,992.35,949.95,1185.96,3437.97,3548.88,4271.47,4825.76,3720.94,5400.91,4040.09,4114.69,5498.22,4406.43,3074.97,3015.99,4200.9],\"yaxis\":\"y\",\"type\":\"scattergl\"},{\"hovertemplate\":\"<b>%{hovertext}</b><br><br>Country=BRUNEI<br>Year(start)=%{x}<br>Import=%{y}<br>Export=%{marker.size}<extra></extra>\",\"hovertext\":[\"BRUNEI\",\"BRUNEI\",\"BRUNEI\",\"BRUNEI\",\"BRUNEI\",\"BRUNEI\",\"BRUNEI\",\"BRUNEI\",\"BRUNEI\",\"BRUNEI\",\"BRUNEI\",\"BRUNEI\",\"BRUNEI\",\"BRUNEI\",\"BRUNEI\",\"BRUNEI\",\"BRUNEI\",\"BRUNEI\",\"BRUNEI\",\"BRUNEI\",\"BRUNEI\",\"BRUNEI\",\"BRUNEI\",\"BRUNEI\",\"BRUNEI\"],\"legendgroup\":\"BRUNEI\",\"marker\":{\"color\":\"#636efa\",\"size\":[2.26,3.26,1.3,3.31,2.86,4.45,4.59,5.06,42.94,8.31,10.43,17.64,24.44,23.07,895.49,40.02,32.45,41.99,28.45,42.88,63.19,56.19,57.62,62.91,29.34],\"sizemode\":\"area\",\"sizeref\":15.496216666666665,\"symbol\":\"circle\"},\"mode\":\"markers\",\"name\":\"BRUNEI\",\"showlegend\":true,\"x\":[97,98,99,2000,2001,2002,2003,2004,2005,2006,2007,2008,2009,2010,2011,2012,2013,2014,2015,2016,2017,2018,2019,2020,2021],\"xaxis\":\"x\",\"y\":[0.02,0.05,0.11,0.15,0.36,0.32,0.34,0.54,0.88,285.38,227.24,397.52,428.65,234.17,605.02,814.8,763.6,840.88,554.02,627.85,434.83,591.1,586.28,329.25,329.0],\"yaxis\":\"y\",\"type\":\"scattergl\"},{\"hovertemplate\":\"<b>%{hovertext}</b><br><br>Country=BULGARIA<br>Year(start)=%{x}<br>Import=%{y}<br>Export=%{marker.size}<extra></extra>\",\"hovertext\":[\"BULGARIA\",\"BULGARIA\",\"BULGARIA\",\"BULGARIA\",\"BULGARIA\",\"BULGARIA\",\"BULGARIA\",\"BULGARIA\",\"BULGARIA\",\"BULGARIA\",\"BULGARIA\",\"BULGARIA\",\"BULGARIA\",\"BULGARIA\",\"BULGARIA\",\"BULGARIA\",\"BULGARIA\",\"BULGARIA\",\"BULGARIA\",\"BULGARIA\",\"BULGARIA\",\"BULGARIA\",\"BULGARIA\",\"BULGARIA\",\"BULGARIA\"],\"legendgroup\":\"BULGARIA\",\"marker\":{\"color\":\"#EF553B\",\"size\":[9.04,9.25,7.35,11.54,7.68,11.12,25.22,24.76,24.07,40.38,71.12,73.69,50.89,69.71,108.77,156.98,168.1,266.45,145.53,239.53,173.24,212.43,158.9,170.35,169.82],\"sizemode\":\"area\",\"sizeref\":15.496216666666665,\"symbol\":\"circle\"},\"mode\":\"markers\",\"name\":\"BULGARIA\",\"showlegend\":true,\"x\":[97,98,99,2000,2001,2002,2003,2004,2005,2006,2007,2008,2009,2010,2011,2012,2013,2014,2015,2016,2017,2018,2019,2020,2021],\"xaxis\":\"x\",\"y\":[11.59,2.17,38.53,13.05,16.14,8.45,11.14,17.96,24.06,77.15,121.06,61.14,32.63,57.58,101.12,90.09,93.65,103.66,93.72,182.22,141.94,125.66,144.06,125.38,105.0],\"yaxis\":\"y\",\"type\":\"scattergl\"},{\"hovertemplate\":\"<b>%{hovertext}</b><br><br>Country=BURKINA FASO<br>Year(start)=%{x}<br>Import=%{y}<br>Export=%{marker.size}<extra></extra>\",\"hovertext\":[\"BURKINA FASO\",\"BURKINA FASO\",\"BURKINA FASO\",\"BURKINA FASO\",\"BURKINA FASO\",\"BURKINA FASO\",\"BURKINA FASO\",\"BURKINA FASO\",\"BURKINA FASO\",\"BURKINA FASO\",\"BURKINA FASO\",\"BURKINA FASO\",\"BURKINA FASO\",\"BURKINA FASO\",\"BURKINA FASO\",\"BURKINA FASO\",\"BURKINA FASO\",\"BURKINA FASO\",\"BURKINA FASO\",\"BURKINA FASO\",\"BURKINA FASO\",\"BURKINA FASO\",\"BURKINA FASO\",\"BURKINA FASO\"],\"legendgroup\":\"BURKINA FASO\",\"marker\":{\"color\":\"#00cc96\",\"size\":[4.71,4.39,6.74,9.87,16.12,23.74,21.1,19.93,14.98,32.4,48.29,36.46,45.85,85.05,86.1,103.21,112.76,108.79,114.94,148.35,181.44,153.94,207.87,144.14],\"sizemode\":\"area\",\"sizeref\":15.496216666666665,\"symbol\":\"circle\"},\"mode\":\"markers\",\"name\":\"BURKINA FASO\",\"showlegend\":true,\"x\":[98,99,2000,2001,2002,2003,2004,2005,2006,2007,2008,2009,2010,2011,2012,2013,2014,2015,2016,2017,2018,2019,2020,2021],\"xaxis\":\"x\",\"y\":[2.13,12.75,10.51,12.71,9.59,10.45,8.44,2.69,5.56,19.36,40.07,6.14,4.11,16.41,14.66,16.55,151.64,238.11,256.42,632.57,881.27,542.67,359.94,371.85],\"yaxis\":\"y\",\"type\":\"scattergl\"},{\"hovertemplate\":\"<b>%{hovertext}</b><br><br>Country=BURUNDI<br>Year(start)=%{x}<br>Import=%{y}<br>Export=%{marker.size}<extra></extra>\",\"hovertext\":[\"BURUNDI\",\"BURUNDI\",\"BURUNDI\",\"BURUNDI\",\"BURUNDI\",\"BURUNDI\",\"BURUNDI\",\"BURUNDI\",\"BURUNDI\",\"BURUNDI\",\"BURUNDI\",\"BURUNDI\",\"BURUNDI\",\"BURUNDI\",\"BURUNDI\",\"BURUNDI\",\"BURUNDI\",\"BURUNDI\",\"BURUNDI\",\"BURUNDI\",\"BURUNDI\"],\"legendgroup\":\"BURUNDI\",\"marker\":{\"color\":\"#ab63fa\",\"size\":[1.21,3.03,2.53,5.49,7.24,10.73,8.05,14.06,12.64,16.12,24.12,32.67,30.76,31.44,29.06,35.98,38.09,48.35,58.47,64.02,47.47],\"sizemode\":\"area\",\"sizeref\":15.496216666666665,\"symbol\":\"circle\"},\"mode\":\"markers\",\"name\":\"BURUNDI\",\"showlegend\":true,\"x\":[98,2000,2001,2003,2004,2005,2007,2008,2009,2010,2011,2012,2013,2014,2015,2016,2017,2018,2019,2020,2021],\"xaxis\":\"x\",\"y\":[0.16,0.08,0.07,0.3,0.43,0.04,1.85,0.71,0.73,0.24,0.6,0.23,0.18,0.29,0.11,1.6,16.53,4.55,3.83,0.07,0.04],\"yaxis\":\"y\",\"type\":\"scattergl\"},{\"hovertemplate\":\"<b>%{hovertext}</b><br><br>Country=C AFRI REP<br>Year(start)=%{x}<br>Import=%{y}<br>Export=%{marker.size}<extra></extra>\",\"hovertext\":[\"C AFRI REP\",\"C AFRI REP\",\"C AFRI REP\",\"C AFRI REP\",\"C AFRI REP\",\"C AFRI REP\",\"C AFRI REP\",\"C AFRI REP\",\"C AFRI REP\",\"C AFRI REP\",\"C AFRI REP\",\"C AFRI REP\",\"C AFRI REP\",\"C AFRI REP\",\"C AFRI REP\",\"C AFRI REP\",\"C AFRI REP\",\"C AFRI REP\",\"C AFRI REP\",\"C AFRI REP\"],\"legendgroup\":\"C AFRI REP\",\"marker\":{\"color\":\"#FFA15A\",\"size\":[0.86,0.75,0.69,0.87,1.39,2.4,1.3,2.42,5.2,3.52,6.28,8.45,7.73,7.76,9.18,10.29,29.92,26.8,55.63,23.71],\"sizemode\":\"area\",\"sizeref\":15.496216666666665,\"symbol\":\"circle\"},\"mode\":\"markers\",\"name\":\"C AFRI REP\",\"showlegend\":true,\"x\":[2000,2001,2003,2004,2005,2006,2007,2008,2009,2010,2011,2012,2013,2014,2015,2016,2017,2018,2019,2020],\"xaxis\":\"x\",\"y\":[0.14,4.55,0.12,0.26,0.37,0.45,1.15,2.45,0.67,1.55,2.0,1.99,0.91,0.63,0.83,0.38,9.88,2.02,0.56,0.23],\"yaxis\":\"y\",\"type\":\"scattergl\"},{\"hovertemplate\":\"<b>%{hovertext}</b><br><br>Country=CAMBODIA<br>Year(start)=%{x}<br>Import=%{y}<br>Export=%{marker.size}<extra></extra>\",\"hovertext\":[\"CAMBODIA\",\"CAMBODIA\",\"CAMBODIA\",\"CAMBODIA\",\"CAMBODIA\",\"CAMBODIA\",\"CAMBODIA\",\"CAMBODIA\",\"CAMBODIA\",\"CAMBODIA\",\"CAMBODIA\",\"CAMBODIA\",\"CAMBODIA\",\"CAMBODIA\",\"CAMBODIA\",\"CAMBODIA\",\"CAMBODIA\",\"CAMBODIA\",\"CAMBODIA\",\"CAMBODIA\",\"CAMBODIA\",\"CAMBODIA\",\"CAMBODIA\",\"CAMBODIA\",\"CAMBODIA\"],\"legendgroup\":\"CAMBODIA\",\"marker\":{\"color\":\"#19d3f3\",\"size\":[2.95,5.71,7.85,7.86,11.29,19.84,18.6,18.13,24.19,52.07,53.5,46.9,45.54,66.94,99.45,112.28,141.31,142.53,143.01,105.06,121.41,195.98,188.12,168.86,133.88],\"sizemode\":\"area\",\"sizeref\":15.496216666666665,\"symbol\":\"circle\"},\"mode\":\"markers\",\"name\":\"CAMBODIA\",\"showlegend\":true,\"x\":[97,98,99,2000,2001,2002,2003,2004,2005,2006,2007,2008,2009,2010,2011,2012,2013,2014,2015,2016,2017,2018,2019,2020,2021],\"xaxis\":\"x\",\"y\":[1.51,2.44,0.24,1.32,1.12,0.61,0.28,0.24,0.78,1.6,2.9,2.72,5.05,8.01,7.27,11.9,12.72,17.96,54.43,36.1,55.84,42.63,46.69,39.35,63.0],\"yaxis\":\"y\",\"type\":\"scattergl\"},{\"hovertemplate\":\"<b>%{hovertext}</b><br><br>Country=CAMEROON<br>Year(start)=%{x}<br>Import=%{y}<br>Export=%{marker.size}<extra></extra>\",\"hovertext\":[\"CAMEROON\",\"CAMEROON\",\"CAMEROON\",\"CAMEROON\",\"CAMEROON\",\"CAMEROON\",\"CAMEROON\",\"CAMEROON\",\"CAMEROON\",\"CAMEROON\",\"CAMEROON\",\"CAMEROON\",\"CAMEROON\",\"CAMEROON\",\"CAMEROON\",\"CAMEROON\",\"CAMEROON\",\"CAMEROON\",\"CAMEROON\",\"CAMEROON\",\"CAMEROON\",\"CAMEROON\",\"CAMEROON\",\"CAMEROON\",\"CAMEROON\"],\"legendgroup\":\"CAMEROON\",\"marker\":{\"color\":\"#FF6692\",\"size\":[6.19,9.1,6.14,9.82,13.62,21.12,23.26,26.7,34.71,83.19,72.53,92.46,77.22,121.18,196.39,250.98,259.66,249.13,190.99,148.79,193.94,178.25,228.45,279.07,298.84],\"sizemode\":\"area\",\"sizeref\":15.496216666666665,\"symbol\":\"circle\"},\"mode\":\"markers\",\"name\":\"CAMEROON\",\"showlegend\":true,\"x\":[97,98,99,2000,2001,2002,2003,2004,2005,2006,2007,2008,2009,2010,2011,2012,2013,2014,2015,2016,2017,2018,2019,2020,2021],\"xaxis\":\"x\",\"y\":[16.32,5.15,9.44,5.9,8.83,6.57,10.3,11.71,12.23,7.65,18.81,30.97,137.38,138.1,523.21,443.18,268.31,745.36,557.54,359.11,212.82,343.2,676.36,202.47,363.8],\"yaxis\":\"y\",\"type\":\"scattergl\"},{\"hovertemplate\":\"<b>%{hovertext}</b><br><br>Country=CANADA<br>Year(start)=%{x}<br>Import=%{y}<br>Export=%{marker.size}<extra></extra>\",\"hovertext\":[\"CANADA\",\"CANADA\",\"CANADA\",\"CANADA\",\"CANADA\",\"CANADA\",\"CANADA\",\"CANADA\",\"CANADA\",\"CANADA\",\"CANADA\",\"CANADA\",\"CANADA\",\"CANADA\",\"CANADA\",\"CANADA\",\"CANADA\",\"CANADA\",\"CANADA\",\"CANADA\",\"CANADA\",\"CANADA\",\"CANADA\",\"CANADA\",\"CANADA\"],\"legendgroup\":\"CANADA\",\"marker\":{\"color\":\"#B6E880\",\"size\":[427.82,473.01,578.27,656.47,584.82,698.27,763.19,866.8,1021.58,1109.86,1266.64,1364.41,1122.77,1348.82,2053.54,2036.58,2037.01,2196.0,2018.42,2004.12,2506.15,2851.42,2851.79,2960.77,2683.95],\"sizemode\":\"area\",\"sizeref\":15.496216666666665,\"symbol\":\"circle\"},\"mode\":\"markers\",\"name\":\"CANADA\",\"showlegend\":true,\"x\":[97,98,99,2000,2001,2002,2003,2004,2005,2006,2007,2008,2009,2010,2011,2012,2013,2014,2015,2016,2017,2018,2019,2020,2021],\"xaxis\":\"x\",\"y\":[420.91,385.57,380.51,397.07,529.43,566.29,725.89,775.72,919.87,1775.88,1981.22,2458.65,2097.35,2029.98,2918.76,2800.22,3148.25,3749.42,4234.03,4131.52,4728.51,3515.41,3880.33,2686.43,2158.01],\"yaxis\":\"y\",\"type\":\"scattergl\"},{\"hovertemplate\":\"<b>%{hovertext}</b><br><br>Country=CANARY IS<br>Year(start)=%{x}<br>Import=%{y}<br>Export=%{marker.size}<extra></extra>\",\"hovertext\":[\"CANARY IS\"],\"legendgroup\":\"CANARY IS\",\"marker\":{\"color\":\"#FF97FF\",\"size\":[1.81],\"sizemode\":\"area\",\"sizeref\":15.496216666666665,\"symbol\":\"circle\"},\"mode\":\"markers\",\"name\":\"CANARY IS\",\"showlegend\":true,\"x\":[2001],\"xaxis\":\"x\",\"y\":[0.01],\"yaxis\":\"y\",\"type\":\"scattergl\"},{\"hovertemplate\":\"<b>%{hovertext}</b><br><br>Country=CAPE VERDE IS<br>Year(start)=%{x}<br>Import=%{y}<br>Export=%{marker.size}<extra></extra>\",\"hovertext\":[\"CAPE VERDE IS\",\"CAPE VERDE IS\",\"CAPE VERDE IS\",\"CAPE VERDE IS\",\"CAPE VERDE IS\",\"CAPE VERDE IS\",\"CAPE VERDE IS\",\"CAPE VERDE IS\",\"CAPE VERDE IS\",\"CAPE VERDE IS\",\"CAPE VERDE IS\",\"CAPE VERDE IS\",\"CAPE VERDE IS\",\"CAPE VERDE IS\",\"CAPE VERDE IS\"],\"legendgroup\":\"CAPE VERDE IS\",\"marker\":{\"color\":\"#FECB52\",\"size\":[0.21,0.39,0.7,0.5,0.47,0.95,1.43,4.12,1.43,1.25,1.48,1.6,2.17,3.31,3.05],\"sizemode\":\"area\",\"sizeref\":15.496216666666665,\"symbol\":\"circle\"},\"mode\":\"markers\",\"name\":\"CAPE VERDE IS\",\"showlegend\":true,\"x\":[2006,2008,2009,2010,2011,2012,2013,2014,2015,2016,2017,2018,2019,2020,2021],\"xaxis\":\"x\",\"y\":[0.2,0.33,0.11,2.08,3.36,3.42,3.18,2.97,2.77,1.9,2.82,2.91,2.04,2.04,3.46],\"yaxis\":\"y\",\"type\":\"scattergl\"},{\"hovertemplate\":\"<b>%{hovertext}</b><br><br>Country=CAYMAN IS<br>Year(start)=%{x}<br>Import=%{y}<br>Export=%{marker.size}<extra></extra>\",\"hovertext\":[\"CAYMAN IS\",\"CAYMAN IS\",\"CAYMAN IS\",\"CAYMAN IS\",\"CAYMAN IS\",\"CAYMAN IS\",\"CAYMAN IS\",\"CAYMAN IS\",\"CAYMAN IS\",\"CAYMAN IS\",\"CAYMAN IS\",\"CAYMAN IS\",\"CAYMAN IS\",\"CAYMAN IS\",\"CAYMAN IS\"],\"legendgroup\":\"CAYMAN IS\",\"marker\":{\"color\":\"#636efa\",\"size\":[0.17,0.39,0.32,0.63,0.57,0.79,0.29,0.98,3.15,4.74,4.02,4.37,6.58,4.32,5.15],\"sizemode\":\"area\",\"sizeref\":15.496216666666665,\"symbol\":\"circle\"},\"mode\":\"markers\",\"name\":\"CAYMAN IS\",\"showlegend\":true,\"x\":[98,2005,2006,2007,2008,2009,2010,2011,2013,2016,2017,2018,2019,2020,2021],\"xaxis\":\"x\",\"y\":[0.03,0.02,60.08,159.55,0.14,1.46,0.03,0.01,0.01,0.02,6.45,0.23,1.44,86.45,0.09],\"yaxis\":\"y\",\"type\":\"scattergl\"},{\"hovertemplate\":\"<b>%{hovertext}</b><br><br>Country=CHAD<br>Year(start)=%{x}<br>Import=%{y}<br>Export=%{marker.size}<extra></extra>\",\"hovertext\":[\"CHAD\",\"CHAD\",\"CHAD\",\"CHAD\",\"CHAD\",\"CHAD\",\"CHAD\",\"CHAD\",\"CHAD\",\"CHAD\",\"CHAD\",\"CHAD\",\"CHAD\",\"CHAD\",\"CHAD\",\"CHAD\",\"CHAD\",\"CHAD\",\"CHAD\",\"CHAD\"],\"legendgroup\":\"CHAD\",\"marker\":{\"color\":\"#EF553B\",\"size\":[1.13,2.63,3.52,4.21,28.3,13.01,16.43,6.92,12.0,38.91,46.42,33.02,40.69,43.49,38.52,27.29,37.46,58.69,59.23,36.91],\"sizemode\":\"area\",\"sizeref\":15.496216666666665,\"symbol\":\"circle\"},\"mode\":\"markers\",\"name\":\"CHAD\",\"showlegend\":true,\"x\":[2002,2003,2004,2005,2006,2007,2008,2009,2010,2011,2012,2013,2014,2015,2016,2017,2018,2019,2020,2021],\"xaxis\":\"x\",\"y\":[1.88,3.44,1.56,0.07,0.17,0.98,3.89,6.92,0.57,40.92,157.16,11.26,62.78,320.88,169.36,149.47,476.13,270.75,50.0,2.79],\"yaxis\":\"y\",\"type\":\"scattergl\"},{\"hovertemplate\":\"<b>%{hovertext}</b><br><br>Country=CHANNEL IS<br>Year(start)=%{x}<br>Import=%{y}<br>Export=%{marker.size}<extra></extra>\",\"hovertext\":[\"CHANNEL IS\",\"CHANNEL IS\",\"CHANNEL IS\",\"CHANNEL IS\"],\"legendgroup\":\"CHANNEL IS\",\"marker\":{\"color\":\"#00cc96\",\"size\":[1.19,0.11,0.4,0.76],\"sizemode\":\"area\",\"sizeref\":15.496216666666665,\"symbol\":\"circle\"},\"mode\":\"markers\",\"name\":\"CHANNEL IS\",\"showlegend\":true,\"x\":[98,99,2000,2001],\"xaxis\":\"x\",\"y\":[0.32,0.25,0.05,0.05],\"yaxis\":\"y\",\"type\":\"scattergl\"},{\"hovertemplate\":\"<b>%{hovertext}</b><br><br>Country=CHILE<br>Year(start)=%{x}<br>Import=%{y}<br>Export=%{marker.size}<extra></extra>\",\"hovertext\":[\"CHILE\",\"CHILE\",\"CHILE\",\"CHILE\",\"CHILE\",\"CHILE\",\"CHILE\",\"CHILE\",\"CHILE\",\"CHILE\",\"CHILE\",\"CHILE\",\"CHILE\",\"CHILE\",\"CHILE\",\"CHILE\",\"CHILE\",\"CHILE\",\"CHILE\",\"CHILE\",\"CHILE\",\"CHILE\",\"CHILE\",\"CHILE\",\"CHILE\"],\"legendgroup\":\"CHILE\",\"marker\":{\"color\":\"#ab63fa\",\"size\":[120.56,68.06,68.61,108.45,83.25,72.13,83.02,111.2,152.15,377.22,250.21,393.47,277.32,507.55,522.08,690.0,663.94,565.82,679.32,674.34,763.56,989.8,793.43,805.0,885.01],\"sizemode\":\"area\",\"sizeref\":15.496216666666665,\"symbol\":\"circle\"},\"mode\":\"markers\",\"name\":\"CHILE\",\"showlegend\":true,\"x\":[97,98,99,2000,2001,2002,2003,2004,2005,2006,2007,2008,2009,2010,2011,2012,2013,2014,2015,2016,2017,2018,2019,2020,2021],\"xaxis\":\"x\",\"y\":[72.06,56.29,85.49,57.14,94.79,167.31,156.73,345.57,434.5,1923.48,1837.21,1503.9,1119.38,1550.25,2133.27,2992.31,2507.87,3080.63,1960.67,1226.34,2092.15,1237.55,1175.67,670.6,1121.57],\"yaxis\":\"y\",\"type\":\"scattergl\"},{\"hovertemplate\":\"<b>%{hovertext}</b><br><br>Country=CHINA P RP<br>Year(start)=%{x}<br>Import=%{y}<br>Export=%{marker.size}<extra></extra>\",\"hovertext\":[\"CHINA P RP\",\"CHINA P RP\",\"CHINA P RP\",\"CHINA P RP\",\"CHINA P RP\",\"CHINA P RP\",\"CHINA P RP\",\"CHINA P RP\",\"CHINA P RP\",\"CHINA P RP\",\"CHINA P RP\",\"CHINA P RP\",\"CHINA P RP\",\"CHINA P RP\",\"CHINA P RP\",\"CHINA P RP\",\"CHINA P RP\",\"CHINA P RP\",\"CHINA P RP\",\"CHINA P RP\",\"CHINA P RP\",\"CHINA P RP\",\"CHINA P RP\",\"CHINA P RP\",\"CHINA P RP\"],\"legendgroup\":\"CHINA P RP\",\"marker\":{\"color\":\"#FFA15A\",\"size\":[717.95,427.16,539.04,831.3,951.95,1975.48,2955.08,5615.88,6759.1,8321.86,10871.34,9353.5,11617.88,14168.86,18076.55,13534.88,14824.36,11934.25,9011.36,10171.89,13333.53,16752.2,16612.75,21187.15,17122.55],\"sizemode\":\"area\",\"sizeref\":15.496216666666665,\"symbol\":\"circle\"},\"mode\":\"markers\",\"name\":\"CHINA P RP\",\"showlegend\":true,\"x\":[97,98,99,2000,2001,2002,2003,2004,2005,2006,2007,2008,2009,2010,2011,2012,2013,2014,2015,2016,2017,2018,2019,2020,2021],\"xaxis\":\"x\",\"y\":[1112.05,1096.71,1282.89,1502.2,2036.39,2792.04,4053.21,7097.98,10868.05,17475.03,27146.41,32497.02,30824.02,43479.76,55313.58,52248.33,51034.62,60413.17,61707.95,61283.03,76380.7,70319.64,65260.75,65212.25,67629.12],\"yaxis\":\"y\",\"type\":\"scattergl\"},{\"hovertemplate\":\"<b>%{hovertext}</b><br><br>Country=CHRISTMAS IS.<br>Year(start)=%{x}<br>Import=%{y}<br>Export=%{marker.size}<extra></extra>\",\"hovertext\":[\"CHRISTMAS IS.\",\"CHRISTMAS IS.\",\"CHRISTMAS IS.\",\"CHRISTMAS IS.\",\"CHRISTMAS IS.\",\"CHRISTMAS IS.\",\"CHRISTMAS IS.\",\"CHRISTMAS IS.\",\"CHRISTMAS IS.\",\"CHRISTMAS IS.\",\"CHRISTMAS IS.\",\"CHRISTMAS IS.\",\"CHRISTMAS IS.\",\"CHRISTMAS IS.\",\"CHRISTMAS IS.\",\"CHRISTMAS IS.\"],\"legendgroup\":\"CHRISTMAS IS.\",\"marker\":{\"color\":\"#19d3f3\",\"size\":[0.97,1.18,0.23,0.16,0.05,0.4,0.08,0.04,2.35,0.2,1.59,1.18,0.03,0.01,0.01,0.0],\"sizemode\":\"area\",\"sizeref\":15.496216666666665,\"symbol\":\"circle\"},\"mode\":\"markers\",\"name\":\"CHRISTMAS IS.\",\"showlegend\":true,\"x\":[97,98,99,2000,2001,2003,2005,2006,2007,2008,2009,2010,2012,2013,2014,2019],\"xaxis\":\"x\",\"y\":[0.16,0.3,0.14,0.06,0.01,0.04,0.07,15.74,0.72,0.61,6.51,0.06,0.08,0.06,0.08,0.01],\"yaxis\":\"y\",\"type\":\"scattergl\"},{\"hovertemplate\":\"<b>%{hovertext}</b><br><br>Country=COCOS IS<br>Year(start)=%{x}<br>Import=%{y}<br>Export=%{marker.size}<extra></extra>\",\"hovertext\":[\"COCOS IS\",\"COCOS IS\",\"COCOS IS\",\"COCOS IS\",\"COCOS IS\",\"COCOS IS\"],\"legendgroup\":\"COCOS IS\",\"marker\":{\"color\":\"#FF6692\",\"size\":[0.2,0.09,0.0,0.01,0.92,0.74],\"sizemode\":\"area\",\"sizeref\":15.496216666666665,\"symbol\":\"circle\"},\"mode\":\"markers\",\"name\":\"COCOS IS\",\"showlegend\":true,\"x\":[2002,2007,2008,2009,2010,2011],\"xaxis\":\"x\",\"y\":[0.05,0.02,0.05,0.02,48.88,0.03],\"yaxis\":\"y\",\"type\":\"scattergl\"},{\"hovertemplate\":\"<b>%{hovertext}</b><br><br>Country=COLOMBIA<br>Year(start)=%{x}<br>Import=%{y}<br>Export=%{marker.size}<extra></extra>\",\"hovertext\":[\"COLOMBIA\",\"COLOMBIA\",\"COLOMBIA\",\"COLOMBIA\",\"COLOMBIA\",\"COLOMBIA\",\"COLOMBIA\",\"COLOMBIA\",\"COLOMBIA\",\"COLOMBIA\",\"COLOMBIA\",\"COLOMBIA\",\"COLOMBIA\",\"COLOMBIA\",\"COLOMBIA\",\"COLOMBIA\",\"COLOMBIA\",\"COLOMBIA\",\"COLOMBIA\",\"COLOMBIA\",\"COLOMBIA\",\"COLOMBIA\",\"COLOMBIA\",\"COLOMBIA\",\"COLOMBIA\"],\"legendgroup\":\"COLOMBIA\",\"marker\":{\"color\":\"#B6E880\",\"size\":[31.96,26.27,33.35,49.18,54.33,61.56,95.31,330.71,455.02,575.82,760.14,370.22,389.09,561.31,892.42,912.12,1007.51,1105.15,886.89,784.5,939.14,1116.85,1043.41,864.99,1010.13],\"sizemode\":\"area\",\"sizeref\":15.496216666666665,\"symbol\":\"circle\"},\"mode\":\"markers\",\"name\":\"COLOMBIA\",\"showlegend\":true,\"x\":[97,98,99,2000,2001,2002,2003,2004,2005,2006,2007,2008,2009,2010,2011,2012,2013,2014,2015,2016,2017,2018,2019,2020,2021],\"xaxis\":\"x\",\"y\":[6.01,2.0,2.76,9.74,5.4,5.83,10.47,14.17,9.36,76.82,83.78,17.44,424.15,856.31,559.83,2352.79,4970.62,2134.94,807.79,593.96,592.8,1054.98,810.95,1403.61,2190.97],\"yaxis\":\"y\",\"type\":\"scattergl\"},{\"hovertemplate\":\"<b>%{hovertext}</b><br><br>Country=COMOROS<br>Year(start)=%{x}<br>Import=%{y}<br>Export=%{marker.size}<extra></extra>\",\"hovertext\":[\"COMOROS\",\"COMOROS\",\"COMOROS\",\"COMOROS\",\"COMOROS\",\"COMOROS\",\"COMOROS\",\"COMOROS\",\"COMOROS\",\"COMOROS\",\"COMOROS\",\"COMOROS\",\"COMOROS\",\"COMOROS\",\"COMOROS\",\"COMOROS\",\"COMOROS\",\"COMOROS\",\"COMOROS\",\"COMOROS\",\"COMOROS\",\"COMOROS\",\"COMOROS\",\"COMOROS\"],\"legendgroup\":\"COMOROS\",\"marker\":{\"color\":\"#FF97FF\",\"size\":[0.96,1.49,1.15,2.36,6.39,1.95,2.44,5.1,15.75,9.76,25.54,9.29,8.61,10.98,20.74,13.7,17.76,17.01,20.78,29.62,19.29,18.88,18.26,15.71],\"sizemode\":\"area\",\"sizeref\":15.496216666666665,\"symbol\":\"circle\"},\"mode\":\"markers\",\"name\":\"COMOROS\",\"showlegend\":true,\"x\":[97,98,2000,2001,2002,2003,2004,2005,2006,2007,2008,2009,2010,2011,2012,2013,2014,2015,2016,2017,2018,2019,2020,2021],\"xaxis\":\"x\",\"y\":[0.25,0.04,1.15,0.9,0.32,0.48,0.15,3.88,7.03,2.06,0.33,0.68,8.56,2.96,8.02,6.59,11.3,15.1,25.65,37.27,32.39,19.65,12.48,11.18],\"yaxis\":\"y\",\"type\":\"scattergl\"},{\"hovertemplate\":\"<b>%{hovertext}</b><br><br>Country=CONGO D. REP.<br>Year(start)=%{x}<br>Import=%{y}<br>Export=%{marker.size}<extra></extra>\",\"hovertext\":[\"CONGO D. REP.\",\"CONGO D. REP.\",\"CONGO D. REP.\",\"CONGO D. REP.\",\"CONGO D. REP.\",\"CONGO D. REP.\",\"CONGO D. REP.\",\"CONGO D. REP.\",\"CONGO D. REP.\",\"CONGO D. REP.\",\"CONGO D. REP.\",\"CONGO D. REP.\",\"CONGO D. REP.\",\"CONGO D. REP.\",\"CONGO D. REP.\",\"CONGO D. REP.\",\"CONGO D. REP.\",\"CONGO D. REP.\",\"CONGO D. REP.\",\"CONGO D. REP.\",\"CONGO D. REP.\",\"CONGO D. REP.\",\"CONGO D. REP.\"],\"legendgroup\":\"CONGO D. REP.\",\"marker\":{\"color\":\"#FECB52\",\"size\":[22.19,7.13,4.95,4.45,3.63,11.15,2.82,2.03,1.2,4.19,15.26,10.12,6.68,6.88,181.45,254.16,317.63,199.19,225.07,302.94,352.77,430.33,416.3],\"sizemode\":\"area\",\"sizeref\":15.496216666666665,\"symbol\":\"circle\"},\"mode\":\"markers\",\"name\":\"CONGO D. REP.\",\"showlegend\":true,\"x\":[97,98,99,2000,2001,2003,2004,2005,2006,2007,2008,2009,2010,2011,2013,2014,2015,2016,2017,2018,2019,2020,2021],\"xaxis\":\"x\",\"y\":[32.1,6.53,0.18,0.28,0.12,0.09,2.54,14.21,16.97,13.83,117.06,144.71,9.82,0.91,47.29,126.45,97.76,85.92,225.42,19.01,32.13,10.16,13.13],\"yaxis\":\"y\",\"type\":\"scattergl\"},{\"hovertemplate\":\"<b>%{hovertext}</b><br><br>Country=CONGO P REP<br>Year(start)=%{x}<br>Import=%{y}<br>Export=%{marker.size}<extra></extra>\",\"hovertext\":[\"CONGO P REP\",\"CONGO P REP\",\"CONGO P REP\",\"CONGO P REP\",\"CONGO P REP\",\"CONGO P REP\",\"CONGO P REP\",\"CONGO P REP\",\"CONGO P REP\",\"CONGO P REP\",\"CONGO P REP\",\"CONGO P REP\",\"CONGO P REP\",\"CONGO P REP\",\"CONGO P REP\",\"CONGO P REP\",\"CONGO P REP\",\"CONGO P REP\",\"CONGO P REP\",\"CONGO P REP\",\"CONGO P REP\",\"CONGO P REP\",\"CONGO P REP\",\"CONGO P REP\",\"CONGO P REP\"],\"legendgroup\":\"CONGO P REP\",\"marker\":{\"color\":\"#636efa\",\"size\":[14.35,22.26,22.35,39.41,38.45,53.37,61.27,93.26,111.62,136.27,151.41,209.81,196.2,241.88,347.4,199.12,210.32,252.89,166.66,135.82,116.69,132.88,112.91,109.84,112.01],\"sizemode\":\"area\",\"sizeref\":15.496216666666665,\"symbol\":\"circle\"},\"mode\":\"markers\",\"name\":\"CONGO P REP\",\"showlegend\":true,\"x\":[97,98,99,2000,2001,2002,2003,2004,2005,2006,2007,2008,2009,2010,2011,2012,2013,2014,2015,2016,2017,2018,2019,2020,2021],\"xaxis\":\"x\",\"y\":[2.33,6.74,0.97,8.48,1.8,3.25,5.28,21.97,43.94,59.94,104.51,487.28,545.2,543.33,257.48,454.72,89.53,365.52,201.64,156.52,198.81,405.65,587.5,245.94,758.03],\"yaxis\":\"y\",\"type\":\"scattergl\"},{\"hovertemplate\":\"<b>%{hovertext}</b><br><br>Country=COOK IS<br>Year(start)=%{x}<br>Import=%{y}<br>Export=%{marker.size}<extra></extra>\",\"hovertext\":[\"COOK IS\",\"COOK IS\",\"COOK IS\",\"COOK IS\",\"COOK IS\",\"COOK IS\",\"COOK IS\",\"COOK IS\"],\"legendgroup\":\"COOK IS\",\"marker\":{\"color\":\"#EF553B\",\"size\":[0.03,0.09,0.0,0.04,0.12,0.18,0.27,0.07],\"sizemode\":\"area\",\"sizeref\":15.496216666666665,\"symbol\":\"circle\"},\"mode\":\"markers\",\"name\":\"COOK IS\",\"showlegend\":true,\"x\":[2002,2005,2006,2010,2011,2017,2018,2020],\"xaxis\":\"x\",\"y\":[0.01,0.01,0.03,0.08,0.03,0.01,0.02,0.03],\"yaxis\":\"y\",\"type\":\"scattergl\"},{\"hovertemplate\":\"<b>%{hovertext}</b><br><br>Country=COSTA RICA<br>Year(start)=%{x}<br>Import=%{y}<br>Export=%{marker.size}<extra></extra>\",\"hovertext\":[\"COSTA RICA\",\"COSTA RICA\",\"COSTA RICA\",\"COSTA RICA\",\"COSTA RICA\",\"COSTA RICA\",\"COSTA RICA\",\"COSTA RICA\",\"COSTA RICA\",\"COSTA RICA\",\"COSTA RICA\",\"COSTA RICA\",\"COSTA RICA\",\"COSTA RICA\",\"COSTA RICA\",\"COSTA RICA\",\"COSTA RICA\",\"COSTA RICA\",\"COSTA RICA\",\"COSTA RICA\",\"COSTA RICA\",\"COSTA RICA\",\"COSTA RICA\",\"COSTA RICA\",\"COSTA RICA\"],\"legendgroup\":\"COSTA RICA\",\"marker\":{\"color\":\"#00cc96\",\"size\":[1.79,1.83,2.64,6.85,7.87,10.54,20.52,16.48,16.06,20.52,31.69,34.17,32.23,61.47,65.53,74.28,81.09,95.84,134.76,159.31,133.57,136.15,126.63,113.88,112.82],\"sizemode\":\"area\",\"sizeref\":15.496216666666665,\"symbol\":\"circle\"},\"mode\":\"markers\",\"name\":\"COSTA RICA\",\"showlegend\":true,\"x\":[97,98,99,2000,2001,2002,2003,2004,2005,2006,2007,2008,2009,2010,2011,2012,2013,2014,2015,2016,2017,2018,2019,2020,2021],\"xaxis\":\"x\",\"y\":[0.34,1.49,0.88,0.88,1.27,5.29,25.61,35.47,37.86,43.93,88.01,73.05,93.62,95.33,204.16,219.72,203.99,155.3,62.21,58.83,67.28,50.56,48.71,47.25,48.23],\"yaxis\":\"y\",\"type\":\"scattergl\"},{\"hovertemplate\":\"<b>%{hovertext}</b><br><br>Country=COTE D' IVOIRE<br>Year(start)=%{x}<br>Import=%{y}<br>Export=%{marker.size}<extra></extra>\",\"hovertext\":[\"COTE D' IVOIRE\",\"COTE D' IVOIRE\",\"COTE D' IVOIRE\",\"COTE D' IVOIRE\",\"COTE D' IVOIRE\",\"COTE D' IVOIRE\",\"COTE D' IVOIRE\",\"COTE D' IVOIRE\",\"COTE D' IVOIRE\",\"COTE D' IVOIRE\",\"COTE D' IVOIRE\",\"COTE D' IVOIRE\",\"COTE D' IVOIRE\",\"COTE D' IVOIRE\",\"COTE D' IVOIRE\",\"COTE D' IVOIRE\",\"COTE D' IVOIRE\",\"COTE D' IVOIRE\",\"COTE D' IVOIRE\",\"COTE D' IVOIRE\",\"COTE D' IVOIRE\",\"COTE D' IVOIRE\",\"COTE D' IVOIRE\",\"COTE D' IVOIRE\",\"COTE D' IVOIRE\"],\"legendgroup\":\"COTE D' IVOIRE\",\"marker\":{\"color\":\"#ab63fa\",\"size\":[13.25,66.09,34.49,45.92,52.73,48.93,98.11,101.03,106.14,141.73,257.98,94.78,122.33,94.15,282.53,395.97,298.95,309.75,397.27,418.66,511.75,448.64,414.67,585.96,542.58],\"sizemode\":\"area\",\"sizeref\":15.496216666666665,\"symbol\":\"circle\"},\"mode\":\"markers\",\"name\":\"COTE D' IVOIRE\",\"showlegend\":true,\"x\":[97,98,99,2000,2001,2002,2003,2004,2005,2006,2007,2008,2009,2010,2011,2012,2013,2014,2015,2016,2017,2018,2019,2020,2021],\"xaxis\":\"x\",\"y\":[51.64,38.1,97.48,123.1,76.35,86.03,99.77,160.09,193.92,179.39,198.5,321.63,298.17,250.84,466.33,384.23,298.4,532.1,572.48,455.81,441.7,603.05,454.88,317.51,287.22],\"yaxis\":\"y\",\"type\":\"scattergl\"},{\"hovertemplate\":\"<b>%{hovertext}</b><br><br>Country=CROATIA<br>Year(start)=%{x}<br>Import=%{y}<br>Export=%{marker.size}<extra></extra>\",\"hovertext\":[\"CROATIA\",\"CROATIA\",\"CROATIA\",\"CROATIA\",\"CROATIA\",\"CROATIA\",\"CROATIA\",\"CROATIA\",\"CROATIA\",\"CROATIA\",\"CROATIA\",\"CROATIA\",\"CROATIA\",\"CROATIA\",\"CROATIA\",\"CROATIA\",\"CROATIA\",\"CROATIA\",\"CROATIA\",\"CROATIA\",\"CROATIA\",\"CROATIA\",\"CROATIA\",\"CROATIA\",\"CROATIA\"],\"legendgroup\":\"CROATIA\",\"marker\":{\"color\":\"#FFA15A\",\"size\":[5.94,5.54,5.29,4.17,5.34,10.02,16.68,22.85,29.01,54.75,72.52,85.48,89.68,97.69,114.64,133.96,139.14,176.39,112.44,124.13,168.68,153.79,146.97,141.91,266.81],\"sizemode\":\"area\",\"sizeref\":15.496216666666665,\"symbol\":\"circle\"},\"mode\":\"markers\",\"name\":\"CROATIA\",\"showlegend\":true,\"x\":[97,98,99,2000,2001,2002,2003,2004,2005,2006,2007,2008,2009,2010,2011,2012,2013,2014,2015,2016,2017,2018,2019,2020,2021],\"xaxis\":\"x\",\"y\":[1.09,0.99,0.22,1.01,0.99,0.64,7.45,2.06,29.49,57.25,18.45,15.42,26.89,28.06,24.09,18.05,9.72,28.65,36.0,25.36,32.05,38.92,57.18,42.81,50.42],\"yaxis\":\"y\",\"type\":\"scattergl\"},{\"hovertemplate\":\"<b>%{hovertext}</b><br><br>Country=CUBA<br>Year(start)=%{x}<br>Import=%{y}<br>Export=%{marker.size}<extra></extra>\",\"hovertext\":[\"CUBA\",\"CUBA\",\"CUBA\",\"CUBA\",\"CUBA\",\"CUBA\",\"CUBA\",\"CUBA\",\"CUBA\",\"CUBA\",\"CUBA\",\"CUBA\",\"CUBA\",\"CUBA\",\"CUBA\",\"CUBA\",\"CUBA\",\"CUBA\",\"CUBA\",\"CUBA\",\"CUBA\",\"CUBA\",\"CUBA\",\"CUBA\",\"CUBA\"],\"legendgroup\":\"CUBA\",\"marker\":{\"color\":\"#19d3f3\",\"size\":[0.62,3.34,2.94,4.82,5.92,4.81,4.95,7.44,11.91,27.03,19.15,37.17,22.77,25.51,36.67,35.82,35.53,37.32,54.31,41.79,41.8,35.0,47.51,20.33,23.18],\"sizemode\":\"area\",\"sizeref\":15.496216666666665,\"symbol\":\"circle\"},\"mode\":\"markers\",\"name\":\"CUBA\",\"showlegend\":true,\"x\":[97,98,99,2000,2001,2002,2003,2004,2005,2006,2007,2008,2009,2010,2011,2012,2013,2014,2015,2016,2017,2018,2019,2020,2021],\"xaxis\":\"x\",\"y\":[5.76,3.73,4.59,5.0,3.79,3.64,1.85,1.73,3.32,1.11,14.54,1.3,1.05,1.12,3.99,3.95,2.4,1.57,1.33,1.31,2.06,3.8,3.53,69.44,1.0],\"yaxis\":\"y\",\"type\":\"scattergl\"},{\"hovertemplate\":\"<b>%{hovertext}</b><br><br>Country=CYPRUS<br>Year(start)=%{x}<br>Import=%{y}<br>Export=%{marker.size}<extra></extra>\",\"hovertext\":[\"CYPRUS\",\"CYPRUS\",\"CYPRUS\",\"CYPRUS\",\"CYPRUS\",\"CYPRUS\",\"CYPRUS\",\"CYPRUS\",\"CYPRUS\",\"CYPRUS\",\"CYPRUS\",\"CYPRUS\",\"CYPRUS\",\"CYPRUS\",\"CYPRUS\",\"CYPRUS\",\"CYPRUS\",\"CYPRUS\",\"CYPRUS\",\"CYPRUS\",\"CYPRUS\",\"CYPRUS\",\"CYPRUS\",\"CYPRUS\",\"CYPRUS\"],\"legendgroup\":\"CYPRUS\",\"marker\":{\"color\":\"#FF6692\",\"size\":[32.28,24.65,35.55,31.47,28.43,23.47,28.2,29.38,32.41,33.39,47.91,250.01,46.82,43.31,56.62,54.99,61.57,51.11,59.8,71.77,99.91,70.65,443.28,90.11,57.19],\"sizemode\":\"area\",\"sizeref\":15.496216666666665,\"symbol\":\"circle\"},\"mode\":\"markers\",\"name\":\"CYPRUS\",\"showlegend\":true,\"x\":[97,98,99,2000,2001,2002,2003,2004,2005,2006,2007,2008,2009,2010,2011,2012,2013,2014,2015,2016,2017,2018,2019,2020,2021],\"xaxis\":\"x\",\"y\":[2.19,0.57,1.95,1.23,6.35,2.77,2.6,4.83,25.53,112.88,142.99,158.25,14.1,20.4,27.61,21.27,20.31,22.82,48.18,66.59,13.46,393.78,74.43,23.98,66.1],\"yaxis\":\"y\",\"type\":\"scattergl\"},{\"hovertemplate\":\"<b>%{hovertext}</b><br><br>Country=CZECH REPUBLIC<br>Year(start)=%{x}<br>Import=%{y}<br>Export=%{marker.size}<extra></extra>\",\"hovertext\":[\"CZECH REPUBLIC\",\"CZECH REPUBLIC\",\"CZECH REPUBLIC\",\"CZECH REPUBLIC\",\"CZECH REPUBLIC\",\"CZECH REPUBLIC\",\"CZECH REPUBLIC\",\"CZECH REPUBLIC\",\"CZECH REPUBLIC\",\"CZECH REPUBLIC\",\"CZECH REPUBLIC\",\"CZECH REPUBLIC\",\"CZECH REPUBLIC\",\"CZECH REPUBLIC\",\"CZECH REPUBLIC\",\"CZECH REPUBLIC\",\"CZECH REPUBLIC\",\"CZECH REPUBLIC\",\"CZECH REPUBLIC\",\"CZECH REPUBLIC\",\"CZECH REPUBLIC\",\"CZECH REPUBLIC\",\"CZECH REPUBLIC\",\"CZECH REPUBLIC\",\"CZECH REPUBLIC\"],\"legendgroup\":\"CZECH REPUBLIC\",\"marker\":{\"color\":\"#B6E880\",\"size\":[25.41,34.3,33.79,38.39,41.08,57.42,88.02,88.0,96.87,102.66,180.28,183.3,177.76,215.77,271.85,251.4,387.08,378.56,488.59,533.14,405.36,429.13,496.35,485.48,439.51],\"sizemode\":\"area\",\"sizeref\":15.496216666666665,\"symbol\":\"circle\"},\"mode\":\"markers\",\"name\":\"CZECH REPUBLIC\",\"showlegend\":true,\"x\":[97,98,99,2000,2001,2002,2003,2004,2005,2006,2007,2008,2009,2010,2011,2012,2013,2014,2015,2016,2017,2018,2019,2020,2021],\"xaxis\":\"x\",\"y\":[42.33,44.13,39.45,36.41,38.63,85.48,111.84,175.34,260.38,353.71,447.73,491.87,562.45,676.78,718.88,644.26,517.97,517.87,507.89,539.25,669.54,258.84,299.42,393.12,455.6],\"yaxis\":\"y\",\"type\":\"scattergl\"},{\"hovertemplate\":\"<b>%{hovertext}</b><br><br>Country=DENMARK<br>Year(start)=%{x}<br>Import=%{y}<br>Export=%{marker.size}<extra></extra>\",\"hovertext\":[\"DENMARK\",\"DENMARK\",\"DENMARK\",\"DENMARK\",\"DENMARK\",\"DENMARK\",\"DENMARK\",\"DENMARK\",\"DENMARK\",\"DENMARK\",\"DENMARK\",\"DENMARK\",\"DENMARK\",\"DENMARK\",\"DENMARK\",\"DENMARK\",\"DENMARK\",\"DENMARK\",\"DENMARK\",\"DENMARK\",\"DENMARK\",\"DENMARK\",\"DENMARK\",\"DENMARK\",\"DENMARK\"],\"legendgroup\":\"DENMARK\",\"marker\":{\"color\":\"#FF97FF\",\"size\":[158.73,186.54,211.12,174.38,151.86,183.67,241.89,305.74,410.28,458.06,496.57,583.66,580.42,690.74,757.51,707.29,761.79,724.24,688.79,692.94,784.1,746.59,733.96,755.25,680.2],\"sizemode\":\"area\",\"sizeref\":15.496216666666665,\"symbol\":\"circle\"},\"mode\":\"markers\",\"name\":\"DENMARK\",\"showlegend\":true,\"x\":[97,98,99,2000,2001,2002,2003,2004,2005,2006,2007,2008,2009,2010,2011,2012,2013,2014,2015,2016,2017,2018,2019,2020,2021],\"xaxis\":\"x\",\"y\":[90.76,99.7,135.42,142.5,120.61,143.36,225.6,270.22,515.94,339.7,464.54,477.45,592.37,472.82,614.29,541.71,445.1,457.95,428.54,481.55,564.55,537.3,632.4,589.13,495.65],\"yaxis\":\"y\",\"type\":\"scattergl\"},{\"hovertemplate\":\"<b>%{hovertext}</b><br><br>Country=DJIBOUTI<br>Year(start)=%{x}<br>Import=%{y}<br>Export=%{marker.size}<extra></extra>\",\"hovertext\":[\"DJIBOUTI\",\"DJIBOUTI\",\"DJIBOUTI\",\"DJIBOUTI\",\"DJIBOUTI\",\"DJIBOUTI\",\"DJIBOUTI\",\"DJIBOUTI\",\"DJIBOUTI\",\"DJIBOUTI\",\"DJIBOUTI\",\"DJIBOUTI\",\"DJIBOUTI\",\"DJIBOUTI\",\"DJIBOUTI\",\"DJIBOUTI\",\"DJIBOUTI\",\"DJIBOUTI\",\"DJIBOUTI\",\"DJIBOUTI\",\"DJIBOUTI\",\"DJIBOUTI\",\"DJIBOUTI\",\"DJIBOUTI\",\"DJIBOUTI\"],\"legendgroup\":\"DJIBOUTI\",\"marker\":{\"color\":\"#FECB52\",\"size\":[8.82,13.28,10.98,20.97,16.22,37.42,73.67,128.63,230.36,307.62,460.66,359.96,265.84,319.87,475.34,411.86,307.04,237.96,204.55,280.41,376.46,790.66,316.01,347.06,549.77],\"sizemode\":\"area\",\"sizeref\":15.496216666666665,\"symbol\":\"circle\"},\"mode\":\"markers\",\"name\":\"DJIBOUTI\",\"showlegend\":true,\"x\":[97,98,99,2000,2001,2002,2003,2004,2005,2006,2007,2008,2009,2010,2011,2012,2013,2014,2015,2016,2017,2018,2019,2020,2021],\"xaxis\":\"x\",\"y\":[0.15,0.02,0.22,0.45,0.74,0.82,1.19,3.12,3.35,2.15,4.57,3.66,1.17,2.41,2.15,5.18,4.15,1.47,1.23,2.82,5.44,15.82,19.54,20.16,30.87],\"yaxis\":\"y\",\"type\":\"scattergl\"},{\"hovertemplate\":\"<b>%{hovertext}</b><br><br>Country=DOMINIC REP<br>Year(start)=%{x}<br>Import=%{y}<br>Export=%{marker.size}<extra></extra>\",\"hovertext\":[\"DOMINIC REP\",\"DOMINIC REP\",\"DOMINIC REP\",\"DOMINIC REP\",\"DOMINIC REP\",\"DOMINIC REP\",\"DOMINIC REP\",\"DOMINIC REP\",\"DOMINIC REP\",\"DOMINIC REP\",\"DOMINIC REP\",\"DOMINIC REP\",\"DOMINIC REP\",\"DOMINIC REP\",\"DOMINIC REP\",\"DOMINIC REP\",\"DOMINIC REP\",\"DOMINIC REP\",\"DOMINIC REP\",\"DOMINIC REP\",\"DOMINIC REP\",\"DOMINIC REP\",\"DOMINIC REP\"],\"legendgroup\":\"DOMINIC REP\",\"marker\":{\"color\":\"#636efa\",\"size\":[5.37,11.26,11.39,16.18,12.22,22.04,31.79,36.94,42.56,51.59,55.2,82.75,103.43,108.86,125.7,140.91,175.01,224.98,196.92,215.81,213.32,209.06,233.27],\"sizemode\":\"area\",\"sizeref\":15.496216666666665,\"symbol\":\"circle\"},\"mode\":\"markers\",\"name\":\"DOMINIC REP\",\"showlegend\":true,\"x\":[98,99,2000,2002,2003,2004,2005,2006,2007,2008,2009,2010,2011,2012,2013,2014,2015,2016,2017,2018,2019,2020,2021],\"xaxis\":\"x\",\"y\":[0.04,0.43,0.1,0.12,1.74,2.76,5.34,1.81,2.82,10.11,9.5,15.77,6.61,10.81,12.5,290.66,478.62,674.86,645.81,566.57,361.11,256.94,502.99],\"yaxis\":\"y\",\"type\":\"scattergl\"},{\"hovertemplate\":\"<b>%{hovertext}</b><br><br>Country=DOMINICA<br>Year(start)=%{x}<br>Import=%{y}<br>Export=%{marker.size}<extra></extra>\",\"hovertext\":[\"DOMINICA\",\"DOMINICA\",\"DOMINICA\",\"DOMINICA\",\"DOMINICA\",\"DOMINICA\",\"DOMINICA\",\"DOMINICA\",\"DOMINICA\",\"DOMINICA\",\"DOMINICA\",\"DOMINICA\",\"DOMINICA\",\"DOMINICA\",\"DOMINICA\",\"DOMINICA\",\"DOMINICA\",\"DOMINICA\",\"DOMINICA\",\"DOMINICA\",\"DOMINICA\",\"DOMINICA\",\"DOMINICA\"],\"legendgroup\":\"DOMINICA\",\"marker\":{\"color\":\"#EF553B\",\"size\":[2.11,4.67,2.12,2.05,2.19,2.03,2.62,2.83,2.95,2.7,2.96,2.47,2.82,2.4,2.41,2.53,1.46,2.46,2.1,1.3,2.17,1.87,2.12],\"sizemode\":\"area\",\"sizeref\":15.496216666666665,\"symbol\":\"circle\"},\"mode\":\"markers\",\"name\":\"DOMINICA\",\"showlegend\":true,\"x\":[97,2000,2001,2002,2003,2004,2005,2006,2007,2008,2009,2010,2011,2012,2013,2014,2015,2016,2017,2018,2019,2020,2021],\"xaxis\":\"x\",\"y\":[0.01,4.67,0.07,0.01,0.11,0.34,0.17,0.38,1.07,0.61,0.48,0.34,0.26,1.58,0.07,0.1,0.1,0.77,0.28,0.31,0.25,0.25,0.19],\"yaxis\":\"y\",\"type\":\"scattergl\"},{\"hovertemplate\":\"<b>%{hovertext}</b><br><br>Country=ECUADOR<br>Year(start)=%{x}<br>Import=%{y}<br>Export=%{marker.size}<extra></extra>\",\"hovertext\":[\"ECUADOR\",\"ECUADOR\",\"ECUADOR\",\"ECUADOR\",\"ECUADOR\",\"ECUADOR\",\"ECUADOR\",\"ECUADOR\",\"ECUADOR\",\"ECUADOR\",\"ECUADOR\",\"ECUADOR\",\"ECUADOR\",\"ECUADOR\",\"ECUADOR\",\"ECUADOR\",\"ECUADOR\",\"ECUADOR\",\"ECUADOR\",\"ECUADOR\",\"ECUADOR\",\"ECUADOR\",\"ECUADOR\",\"ECUADOR\",\"ECUADOR\"],\"legendgroup\":\"ECUADOR\",\"marker\":{\"color\":\"#00cc96\",\"size\":[4.36,4.6,2.26,9.43,11.04,11.95,14.13,22.71,26.2,52.15,55.27,125.23,89.75,121.46,231.55,263.55,290.4,225.04,153.2,197.73,279.8,297.96,253.0,207.89,226.13],\"sizemode\":\"area\",\"sizeref\":15.496216666666665,\"symbol\":\"circle\"},\"mode\":\"markers\",\"name\":\"ECUADOR\",\"showlegend\":true,\"x\":[97,98,99,2000,2001,2002,2003,2004,2005,2006,2007,2008,2009,2010,2011,2012,2013,2014,2015,2016,2017,2018,2019,2020,2021],\"xaxis\":\"x\",\"y\":[5.17,0.89,8.64,7.7,4.6,2.12,5.84,22.94,20.33,49.47,217.15,32.26,67.02,169.11,44.27,872.54,255.43,1065.74,563.77,355.99,193.97,219.25,361.6,333.25,877.89],\"yaxis\":\"y\",\"type\":\"scattergl\"},{\"hovertemplate\":\"<b>%{hovertext}</b><br><br>Country=EGYPT A RP<br>Year(start)=%{x}<br>Import=%{y}<br>Export=%{marker.size}<extra></extra>\",\"hovertext\":[\"EGYPT A RP\",\"EGYPT A RP\",\"EGYPT A RP\",\"EGYPT A RP\",\"EGYPT A RP\",\"EGYPT A RP\",\"EGYPT A RP\",\"EGYPT A RP\",\"EGYPT A RP\",\"EGYPT A RP\",\"EGYPT A RP\",\"EGYPT A RP\",\"EGYPT A RP\",\"EGYPT A RP\",\"EGYPT A RP\",\"EGYPT A RP\",\"EGYPT A RP\",\"EGYPT A RP\",\"EGYPT A RP\",\"EGYPT A RP\",\"EGYPT A RP\",\"EGYPT A RP\",\"EGYPT A RP\",\"EGYPT A RP\",\"EGYPT A RP\"],\"legendgroup\":\"EGYPT A RP\",\"marker\":{\"color\":\"#ab63fa\",\"size\":[253.4,270.34,236.7,357.48,462.73,298.24,367.48,444.73,672.43,763.08,1398.83,1699.86,1403.88,1982.43,2421.89,2897.33,2562.16,3025.59,2337.68,2067.35,2392.34,2886.39,2504.23,2264.37,2609.32],\"sizemode\":\"area\",\"sizeref\":15.496216666666665,\"symbol\":\"circle\"},\"mode\":\"markers\",\"name\":\"EGYPT A RP\",\"showlegend\":true,\"x\":[97,98,99,2000,2001,2002,2003,2004,2005,2006,2007,2008,2009,2010,2011,2012,2013,2014,2015,2016,2017,2018,2019,2020,2021],\"xaxis\":\"x\",\"y\":[192.62,192.39,443.87,38.79,99.94,226.57,98.21,152.64,220.44,1739.74,1985.52,2121.33,1692.36,1354.56,3002.4,2553.47,2388.96,1741.77,1221.2,1163.77,1292.93,1677.82,2031.38,1892.4,2505.34],\"yaxis\":\"y\",\"type\":\"scattergl\"},{\"hovertemplate\":\"<b>%{hovertext}</b><br><br>Country=EL SALVADOR<br>Year(start)=%{x}<br>Import=%{y}<br>Export=%{marker.size}<extra></extra>\",\"hovertext\":[\"EL SALVADOR\",\"EL SALVADOR\",\"EL SALVADOR\",\"EL SALVADOR\",\"EL SALVADOR\",\"EL SALVADOR\",\"EL SALVADOR\",\"EL SALVADOR\",\"EL SALVADOR\",\"EL SALVADOR\",\"EL SALVADOR\",\"EL SALVADOR\",\"EL SALVADOR\",\"EL SALVADOR\",\"EL SALVADOR\",\"EL SALVADOR\",\"EL SALVADOR\",\"EL SALVADOR\",\"EL SALVADOR\",\"EL SALVADOR\",\"EL SALVADOR\",\"EL SALVADOR\",\"EL SALVADOR\"],\"legendgroup\":\"EL SALVADOR\",\"marker\":{\"color\":\"#FFA15A\",\"size\":[1.97,3.01,3.15,3.72,6.55,8.89,12.0,17.58,12.12,16.78,13.37,24.06,37.52,56.06,65.11,61.48,68.54,60.45,69.45,78.66,79.34,84.12,118.64],\"sizemode\":\"area\",\"sizeref\":15.496216666666665,\"symbol\":\"circle\"},\"mode\":\"markers\",\"name\":\"EL SALVADOR\",\"showlegend\":true,\"x\":[98,99,2001,2002,2003,2004,2005,2006,2007,2008,2009,2010,2011,2012,2013,2014,2015,2016,2017,2018,2019,2020,2021],\"xaxis\":\"x\",\"y\":[0.41,0.22,0.6,1.17,1.09,1.83,2.06,2.49,5.86,5.84,5.37,5.4,8.27,8.64,7.99,10.27,6.18,5.77,9.02,4.2,3.2,3.82,3.28],\"yaxis\":\"y\",\"type\":\"scattergl\"},{\"hovertemplate\":\"<b>%{hovertext}</b><br><br>Country=EQUTL GUINEA<br>Year(start)=%{x}<br>Import=%{y}<br>Export=%{marker.size}<extra></extra>\",\"hovertext\":[\"EQUTL GUINEA\",\"EQUTL GUINEA\",\"EQUTL GUINEA\",\"EQUTL GUINEA\",\"EQUTL GUINEA\",\"EQUTL GUINEA\",\"EQUTL GUINEA\",\"EQUTL GUINEA\",\"EQUTL GUINEA\",\"EQUTL GUINEA\",\"EQUTL GUINEA\",\"EQUTL GUINEA\",\"EQUTL GUINEA\",\"EQUTL GUINEA\",\"EQUTL GUINEA\",\"EQUTL GUINEA\",\"EQUTL GUINEA\",\"EQUTL GUINEA\",\"EQUTL GUINEA\",\"EQUTL GUINEA\"],\"legendgroup\":\"EQUTL GUINEA\",\"marker\":{\"color\":\"#19d3f3\",\"size\":[0.11,0.84,3.84,6.44,4.77,11.07,6.42,7.66,11.42,17.15,21.31,17.24,15.01,17.53,11.24,10.77,11.89,10.92,14.19,9.92],\"sizemode\":\"area\",\"sizeref\":15.496216666666665,\"symbol\":\"circle\"},\"mode\":\"markers\",\"name\":\"EQUTL GUINEA\",\"showlegend\":true,\"x\":[2002,2003,2004,2005,2006,2007,2008,2009,2010,2011,2012,2013,2014,2015,2016,2017,2018,2019,2020,2021],\"xaxis\":\"x\",\"y\":[0.01,0.26,0.72,0.07,0.11,167.55,0.2,269.09,0.12,206.02,524.83,301.82,749.38,457.3,797.85,755.64,634.12,972.88,286.79,732.89],\"yaxis\":\"y\",\"type\":\"scattergl\"},{\"hovertemplate\":\"<b>%{hovertext}</b><br><br>Country=ERITREA<br>Year(start)=%{x}<br>Import=%{y}<br>Export=%{marker.size}<extra></extra>\",\"hovertext\":[\"ERITREA\",\"ERITREA\",\"ERITREA\",\"ERITREA\",\"ERITREA\",\"ERITREA\",\"ERITREA\",\"ERITREA\",\"ERITREA\",\"ERITREA\",\"ERITREA\",\"ERITREA\",\"ERITREA\",\"ERITREA\",\"ERITREA\",\"ERITREA\",\"ERITREA\"],\"legendgroup\":\"ERITREA\",\"marker\":{\"color\":\"#FF6692\",\"size\":[10.72,8.44,8.18,6.65,110.26,16.86,29.34,24.5,31.52,18.99,16.45,14.06,6.45,3.22,7.43,5.92,7.09],\"sizemode\":\"area\",\"sizeref\":15.496216666666665,\"symbol\":\"circle\"},\"mode\":\"markers\",\"name\":\"ERITREA\",\"showlegend\":true,\"x\":[2003,2004,2005,2006,2007,2008,2009,2010,2011,2012,2013,2014,2015,2016,2017,2019,2021],\"xaxis\":\"x\",\"y\":[0.25,0.99,0.99,0.34,1.48,6.47,0.17,0.75,3.62,10.9,4.85,230.68,167.45,36.41,1.96,5.92,0.12],\"yaxis\":\"y\",\"type\":\"scattergl\"},{\"hovertemplate\":\"<b>%{hovertext}</b><br><br>Country=ESTONIA<br>Year(start)=%{x}<br>Import=%{y}<br>Export=%{marker.size}<extra></extra>\",\"hovertext\":[\"ESTONIA\",\"ESTONIA\",\"ESTONIA\",\"ESTONIA\",\"ESTONIA\",\"ESTONIA\",\"ESTONIA\",\"ESTONIA\",\"ESTONIA\",\"ESTONIA\",\"ESTONIA\",\"ESTONIA\",\"ESTONIA\",\"ESTONIA\",\"ESTONIA\",\"ESTONIA\",\"ESTONIA\",\"ESTONIA\",\"ESTONIA\",\"ESTONIA\",\"ESTONIA\",\"ESTONIA\",\"ESTONIA\",\"ESTONIA\",\"ESTONIA\"],\"legendgroup\":\"ESTONIA\",\"marker\":{\"color\":\"#B6E880\",\"size\":[2.89,5.26,6.5,3.3,3.88,4.31,5.98,10.24,13.86,28.24,68.63,49.31,28.92,52.91,116.48,91.88,79.13,68.09,63.68,97.5,80.33,64.32,65.44,51.83,45.9],\"sizemode\":\"area\",\"sizeref\":15.496216666666665,\"symbol\":\"circle\"},\"mode\":\"markers\",\"name\":\"ESTONIA\",\"showlegend\":true,\"x\":[97,98,99,2000,2001,2002,2003,2004,2005,2006,2007,2008,2009,2010,2011,2012,2013,2014,2015,2016,2017,2018,2019,2020,2021],\"xaxis\":\"x\",\"y\":[0.02,0.64,0.85,0.32,6.42,0.68,0.24,0.72,9.02,25.98,10.72,15.55,32.94,44.9,231.74,219.9,115.3,118.06,142.04,102.47,60.54,108.21,54.06,59.96,55.36],\"yaxis\":\"y\",\"type\":\"scattergl\"},{\"hovertemplate\":\"<b>%{hovertext}</b><br><br>Country=ETHIOPIA<br>Year(start)=%{x}<br>Import=%{y}<br>Export=%{marker.size}<extra></extra>\",\"hovertext\":[\"ETHIOPIA\",\"ETHIOPIA\",\"ETHIOPIA\",\"ETHIOPIA\",\"ETHIOPIA\",\"ETHIOPIA\",\"ETHIOPIA\",\"ETHIOPIA\",\"ETHIOPIA\",\"ETHIOPIA\",\"ETHIOPIA\",\"ETHIOPIA\",\"ETHIOPIA\",\"ETHIOPIA\",\"ETHIOPIA\",\"ETHIOPIA\",\"ETHIOPIA\",\"ETHIOPIA\",\"ETHIOPIA\",\"ETHIOPIA\",\"ETHIOPIA\",\"ETHIOPIA\",\"ETHIOPIA\",\"ETHIOPIA\",\"ETHIOPIA\"],\"legendgroup\":\"ETHIOPIA\",\"marker\":{\"color\":\"#FF97FF\",\"size\":[67.51,64.75,57.33,66.57,90.83,61.97,80.43,55.51,74.74,115.94,198.32,247.68,253.67,273.66,464.17,748.82,816.92,783.13,793.62,773.5,683.88,766.03,798.31,684.32,537.99],\"sizemode\":\"area\",\"sizeref\":15.496216666666665,\"symbol\":\"circle\"},\"mode\":\"markers\",\"name\":\"ETHIOPIA\",\"showlegend\":true,\"x\":[97,98,99,2000,2001,2002,2003,2004,2005,2006,2007,2008,2009,2010,2011,2012,2013,2014,2015,2016,2017,2018,2019,2020,2021],\"xaxis\":\"x\",\"y\":[0.77,0.29,0.87,3.84,18.39,10.55,7.54,10.26,8.52,11.42,13.62,11.06,18.59,32.74,29.25,38.56,28.4,44.26,60.99,67.07,47.45,55.01,98.55,32.64,52.62],\"yaxis\":\"y\",\"type\":\"scattergl\"},{\"hovertemplate\":\"<b>%{hovertext}</b><br><br>Country=FALKLAND IS<br>Year(start)=%{x}<br>Import=%{y}<br>Export=%{marker.size}<extra></extra>\",\"hovertext\":[\"FALKLAND IS\",\"FALKLAND IS\",\"FALKLAND IS\",\"FALKLAND IS\",\"FALKLAND IS\",\"FALKLAND IS\",\"FALKLAND IS\",\"FALKLAND IS\",\"FALKLAND IS\",\"FALKLAND IS\"],\"legendgroup\":\"FALKLAND IS\",\"marker\":{\"color\":\"#FECB52\",\"size\":[0.04,0.01,0.26,0.09,0.04,0.04,1.39,0.0,0.0,0.08],\"sizemode\":\"area\",\"sizeref\":15.496216666666665,\"symbol\":\"circle\"},\"mode\":\"markers\",\"name\":\"FALKLAND IS\",\"showlegend\":true,\"x\":[2001,2002,2006,2008,2009,2010,2011,2012,2015,2019],\"xaxis\":\"x\",\"y\":[0.04,0.01,0.01,0.94,0.77,1.35,3.0,1.44,1.75,0.03],\"yaxis\":\"y\",\"type\":\"scattergl\"},{\"hovertemplate\":\"<b>%{hovertext}</b><br><br>Country=FAROE IS.<br>Year(start)=%{x}<br>Import=%{y}<br>Export=%{marker.size}<extra></extra>\",\"hovertext\":[\"FAROE IS.\",\"FAROE IS.\",\"FAROE IS.\",\"FAROE IS.\",\"FAROE IS.\",\"FAROE IS.\",\"FAROE IS.\",\"FAROE IS.\",\"FAROE IS.\",\"FAROE IS.\",\"FAROE IS.\",\"FAROE IS.\",\"FAROE IS.\",\"FAROE IS.\",\"FAROE IS.\"],\"legendgroup\":\"FAROE IS.\",\"marker\":{\"color\":\"#636efa\",\"size\":[0.0,0.01,0.06,0.22,0.33,0.24,0.06,0.14,0.75,0.86,2.62,1.75,0.59,0.3,2.96],\"sizemode\":\"area\",\"sizeref\":15.496216666666665,\"symbol\":\"circle\"},\"mode\":\"markers\",\"name\":\"FAROE IS.\",\"showlegend\":true,\"x\":[98,2000,2002,2005,2006,2007,2008,2009,2010,2011,2014,2015,2016,2017,2018],\"xaxis\":\"x\",\"y\":[0.08,0.04,0.02,0.02,0.03,0.18,0.02,0.06,7.36,0.04,0.07,0.04,0.01,0.01,0.03],\"yaxis\":\"y\",\"type\":\"scattergl\"},{\"hovertemplate\":\"<b>%{hovertext}</b><br><br>Country=FIJI IS<br>Year(start)=%{x}<br>Import=%{y}<br>Export=%{marker.size}<extra></extra>\",\"hovertext\":[\"FIJI IS\",\"FIJI IS\",\"FIJI IS\",\"FIJI IS\",\"FIJI IS\",\"FIJI IS\",\"FIJI IS\",\"FIJI IS\",\"FIJI IS\",\"FIJI IS\",\"FIJI IS\",\"FIJI IS\",\"FIJI IS\",\"FIJI IS\",\"FIJI IS\",\"FIJI IS\",\"FIJI IS\",\"FIJI IS\",\"FIJI IS\",\"FIJI IS\",\"FIJI IS\",\"FIJI IS\",\"FIJI IS\"],\"legendgroup\":\"FIJI IS\",\"marker\":{\"color\":\"#EF553B\",\"size\":[16.14,11.34,14.11,25.44,20.41,28.59,29.06,44.07,48.39,90.39,26.69,28.47,36.78,41.01,48.74,49.75,44.15,52.52,54.24,60.8,55.7,46.9,40.67],\"sizemode\":\"area\",\"sizeref\":15.496216666666665,\"symbol\":\"circle\"},\"mode\":\"markers\",\"name\":\"FIJI IS\",\"showlegend\":true,\"x\":[99,2000,2001,2002,2003,2004,2005,2006,2007,2008,2009,2010,2011,2012,2013,2014,2015,2016,2017,2018,2019,2020,2021],\"xaxis\":\"x\",\"y\":[0.04,11.34,0.01,0.01,1.71,0.3,0.85,18.76,0.26,0.68,1.34,2.99,2.51,1.38,2.0,1.8,0.37,0.6,0.49,0.71,0.57,1.33,0.4],\"yaxis\":\"y\",\"type\":\"scattergl\"},{\"hovertemplate\":\"<b>%{hovertext}</b><br><br>Country=FINLAND<br>Year(start)=%{x}<br>Import=%{y}<br>Export=%{marker.size}<extra></extra>\",\"hovertext\":[\"FINLAND\",\"FINLAND\",\"FINLAND\",\"FINLAND\",\"FINLAND\",\"FINLAND\",\"FINLAND\",\"FINLAND\",\"FINLAND\",\"FINLAND\",\"FINLAND\",\"FINLAND\",\"FINLAND\",\"FINLAND\",\"FINLAND\",\"FINLAND\",\"FINLAND\",\"FINLAND\",\"FINLAND\",\"FINLAND\",\"FINLAND\",\"FINLAND\",\"FINLAND\",\"FINLAND\",\"FINLAND\"],\"legendgroup\":\"FINLAND\",\"marker\":{\"color\":\"#00cc96\",\"size\":[58.15,76.62,57.93,58.31,69.75,71.14,111.27,143.54,204.69,194.36,239.74,264.89,208.36,254.92,314.34,317.27,415.42,330.18,248.48,269.74,282.55,256.12,268.63,284.36,255.75],\"sizemode\":\"area\",\"sizeref\":15.496216666666665,\"symbol\":\"circle\"},\"mode\":\"markers\",\"name\":\"FINLAND\",\"showlegend\":true,\"x\":[97,98,99,2000,2001,2002,2003,2004,2005,2006,2007,2008,2009,2010,2011,2012,2013,2014,2015,2016,2017,2018,2019,2020,2021],\"xaxis\":\"x\",\"y\":[175.79,177.98,138.76,207.39,162.09,199.0,270.09,388.81,583.48,609.79,927.98,1219.64,1010.66,1653.02,2103.57,1106.85,1054.09,917.48,1002.37,1011.67,1401.33,1124.08,625.65,713.2,519.45],\"yaxis\":\"y\",\"type\":\"scattergl\"},{\"hovertemplate\":\"<b>%{hovertext}</b><br><br>Country=FR GUIANA<br>Year(start)=%{x}<br>Import=%{y}<br>Export=%{marker.size}<extra></extra>\",\"hovertext\":[\"FR GUIANA\",\"FR GUIANA\",\"FR GUIANA\",\"FR GUIANA\",\"FR GUIANA\",\"FR GUIANA\",\"FR GUIANA\",\"FR GUIANA\",\"FR GUIANA\",\"FR GUIANA\",\"FR GUIANA\",\"FR GUIANA\",\"FR GUIANA\",\"FR GUIANA\",\"FR GUIANA\",\"FR GUIANA\",\"FR GUIANA\",\"FR GUIANA\",\"FR GUIANA\",\"FR GUIANA\",\"FR GUIANA\",\"FR GUIANA\"],\"legendgroup\":\"FR GUIANA\",\"marker\":{\"color\":\"#ab63fa\",\"size\":[0.06,0.88,2.28,2.46,3.76,0.05,0.08,2.21,36.32,2.28,3.6,1.62,3.3,36.68,59.04,1.17,1.47,2.18,1.9,0.98,1.78,1.52],\"sizemode\":\"area\",\"sizeref\":15.496216666666665,\"symbol\":\"circle\"},\"mode\":\"markers\",\"name\":\"FR GUIANA\",\"showlegend\":true,\"x\":[97,98,99,2000,2001,2005,2006,2007,2008,2009,2010,2011,2012,2013,2014,2015,2016,2017,2018,2019,2020,2021],\"xaxis\":\"x\",\"y\":[0.39,0.38,1.5,0.47,3.76,0.4,0.16,1.92,5.6,0.61,0.21,106.46,1.38,2.47,1.41,1.16,1.45,0.85,1.82,2.9,1.29,0.15],\"yaxis\":\"y\",\"type\":\"scattergl\"},{\"hovertemplate\":\"<b>%{hovertext}</b><br><br>Country=FR POLYNESIA<br>Year(start)=%{x}<br>Import=%{y}<br>Export=%{marker.size}<extra></extra>\",\"hovertext\":[\"FR POLYNESIA\",\"FR POLYNESIA\",\"FR POLYNESIA\",\"FR POLYNESIA\",\"FR POLYNESIA\",\"FR POLYNESIA\",\"FR POLYNESIA\",\"FR POLYNESIA\",\"FR POLYNESIA\",\"FR POLYNESIA\",\"FR POLYNESIA\",\"FR POLYNESIA\",\"FR POLYNESIA\",\"FR POLYNESIA\",\"FR POLYNESIA\",\"FR POLYNESIA\",\"FR POLYNESIA\",\"FR POLYNESIA\"],\"legendgroup\":\"FR POLYNESIA\",\"marker\":{\"color\":\"#FFA15A\",\"size\":[0.53,0.76,2.06,2.05,1.3,0.81,1.08,11.95,1.78,2.8,3.07,3.81,4.13,6.36,5.5,6.04,5.67,6.96],\"sizemode\":\"area\",\"sizeref\":15.496216666666665,\"symbol\":\"circle\"},\"mode\":\"markers\",\"name\":\"FR POLYNESIA\",\"showlegend\":true,\"x\":[2004,2005,2006,2007,2008,2009,2010,2011,2012,2013,2014,2015,2016,2017,2018,2019,2020,2021],\"xaxis\":\"x\",\"y\":[0.01,0.02,0.03,0.02,0.1,0.81,0.01,0.02,0.01,0.02,0.03,0.02,0.01,0.07,0.01,0.05,0.07,0.78],\"yaxis\":\"y\",\"type\":\"scattergl\"},{\"hovertemplate\":\"<b>%{hovertext}</b><br><br>Country=FR S ANT TR<br>Year(start)=%{x}<br>Import=%{y}<br>Export=%{marker.size}<extra></extra>\",\"hovertext\":[\"FR S ANT TR\",\"FR S ANT TR\",\"FR S ANT TR\",\"FR S ANT TR\",\"FR S ANT TR\"],\"legendgroup\":\"FR S ANT TR\",\"marker\":{\"color\":\"#19d3f3\",\"size\":[0.02,0.14,0.0,0.01,0.06],\"sizemode\":\"area\",\"sizeref\":15.496216666666665,\"symbol\":\"circle\"},\"mode\":\"markers\",\"name\":\"FR S ANT TR\",\"showlegend\":true,\"x\":[97,2004,2010,2012,2015],\"xaxis\":\"x\",\"y\":[0.01,0.08,0.01,0.02,0.03],\"yaxis\":\"y\",\"type\":\"scattergl\"},{\"hovertemplate\":\"<b>%{hovertext}</b><br><br>Country=FRANCE<br>Year(start)=%{x}<br>Import=%{y}<br>Export=%{marker.size}<extra></extra>\",\"hovertext\":[\"FRANCE\",\"FRANCE\",\"FRANCE\",\"FRANCE\",\"FRANCE\",\"FRANCE\",\"FRANCE\",\"FRANCE\",\"FRANCE\",\"FRANCE\",\"FRANCE\",\"FRANCE\",\"FRANCE\",\"FRANCE\",\"FRANCE\",\"FRANCE\",\"FRANCE\",\"FRANCE\",\"FRANCE\",\"FRANCE\",\"FRANCE\",\"FRANCE\",\"FRANCE\",\"FRANCE\",\"FRANCE\"],\"legendgroup\":\"FRANCE\",\"marker\":{\"color\":\"#FF6692\",\"size\":[759.15,829.7,897.34,1020.01,945.0,1074.09,1280.88,1680.94,2079.59,2103.26,2599.64,3020.86,3819.83,5209.57,4558.11,4986.03,5108.29,4956.66,4633.4,5250.05,4900.27,5232.57,5097.81,4782.18,4413.38],\"sizemode\":\"area\",\"sizeref\":15.496216666666665,\"symbol\":\"circle\"},\"mode\":\"markers\",\"name\":\"FRANCE\",\"showlegend\":true,\"x\":[97,98,99,2000,2001,2002,2003,2004,2005,2006,2007,2008,2009,2010,2011,2012,2013,2014,2015,2016,2017,2018,2019,2020,2021],\"xaxis\":\"x\",\"y\":[784.98,719.6,711.81,640.81,844.25,1094.18,1090.23,1894.1,4113.3,4212.42,6265.76,4632.48,4192.17,3704.57,4332.78,4652.36,3691.89,4416.08,3730.31,5707.77,6524.16,6665.67,6168.82,4343.22,3817.49],\"yaxis\":\"y\",\"type\":\"scattergl\"},{\"hovertemplate\":\"<b>%{hovertext}</b><br><br>Country=GABON<br>Year(start)=%{x}<br>Import=%{y}<br>Export=%{marker.size}<extra></extra>\",\"hovertext\":[\"GABON\",\"GABON\",\"GABON\",\"GABON\",\"GABON\",\"GABON\",\"GABON\",\"GABON\",\"GABON\",\"GABON\",\"GABON\",\"GABON\",\"GABON\",\"GABON\",\"GABON\",\"GABON\",\"GABON\",\"GABON\",\"GABON\",\"GABON\",\"GABON\",\"GABON\",\"GABON\",\"GABON\",\"GABON\"],\"legendgroup\":\"GABON\",\"marker\":{\"color\":\"#B6E880\",\"size\":[3.36,4.73,4.34,4.96,5.53,17.67,10.55,10.36,16.58,16.7,25.9,21.65,25.02,37.55,47.0,54.17,52.59,42.7,36.79,43.34,45.08,55.17,45.55,58.7,39.5],\"sizemode\":\"area\",\"sizeref\":15.496216666666665,\"symbol\":\"circle\"},\"mode\":\"markers\",\"name\":\"GABON\",\"showlegend\":true,\"x\":[97,98,99,2000,2001,2002,2003,2004,2005,2006,2007,2008,2009,2010,2011,2012,2013,2014,2015,2016,2017,2018,2019,2020,2021],\"xaxis\":\"x\",\"y\":[10.21,8.93,5.25,14.52,10.25,21.02,22.45,42.8,42.09,115.85,120.93,175.12,180.58,307.71,146.58,817.04,868.47,793.06,105.63,69.46,395.39,456.01,138.4,405.46,874.55],\"yaxis\":\"y\",\"type\":\"scattergl\"},{\"hovertemplate\":\"<b>%{hovertext}</b><br><br>Country=GAMBIA<br>Year(start)=%{x}<br>Import=%{y}<br>Export=%{marker.size}<extra></extra>\",\"hovertext\":[\"GAMBIA\",\"GAMBIA\",\"GAMBIA\",\"GAMBIA\",\"GAMBIA\",\"GAMBIA\",\"GAMBIA\",\"GAMBIA\",\"GAMBIA\",\"GAMBIA\",\"GAMBIA\",\"GAMBIA\",\"GAMBIA\",\"GAMBIA\",\"GAMBIA\",\"GAMBIA\",\"GAMBIA\",\"GAMBIA\",\"GAMBIA\",\"GAMBIA\",\"GAMBIA\",\"GAMBIA\",\"GAMBIA\",\"GAMBIA\"],\"legendgroup\":\"GAMBIA\",\"marker\":{\"color\":\"#FF97FF\",\"size\":[15.39,15.96,15.4,13.55,14.06,13.66,14.89,16.8,27.7,30.24,30.45,36.99,41.7,64.21,55.56,85.13,73.53,59.54,62.38,120.23,156.61,132.33,129.59,109.95],\"sizemode\":\"area\",\"sizeref\":15.496216666666665,\"symbol\":\"circle\"},\"mode\":\"markers\",\"name\":\"GAMBIA\",\"showlegend\":true,\"x\":[98,99,2000,2001,2002,2003,2004,2005,2006,2007,2008,2009,2010,2011,2012,2013,2014,2015,2016,2017,2018,2019,2020,2021],\"xaxis\":\"x\",\"y\":[0.78,0.63,0.24,0.52,4.52,3.77,11.52,12.9,17.58,15.06,28.4,28.94,14.73,40.16,30.31,29.2,36.08,31.35,43.2,58.67,45.05,40.95,38.41,38.43],\"yaxis\":\"y\",\"type\":\"scattergl\"},{\"hovertemplate\":\"<b>%{hovertext}</b><br><br>Country=GEORGIA<br>Year(start)=%{x}<br>Import=%{y}<br>Export=%{marker.size}<extra></extra>\",\"hovertext\":[\"GEORGIA\",\"GEORGIA\",\"GEORGIA\",\"GEORGIA\",\"GEORGIA\",\"GEORGIA\",\"GEORGIA\",\"GEORGIA\",\"GEORGIA\",\"GEORGIA\",\"GEORGIA\",\"GEORGIA\",\"GEORGIA\",\"GEORGIA\",\"GEORGIA\",\"GEORGIA\",\"GEORGIA\",\"GEORGIA\",\"GEORGIA\",\"GEORGIA\",\"GEORGIA\",\"GEORGIA\",\"GEORGIA\"],\"legendgroup\":\"GEORGIA\",\"marker\":{\"color\":\"#FECB52\",\"size\":[1.42,3.1,8.34,18.83,34.02,26.8,34.18,41.03,93.03,72.44,55.86,72.86,121.74,124.16,91.29,86.67,82.57,90.93,77.27,110.4,82.77,99.32,121.98],\"sizemode\":\"area\",\"sizeref\":15.496216666666665,\"symbol\":\"circle\"},\"mode\":\"markers\",\"name\":\"GEORGIA\",\"showlegend\":true,\"x\":[99,2000,2001,2002,2003,2004,2005,2006,2007,2008,2009,2010,2011,2012,2013,2014,2015,2016,2017,2018,2019,2020,2021],\"xaxis\":\"x\",\"y\":[0.01,0.58,0.03,6.74,5.43,15.42,19.87,74.36,10.68,16.52,10.3,37.83,58.91,57.53,23.82,18.35,24.47,31.52,27.04,22.18,11.4,86.9,22.3],\"yaxis\":\"y\",\"type\":\"scattergl\"},{\"hovertemplate\":\"<b>%{hovertext}</b><br><br>Country=GERMANY<br>Year(start)=%{x}<br>Import=%{y}<br>Export=%{marker.size}<extra></extra>\",\"hovertext\":[\"GERMANY\",\"GERMANY\",\"GERMANY\",\"GERMANY\",\"GERMANY\",\"GERMANY\",\"GERMANY\",\"GERMANY\",\"GERMANY\",\"GERMANY\",\"GERMANY\",\"GERMANY\",\"GERMANY\",\"GERMANY\",\"GERMANY\",\"GERMANY\",\"GERMANY\",\"GERMANY\",\"GERMANY\",\"GERMANY\",\"GERMANY\",\"GERMANY\",\"GERMANY\",\"GERMANY\",\"GERMANY\"],\"legendgroup\":\"GERMANY\",\"marker\":{\"color\":\"#636efa\",\"size\":[1921.1,1851.94,1738.39,1907.57,1788.36,2106.68,2544.55,2826.25,3586.12,3984.81,5121.53,6388.54,5412.89,6751.18,7942.79,7246.2,7515.81,7537.34,7092.87,7181.61,8687.8,8902.43,8290.9,8124.93,7021.6],\"sizemode\":\"area\",\"sizeref\":15.496216666666665,\"symbol\":\"circle\"},\"mode\":\"markers\",\"name\":\"GERMANY\",\"showlegend\":true,\"x\":[97,98,99,2000,2001,2002,2003,2004,2005,2006,2007,2008,2009,2010,2011,2012,2013,2014,2015,2016,2017,2018,2019,2020,2021],\"xaxis\":\"x\",\"y\":[2528.3,2140.68,1840.99,1759.59,2028.1,2404.53,2918.56,4015.35,6023.63,7552.64,9884.83,12006.02,10318.18,11891.37,15601.13,14325.79,12932.41,12787.86,12088.37,11583.67,13295.71,15161.08,13691.11,13643.02,10584.65],\"yaxis\":\"y\",\"type\":\"scattergl\"},{\"hovertemplate\":\"<b>%{hovertext}</b><br><br>Country=GHANA<br>Year(start)=%{x}<br>Import=%{y}<br>Export=%{marker.size}<extra></extra>\",\"hovertext\":[\"GHANA\",\"GHANA\",\"GHANA\",\"GHANA\",\"GHANA\",\"GHANA\",\"GHANA\",\"GHANA\",\"GHANA\",\"GHANA\",\"GHANA\",\"GHANA\",\"GHANA\",\"GHANA\",\"GHANA\",\"GHANA\",\"GHANA\",\"GHANA\",\"GHANA\",\"GHANA\",\"GHANA\",\"GHANA\",\"GHANA\",\"GHANA\",\"GHANA\"],\"legendgroup\":\"GHANA\",\"marker\":{\"color\":\"#EF553B\",\"size\":[49.05,62.81,61.95,58.88,68.41,105.64,182.67,183.08,200.82,465.18,795.12,537.85,390.52,579.77,800.35,744.12,831.48,680.39,623.73,681.03,635.78,717.33,617.42,862.5,835.11],\"sizemode\":\"area\",\"sizeref\":15.496216666666665,\"symbol\":\"circle\"},\"mode\":\"markers\",\"name\":\"GHANA\",\"showlegend\":true,\"x\":[97,98,99,2000,2001,2002,2003,2004,2005,2006,2007,2008,2009,2010,2011,2012,2013,2014,2015,2016,2017,2018,2019,2020,2021],\"xaxis\":\"x\",\"y\":[4.96,5.48,11.29,27.1,19.92,18.63,32.93,51.28,78.93,103.24,140.6,172.63,147.01,159.75,341.01,277.61,370.56,1257.6,2981.27,1938.54,2710.05,3763.41,1773.55,1374.96,1151.23],\"yaxis\":\"y\",\"type\":\"scattergl\"},{\"hovertemplate\":\"<b>%{hovertext}</b><br><br>Country=GIBRALTAR<br>Year(start)=%{x}<br>Import=%{y}<br>Export=%{marker.size}<extra></extra>\",\"hovertext\":[\"GIBRALTAR\",\"GIBRALTAR\",\"GIBRALTAR\",\"GIBRALTAR\",\"GIBRALTAR\",\"GIBRALTAR\",\"GIBRALTAR\",\"GIBRALTAR\",\"GIBRALTAR\",\"GIBRALTAR\",\"GIBRALTAR\",\"GIBRALTAR\",\"GIBRALTAR\"],\"legendgroup\":\"GIBRALTAR\",\"marker\":{\"color\":\"#00cc96\",\"size\":[1.4,0.34,17.89,1.27,149.08,292.79,0.27,97.61,290.68,575.13,629.14,203.38,255.88],\"sizemode\":\"area\",\"sizeref\":15.496216666666665,\"symbol\":\"circle\"},\"mode\":\"markers\",\"name\":\"GIBRALTAR\",\"showlegend\":true,\"x\":[2002,2005,2006,2007,2010,2011,2012,2013,2017,2018,2019,2020,2021],\"xaxis\":\"x\",\"y\":[0.43,0.36,0.01,0.25,11.57,0.06,0.09,0.13,0.01,0.03,1.01,0.46,0.18],\"yaxis\":\"y\",\"type\":\"scattergl\"},{\"hovertemplate\":\"<b>%{hovertext}</b><br><br>Country=GREECE<br>Year(start)=%{x}<br>Import=%{y}<br>Export=%{marker.size}<extra></extra>\",\"hovertext\":[\"GREECE\",\"GREECE\",\"GREECE\",\"GREECE\",\"GREECE\",\"GREECE\",\"GREECE\",\"GREECE\",\"GREECE\",\"GREECE\",\"GREECE\",\"GREECE\",\"GREECE\",\"GREECE\",\"GREECE\",\"GREECE\",\"GREECE\",\"GREECE\",\"GREECE\",\"GREECE\",\"GREECE\",\"GREECE\",\"GREECE\",\"GREECE\",\"GREECE\"],\"legendgroup\":\"GREECE\",\"marker\":{\"color\":\"#ab63fa\",\"size\":[93.17,135.99,89.91,113.49,106.53,148.7,200.04,306.34,564.09,670.71,530.38,878.43,452.8,364.88,790.06,300.13,335.14,360.84,335.68,381.07,433.87,503.37,445.59,546.31,751.15],\"sizemode\":\"area\",\"sizeref\":15.496216666666665,\"symbol\":\"circle\"},\"mode\":\"markers\",\"name\":\"GREECE\",\"showlegend\":true,\"x\":[97,98,99,2000,2001,2002,2003,2004,2005,2006,2007,2008,2009,2010,2011,2012,2013,2014,2015,2016,2017,2018,2019,2020,2021],\"xaxis\":\"x\",\"y\":[30.1,10.34,21.43,22.0,29.57,22.81,47.09,23.82,56.37,211.52,126.2,69.49,154.13,93.39,110.95,111.87,109.44,127.75,111.03,121.95,96.11,144.02,123.71,143.02,245.37],\"yaxis\":\"y\",\"type\":\"scattergl\"},{\"hovertemplate\":\"<b>%{hovertext}</b><br><br>Country=GREENLAND<br>Year(start)=%{x}<br>Import=%{y}<br>Export=%{marker.size}<extra></extra>\",\"hovertext\":[\"GREENLAND\",\"GREENLAND\",\"GREENLAND\",\"GREENLAND\",\"GREENLAND\",\"GREENLAND\",\"GREENLAND\",\"GREENLAND\",\"GREENLAND\",\"GREENLAND\",\"GREENLAND\",\"GREENLAND\",\"GREENLAND\",\"GREENLAND\"],\"legendgroup\":\"GREENLAND\",\"marker\":{\"color\":\"#FFA15A\",\"size\":[0.33,0.25,0.04,3.37,0.0,0.37,0.1,0.27,0.47,1.13,8.81,0.1,0.01,1.1],\"sizemode\":\"area\",\"sizeref\":15.496216666666665,\"symbol\":\"circle\"},\"mode\":\"markers\",\"name\":\"GREENLAND\",\"showlegend\":true,\"x\":[2000,2001,2004,2005,2006,2009,2010,2011,2012,2014,2015,2016,2017,2020],\"xaxis\":\"x\",\"y\":[0.08,0.04,0.01,3.37,0.05,0.16,0.04,0.02,0.06,0.07,0.1,0.1,0.01,0.02],\"yaxis\":\"y\",\"type\":\"scattergl\"},{\"hovertemplate\":\"<b>%{hovertext}</b><br><br>Country=GRENADA<br>Year(start)=%{x}<br>Import=%{y}<br>Export=%{marker.size}<extra></extra>\",\"hovertext\":[\"GRENADA\",\"GRENADA\",\"GRENADA\",\"GRENADA\",\"GRENADA\",\"GRENADA\",\"GRENADA\",\"GRENADA\",\"GRENADA\",\"GRENADA\",\"GRENADA\",\"GRENADA\",\"GRENADA\",\"GRENADA\",\"GRENADA\",\"GRENADA\",\"GRENADA\",\"GRENADA\"],\"legendgroup\":\"GRENADA\",\"marker\":{\"color\":\"#19d3f3\",\"size\":[0.09,0.45,0.45,0.59,0.23,0.87,0.78,1.24,0.45,0.64,1.01,1.03,3.02,2.64,3.77,2.79,2.87,2.89],\"sizemode\":\"area\",\"sizeref\":15.496216666666665,\"symbol\":\"circle\"},\"mode\":\"markers\",\"name\":\"GRENADA\",\"showlegend\":true,\"x\":[99,2001,2002,2003,2004,2005,2006,2007,2008,2009,2010,2011,2016,2017,2018,2019,2020,2021],\"xaxis\":\"x\",\"y\":[0.09,0.05,0.26,0.12,0.04,0.16,0.06,0.02,0.07,0.07,0.01,0.03,0.06,0.27,0.48,0.48,0.46,0.62],\"yaxis\":\"y\",\"type\":\"scattergl\"},{\"hovertemplate\":\"<b>%{hovertext}</b><br><br>Country=GUADELOUPE<br>Year(start)=%{x}<br>Import=%{y}<br>Export=%{marker.size}<extra></extra>\",\"hovertext\":[\"GUADELOUPE\",\"GUADELOUPE\",\"GUADELOUPE\",\"GUADELOUPE\",\"GUADELOUPE\",\"GUADELOUPE\",\"GUADELOUPE\",\"GUADELOUPE\",\"GUADELOUPE\",\"GUADELOUPE\",\"GUADELOUPE\",\"GUADELOUPE\",\"GUADELOUPE\",\"GUADELOUPE\",\"GUADELOUPE\",\"GUADELOUPE\",\"GUADELOUPE\",\"GUADELOUPE\"],\"legendgroup\":\"GUADELOUPE\",\"marker\":{\"color\":\"#FF6692\",\"size\":[1.43,1.36,1.12,1.71,1.55,1.52,3.58,6.21,7.09,6.58,6.53,4.17,2.87,5.35,3.42,7.8,2.66,2.25],\"sizemode\":\"area\",\"sizeref\":15.496216666666665,\"symbol\":\"circle\"},\"mode\":\"markers\",\"name\":\"GUADELOUPE\",\"showlegend\":true,\"x\":[2002,2004,2005,2006,2007,2008,2009,2010,2011,2012,2013,2014,2015,2017,2018,2019,2020,2021],\"xaxis\":\"x\",\"y\":[0.02,0.71,0.26,0.16,0.2,0.07,0.03,0.05,1.89,0.42,0.35,0.08,0.06,0.01,0.37,0.2,0.69,0.69],\"yaxis\":\"y\",\"type\":\"scattergl\"},{\"hovertemplate\":\"<b>%{hovertext}</b><br><br>Country=GUAM<br>Year(start)=%{x}<br>Import=%{y}<br>Export=%{marker.size}<extra></extra>\",\"hovertext\":[\"GUAM\",\"GUAM\",\"GUAM\",\"GUAM\",\"GUAM\",\"GUAM\",\"GUAM\",\"GUAM\",\"GUAM\",\"GUAM\"],\"legendgroup\":\"GUAM\",\"marker\":{\"color\":\"#B6E880\",\"size\":[0.35,0.38,0.35,2.71,0.58,0.54,1.84,1.93,0.74,1.38],\"sizemode\":\"area\",\"sizeref\":15.496216666666665,\"symbol\":\"circle\"},\"mode\":\"markers\",\"name\":\"GUAM\",\"showlegend\":true,\"x\":[2002,2004,2005,2006,2007,2008,2010,2011,2020,2021],\"xaxis\":\"x\",\"y\":[0.03,0.21,1.18,0.19,0.35,0.07,0.05,0.01,0.03,0.07],\"yaxis\":\"y\",\"type\":\"scattergl\"},{\"hovertemplate\":\"<b>%{hovertext}</b><br><br>Country=GUATEMALA<br>Year(start)=%{x}<br>Import=%{y}<br>Export=%{marker.size}<extra></extra>\",\"hovertext\":[\"GUATEMALA\",\"GUATEMALA\",\"GUATEMALA\",\"GUATEMALA\",\"GUATEMALA\",\"GUATEMALA\",\"GUATEMALA\",\"GUATEMALA\",\"GUATEMALA\",\"GUATEMALA\",\"GUATEMALA\",\"GUATEMALA\",\"GUATEMALA\",\"GUATEMALA\",\"GUATEMALA\",\"GUATEMALA\",\"GUATEMALA\",\"GUATEMALA\",\"GUATEMALA\",\"GUATEMALA\",\"GUATEMALA\",\"GUATEMALA\",\"GUATEMALA\",\"GUATEMALA\"],\"legendgroup\":\"GUATEMALA\",\"marker\":{\"color\":\"#FF97FF\",\"size\":[4.56,14.43,18.69,13.12,18.12,26.36,37.84,45.94,73.77,74.86,81.41,87.15,112.68,191.29,224.61,212.36,229.01,255.97,241.23,291.93,305.37,291.32,331.35,414.06],\"sizemode\":\"area\",\"sizeref\":15.496216666666665,\"symbol\":\"circle\"},\"mode\":\"markers\",\"name\":\"GUATEMALA\",\"showlegend\":true,\"x\":[98,99,2000,2001,2002,2003,2004,2005,2006,2007,2008,2009,2010,2011,2012,2013,2014,2015,2016,2017,2018,2019,2020,2021],\"xaxis\":\"x\",\"y\":[0.88,0.92,0.07,0.96,2.43,0.2,1.06,1.83,2.11,3.58,2.94,5.74,40.18,6.71,8.31,13.12,17.12,12.52,21.7,15.97,16.27,22.95,20.75,16.34],\"yaxis\":\"y\",\"type\":\"scattergl\"},{\"hovertemplate\":\"<b>%{hovertext}</b><br><br>Country=GUERNSEY<br>Year(start)=%{x}<br>Import=%{y}<br>Export=%{marker.size}<extra></extra>\",\"hovertext\":[\"GUERNSEY\"],\"legendgroup\":\"GUERNSEY\",\"marker\":{\"color\":\"#FECB52\",\"size\":[0.03],\"sizemode\":\"area\",\"sizeref\":15.496216666666665,\"symbol\":\"circle\"},\"mode\":\"markers\",\"name\":\"GUERNSEY\",\"showlegend\":true,\"x\":[2017],\"xaxis\":\"x\",\"y\":[0.23],\"yaxis\":\"y\",\"type\":\"scattergl\"},{\"hovertemplate\":\"<b>%{hovertext}</b><br><br>Country=GUINEA<br>Year(start)=%{x}<br>Import=%{y}<br>Export=%{marker.size}<extra></extra>\",\"hovertext\":[\"GUINEA\",\"GUINEA\",\"GUINEA\",\"GUINEA\",\"GUINEA\",\"GUINEA\",\"GUINEA\",\"GUINEA\",\"GUINEA\",\"GUINEA\",\"GUINEA\",\"GUINEA\",\"GUINEA\",\"GUINEA\",\"GUINEA\",\"GUINEA\",\"GUINEA\",\"GUINEA\",\"GUINEA\",\"GUINEA\",\"GUINEA\",\"GUINEA\",\"GUINEA\",\"GUINEA\",\"GUINEA\"],\"legendgroup\":\"GUINEA\",\"marker\":{\"color\":\"#636efa\",\"size\":[6.38,6.5,9.5,13.36,24.65,34.36,35.12,51.31,52.26,79.76,130.3,78.52,79.35,96.4,131.94,206.07,203.42,283.81,278.4,354.95,377.94,404.84,354.82,501.77,437.34],\"sizemode\":\"area\",\"sizeref\":15.496216666666665,\"symbol\":\"circle\"},\"mode\":\"markers\",\"name\":\"GUINEA\",\"showlegend\":true,\"x\":[97,98,99,2000,2001,2002,2003,2004,2005,2006,2007,2008,2009,2010,2011,2012,2013,2014,2015,2016,2017,2018,2019,2020,2021],\"xaxis\":\"x\",\"y\":[0.06,5.32,4.76,4.49,15.83,14.87,4.25,27.59,22.25,342.64,685.75,288.77,320.24,103.22,262.23,527.83,194.4,729.69,370.05,279.2,514.63,414.26,416.3,1631.02,2684.86],\"yaxis\":\"y\",\"type\":\"scattergl\"},{\"hovertemplate\":\"<b>%{hovertext}</b><br><br>Country=GUINEA BISSAU<br>Year(start)=%{x}<br>Import=%{y}<br>Export=%{marker.size}<extra></extra>\",\"hovertext\":[\"GUINEA BISSAU\",\"GUINEA BISSAU\",\"GUINEA BISSAU\",\"GUINEA BISSAU\",\"GUINEA BISSAU\",\"GUINEA BISSAU\",\"GUINEA BISSAU\",\"GUINEA BISSAU\",\"GUINEA BISSAU\",\"GUINEA BISSAU\",\"GUINEA BISSAU\",\"GUINEA BISSAU\",\"GUINEA BISSAU\",\"GUINEA BISSAU\",\"GUINEA BISSAU\",\"GUINEA BISSAU\",\"GUINEA BISSAU\",\"GUINEA BISSAU\",\"GUINEA BISSAU\",\"GUINEA BISSAU\",\"GUINEA BISSAU\",\"GUINEA BISSAU\",\"GUINEA BISSAU\",\"GUINEA BISSAU\",\"GUINEA BISSAU\"],\"legendgroup\":\"GUINEA BISSAU\",\"marker\":{\"color\":\"#EF553B\",\"size\":[1.09,4.51,8.98,14.44,7.32,5.19,2.14,0.93,0.74,0.69,4.34,33.91,3.19,3.07,12.42,10.88,19.02,9.76,14.47,21.66,10.68,10.76,8.99,18.11,7.67],\"sizemode\":\"area\",\"sizeref\":15.496216666666665,\"symbol\":\"circle\"},\"mode\":\"markers\",\"name\":\"GUINEA BISSAU\",\"showlegend\":true,\"x\":[97,98,99,2000,2001,2002,2003,2004,2005,2006,2007,2008,2009,2010,2011,2012,2013,2014,2015,2016,2017,2018,2019,2020,2021],\"xaxis\":\"x\",\"y\":[43.25,18.8,36.09,61.67,9.68,47.39,52.46,70.87,96.13,49.34,63.98,102.88,184.2,59.45,235.64,140.2,109.68,158.38,198.17,215.67,256.2,123.79,124.54,126.99,141.08],\"yaxis\":\"y\",\"type\":\"scattergl\"},{\"hovertemplate\":\"<b>%{hovertext}</b><br><br>Country=GUYANA<br>Year(start)=%{x}<br>Import=%{y}<br>Export=%{marker.size}<extra></extra>\",\"hovertext\":[\"GUYANA\",\"GUYANA\",\"GUYANA\",\"GUYANA\",\"GUYANA\",\"GUYANA\",\"GUYANA\",\"GUYANA\",\"GUYANA\",\"GUYANA\",\"GUYANA\",\"GUYANA\",\"GUYANA\",\"GUYANA\",\"GUYANA\",\"GUYANA\",\"GUYANA\",\"GUYANA\",\"GUYANA\",\"GUYANA\",\"GUYANA\",\"GUYANA\",\"GUYANA\",\"GUYANA\",\"GUYANA\"],\"legendgroup\":\"GUYANA\",\"marker\":{\"color\":\"#00cc96\",\"size\":[1.19,2.27,2.4,5.09,2.11,3.52,4.77,6.86,11.15,13.22,13.63,12.18,16.3,16.04,21.53,21.94,24.19,24.41,21.87,20.07,26.03,29.66,25.21,35.69,49.6],\"sizemode\":\"area\",\"sizeref\":15.496216666666665,\"symbol\":\"circle\"},\"mode\":\"markers\",\"name\":\"GUYANA\",\"showlegend\":true,\"x\":[97,98,99,2000,2001,2002,2003,2004,2005,2006,2007,2008,2009,2010,2011,2012,2013,2014,2015,2016,2017,2018,2019,2020,2021],\"xaxis\":\"x\",\"y\":[0.03,0.49,1.69,1.33,1.94,2.19,11.93,7.17,21.25,14.76,15.89,10.66,8.32,9.24,9.0,4.59,7.28,10.3,18.48,14.48,6.59,6.42,6.95,11.28,155.88],\"yaxis\":\"y\",\"type\":\"scattergl\"},{\"hovertemplate\":\"<b>%{hovertext}</b><br><br>Country=HAITI<br>Year(start)=%{x}<br>Import=%{y}<br>Export=%{marker.size}<extra></extra>\",\"hovertext\":[\"HAITI\",\"HAITI\",\"HAITI\",\"HAITI\",\"HAITI\",\"HAITI\",\"HAITI\",\"HAITI\",\"HAITI\",\"HAITI\",\"HAITI\",\"HAITI\",\"HAITI\",\"HAITI\",\"HAITI\",\"HAITI\",\"HAITI\",\"HAITI\",\"HAITI\",\"HAITI\"],\"legendgroup\":\"HAITI\",\"marker\":{\"color\":\"#ab63fa\",\"size\":[10.89,8.56,10.18,16.33,21.73,26.75,44.37,33.06,60.53,48.3,63.69,59.21,85.45,62.27,71.44,94.01,79.35,65.51,107.63,69.13],\"sizemode\":\"area\",\"sizeref\":15.496216666666665,\"symbol\":\"circle\"},\"mode\":\"markers\",\"name\":\"HAITI\",\"showlegend\":true,\"x\":[2002,2003,2004,2005,2006,2007,2008,2009,2010,2011,2012,2013,2014,2015,2016,2017,2018,2019,2020,2021],\"xaxis\":\"x\",\"y\":[0.04,0.48,1.02,0.29,1.16,1.97,1.7,1.37,1.33,1.97,1.32,0.95,1.57,3.28,3.61,8.26,13.75,13.94,13.47,16.1],\"yaxis\":\"y\",\"type\":\"scattergl\"},{\"hovertemplate\":\"<b>%{hovertext}</b><br><br>Country=HEARD MACDONALD<br>Year(start)=%{x}<br>Import=%{y}<br>Export=%{marker.size}<extra></extra>\",\"hovertext\":[\"HEARD MACDONALD\",\"HEARD MACDONALD\",\"HEARD MACDONALD\"],\"legendgroup\":\"HEARD MACDONALD\",\"marker\":{\"color\":\"#FFA15A\",\"size\":[0.01,0.0,0.0],\"sizemode\":\"area\",\"sizeref\":15.496216666666665,\"symbol\":\"circle\"},\"mode\":\"markers\",\"name\":\"HEARD MACDONALD\",\"showlegend\":true,\"x\":[2006,2008,2012],\"xaxis\":\"x\",\"y\":[0.11,0.03,0.16],\"yaxis\":\"y\",\"type\":\"scattergl\"},{\"hovertemplate\":\"<b>%{hovertext}</b><br><br>Country=HONDURAS<br>Year(start)=%{x}<br>Import=%{y}<br>Export=%{marker.size}<extra></extra>\",\"hovertext\":[\"HONDURAS\",\"HONDURAS\",\"HONDURAS\",\"HONDURAS\",\"HONDURAS\",\"HONDURAS\",\"HONDURAS\",\"HONDURAS\",\"HONDURAS\",\"HONDURAS\",\"HONDURAS\",\"HONDURAS\",\"HONDURAS\",\"HONDURAS\",\"HONDURAS\",\"HONDURAS\",\"HONDURAS\",\"HONDURAS\",\"HONDURAS\",\"HONDURAS\",\"HONDURAS\",\"HONDURAS\",\"HONDURAS\"],\"legendgroup\":\"HONDURAS\",\"marker\":{\"color\":\"#19d3f3\",\"size\":[3.62,3.85,15.29,11.62,21.65,21.31,34.6,113.21,95.31,69.97,45.53,63.07,91.66,109.99,107.9,187.56,155.05,134.97,146.17,166.72,185.34,163.38,237.55],\"sizemode\":\"area\",\"sizeref\":15.496216666666665,\"symbol\":\"circle\"},\"mode\":\"markers\",\"name\":\"HONDURAS\",\"showlegend\":true,\"x\":[97,98,2000,2001,2002,2004,2005,2006,2007,2008,2009,2010,2011,2012,2013,2014,2015,2016,2017,2018,2019,2020,2021],\"xaxis\":\"x\",\"y\":[0.03,0.03,0.06,0.34,0.08,0.23,0.31,1.7,2.13,4.66,25.34,1.43,7.77,17.82,22.59,25.31,15.91,22.16,13.32,18.25,19.32,12.56,16.92],\"yaxis\":\"y\",\"type\":\"scattergl\"},{\"hovertemplate\":\"<b>%{hovertext}</b><br><br>Country=HONG KONG<br>Year(start)=%{x}<br>Import=%{y}<br>Export=%{marker.size}<extra></extra>\",\"hovertext\":[\"HONG KONG\",\"HONG KONG\",\"HONG KONG\",\"HONG KONG\",\"HONG KONG\",\"HONG KONG\",\"HONG KONG\",\"HONG KONG\",\"HONG KONG\",\"HONG KONG\",\"HONG KONG\",\"HONG KONG\",\"HONG KONG\",\"HONG KONG\",\"HONG KONG\",\"HONG KONG\",\"HONG KONG\",\"HONG KONG\",\"HONG KONG\",\"HONG KONG\",\"HONG KONG\",\"HONG KONG\",\"HONG KONG\",\"HONG KONG\",\"HONG KONG\"],\"legendgroup\":\"HONG KONG\",\"marker\":{\"color\":\"#FF6692\",\"size\":[1928.76,1880.57,2510.88,2640.86,2366.36,2613.33,3261.8,3691.82,4471.32,4685.16,6312.96,6655.0,7887.81,10320.26,12931.9,12279.2,12731.74,13599.88,12092.28,14047.24,14690.27,13001.99,10967.12,10162.4,8429.2],\"sizemode\":\"area\",\"sizeref\":15.496216666666665,\"symbol\":\"circle\"},\"mode\":\"markers\",\"name\":\"HONG KONG\",\"showlegend\":true,\"x\":[97,98,99,2000,2001,2002,2003,2004,2005,2006,2007,2008,2009,2010,2011,2012,2013,2014,2015,2016,2017,2018,2019,2020,2021],\"xaxis\":\"x\",\"y\":[316.26,449.31,817.9,852.11,728.86,972.59,1492.68,1730.13,2206.98,2484.05,2697.61,6451.89,4734.3,9415.4,10408.71,7907.17,7322.2,5571.99,6051.66,8204.18,10675.98,17987.01,16935.32,15172.82,13761.52],\"yaxis\":\"y\",\"type\":\"scattergl\"},{\"hovertemplate\":\"<b>%{hovertext}</b><br><br>Country=HUNGARY<br>Year(start)=%{x}<br>Import=%{y}<br>Export=%{marker.size}<extra></extra>\",\"hovertext\":[\"HUNGARY\",\"HUNGARY\",\"HUNGARY\",\"HUNGARY\",\"HUNGARY\",\"HUNGARY\",\"HUNGARY\",\"HUNGARY\",\"HUNGARY\",\"HUNGARY\",\"HUNGARY\",\"HUNGARY\",\"HUNGARY\",\"HUNGARY\",\"HUNGARY\",\"HUNGARY\",\"HUNGARY\",\"HUNGARY\",\"HUNGARY\",\"HUNGARY\",\"HUNGARY\",\"HUNGARY\",\"HUNGARY\",\"HUNGARY\",\"HUNGARY\"],\"legendgroup\":\"HUNGARY\",\"marker\":{\"color\":\"#B6E880\",\"size\":[35.6,35.53,31.7,42.66,46.69,48.26,91.87,108.1,84.16,103.8,230.41,439.69,269.68,212.85,316.0,323.74,343.62,349.26,345.13,406.29,402.69,458.08,423.94,495.26,403.42],\"sizemode\":\"area\",\"sizeref\":15.496216666666665,\"symbol\":\"circle\"},\"mode\":\"markers\",\"name\":\"HUNGARY\",\"showlegend\":true,\"x\":[97,98,99,2000,2001,2002,2003,2004,2005,2006,2007,2008,2009,2010,2011,2012,2013,2014,2015,2016,2017,2018,2019,2020,2021],\"xaxis\":\"x\",\"y\":[12.05,9.38,12.38,15.06,23.92,20.61,27.32,31.53,31.62,117.13,113.62,190.34,194.95,342.97,437.28,262.91,220.48,239.55,242.64,218.78,270.84,241.15,187.68,218.92,213.29],\"yaxis\":\"y\",\"type\":\"scattergl\"},{\"hovertemplate\":\"<b>%{hovertext}</b><br><br>Country=ICELAND<br>Year(start)=%{x}<br>Import=%{y}<br>Export=%{marker.size}<extra></extra>\",\"hovertext\":[\"ICELAND\",\"ICELAND\",\"ICELAND\",\"ICELAND\",\"ICELAND\",\"ICELAND\",\"ICELAND\",\"ICELAND\",\"ICELAND\",\"ICELAND\",\"ICELAND\",\"ICELAND\",\"ICELAND\",\"ICELAND\",\"ICELAND\",\"ICELAND\",\"ICELAND\",\"ICELAND\",\"ICELAND\",\"ICELAND\",\"ICELAND\",\"ICELAND\",\"ICELAND\",\"ICELAND\",\"ICELAND\"],\"legendgroup\":\"ICELAND\",\"marker\":{\"color\":\"#FF97FF\",\"size\":[6.38,4.07,2.97,5.91,4.89,8.29,17.6,12.91,13.05,11.44,13.76,12.73,17.08,84.36,34.03,25.92,19.89,19.93,18.55,16.72,5.9,30.79,10.05,10.91,7.83],\"sizemode\":\"area\",\"sizeref\":15.496216666666665,\"symbol\":\"circle\"},\"mode\":\"markers\",\"name\":\"ICELAND\",\"showlegend\":true,\"x\":[97,98,99,2000,2001,2002,2003,2004,2005,2006,2007,2008,2009,2010,2011,2012,2013,2014,2015,2016,2017,2018,2019,2020,2021],\"xaxis\":\"x\",\"y\":[0.32,3.72,0.96,1.01,2.25,13.54,9.53,2.3,6.32,3.69,3.81,3.5,9.97,4.63,4.69,2.21,6.63,4.69,4.25,4.68,7.4,8.67,10.41,6.22,5.22],\"yaxis\":\"y\",\"type\":\"scattergl\"},{\"hovertemplate\":\"<b>%{hovertext}</b><br><br>Country=INDONESIA<br>Year(start)=%{x}<br>Import=%{y}<br>Export=%{marker.size}<extra></extra>\",\"hovertext\":[\"INDONESIA\",\"INDONESIA\",\"INDONESIA\",\"INDONESIA\",\"INDONESIA\",\"INDONESIA\",\"INDONESIA\",\"INDONESIA\",\"INDONESIA\",\"INDONESIA\",\"INDONESIA\",\"INDONESIA\",\"INDONESIA\",\"INDONESIA\",\"INDONESIA\",\"INDONESIA\",\"INDONESIA\",\"INDONESIA\",\"INDONESIA\",\"INDONESIA\",\"INDONESIA\",\"INDONESIA\",\"INDONESIA\",\"INDONESIA\",\"INDONESIA\"],\"legendgroup\":\"INDONESIA\",\"marker\":{\"color\":\"#FECB52\",\"size\":[437.27,185.27,325.58,399.75,533.71,826.06,1127.2,1332.6,1380.2,2032.96,2164.17,2559.82,3063.36,5700.78,6677.99,5331.3,4850.2,4043.32,2819.49,3488.12,3963.77,5275.6,4129.33,5026.21,6035.04],\"sizemode\":\"area\",\"sizeref\":15.496216666666665,\"symbol\":\"circle\"},\"mode\":\"markers\",\"name\":\"INDONESIA\",\"showlegend\":true,\"x\":[97,98,99,2000,2001,2002,2003,2004,2005,2006,2007,2008,2009,2010,2011,2012,2013,2014,2015,2016,2017,2018,2019,2020,2021],\"xaxis\":\"x\",\"y\":[731.63,829.1,953.7,910.24,1036.81,1380.87,2122.06,2617.74,3008.11,4181.96,4821.25,6666.34,8656.66,9918.63,14765.93,14879.49,14748.3,15004.64,13131.93,13427.99,16438.8,15849.67,15061.87,12470.17,12819.28],\"yaxis\":\"y\",\"type\":\"scattergl\"},{\"hovertemplate\":\"<b>%{hovertext}</b><br><br>Country=IRAN<br>Year(start)=%{x}<br>Import=%{y}<br>Export=%{marker.size}<extra></extra>\",\"hovertext\":[\"IRAN\",\"IRAN\",\"IRAN\",\"IRAN\",\"IRAN\",\"IRAN\",\"IRAN\",\"IRAN\",\"IRAN\",\"IRAN\",\"IRAN\",\"IRAN\",\"IRAN\",\"IRAN\",\"IRAN\",\"IRAN\",\"IRAN\",\"IRAN\",\"IRAN\",\"IRAN\",\"IRAN\",\"IRAN\",\"IRAN\",\"IRAN\",\"IRAN\"],\"legendgroup\":\"IRAN\",\"marker\":{\"color\":\"#636efa\",\"size\":[171.66,159.12,152.05,226.97,253.03,654.73,918.11,1231.39,1188.35,1446.48,1943.92,2534.01,1853.17,2492.9,2411.33,3351.07,4971.35,4175.06,2781.51,2379.61,2652.37,3511.01,3373.62,1774.69,941.25],\"sizemode\":\"area\",\"sizeref\":15.496216666666665,\"symbol\":\"circle\"},\"mode\":\"markers\",\"name\":\"IRAN\",\"showlegend\":true,\"x\":[97,98,99,2000,2001,2002,2003,2004,2005,2006,2007,2008,2009,2010,2011,2012,2013,2014,2015,2016,2017,2018,2019,2020,2021],\"xaxis\":\"x\",\"y\":[633.01,473.73,1089.46,211.23,283.82,258.3,266.82,410.21,702.46,7618.55,10943.61,12376.77,11540.85,10928.21,13790.16,11594.46,10307.16,8955.02,6278.75,10506.51,11111.52,13525.64,1397.33,331.48,295.47],\"yaxis\":\"y\",\"type\":\"scattergl\"},{\"hovertemplate\":\"<b>%{hovertext}</b><br><br>Country=IRAQ<br>Year(start)=%{x}<br>Import=%{y}<br>Export=%{marker.size}<extra></extra>\",\"hovertext\":[\"IRAQ\",\"IRAQ\",\"IRAQ\",\"IRAQ\",\"IRAQ\",\"IRAQ\",\"IRAQ\",\"IRAQ\",\"IRAQ\",\"IRAQ\",\"IRAQ\",\"IRAQ\",\"IRAQ\",\"IRAQ\",\"IRAQ\",\"IRAQ\",\"IRAQ\",\"IRAQ\",\"IRAQ\",\"IRAQ\",\"IRAQ\",\"IRAQ\",\"IRAQ\",\"IRAQ\",\"IRAQ\"],\"legendgroup\":\"IRAQ\",\"marker\":{\"color\":\"#EF553B\",\"size\":[11.2,36.3,49.38,84.02,206.79,214.88,75.17,131.19,155.94,203.99,272.1,437.43,477.13,678.14,763.97,1278.13,918.03,829.32,1004.39,1111.45,1462.23,1788.66,1878.17,1498.99,1625.4],\"sizemode\":\"area\",\"sizeref\":15.496216666666665,\"symbol\":\"circle\"},\"mode\":\"markers\",\"name\":\"IRAQ\",\"showlegend\":true,\"x\":[97,98,99,2000,2001,2002,2003,2004,2005,2006,2007,2008,2009,2010,2011,2012,2013,2014,2015,2016,2017,2018,2019,2020,2021],\"xaxis\":\"x\",\"y\":[185.41,151.17,199.72,6.9,0.04,0.03,0.14,1.12,2.05,5514.41,6837.8,7709.94,7026.93,9008.3,18918.47,19247.31,18520.86,14247.66,10837.58,11707.94,17615.81,22372.47,23740.18,14287.1,21735.51],\"yaxis\":\"y\",\"type\":\"scattergl\"},{\"hovertemplate\":\"<b>%{hovertext}</b><br><br>Country=IRELAND<br>Year(start)=%{x}<br>Import=%{y}<br>Export=%{marker.size}<extra></extra>\",\"hovertext\":[\"IRELAND\",\"IRELAND\",\"IRELAND\",\"IRELAND\",\"IRELAND\",\"IRELAND\",\"IRELAND\",\"IRELAND\",\"IRELAND\",\"IRELAND\",\"IRELAND\",\"IRELAND\",\"IRELAND\",\"IRELAND\",\"IRELAND\",\"IRELAND\",\"IRELAND\",\"IRELAND\",\"IRELAND\",\"IRELAND\",\"IRELAND\",\"IRELAND\",\"IRELAND\",\"IRELAND\",\"IRELAND\"],\"legendgroup\":\"IRELAND\",\"marker\":{\"color\":\"#00cc96\",\"size\":[66.86,67.43,80.15,103.18,102.38,135.81,150.93,211.99,279.77,226.08,314.47,449.77,260.57,270.34,380.26,386.69,414.08,759.47,525.79,485.28,536.08,530.56,533.69,563.22,499.66],\"sizemode\":\"area\",\"sizeref\":15.496216666666665,\"symbol\":\"circle\"},\"mode\":\"markers\",\"name\":\"IRELAND\",\"showlegend\":true,\"x\":[97,98,99,2000,2001,2002,2003,2004,2005,2006,2007,2008,2009,2010,2011,2012,2013,2014,2015,2016,2017,2018,2019,2020,2021],\"xaxis\":\"x\",\"y\":[35.67,40.18,55.68,72.0,84.94,97.98,131.13,183.15,161.91,289.51,260.32,239.06,264.82,259.26,411.38,497.15,558.38,533.19,551.51,525.82,795.01,422.52,604.15,414.46,978.98],\"yaxis\":\"y\",\"type\":\"scattergl\"},{\"hovertemplate\":\"<b>%{hovertext}</b><br><br>Country=ISRAEL<br>Year(start)=%{x}<br>Import=%{y}<br>Export=%{marker.size}<extra></extra>\",\"hovertext\":[\"ISRAEL\",\"ISRAEL\",\"ISRAEL\",\"ISRAEL\",\"ISRAEL\",\"ISRAEL\",\"ISRAEL\",\"ISRAEL\",\"ISRAEL\",\"ISRAEL\",\"ISRAEL\",\"ISRAEL\",\"ISRAEL\",\"ISRAEL\",\"ISRAEL\",\"ISRAEL\",\"ISRAEL\",\"ISRAEL\",\"ISRAEL\",\"ISRAEL\",\"ISRAEL\",\"ISRAEL\",\"ISRAEL\",\"ISRAEL\",\"ISRAEL\"],\"legendgroup\":\"ISRAEL\",\"marker\":{\"color\":\"#ab63fa\",\"size\":[353.24,355.21,499.7,472.29,428.02,634.54,723.98,1005.76,1201.5,1322.45,1604.36,1458.55,1968.59,2919.78,4040.52,3739.71,3746.94,3289.85,2821.18,3087.16,3364.05,3717.98,3363.1,2701.49,3569.38],\"sizemode\":\"area\",\"sizeref\":15.496216666666665,\"symbol\":\"circle\"},\"mode\":\"markers\",\"name\":\"ISRAEL\",\"showlegend\":true,\"x\":[97,98,99,2000,2001,2002,2003,2004,2005,2006,2007,2008,2009,2010,2011,2012,2013,2014,2015,2016,2017,2018,2019,2020,2021],\"xaxis\":\"x\",\"y\":[335.63,350.27,581.94,432.48,427.75,602.68,669.75,988.11,1031.19,1080.59,1425.94,2090.41,1885.06,2253.51,2635.34,2356.66,2311.58,2328.04,2095.33,1961.12,2066.51,1931.58,1592.7,1960.19,2138.47],\"yaxis\":\"y\",\"type\":\"scattergl\"},{\"hovertemplate\":\"<b>%{hovertext}</b><br><br>Country=ITALY<br>Year(start)=%{x}<br>Import=%{y}<br>Export=%{marker.size}<extra></extra>\",\"hovertext\":[\"ITALY\",\"ITALY\",\"ITALY\",\"ITALY\",\"ITALY\",\"ITALY\",\"ITALY\",\"ITALY\",\"ITALY\",\"ITALY\",\"ITALY\",\"ITALY\",\"ITALY\",\"ITALY\",\"ITALY\",\"ITALY\",\"ITALY\",\"ITALY\",\"ITALY\",\"ITALY\",\"ITALY\",\"ITALY\",\"ITALY\",\"ITALY\",\"ITALY\"],\"legendgroup\":\"ITALY\",\"marker\":{\"color\":\"#FFA15A\",\"size\":[1113.84,1054.99,1119.75,1308.75,1206.53,1357.08,1729.4,2285.99,2519.04,3584.65,3914.02,3824.58,3400.25,4551.58,4883.09,4372.51,5272.75,5092.31,4217.73,4902.18,5709.85,5593.42,4970.81,4735.74,6002.78],\"sizemode\":\"area\",\"sizeref\":15.496216666666665,\"symbol\":\"circle\"},\"mode\":\"markers\",\"name\":\"ITALY\",\"showlegend\":true,\"x\":[97,98,99,2000,2001,2002,2003,2004,2005,2006,2007,2008,2009,2010,2011,2012,2013,2014,2015,2016,2017,2018,2019,2020,2021],\"xaxis\":\"x\",\"y\":[894.25,1088.26,733.95,723.58,704.78,811.99,1071.03,1373.1,1855.63,2676.03,3906.72,4428.19,3862.06,4256.02,5121.69,4711.27,4156.61,4231.81,4072.22,3895.01,4706.89,5292.38,4490.92,3862.05,3694.94],\"yaxis\":\"y\",\"type\":\"scattergl\"},{\"hovertemplate\":\"<b>%{hovertext}</b><br><br>Country=JAMAICA<br>Year(start)=%{x}<br>Import=%{y}<br>Export=%{marker.size}<extra></extra>\",\"hovertext\":[\"JAMAICA\",\"JAMAICA\",\"JAMAICA\",\"JAMAICA\",\"JAMAICA\",\"JAMAICA\",\"JAMAICA\",\"JAMAICA\",\"JAMAICA\",\"JAMAICA\",\"JAMAICA\",\"JAMAICA\",\"JAMAICA\",\"JAMAICA\",\"JAMAICA\",\"JAMAICA\",\"JAMAICA\",\"JAMAICA\",\"JAMAICA\",\"JAMAICA\",\"JAMAICA\",\"JAMAICA\",\"JAMAICA\",\"JAMAICA\",\"JAMAICA\"],\"legendgroup\":\"JAMAICA\",\"marker\":{\"color\":\"#19d3f3\",\"size\":[1.35,1.78,3.91,9.15,5.08,10.57,9.06,13.43,25.86,20.19,24.45,22.49,20.85,22.34,26.66,29.7,36.22,37.8,40.21,43.01,52.24,55.42,56.76,64.06,57.83],\"sizemode\":\"area\",\"sizeref\":15.496216666666665,\"symbol\":\"circle\"},\"mode\":\"markers\",\"name\":\"JAMAICA\",\"showlegend\":true,\"x\":[97,98,99,2000,2001,2002,2003,2004,2005,2006,2007,2008,2009,2010,2011,2012,2013,2014,2015,2016,2017,2018,2019,2020,2021],\"xaxis\":\"x\",\"y\":[0.03,0.27,0.07,0.07,0.71,0.15,0.92,2.65,2.14,0.6,22.86,1.11,0.65,0.77,1.62,2.4,0.9,1.78,1.55,1.17,4.35,5.01,2.96,2.23,1.43],\"yaxis\":\"y\",\"type\":\"scattergl\"},{\"hovertemplate\":\"<b>%{hovertext}</b><br><br>Country=JAPAN<br>Year(start)=%{x}<br>Import=%{y}<br>Export=%{marker.size}<extra></extra>\",\"hovertext\":[\"JAPAN\",\"JAPAN\",\"JAPAN\",\"JAPAN\",\"JAPAN\",\"JAPAN\",\"JAPAN\",\"JAPAN\",\"JAPAN\",\"JAPAN\",\"JAPAN\",\"JAPAN\",\"JAPAN\",\"JAPAN\",\"JAPAN\",\"JAPAN\",\"JAPAN\",\"JAPAN\",\"JAPAN\",\"JAPAN\",\"JAPAN\",\"JAPAN\",\"JAPAN\",\"JAPAN\",\"JAPAN\"],\"legendgroup\":\"JAPAN\",\"marker\":{\"color\":\"#FF6692\",\"size\":[1892.07,1652.0,1685.37,1794.48,1510.44,1864.03,1709.29,2127.91,2481.26,2868.12,3858.48,3025.7,3629.54,5091.24,6328.54,6100.06,6814.07,5385.57,4662.85,3845.73,4734.22,4861.73,4520.25,4434.59,4654.12],\"sizemode\":\"area\",\"sizeref\":15.496216666666665,\"symbol\":\"circle\"},\"mode\":\"markers\",\"name\":\"JAPAN\",\"showlegend\":true,\"x\":[97,98,99,2000,2001,2002,2003,2004,2005,2006,2007,2008,2009,2010,2011,2012,2013,2014,2015,2016,2017,2018,2019,2020,2021],\"xaxis\":\"x\",\"y\":[2144.9,2465.72,2535.8,1842.19,2146.44,1836.33,2667.68,3235.13,4061.1,4599.54,6325.92,7886.27,6734.18,8632.03,11999.43,12412.29,9480.75,10131.36,9850.22,9754.64,10973.35,12772.67,12434.67,10924.74,10855.09],\"yaxis\":\"y\",\"type\":\"scattergl\"},{\"hovertemplate\":\"<b>%{hovertext}</b><br><br>Country=JERSEY<br>Year(start)=%{x}<br>Import=%{y}<br>Export=%{marker.size}<extra></extra>\",\"hovertext\":[\"JERSEY\"],\"legendgroup\":\"JERSEY\",\"marker\":{\"color\":\"#B6E880\",\"size\":[0.14],\"sizemode\":\"area\",\"sizeref\":15.496216666666665,\"symbol\":\"circle\"},\"mode\":\"markers\",\"name\":\"JERSEY\",\"showlegend\":true,\"x\":[2019],\"xaxis\":\"x\",\"y\":[0.14],\"yaxis\":\"y\",\"type\":\"scattergl\"},{\"hovertemplate\":\"<b>%{hovertext}</b><br><br>Country=JORDAN<br>Year(start)=%{x}<br>Import=%{y}<br>Export=%{marker.size}<extra></extra>\",\"hovertext\":[\"JORDAN\",\"JORDAN\",\"JORDAN\",\"JORDAN\",\"JORDAN\",\"JORDAN\",\"JORDAN\",\"JORDAN\",\"JORDAN\",\"JORDAN\",\"JORDAN\",\"JORDAN\",\"JORDAN\",\"JORDAN\",\"JORDAN\",\"JORDAN\",\"JORDAN\",\"JORDAN\",\"JORDAN\",\"JORDAN\",\"JORDAN\",\"JORDAN\",\"JORDAN\",\"JORDAN\",\"JORDAN\"],\"legendgroup\":\"JORDAN\",\"marker\":{\"color\":\"#FF97FF\",\"size\":[69.24,68.77,62.76,79.5,80.9,101.81,150.99,128.25,184.97,178.98,358.33,431.83,245.62,485.36,821.08,1000.57,1595.89,1431.11,499.76,522.41,540.82,578.81,960.66,630.89,649.87],\"sizemode\":\"area\",\"sizeref\":15.496216666666665,\"symbol\":\"circle\"},\"mode\":\"markers\",\"name\":\"JORDAN\",\"showlegend\":true,\"x\":[97,98,99,2000,2001,2002,2003,2004,2005,2006,2007,2008,2009,2010,2011,2012,2013,2014,2015,2016,2017,2018,2019,2020,2021],\"xaxis\":\"x\",\"y\":[168.37,275.98,262.76,242.63,209.76,224.45,230.27,355.89,442.33,470.9,687.06,1776.57,823.43,818.93,1483.06,942.28,610.71,857.85,853.12,828.24,984.98,1116.25,1064.66,1065.53,1283.5],\"yaxis\":\"y\",\"type\":\"scattergl\"},{\"hovertemplate\":\"<b>%{hovertext}</b><br><br>Country=KAZAKHSTAN<br>Year(start)=%{x}<br>Import=%{y}<br>Export=%{marker.size}<extra></extra>\",\"hovertext\":[\"KAZAKHSTAN\",\"KAZAKHSTAN\",\"KAZAKHSTAN\",\"KAZAKHSTAN\",\"KAZAKHSTAN\",\"KAZAKHSTAN\",\"KAZAKHSTAN\",\"KAZAKHSTAN\",\"KAZAKHSTAN\",\"KAZAKHSTAN\",\"KAZAKHSTAN\",\"KAZAKHSTAN\",\"KAZAKHSTAN\",\"KAZAKHSTAN\",\"KAZAKHSTAN\",\"KAZAKHSTAN\",\"KAZAKHSTAN\",\"KAZAKHSTAN\",\"KAZAKHSTAN\",\"KAZAKHSTAN\",\"KAZAKHSTAN\",\"KAZAKHSTAN\",\"KAZAKHSTAN\",\"KAZAKHSTAN\",\"KAZAKHSTAN\"],\"legendgroup\":\"KAZAKHSTAN\",\"marker\":{\"color\":\"#FECB52\",\"size\":[15.13,38.0,27.19,50.08,45.7,46.88,74.81,81.42,90.86,83.18,111.99,131.68,136.54,172.16,244.39,286.23,261.51,250.68,151.91,120.88,125.37,143.13,202.59,225.96,153.04],\"sizemode\":\"area\",\"sizeref\":15.496216666666665,\"symbol\":\"circle\"},\"mode\":\"markers\",\"name\":\"KAZAKHSTAN\",\"showlegend\":true,\"x\":[97,98,99,2000,2001,2002,2003,2004,2005,2006,2007,2008,2009,2010,2011,2012,2013,2014,2015,2016,2017,2018,2019,2020,2021],\"xaxis\":\"x\",\"y\":[36.03,12.43,13.45,14.04,7.39,12.73,9.26,15.39,26.3,88.3,76.78,159.03,154.91,138.42,191.86,139.99,656.33,701.67,352.93,521.29,907.43,708.78,2255.7,804.97,275.97],\"yaxis\":\"y\",\"type\":\"scattergl\"},{\"hovertemplate\":\"<b>%{hovertext}</b><br><br>Country=KENYA<br>Year(start)=%{x}<br>Import=%{y}<br>Export=%{marker.size}<extra></extra>\",\"hovertext\":[\"KENYA\",\"KENYA\",\"KENYA\",\"KENYA\",\"KENYA\",\"KENYA\",\"KENYA\",\"KENYA\",\"KENYA\",\"KENYA\",\"KENYA\",\"KENYA\",\"KENYA\",\"KENYA\",\"KENYA\",\"KENYA\",\"KENYA\",\"KENYA\",\"KENYA\",\"KENYA\",\"KENYA\",\"KENYA\",\"KENYA\",\"KENYA\",\"KENYA\"],\"legendgroup\":\"KENYA\",\"marker\":{\"color\":\"#636efa\",\"size\":[123.91,145.2,116.73,140.93,156.01,203.59,229.48,426.64,576.54,1309.22,1584.63,1362.1,1452.0,2182.01,2277.46,3770.34,3882.15,4117.93,3025.85,2194.29,1974.57,2071.84,2108.58,1895.84,1950.86],\"sizemode\":\"area\",\"sizeref\":15.496216666666665,\"symbol\":\"circle\"},\"mode\":\"markers\",\"name\":\"KENYA\",\"showlegend\":true,\"x\":[97,98,99,2000,2001,2002,2003,2004,2005,2006,2007,2008,2009,2010,2011,2012,2013,2014,2015,2016,2017,2018,2019,2020,2021],\"xaxis\":\"x\",\"y\":[20.95,36.21,21.02,19.02,31.94,33.55,41.93,46.73,48.52,56.46,86.64,82.17,78.93,123.98,113.39,105.95,126.63,117.42,127.55,104.36,72.57,137.12,89.62,130.27,115.14],\"yaxis\":\"y\",\"type\":\"scattergl\"},{\"hovertemplate\":\"<b>%{hovertext}</b><br><br>Country=KIRIBATI REP<br>Year(start)=%{x}<br>Import=%{y}<br>Export=%{marker.size}<extra></extra>\",\"hovertext\":[\"KIRIBATI REP\",\"KIRIBATI REP\",\"KIRIBATI REP\",\"KIRIBATI REP\",\"KIRIBATI REP\",\"KIRIBATI REP\",\"KIRIBATI REP\",\"KIRIBATI REP\",\"KIRIBATI REP\"],\"legendgroup\":\"KIRIBATI REP\",\"marker\":{\"color\":\"#EF553B\",\"size\":[0.02,0.05,3.4,2.02,0.13,0.37,1.0,0.37,1.46],\"sizemode\":\"area\",\"sizeref\":15.496216666666665,\"symbol\":\"circle\"},\"mode\":\"markers\",\"name\":\"KIRIBATI REP\",\"showlegend\":true,\"x\":[99,2003,2006,2008,2010,2012,2014,2018,2021],\"xaxis\":\"x\",\"y\":[0.02,0.17,0.04,0.06,0.45,0.08,0.01,0.22,0.04],\"yaxis\":\"y\",\"type\":\"scattergl\"},{\"hovertemplate\":\"<b>%{hovertext}</b><br><br>Country=KOREA DP RP<br>Year(start)=%{x}<br>Import=%{y}<br>Export=%{marker.size}<extra></extra>\",\"hovertext\":[\"KOREA DP RP\",\"KOREA DP RP\",\"KOREA DP RP\",\"KOREA DP RP\",\"KOREA DP RP\",\"KOREA DP RP\",\"KOREA DP RP\",\"KOREA DP RP\",\"KOREA DP RP\",\"KOREA DP RP\",\"KOREA DP RP\",\"KOREA DP RP\",\"KOREA DP RP\",\"KOREA DP RP\",\"KOREA DP RP\",\"KOREA DP RP\",\"KOREA DP RP\",\"KOREA DP RP\",\"KOREA DP RP\",\"KOREA DP RP\",\"KOREA DP RP\",\"KOREA DP RP\",\"KOREA DP RP\",\"KOREA DP RP\",\"KOREA DP RP\"],\"legendgroup\":\"KOREA DP RP\",\"marker\":{\"color\":\"#00cc96\",\"size\":[37.63,18.96,67.19,170.61,160.07,183.13,158.75,123.91,54.53,105.41,850.96,937.18,422.38,329.13,229.18,202.78,186.8,76.52,110.88,44.84,57.55,26.99,8.97,2.79,0.24],\"sizemode\":\"area\",\"sizeref\":15.496216666666665,\"symbol\":\"circle\"},\"mode\":\"markers\",\"name\":\"KOREA DP RP\",\"showlegend\":true,\"x\":[97,98,99,2000,2001,2002,2003,2004,2005,2006,2007,2008,2009,2010,2011,2012,2013,2014,2015,2016,2017,2018,2019,2020,2021],\"xaxis\":\"x\",\"y\":[57.38,90.2,16.58,19.3,3.19,4.7,1.08,9.33,56.57,489.39,161.41,56.72,8.71,143.98,180.77,259.39,12.48,131.93,87.9,88.59,25.08,3.01,3.47,1.41,5.27],\"yaxis\":\"y\",\"type\":\"scattergl\"},{\"hovertemplate\":\"<b>%{hovertext}</b><br><br>Country=KOREA RP<br>Year(start)=%{x}<br>Import=%{y}<br>Export=%{marker.size}<extra></extra>\",\"hovertext\":[\"KOREA RP\",\"KOREA RP\",\"KOREA RP\",\"KOREA RP\",\"KOREA RP\",\"KOREA RP\",\"KOREA RP\",\"KOREA RP\",\"KOREA RP\",\"KOREA RP\",\"KOREA RP\",\"KOREA RP\",\"KOREA RP\",\"KOREA RP\",\"KOREA RP\",\"KOREA RP\",\"KOREA RP\",\"KOREA RP\",\"KOREA RP\",\"KOREA RP\",\"KOREA RP\",\"KOREA RP\",\"KOREA RP\",\"KOREA RP\",\"KOREA RP\"],\"legendgroup\":\"KOREA RP\",\"marker\":{\"color\":\"#ab63fa\",\"size\":[467.55,307.9,476.56,450.78,471.37,644.85,764.86,1041.68,1827.21,2518.4,2860.84,3952.29,3421.05,3727.29,4352.35,4202.25,4208.69,4602.95,3523.43,4241.42,4460.98,4705.07,4845.15,4684.62,5671.82],\"sizemode\":\"area\",\"sizeref\":15.496216666666665,\"symbol\":\"circle\"},\"mode\":\"markers\",\"name\":\"KOREA RP\",\"showlegend\":true,\"x\":[97,98,99,2000,2001,2002,2003,2004,2005,2006,2007,2008,2009,2010,2011,2012,2013,2014,2015,2016,2017,2018,2019,2020,2021],\"xaxis\":\"x\",\"y\":[950.41,1394.43,1104.42,893.76,1141.37,1522.01,2829.17,3508.77,4563.85,4803.15,6044.8,8676.78,8576.07,10475.29,12811.99,13105.12,12470.6,13529.11,13047.12,12585.35,16361.77,16758.97,15659.7,12772.97,12793.51],\"yaxis\":\"y\",\"type\":\"scattergl\"},{\"hovertemplate\":\"<b>%{hovertext}</b><br><br>Country=KUWAIT<br>Year(start)=%{x}<br>Import=%{y}<br>Export=%{marker.size}<extra></extra>\",\"hovertext\":[\"KUWAIT\",\"KUWAIT\",\"KUWAIT\",\"KUWAIT\",\"KUWAIT\",\"KUWAIT\",\"KUWAIT\",\"KUWAIT\",\"KUWAIT\",\"KUWAIT\",\"KUWAIT\",\"KUWAIT\",\"KUWAIT\",\"KUWAIT\",\"KUWAIT\",\"KUWAIT\",\"KUWAIT\",\"KUWAIT\",\"KUWAIT\",\"KUWAIT\",\"KUWAIT\",\"KUWAIT\",\"KUWAIT\",\"KUWAIT\",\"KUWAIT\"],\"legendgroup\":\"KUWAIT\",\"marker\":{\"color\":\"#FFA15A\",\"size\":[178.37,164.67,154.3,199.11,206.25,250.56,319.09,421.44,513.73,614.81,681.54,797.5,782.45,1856.01,1181.41,1061.08,1061.14,1198.89,1247.51,1497.99,1365.66,1333.92,1286.56,1054.2,888.41],\"sizemode\":\"area\",\"sizeref\":15.496216666666665,\"symbol\":\"circle\"},\"mode\":\"markers\",\"name\":\"KUWAIT\",\"showlegend\":true,\"x\":[97,98,99,2000,2001,2002,2003,2004,2005,2006,2007,2008,2009,2010,2011,2012,2013,2014,2015,2016,2017,2018,2019,2020,2021],\"xaxis\":\"x\",\"y\":[889.79,1501.09,1310.69,112.66,73.69,179.5,142.48,305.94,461.85,5993.23,7704.25,9593.74,8249.49,10313.64,16439.64,16588.13,17153.55,13381.97,4969.69,4462.28,7165.69,7430.82,9573.8,5214.15,7837.52],\"yaxis\":\"y\",\"type\":\"scattergl\"},{\"hovertemplate\":\"<b>%{hovertext}</b><br><br>Country=KYRGHYZSTAN<br>Year(start)=%{x}<br>Import=%{y}<br>Export=%{marker.size}<extra></extra>\",\"hovertext\":[\"KYRGHYZSTAN\",\"KYRGHYZSTAN\",\"KYRGHYZSTAN\",\"KYRGHYZSTAN\",\"KYRGHYZSTAN\",\"KYRGHYZSTAN\",\"KYRGHYZSTAN\",\"KYRGHYZSTAN\",\"KYRGHYZSTAN\",\"KYRGHYZSTAN\",\"KYRGHYZSTAN\",\"KYRGHYZSTAN\",\"KYRGHYZSTAN\",\"KYRGHYZSTAN\",\"KYRGHYZSTAN\",\"KYRGHYZSTAN\",\"KYRGHYZSTAN\",\"KYRGHYZSTAN\",\"KYRGHYZSTAN\",\"KYRGHYZSTAN\",\"KYRGHYZSTAN\",\"KYRGHYZSTAN\",\"KYRGHYZSTAN\",\"KYRGHYZSTAN\",\"KYRGHYZSTAN\"],\"legendgroup\":\"KYRGHYZSTAN\",\"marker\":{\"color\":\"#19d3f3\",\"size\":[10.79,8.7,13.8,17.59,10.97,14.67,38.2,49.57,28.09,37.08,31.52,22.92,26.84,25.79,30.55,34.99,34.54,37.76,25.11,30.44,28.59,30.02,29.13,38.71,21.1],\"sizemode\":\"area\",\"sizeref\":15.496216666666665,\"symbol\":\"circle\"},\"mode\":\"markers\",\"name\":\"KYRGHYZSTAN\",\"showlegend\":true,\"x\":[97,98,99,2000,2001,2002,2003,2004,2005,2006,2007,2008,2009,2010,2011,2012,2013,2014,2015,2016,2017,2018,2019,2020,2021],\"xaxis\":\"x\",\"y\":[0.01,0.1,1.82,4.43,0.56,0.47,0.54,0.63,1.47,0.76,0.91,1.03,0.64,1.2,0.89,2.09,0.64,0.77,1.79,1.48,30.94,2.59,1.33,5.16,1.37],\"yaxis\":\"y\",\"type\":\"scattergl\"},{\"hovertemplate\":\"<b>%{hovertext}</b><br><br>Country=LAO PD RP<br>Year(start)=%{x}<br>Import=%{y}<br>Export=%{marker.size}<extra></extra>\",\"hovertext\":[\"LAO PD RP\",\"LAO PD RP\",\"LAO PD RP\",\"LAO PD RP\",\"LAO PD RP\",\"LAO PD RP\",\"LAO PD RP\",\"LAO PD RP\",\"LAO PD RP\",\"LAO PD RP\",\"LAO PD RP\",\"LAO PD RP\",\"LAO PD RP\",\"LAO PD RP\",\"LAO PD RP\",\"LAO PD RP\",\"LAO PD RP\",\"LAO PD RP\",\"LAO PD RP\",\"LAO PD RP\",\"LAO PD RP\",\"LAO PD RP\"],\"legendgroup\":\"LAO PD RP\",\"marker\":{\"color\":\"#FF6692\",\"size\":[0.31,3.16,1.58,0.43,2.65,5.47,2.39,3.86,9.0,16.93,13.11,14.97,28.91,49.89,67.31,37.94,25.72,25.0,39.38,25.08,27.34,11.4],\"sizemode\":\"area\",\"sizeref\":15.496216666666665,\"symbol\":\"circle\"},\"mode\":\"markers\",\"name\":\"LAO PD RP\",\"showlegend\":true,\"x\":[97,2001,2002,2003,2004,2005,2006,2007,2008,2009,2010,2011,2012,2013,2014,2015,2016,2017,2018,2019,2020,2021],\"xaxis\":\"x\",\"y\":[0.01,0.04,0.15,0.13,0.05,0.1,0.35,0.11,0.53,20.05,0.22,89.26,138.64,39.4,85.28,180.03,207.38,168.63,1.04,3.09,1.7,0.71],\"yaxis\":\"y\",\"type\":\"scattergl\"},{\"hovertemplate\":\"<b>%{hovertext}</b><br><br>Country=LATVIA<br>Year(start)=%{x}<br>Import=%{y}<br>Export=%{marker.size}<extra></extra>\",\"hovertext\":[\"LATVIA\",\"LATVIA\",\"LATVIA\",\"LATVIA\",\"LATVIA\",\"LATVIA\",\"LATVIA\",\"LATVIA\",\"LATVIA\",\"LATVIA\",\"LATVIA\",\"LATVIA\",\"LATVIA\",\"LATVIA\",\"LATVIA\",\"LATVIA\",\"LATVIA\",\"LATVIA\",\"LATVIA\",\"LATVIA\",\"LATVIA\",\"LATVIA\",\"LATVIA\",\"LATVIA\",\"LATVIA\"],\"legendgroup\":\"LATVIA\",\"marker\":{\"color\":\"#B6E880\",\"size\":[6.73,9.52,12.97,13.68,6.17,8.84,16.33,17.42,28.39,39.81,59.5,44.93,47.17,103.19,96.18,104.08,102.08,98.12,79.5,115.6,112.22,115.52,119.25,103.48,101.85],\"sizemode\":\"area\",\"sizeref\":15.496216666666665,\"symbol\":\"circle\"},\"mode\":\"markers\",\"name\":\"LATVIA\",\"showlegend\":true,\"x\":[97,98,99,2000,2001,2002,2003,2004,2005,2006,2007,2008,2009,2010,2011,2012,2013,2014,2015,2016,2017,2018,2019,2020,2021],\"xaxis\":\"x\",\"y\":[12.8,12.19,0.86,4.43,0.93,2.84,0.43,1.1,10.13,31.85,40.95,113.87,154.94,196.32,143.2,73.63,103.89,36.22,61.57,39.65,52.63,158.44,265.54,48.88,30.74],\"yaxis\":\"y\",\"type\":\"scattergl\"},{\"hovertemplate\":\"<b>%{hovertext}</b><br><br>Country=LEBANON<br>Year(start)=%{x}<br>Import=%{y}<br>Export=%{marker.size}<extra></extra>\",\"hovertext\":[\"LEBANON\",\"LEBANON\",\"LEBANON\",\"LEBANON\",\"LEBANON\",\"LEBANON\",\"LEBANON\",\"LEBANON\",\"LEBANON\",\"LEBANON\",\"LEBANON\",\"LEBANON\",\"LEBANON\",\"LEBANON\",\"LEBANON\",\"LEBANON\",\"LEBANON\",\"LEBANON\",\"LEBANON\",\"LEBANON\",\"LEBANON\",\"LEBANON\",\"LEBANON\",\"LEBANON\",\"LEBANON\"],\"legendgroup\":\"LEBANON\",\"marker\":{\"color\":\"#FF97FF\",\"size\":[26.55,26.62,33.43,47.22,39.28,50.89,59.05,67.46,71.84,67.13,96.73,132.75,131.33,176.1,231.87,250.55,293.52,279.66,239.55,210.65,257.1,268.67,203.97,190.38,222.04],\"sizemode\":\"area\",\"sizeref\":15.496216666666665,\"symbol\":\"circle\"},\"mode\":\"markers\",\"name\":\"LEBANON\",\"showlegend\":true,\"x\":[97,98,99,2000,2001,2002,2003,2004,2005,2006,2007,2008,2009,2010,2011,2012,2013,2014,2015,2016,2017,2018,2019,2020,2021],\"xaxis\":\"x\",\"y\":[0.68,1.16,12.09,7.42,11.8,13.04,7.68,20.46,18.51,11.17,9.45,13.2,6.78,18.31,21.44,30.01,37.25,39.74,27.61,30.21,38.47,43.94,30.94,27.95,23.35],\"yaxis\":\"y\",\"type\":\"scattergl\"},{\"hovertemplate\":\"<b>%{hovertext}</b><br><br>Country=LESOTHO<br>Year(start)=%{x}<br>Import=%{y}<br>Export=%{marker.size}<extra></extra>\",\"hovertext\":[\"LESOTHO\",\"LESOTHO\",\"LESOTHO\",\"LESOTHO\",\"LESOTHO\",\"LESOTHO\",\"LESOTHO\",\"LESOTHO\",\"LESOTHO\",\"LESOTHO\",\"LESOTHO\",\"LESOTHO\",\"LESOTHO\",\"LESOTHO\",\"LESOTHO\",\"LESOTHO\",\"LESOTHO\"],\"legendgroup\":\"LESOTHO\",\"marker\":{\"color\":\"#FECB52\",\"size\":[0.16,0.08,3.78,5.57,12.77,34.49,14.44,18.64,21.2,18.25,31.01,38.22,30.06,33.18,31.59,40.78,39.89],\"sizemode\":\"area\",\"sizeref\":15.496216666666665,\"symbol\":\"circle\"},\"mode\":\"markers\",\"name\":\"LESOTHO\",\"showlegend\":true,\"x\":[97,2000,2002,2003,2005,2008,2009,2010,2011,2012,2013,2014,2015,2016,2017,2019,2020],\"xaxis\":\"x\",\"y\":[0.16,0.01,0.01,0.01,12.77,0.29,0.6,1.13,3.04,4.36,2.51,1.38,4.94,24.91,89.56,0.04,0.17],\"yaxis\":\"y\",\"type\":\"scattergl\"},{\"hovertemplate\":\"<b>%{hovertext}</b><br><br>Country=LIBERIA<br>Year(start)=%{x}<br>Import=%{y}<br>Export=%{marker.size}<extra></extra>\",\"hovertext\":[\"LIBERIA\",\"LIBERIA\",\"LIBERIA\",\"LIBERIA\",\"LIBERIA\",\"LIBERIA\",\"LIBERIA\",\"LIBERIA\",\"LIBERIA\",\"LIBERIA\",\"LIBERIA\",\"LIBERIA\",\"LIBERIA\",\"LIBERIA\",\"LIBERIA\",\"LIBERIA\",\"LIBERIA\",\"LIBERIA\",\"LIBERIA\",\"LIBERIA\",\"LIBERIA\",\"LIBERIA\",\"LIBERIA\",\"LIBERIA\"],\"legendgroup\":\"LIBERIA\",\"marker\":{\"color\":\"#636efa\",\"size\":[9.24,12.26,11.32,17.46,4.45,16.13,18.3,21.15,24.01,22.92,29.33,29.58,43.96,78.78,127.02,253.68,206.53,133.88,146.3,257.46,178.81,219.52,225.65,193.47],\"sizemode\":\"area\",\"sizeref\":15.496216666666665,\"symbol\":\"circle\"},\"mode\":\"markers\",\"name\":\"LIBERIA\",\"showlegend\":true,\"x\":[97,99,2000,2001,2002,2003,2004,2005,2006,2007,2008,2009,2010,2011,2012,2013,2014,2015,2016,2017,2018,2019,2020,2021],\"xaxis\":\"x\",\"y\":[3.76,11.74,6.55,43.11,2.22,4.03,45.02,126.65,46.57,239.81,145.22,19.05,17.75,9.09,21.02,26.86,57.68,32.2,7.65,36.76,141.21,7.75,6.95,11.52],\"yaxis\":\"y\",\"type\":\"scattergl\"},{\"hovertemplate\":\"<b>%{hovertext}</b><br><br>Country=LIBYA<br>Year(start)=%{x}<br>Import=%{y}<br>Export=%{marker.size}<extra></extra>\",\"hovertext\":[\"LIBYA\",\"LIBYA\",\"LIBYA\",\"LIBYA\",\"LIBYA\",\"LIBYA\",\"LIBYA\",\"LIBYA\",\"LIBYA\",\"LIBYA\",\"LIBYA\",\"LIBYA\",\"LIBYA\",\"LIBYA\",\"LIBYA\",\"LIBYA\",\"LIBYA\",\"LIBYA\",\"LIBYA\",\"LIBYA\",\"LIBYA\",\"LIBYA\",\"LIBYA\",\"LIBYA\",\"LIBYA\"],\"legendgroup\":\"LIBYA\",\"marker\":{\"color\":\"#EF553B\",\"size\":[38.66,24.28,22.34,8.07,9.35,17.64,18.73,173.53,103.29,86.21,135.98,128.68,221.98,131.99,60.98,215.3,287.2,163.74,122.58,120.05,121.96,156.76,184.4,153.91,159.66],\"sizemode\":\"area\",\"sizeref\":15.496216666666665,\"symbol\":\"circle\"},\"mode\":\"markers\",\"name\":\"LIBYA\",\"showlegend\":true,\"x\":[97,98,99,2000,2001,2002,2003,2004,2005,2006,2007,2008,2009,2010,2011,2012,2013,2014,2015,2016,2017,2018,2019,2020,2021],\"xaxis\":\"x\",\"y\":[29.33,2.69,20.18,7.79,9.53,2.94,10.38,13.6,11.94,135.71,1230.67,684.61,622.64,969.09,38.33,1834.8,451.54,70.14,8.86,7.45,100.64,146.16,43.09,70.52,304.99],\"yaxis\":\"y\",\"type\":\"scattergl\"},{\"hovertemplate\":\"<b>%{hovertext}</b><br><br>Country=LIECHTENSTEIN<br>Year(start)=%{x}<br>Import=%{y}<br>Export=%{marker.size}<extra></extra>\",\"hovertext\":[\"LIECHTENSTEIN\",\"LIECHTENSTEIN\",\"LIECHTENSTEIN\",\"LIECHTENSTEIN\",\"LIECHTENSTEIN\",\"LIECHTENSTEIN\",\"LIECHTENSTEIN\",\"LIECHTENSTEIN\",\"LIECHTENSTEIN\",\"LIECHTENSTEIN\",\"LIECHTENSTEIN\",\"LIECHTENSTEIN\",\"LIECHTENSTEIN\",\"LIECHTENSTEIN\",\"LIECHTENSTEIN\",\"LIECHTENSTEIN\",\"LIECHTENSTEIN\",\"LIECHTENSTEIN\",\"LIECHTENSTEIN\",\"LIECHTENSTEIN\",\"LIECHTENSTEIN\",\"LIECHTENSTEIN\",\"LIECHTENSTEIN\"],\"legendgroup\":\"LIECHTENSTEIN\",\"marker\":{\"color\":\"#00cc96\",\"size\":[0.02,0.02,0.34,0.33,0.48,0.47,0.34,0.7,0.17,4.92,0.06,0.16,0.14,0.27,0.32,0.19,0.82,0.73,2.8,3.4,4.36,3.76,1.71],\"sizemode\":\"area\",\"sizeref\":15.496216666666665,\"symbol\":\"circle\"},\"mode\":\"markers\",\"name\":\"LIECHTENSTEIN\",\"showlegend\":true,\"x\":[98,2000,2001,2002,2003,2004,2005,2006,2007,2008,2009,2010,2011,2012,2013,2014,2015,2016,2017,2018,2019,2020,2021],\"xaxis\":\"x\",\"y\":[0.03,0.03,0.02,0.28,0.02,0.51,0.79,0.38,3.68,0.08,0.04,0.22,0.64,0.85,0.47,1.17,1.18,0.86,1.6,3.6,0.42,0.34,0.41],\"yaxis\":\"y\",\"type\":\"scattergl\"},{\"hovertemplate\":\"<b>%{hovertext}</b><br><br>Country=LITHUANIA<br>Year(start)=%{x}<br>Import=%{y}<br>Export=%{marker.size}<extra></extra>\",\"hovertext\":[\"LITHUANIA\",\"LITHUANIA\",\"LITHUANIA\",\"LITHUANIA\",\"LITHUANIA\",\"LITHUANIA\",\"LITHUANIA\",\"LITHUANIA\",\"LITHUANIA\",\"LITHUANIA\",\"LITHUANIA\",\"LITHUANIA\",\"LITHUANIA\",\"LITHUANIA\",\"LITHUANIA\",\"LITHUANIA\",\"LITHUANIA\",\"LITHUANIA\",\"LITHUANIA\",\"LITHUANIA\",\"LITHUANIA\",\"LITHUANIA\",\"LITHUANIA\",\"LITHUANIA\",\"LITHUANIA\"],\"legendgroup\":\"LITHUANIA\",\"marker\":{\"color\":\"#ab63fa\",\"size\":[2.41,3.61,9.7,8.69,6.41,10.09,17.92,30.6,33.45,40.61,59.18,60.26,66.39,83.3,134.89,147.43,104.94,103.23,88.09,95.99,103.84,127.38,110.76,163.66,202.34],\"sizemode\":\"area\",\"sizeref\":15.496216666666665,\"symbol\":\"circle\"},\"mode\":\"markers\",\"name\":\"LITHUANIA\",\"showlegend\":true,\"x\":[97,98,99,2000,2001,2002,2003,2004,2005,2006,2007,2008,2009,2010,2011,2012,2013,2014,2015,2016,2017,2018,2019,2020,2021],\"xaxis\":\"x\",\"y\":[0.29,0.2,10.32,1.09,0.95,5.59,10.8,17.64,28.96,20.16,9.65,572.67,72.69,125.45,203.37,45.91,53.7,111.91,214.35,271.16,189.38,212.13,262.09,321.05,130.0],\"yaxis\":\"y\",\"type\":\"scattergl\"},{\"hovertemplate\":\"<b>%{hovertext}</b><br><br>Country=LUXEMBOURG<br>Year(start)=%{x}<br>Import=%{y}<br>Export=%{marker.size}<extra></extra>\",\"hovertext\":[\"LUXEMBOURG\",\"LUXEMBOURG\",\"LUXEMBOURG\",\"LUXEMBOURG\",\"LUXEMBOURG\",\"LUXEMBOURG\",\"LUXEMBOURG\",\"LUXEMBOURG\",\"LUXEMBOURG\",\"LUXEMBOURG\",\"LUXEMBOURG\",\"LUXEMBOURG\",\"LUXEMBOURG\",\"LUXEMBOURG\",\"LUXEMBOURG\",\"LUXEMBOURG\",\"LUXEMBOURG\",\"LUXEMBOURG\",\"LUXEMBOURG\",\"LUXEMBOURG\",\"LUXEMBOURG\",\"LUXEMBOURG\",\"LUXEMBOURG\",\"LUXEMBOURG\",\"LUXEMBOURG\"],\"legendgroup\":\"LUXEMBOURG\",\"marker\":{\"color\":\"#FFA15A\",\"size\":[3.2,3.78,5.36,5.58,4.47,9.14,14.19,11.64,10.67,16.92,11.7,11.56,4.78,18.76,9.1,8.2,11.74,9.59,8.07,11.48,11.39,30.07,20.34,12.6,10.95],\"sizemode\":\"area\",\"sizeref\":15.496216666666665,\"symbol\":\"circle\"},\"mode\":\"markers\",\"name\":\"LUXEMBOURG\",\"showlegend\":true,\"x\":[97,98,99,2000,2001,2002,2003,2004,2005,2006,2007,2008,2009,2010,2011,2012,2013,2014,2015,2016,2017,2018,2019,2020,2021],\"xaxis\":\"x\",\"y\":[4.73,1.23,2.54,5.22,6.72,19.34,44.4,9.69,16.1,31.4,35.45,24.83,33.85,36.62,56.02,48.09,46.16,41.81,175.72,46.08,53.24,131.9,54.35,30.49,43.03],\"yaxis\":\"y\",\"type\":\"scattergl\"},{\"hovertemplate\":\"<b>%{hovertext}</b><br><br>Country=MACAO<br>Year(start)=%{x}<br>Import=%{y}<br>Export=%{marker.size}<extra></extra>\",\"hovertext\":[\"MACAO\",\"MACAO\",\"MACAO\",\"MACAO\",\"MACAO\",\"MACAO\",\"MACAO\",\"MACAO\",\"MACAO\",\"MACAO\",\"MACAO\",\"MACAO\",\"MACAO\",\"MACAO\",\"MACAO\",\"MACAO\",\"MACAO\",\"MACAO\",\"MACAO\",\"MACAO\",\"MACAO\",\"MACAO\",\"MACAO\"],\"legendgroup\":\"MACAO\",\"marker\":{\"color\":\"#19d3f3\",\"size\":[0.93,0.78,1.09,1.64,3.6,4.08,2.46,1.62,4.5,5.49,40.58,1.44,1.48,0.96,1.62,2.43,1.97,1.51,13.89,1.06,6.28,8.96,11.73],\"sizemode\":\"area\",\"sizeref\":15.496216666666665,\"symbol\":\"circle\"},\"mode\":\"markers\",\"name\":\"MACAO\",\"showlegend\":true,\"x\":[98,99,2000,2001,2002,2003,2005,2006,2007,2008,2009,2010,2011,2012,2013,2014,2015,2016,2017,2018,2019,2020,2021],\"xaxis\":\"x\",\"y\":[0.18,0.12,0.01,1.46,12.7,2.43,0.16,0.2,0.38,0.25,0.36,0.2,0.82,1.5,2.65,2.3,8.29,7.91,8.3,6.29,5.09,24.52,17.4],\"yaxis\":\"y\",\"type\":\"scattergl\"},{\"hovertemplate\":\"<b>%{hovertext}</b><br><br>Country=MACEDONIA<br>Year(start)=%{x}<br>Import=%{y}<br>Export=%{marker.size}<extra></extra>\",\"hovertext\":[\"MACEDONIA\",\"MACEDONIA\",\"MACEDONIA\",\"MACEDONIA\",\"MACEDONIA\",\"MACEDONIA\",\"MACEDONIA\",\"MACEDONIA\",\"MACEDONIA\",\"MACEDONIA\",\"MACEDONIA\",\"MACEDONIA\",\"MACEDONIA\",\"MACEDONIA\",\"MACEDONIA\",\"MACEDONIA\",\"MACEDONIA\",\"MACEDONIA\",\"MACEDONIA\",\"MACEDONIA\",\"MACEDONIA\",\"MACEDONIA\",\"MACEDONIA\",\"MACEDONIA\",\"MACEDONIA\"],\"legendgroup\":\"MACEDONIA\",\"marker\":{\"color\":\"#FF6692\",\"size\":[0.02,0.1,1.38,1.16,1.06,1.28,1.65,2.6,3.93,5.69,8.27,10.54,7.0,8.34,8.86,9.12,10.79,14.51,12.87,14.88,17.38,19.54,22.61,23.2,20.99],\"sizemode\":\"area\",\"sizeref\":15.496216666666665,\"symbol\":\"circle\"},\"mode\":\"markers\",\"name\":\"MACEDONIA\",\"showlegend\":true,\"x\":[97,98,99,2000,2001,2002,2003,2004,2005,2006,2007,2008,2009,2010,2011,2012,2013,2014,2015,2016,2017,2018,2019,2020,2021],\"xaxis\":\"x\",\"y\":[1.49,0.67,0.02,0.09,1.19,0.59,0.05,0.08,3.84,0.26,0.28,0.71,26.65,1.02,14.77,22.94,19.92,9.05,7.08,24.13,46.61,24.08,14.51,5.82,1.02],\"yaxis\":\"y\",\"type\":\"scattergl\"},{\"hovertemplate\":\"<b>%{hovertext}</b><br><br>Country=MADAGASCAR<br>Year(start)=%{x}<br>Import=%{y}<br>Export=%{marker.size}<extra></extra>\",\"hovertext\":[\"MADAGASCAR\",\"MADAGASCAR\",\"MADAGASCAR\",\"MADAGASCAR\",\"MADAGASCAR\",\"MADAGASCAR\",\"MADAGASCAR\",\"MADAGASCAR\",\"MADAGASCAR\",\"MADAGASCAR\",\"MADAGASCAR\",\"MADAGASCAR\",\"MADAGASCAR\",\"MADAGASCAR\",\"MADAGASCAR\",\"MADAGASCAR\",\"MADAGASCAR\",\"MADAGASCAR\",\"MADAGASCAR\",\"MADAGASCAR\",\"MADAGASCAR\",\"MADAGASCAR\",\"MADAGASCAR\",\"MADAGASCAR\",\"MADAGASCAR\"],\"legendgroup\":\"MADAGASCAR\",\"marker\":{\"color\":\"#B6E880\",\"size\":[7.58,9.92,9.17,10.79,13.17,14.63,39.14,36.12,42.65,45.78,57.27,250.05,85.71,79.33,123.63,154.42,238.71,167.19,197.05,213.7,228.11,196.38,301.73,324.22,227.85],\"sizemode\":\"area\",\"sizeref\":15.496216666666665,\"symbol\":\"circle\"},\"mode\":\"markers\",\"name\":\"MADAGASCAR\",\"showlegend\":true,\"x\":[97,98,99,2000,2001,2002,2003,2004,2005,2006,2007,2008,2009,2010,2011,2012,2013,2014,2015,2016,2017,2018,2019,2020,2021],\"xaxis\":\"x\",\"y\":[3.47,2.99,3.38,0.38,2.2,3.94,5.05,7.97,16.36,19.36,16.61,18.16,19.03,32.08,82.75,72.88,52.84,95.29,141.74,119.82,167.67,293.11,119.24,80.14,81.84],\"yaxis\":\"y\",\"type\":\"scattergl\"},{\"hovertemplate\":\"<b>%{hovertext}</b><br><br>Country=MALAWI<br>Year(start)=%{x}<br>Import=%{y}<br>Export=%{marker.size}<extra></extra>\",\"hovertext\":[\"MALAWI\",\"MALAWI\",\"MALAWI\",\"MALAWI\",\"MALAWI\",\"MALAWI\",\"MALAWI\",\"MALAWI\",\"MALAWI\",\"MALAWI\",\"MALAWI\",\"MALAWI\",\"MALAWI\",\"MALAWI\",\"MALAWI\",\"MALAWI\",\"MALAWI\",\"MALAWI\",\"MALAWI\",\"MALAWI\",\"MALAWI\",\"MALAWI\",\"MALAWI\",\"MALAWI\",\"MALAWI\"],\"legendgroup\":\"MALAWI\",\"marker\":{\"color\":\"#FF97FF\",\"size\":[10.85,10.24,20.17,18.59,20.47,30.81,38.21,58.26,43.63,42.56,64.34,89.38,81.36,101.45,148.26,153.3,221.05,214.02,176.13,178.42,199.6,201.55,185.09,150.96,112.1],\"sizemode\":\"area\",\"sizeref\":15.496216666666665,\"symbol\":\"circle\"},\"mode\":\"markers\",\"name\":\"MALAWI\",\"showlegend\":true,\"x\":[97,98,99,2000,2001,2002,2003,2004,2005,2006,2007,2008,2009,2010,2011,2012,2013,2014,2015,2016,2017,2018,2019,2020,2021],\"xaxis\":\"x\",\"y\":[0.53,0.44,0.63,0.34,1.7,1.7,4.98,5.08,1.8,5.07,15.64,7.08,103.76,19.89,22.83,43.11,15.15,36.78,64.31,41.33,16.45,22.8,31.76,7.07,97.0],\"yaxis\":\"y\",\"type\":\"scattergl\"},{\"hovertemplate\":\"<b>%{hovertext}</b><br><br>Country=MALAYSIA<br>Year(start)=%{x}<br>Import=%{y}<br>Export=%{marker.size}<extra></extra>\",\"hovertext\":[\"MALAYSIA\",\"MALAYSIA\",\"MALAYSIA\",\"MALAYSIA\",\"MALAYSIA\",\"MALAYSIA\",\"MALAYSIA\",\"MALAYSIA\",\"MALAYSIA\",\"MALAYSIA\",\"MALAYSIA\",\"MALAYSIA\",\"MALAYSIA\",\"MALAYSIA\",\"MALAYSIA\",\"MALAYSIA\",\"MALAYSIA\",\"MALAYSIA\",\"MALAYSIA\",\"MALAYSIA\",\"MALAYSIA\",\"MALAYSIA\",\"MALAYSIA\",\"MALAYSIA\",\"MALAYSIA\"],\"legendgroup\":\"MALAYSIA\",\"marker\":{\"color\":\"#FECB52\",\"size\":[489.95,321.69,447.09,608.15,773.69,749.37,892.76,1084.06,1161.86,1305.22,2575.26,3419.97,2835.41,3871.17,3980.36,4444.07,4197.93,5816.55,3706.83,5224.86,5701.56,6436.3,6364.66,6057.68,5291.09],\"sizemode\":\"area\",\"sizeref\":15.496216666666665,\"symbol\":\"circle\"},\"mode\":\"markers\",\"name\":\"MALAYSIA\",\"showlegend\":true,\"x\":[97,98,99,2000,2001,2002,2003,2004,2005,2006,2007,2008,2009,2010,2011,2012,2013,2014,2015,2016,2017,2018,2019,2020,2021],\"xaxis\":\"x\",\"y\":[1178.89,1608.36,1949.41,1176.8,1133.54,1465.42,2046.55,2299.01,2415.61,5290.31,6012.9,7184.78,5176.78,6523.58,9473.64,9951.06,9229.88,11117.74,9083.83,8933.59,9011.58,10818.6,9782.28,8373.05,9014.1],\"yaxis\":\"y\",\"type\":\"scattergl\"},{\"hovertemplate\":\"<b>%{hovertext}</b><br><br>Country=MALDIVES<br>Year(start)=%{x}<br>Import=%{y}<br>Export=%{marker.size}<extra></extra>\",\"hovertext\":[\"MALDIVES\",\"MALDIVES\",\"MALDIVES\",\"MALDIVES\",\"MALDIVES\",\"MALDIVES\",\"MALDIVES\",\"MALDIVES\",\"MALDIVES\",\"MALDIVES\",\"MALDIVES\",\"MALDIVES\",\"MALDIVES\",\"MALDIVES\",\"MALDIVES\",\"MALDIVES\",\"MALDIVES\",\"MALDIVES\",\"MALDIVES\",\"MALDIVES\",\"MALDIVES\",\"MALDIVES\",\"MALDIVES\",\"MALDIVES\",\"MALDIVES\"],\"legendgroup\":\"MALDIVES\",\"marker\":{\"color\":\"#636efa\",\"size\":[8.74,8.38,7.3,24.61,26.88,31.59,42.34,47.61,67.58,68.68,89.72,127.91,79.86,100.14,124.6,122.36,106.07,152.38,179.07,197.79,217.0,223.02,226.57,195.88,530.15],\"sizemode\":\"area\",\"sizeref\":15.496216666666665,\"symbol\":\"circle\"},\"mode\":\"markers\",\"name\":\"MALDIVES\",\"showlegend\":true,\"x\":[97,98,99,2000,2001,2002,2003,2004,2005,2006,2007,2008,2009,2010,2011,2012,2013,2014,2015,2016,2017,2018,2019,2020,2021],\"xaxis\":\"x\",\"y\":[0.24,0.05,0.4,0.19,0.4,0.33,0.37,0.61,1.98,3.05,4.15,3.97,3.63,31.38,18.89,6.29,3.97,4.32,4.29,9.17,5.68,20.41,6.0,24.49,41.93],\"yaxis\":\"y\",\"type\":\"scattergl\"},{\"hovertemplate\":\"<b>%{hovertext}</b><br><br>Country=MALI<br>Year(start)=%{x}<br>Import=%{y}<br>Export=%{marker.size}<extra></extra>\",\"hovertext\":[\"MALI\",\"MALI\",\"MALI\",\"MALI\",\"MALI\",\"MALI\",\"MALI\",\"MALI\",\"MALI\",\"MALI\",\"MALI\",\"MALI\",\"MALI\",\"MALI\",\"MALI\",\"MALI\",\"MALI\",\"MALI\",\"MALI\",\"MALI\",\"MALI\",\"MALI\",\"MALI\",\"MALI\",\"MALI\"],\"legendgroup\":\"MALI\",\"marker\":{\"color\":\"#EF553B\",\"size\":[8.88,18.55,14.62,16.69,32.64,22.64,43.82,21.69,27.9,63.73,32.09,39.15,42.24,65.45,98.37,78.66,108.78,134.12,107.93,107.7,123.6,130.69,146.14,186.97,158.01],\"sizemode\":\"area\",\"sizeref\":15.496216666666665,\"symbol\":\"circle\"},\"mode\":\"markers\",\"name\":\"MALI\",\"showlegend\":true,\"x\":[97,98,99,2000,2001,2002,2003,2004,2005,2006,2007,2008,2009,2010,2011,2012,2013,2014,2015,2016,2017,2018,2019,2020,2021],\"xaxis\":\"x\",\"y\":[0.14,0.08,8.69,13.31,2.16,19.79,31.24,13.07,2.57,2.81,3.97,9.03,3.86,3.32,6.1,29.55,70.91,78.59,242.78,99.23,114.14,18.31,38.07,13.97,16.16],\"yaxis\":\"y\",\"type\":\"scattergl\"},{\"hovertemplate\":\"<b>%{hovertext}</b><br><br>Country=MALTA<br>Year(start)=%{x}<br>Import=%{y}<br>Export=%{marker.size}<extra></extra>\",\"hovertext\":[\"MALTA\",\"MALTA\",\"MALTA\",\"MALTA\",\"MALTA\",\"MALTA\",\"MALTA\",\"MALTA\",\"MALTA\",\"MALTA\",\"MALTA\",\"MALTA\",\"MALTA\",\"MALTA\",\"MALTA\",\"MALTA\",\"MALTA\",\"MALTA\",\"MALTA\",\"MALTA\",\"MALTA\",\"MALTA\",\"MALTA\",\"MALTA\",\"MALTA\"],\"legendgroup\":\"MALTA\",\"marker\":{\"color\":\"#00cc96\",\"size\":[13.33,6.06,28.24,10.52,11.91,32.32,117.95,31.5,121.31,60.8,34.61,100.08,708.85,746.78,848.99,398.22,167.91,327.59,325.03,137.23,195.86,229.52,208.2,317.04,406.02],\"sizemode\":\"area\",\"sizeref\":15.496216666666665,\"symbol\":\"circle\"},\"mode\":\"markers\",\"name\":\"MALTA\",\"showlegend\":true,\"x\":[97,98,99,2000,2001,2002,2003,2004,2005,2006,2007,2008,2009,2010,2011,2012,2013,2014,2015,2016,2017,2018,2019,2020,2021],\"xaxis\":\"x\",\"y\":[33.22,0.03,0.03,0.04,0.13,0.18,0.93,36.86,15.83,199.57,7.9,5.13,12.11,35.87,42.34,42.6,34.45,28.42,26.43,22.37,15.95,43.76,121.9,23.71,19.47],\"yaxis\":\"y\",\"type\":\"scattergl\"},{\"hovertemplate\":\"<b>%{hovertext}</b><br><br>Country=MARSHALL ISLAND<br>Year(start)=%{x}<br>Import=%{y}<br>Export=%{marker.size}<extra></extra>\",\"hovertext\":[\"MARSHALL ISLAND\",\"MARSHALL ISLAND\",\"MARSHALL ISLAND\",\"MARSHALL ISLAND\",\"MARSHALL ISLAND\",\"MARSHALL ISLAND\",\"MARSHALL ISLAND\",\"MARSHALL ISLAND\",\"MARSHALL ISLAND\",\"MARSHALL ISLAND\",\"MARSHALL ISLAND\",\"MARSHALL ISLAND\",\"MARSHALL ISLAND\",\"MARSHALL ISLAND\",\"MARSHALL ISLAND\",\"MARSHALL ISLAND\",\"MARSHALL ISLAND\",\"MARSHALL ISLAND\"],\"legendgroup\":\"MARSHALL ISLAND\",\"marker\":{\"color\":\"#ab63fa\",\"size\":[0.39,0.21,19.19,0.09,0.1,0.07,0.2,0.53,0.09,1.18,0.12,101.91,0.14,14.0,0.32,32.53,0.62,0.98],\"sizemode\":\"area\",\"sizeref\":15.496216666666665,\"symbol\":\"circle\"},\"mode\":\"markers\",\"name\":\"MARSHALL ISLAND\",\"showlegend\":true,\"x\":[2003,2005,2006,2007,2008,2009,2010,2011,2012,2013,2014,2015,2016,2017,2018,2019,2020,2021],\"xaxis\":\"x\",\"y\":[10.63,178.97,14.77,0.07,0.15,0.01,1.36,9.8,0.88,7.28,0.01,0.41,8.71,0.11,0.51,3.61,1.66,1.06],\"yaxis\":\"y\",\"type\":\"scattergl\"},{\"hovertemplate\":\"<b>%{hovertext}</b><br><br>Country=MARTINIQUE<br>Year(start)=%{x}<br>Import=%{y}<br>Export=%{marker.size}<extra></extra>\",\"hovertext\":[\"MARTINIQUE\",\"MARTINIQUE\",\"MARTINIQUE\",\"MARTINIQUE\",\"MARTINIQUE\",\"MARTINIQUE\",\"MARTINIQUE\",\"MARTINIQUE\",\"MARTINIQUE\",\"MARTINIQUE\",\"MARTINIQUE\",\"MARTINIQUE\",\"MARTINIQUE\",\"MARTINIQUE\"],\"legendgroup\":\"MARTINIQUE\",\"marker\":{\"color\":\"#FFA15A\",\"size\":[1.88,0.98,0.59,0.84,1.99,44.31,4.87,5.88,7.68,6.15,3.58,3.81,4.25,4.53],\"sizemode\":\"area\",\"sizeref\":15.496216666666665,\"symbol\":\"circle\"},\"mode\":\"markers\",\"name\":\"MARTINIQUE\",\"showlegend\":true,\"x\":[97,2001,2003,2005,2007,2008,2010,2012,2013,2014,2018,2019,2020,2021],\"xaxis\":\"x\",\"y\":[0.01,0.01,0.01,0.04,0.01,0.42,0.01,0.04,0.12,0.09,0.81,0.29,0.82,0.42],\"yaxis\":\"y\",\"type\":\"scattergl\"},{\"hovertemplate\":\"<b>%{hovertext}</b><br><br>Country=MAURITANIA<br>Year(start)=%{x}<br>Import=%{y}<br>Export=%{marker.size}<extra></extra>\",\"hovertext\":[\"MAURITANIA\",\"MAURITANIA\",\"MAURITANIA\",\"MAURITANIA\",\"MAURITANIA\",\"MAURITANIA\",\"MAURITANIA\",\"MAURITANIA\",\"MAURITANIA\",\"MAURITANIA\",\"MAURITANIA\",\"MAURITANIA\",\"MAURITANIA\",\"MAURITANIA\",\"MAURITANIA\",\"MAURITANIA\",\"MAURITANIA\",\"MAURITANIA\",\"MAURITANIA\",\"MAURITANIA\",\"MAURITANIA\",\"MAURITANIA\",\"MAURITANIA\",\"MAURITANIA\"],\"legendgroup\":\"MAURITANIA\",\"marker\":{\"color\":\"#19d3f3\",\"size\":[3.57,9.19,13.67,19.87,20.51,18.04,24.71,45.14,21.73,28.74,35.81,30.64,33.5,46.52,41.84,58.02,58.94,58.35,65.98,83.16,115.59,83.83,88.92,69.02],\"sizemode\":\"area\",\"sizeref\":15.496216666666665,\"symbol\":\"circle\"},\"mode\":\"markers\",\"name\":\"MAURITANIA\",\"showlegend\":true,\"x\":[97,99,2000,2001,2002,2003,2004,2005,2006,2007,2008,2009,2010,2011,2012,2013,2014,2015,2016,2017,2018,2019,2020,2021],\"xaxis\":\"x\",\"y\":[0.08,0.02,0.01,0.01,0.02,0.03,1.28,1.02,0.63,1.19,4.53,1.6,1.95,4.44,11.25,7.35,43.36,18.56,10.95,5.45,15.77,10.7,5.49,8.11],\"yaxis\":\"y\",\"type\":\"scattergl\"},{\"hovertemplate\":\"<b>%{hovertext}</b><br><br>Country=MAURITIUS<br>Year(start)=%{x}<br>Import=%{y}<br>Export=%{marker.size}<extra></extra>\",\"hovertext\":[\"MAURITIUS\",\"MAURITIUS\",\"MAURITIUS\",\"MAURITIUS\",\"MAURITIUS\",\"MAURITIUS\",\"MAURITIUS\",\"MAURITIUS\",\"MAURITIUS\",\"MAURITIUS\",\"MAURITIUS\",\"MAURITIUS\",\"MAURITIUS\",\"MAURITIUS\",\"MAURITIUS\",\"MAURITIUS\",\"MAURITIUS\",\"MAURITIUS\",\"MAURITIUS\",\"MAURITIUS\",\"MAURITIUS\",\"MAURITIUS\",\"MAURITIUS\",\"MAURITIUS\",\"MAURITIUS\"],\"legendgroup\":\"MAURITIUS\",\"marker\":{\"color\":\"#FF6692\",\"size\":[180.64,161.12,170.77,199.75,162.91,164.36,203.02,258.2,199.43,738.29,1088.82,1006.93,453.43,853.91,1400.51,1310.8,1000.18,1909.55,855.73,881.38,1077.15,1160.78,662.13,422.91,605.37],\"sizemode\":\"area\",\"sizeref\":15.496216666666665,\"symbol\":\"circle\"},\"mode\":\"markers\",\"name\":\"MAURITIUS\",\"showlegend\":true,\"x\":[97,98,99,2000,2001,2002,2003,2004,2005,2006,2007,2008,2009,2010,2011,2012,2013,2014,2015,2016,2017,2018,2019,2020,2021],\"xaxis\":\"x\",\"y\":[6.03,2.01,3.93,6.17,3.26,16.13,7.54,7.19,7.33,14.56,10.05,14.5,10.89,16.51,38.52,28.44,20.79,21.19,20.36,18.37,20.69,71.59,27.89,42.61,53.99],\"yaxis\":\"y\",\"type\":\"scattergl\"},{\"hovertemplate\":\"<b>%{hovertext}</b><br><br>Country=MAYOTTE<br>Year(start)=%{x}<br>Import=%{y}<br>Export=%{marker.size}<extra></extra>\",\"hovertext\":[\"MAYOTTE\",\"MAYOTTE\",\"MAYOTTE\",\"MAYOTTE\"],\"legendgroup\":\"MAYOTTE\",\"marker\":{\"color\":\"#B6E880\",\"size\":[2.79,3.13,5.65,2.71],\"sizemode\":\"area\",\"sizeref\":15.496216666666665,\"symbol\":\"circle\"},\"mode\":\"markers\",\"name\":\"MAYOTTE\",\"showlegend\":true,\"x\":[2018,2019,2020,2021],\"xaxis\":\"x\",\"y\":[0.19,0.36,0.32,0.49],\"yaxis\":\"y\",\"type\":\"scattergl\"},{\"hovertemplate\":\"<b>%{hovertext}</b><br><br>Country=MEXICO<br>Year(start)=%{x}<br>Import=%{y}<br>Export=%{marker.size}<extra></extra>\",\"hovertext\":[\"MEXICO\",\"MEXICO\",\"MEXICO\",\"MEXICO\",\"MEXICO\",\"MEXICO\",\"MEXICO\",\"MEXICO\",\"MEXICO\",\"MEXICO\",\"MEXICO\",\"MEXICO\",\"MEXICO\",\"MEXICO\",\"MEXICO\",\"MEXICO\",\"MEXICO\",\"MEXICO\",\"MEXICO\",\"MEXICO\",\"MEXICO\",\"MEXICO\",\"MEXICO\",\"MEXICO\",\"MEXICO\"],\"legendgroup\":\"MEXICO\",\"marker\":{\"color\":\"#FF97FF\",\"size\":[111.08,130.2,140.89,208.51,237.45,261.55,264.42,368.58,443.07,535.97,592.35,659.51,596.18,912.77,1367.37,1628.24,2227.44,2861.55,2865.13,3460.98,3782.79,3841.57,3623.71,3086.67,3307.32],\"sizemode\":\"area\",\"sizeref\":15.496216666666665,\"symbol\":\"circle\"},\"mode\":\"markers\",\"name\":\"MEXICO\",\"showlegend\":true,\"x\":[97,98,99,2000,2001,2002,2003,2004,2005,2006,2007,2008,2009,2010,2011,2012,2013,2014,2015,2016,2017,2018,2019,2020,2021],\"xaxis\":\"x\",\"y\":[79.49,92.02,96.49,53.83,62.24,65.52,73.89,82.62,97.61,795.3,1189.13,1725.09,1048.97,1163.45,2579.73,4037.62,3672.43,3393.15,2283.19,2944.52,3930.26,5577.03,4296.8,2845.91,3243.45],\"yaxis\":\"y\",\"type\":\"scattergl\"},{\"hovertemplate\":\"<b>%{hovertext}</b><br><br>Country=MICRONESIA<br>Year(start)=%{x}<br>Import=%{y}<br>Export=%{marker.size}<extra></extra>\",\"hovertext\":[\"MICRONESIA\",\"MICRONESIA\",\"MICRONESIA\",\"MICRONESIA\"],\"legendgroup\":\"MICRONESIA\",\"marker\":{\"color\":\"#FECB52\",\"size\":[0.34,0.03,0.05,0.57],\"sizemode\":\"area\",\"sizeref\":15.496216666666665,\"symbol\":\"circle\"},\"mode\":\"markers\",\"name\":\"MICRONESIA\",\"showlegend\":true,\"x\":[2004,2006,2007,2013],\"xaxis\":\"x\",\"y\":[0.01,0.02,0.02,0.1],\"yaxis\":\"y\",\"type\":\"scattergl\"},{\"hovertemplate\":\"<b>%{hovertext}</b><br><br>Country=MOLDOVA<br>Year(start)=%{x}<br>Import=%{y}<br>Export=%{marker.size}<extra></extra>\",\"hovertext\":[\"MOLDOVA\",\"MOLDOVA\",\"MOLDOVA\",\"MOLDOVA\",\"MOLDOVA\",\"MOLDOVA\",\"MOLDOVA\",\"MOLDOVA\",\"MOLDOVA\",\"MOLDOVA\",\"MOLDOVA\",\"MOLDOVA\",\"MOLDOVA\",\"MOLDOVA\",\"MOLDOVA\",\"MOLDOVA\",\"MOLDOVA\",\"MOLDOVA\",\"MOLDOVA\",\"MOLDOVA\",\"MOLDOVA\",\"MOLDOVA\"],\"legendgroup\":\"MOLDOVA\",\"marker\":{\"color\":\"#636efa\",\"size\":[0.67,1.88,2.54,4.37,5.61,5.43,5.54,7.43,6.78,6.58,7.54,7.5,8.94,10.47,8.79,7.81,6.71,7.14,8.63,8.71,11.58,6.7],\"sizemode\":\"area\",\"sizeref\":15.496216666666665,\"symbol\":\"circle\"},\"mode\":\"markers\",\"name\":\"MOLDOVA\",\"showlegend\":true,\"x\":[97,2001,2002,2003,2004,2005,2006,2007,2008,2009,2010,2011,2012,2013,2014,2015,2016,2017,2018,2019,2020,2021],\"xaxis\":\"x\",\"y\":[0.08,0.1,1.77,0.04,0.15,0.21,0.46,0.39,7.15,1.09,0.12,0.45,0.69,0.52,1.43,4.89,11.73,1.57,0.39,0.25,1.0,0.06],\"yaxis\":\"y\",\"type\":\"scattergl\"},{\"hovertemplate\":\"<b>%{hovertext}</b><br><br>Country=MONACO<br>Year(start)=%{x}<br>Import=%{y}<br>Export=%{marker.size}<extra></extra>\",\"hovertext\":[\"MONACO\",\"MONACO\",\"MONACO\",\"MONACO\",\"MONACO\",\"MONACO\",\"MONACO\",\"MONACO\",\"MONACO\",\"MONACO\",\"MONACO\",\"MONACO\",\"MONACO\",\"MONACO\",\"MONACO\",\"MONACO\",\"MONACO\",\"MONACO\",\"MONACO\"],\"legendgroup\":\"MONACO\",\"marker\":{\"color\":\"#EF553B\",\"size\":[0.34,0.74,0.38,0.84,0.49,0.35,0.41,1.04,0.52,0.75,0.31,0.87,1.05,1.53,1.94,2.55,1.96,1.93,2.6],\"sizemode\":\"area\",\"sizeref\":15.496216666666665,\"symbol\":\"circle\"},\"mode\":\"markers\",\"name\":\"MONACO\",\"showlegend\":true,\"x\":[2003,2004,2005,2006,2007,2008,2009,2010,2011,2012,2013,2014,2015,2016,2017,2018,2019,2020,2021],\"xaxis\":\"x\",\"y\":[0.01,0.94,0.09,0.17,0.96,0.33,0.99,1.41,2.75,3.23,2.17,1.71,1.53,1.11,1.07,0.27,61.5,0.01,0.36],\"yaxis\":\"y\",\"type\":\"scattergl\"},{\"hovertemplate\":\"<b>%{hovertext}</b><br><br>Country=MONGOLIA<br>Year(start)=%{x}<br>Import=%{y}<br>Export=%{marker.size}<extra></extra>\",\"hovertext\":[\"MONGOLIA\",\"MONGOLIA\",\"MONGOLIA\",\"MONGOLIA\",\"MONGOLIA\",\"MONGOLIA\",\"MONGOLIA\",\"MONGOLIA\",\"MONGOLIA\",\"MONGOLIA\",\"MONGOLIA\",\"MONGOLIA\",\"MONGOLIA\",\"MONGOLIA\",\"MONGOLIA\",\"MONGOLIA\",\"MONGOLIA\",\"MONGOLIA\",\"MONGOLIA\",\"MONGOLIA\",\"MONGOLIA\",\"MONGOLIA\",\"MONGOLIA\",\"MONGOLIA\",\"MONGOLIA\"],\"legendgroup\":\"MONGOLIA\",\"marker\":{\"color\":\"#00cc96\",\"size\":[1.01,1.7,2.26,1.36,0.53,0.71,0.81,1.35,1.17,2.34,7.56,15.73,7.98,20.77,34.97,23.66,15.53,7.92,8.44,9.78,20.49,22.81,16.27,18.98,19.65],\"sizemode\":\"area\",\"sizeref\":15.496216666666665,\"symbol\":\"circle\"},\"mode\":\"markers\",\"name\":\"MONGOLIA\",\"showlegend\":true,\"x\":[97,98,99,2000,2001,2002,2003,2004,2005,2006,2007,2008,2009,2010,2011,2012,2013,2014,2015,2016,2017,2018,2019,2020,2021],\"xaxis\":\"x\",\"y\":[0.18,0.19,0.29,0.13,0.15,0.51,0.74,0.21,1.62,2.24,9.38,18.22,1.26,1.97,15.17,10.18,8.75,4.3,4.14,1.99,1.72,1.01,1.3,0.42,0.54],\"yaxis\":\"y\",\"type\":\"scattergl\"},{\"hovertemplate\":\"<b>%{hovertext}</b><br><br>Country=MONTENEGRO<br>Year(start)=%{x}<br>Import=%{y}<br>Export=%{marker.size}<extra></extra>\",\"hovertext\":[\"MONTENEGRO\",\"MONTENEGRO\",\"MONTENEGRO\",\"MONTENEGRO\",\"MONTENEGRO\",\"MONTENEGRO\",\"MONTENEGRO\",\"MONTENEGRO\",\"MONTENEGRO\"],\"legendgroup\":\"MONTENEGRO\",\"marker\":{\"color\":\"#ab63fa\",\"size\":[30.57,42.31,26.19,36.37,51.61,38.93,19.96,19.98,15.51],\"sizemode\":\"area\",\"sizeref\":15.496216666666665,\"symbol\":\"circle\"},\"mode\":\"markers\",\"name\":\"MONTENEGRO\",\"showlegend\":true,\"x\":[2013,2014,2015,2016,2017,2018,2019,2020,2021],\"xaxis\":\"x\",\"y\":[0.01,1.16,0.05,0.05,0.01,0.13,0.16,0.4,0.32],\"yaxis\":\"y\",\"type\":\"scattergl\"},{\"hovertemplate\":\"<b>%{hovertext}</b><br><br>Country=MONTSERRAT<br>Year(start)=%{x}<br>Import=%{y}<br>Export=%{marker.size}<extra></extra>\",\"hovertext\":[\"MONTSERRAT\",\"MONTSERRAT\",\"MONTSERRAT\",\"MONTSERRAT\",\"MONTSERRAT\",\"MONTSERRAT\",\"MONTSERRAT\",\"MONTSERRAT\",\"MONTSERRAT\"],\"legendgroup\":\"MONTSERRAT\",\"marker\":{\"color\":\"#FFA15A\",\"size\":[0.35,0.4,0.25,0.16,0.07,0.2,0.96,0.02,0.06],\"sizemode\":\"area\",\"sizeref\":15.496216666666665,\"symbol\":\"circle\"},\"mode\":\"markers\",\"name\":\"MONTSERRAT\",\"showlegend\":true,\"x\":[2003,2004,2005,2006,2007,2008,2015,2017,2018],\"xaxis\":\"x\",\"y\":[0.02,0.02,0.06,0.05,0.1,0.01,0.96,0.02,0.06],\"yaxis\":\"y\",\"type\":\"scattergl\"},{\"hovertemplate\":\"<b>%{hovertext}</b><br><br>Country=MOROCCO<br>Year(start)=%{x}<br>Import=%{y}<br>Export=%{marker.size}<extra></extra>\",\"hovertext\":[\"MOROCCO\",\"MOROCCO\",\"MOROCCO\",\"MOROCCO\",\"MOROCCO\",\"MOROCCO\",\"MOROCCO\",\"MOROCCO\",\"MOROCCO\",\"MOROCCO\",\"MOROCCO\",\"MOROCCO\",\"MOROCCO\",\"MOROCCO\",\"MOROCCO\",\"MOROCCO\",\"MOROCCO\",\"MOROCCO\",\"MOROCCO\",\"MOROCCO\",\"MOROCCO\",\"MOROCCO\",\"MOROCCO\",\"MOROCCO\",\"MOROCCO\"],\"legendgroup\":\"MOROCCO\",\"marker\":{\"color\":\"#19d3f3\",\"size\":[28.26,28.45,26.16,40.08,55.55,127.11,87.72,112.48,127.51,164.45,208.43,242.85,250.47,318.57,372.1,426.56,385.61,326.31,342.19,373.91,432.32,680.06,799.45,507.62,606.57],\"sizemode\":\"area\",\"sizeref\":15.496216666666665,\"symbol\":\"circle\"},\"mode\":\"markers\",\"name\":\"MOROCCO\",\"showlegend\":true,\"x\":[97,98,99,2000,2001,2002,2003,2004,2005,2006,2007,2008,2009,2010,2011,2012,2013,2014,2015,2016,2017,2018,2019,2020,2021],\"xaxis\":\"x\",\"y\":[461.4,402.0,420.1,315.29,266.39,199.65,255.6,362.16,456.37,489.98,499.4,948.15,861.51,839.64,1658.45,1309.03,879.18,936.25,1077.58,792.93,779.63,1326.69,952.54,1436.82,1626.93],\"yaxis\":\"y\",\"type\":\"scattergl\"},{\"hovertemplate\":\"<b>%{hovertext}</b><br><br>Country=MOZAMBIQUE<br>Year(start)=%{x}<br>Import=%{y}<br>Export=%{marker.size}<extra></extra>\",\"hovertext\":[\"MOZAMBIQUE\",\"MOZAMBIQUE\",\"MOZAMBIQUE\",\"MOZAMBIQUE\",\"MOZAMBIQUE\",\"MOZAMBIQUE\",\"MOZAMBIQUE\",\"MOZAMBIQUE\",\"MOZAMBIQUE\",\"MOZAMBIQUE\",\"MOZAMBIQUE\",\"MOZAMBIQUE\",\"MOZAMBIQUE\",\"MOZAMBIQUE\",\"MOZAMBIQUE\",\"MOZAMBIQUE\",\"MOZAMBIQUE\",\"MOZAMBIQUE\",\"MOZAMBIQUE\",\"MOZAMBIQUE\",\"MOZAMBIQUE\",\"MOZAMBIQUE\",\"MOZAMBIQUE\",\"MOZAMBIQUE\",\"MOZAMBIQUE\"],\"legendgroup\":\"MOZAMBIQUE\",\"marker\":{\"color\":\"#FF6692\",\"size\":[29.94,22.79,31.89,32.04,30.87,46.68,69.14,81.3,127.54,192.25,442.53,427.44,358.38,605.17,533.36,1001.18,1257.26,2070.84,1241.94,1009.97,900.58,1073.31,2174.31,1231.34,1499.04],\"sizemode\":\"area\",\"sizeref\":15.496216666666665,\"symbol\":\"circle\"},\"mode\":\"markers\",\"name\":\"MOZAMBIQUE\",\"showlegend\":true,\"x\":[97,98,99,2000,2001,2002,2003,2004,2005,2006,2007,2008,2009,2010,2011,2012,2013,2014,2015,2016,2017,2018,2019,2020,2021],\"xaxis\":\"x\",\"y\":[13.73,25.36,33.7,21.27,6.61,27.77,23.62,41.56,50.61,28.66,47.65,31.94,68.76,103.45,101.48,291.49,292.96,325.74,362.88,546.29,931.75,1097.43,835.07,631.6,1303.97],\"yaxis\":\"y\",\"type\":\"scattergl\"},{\"hovertemplate\":\"<b>%{hovertext}</b><br><br>Country=MYANMAR<br>Year(start)=%{x}<br>Import=%{y}<br>Export=%{marker.size}<extra></extra>\",\"hovertext\":[\"MYANMAR\",\"MYANMAR\",\"MYANMAR\",\"MYANMAR\",\"MYANMAR\",\"MYANMAR\",\"MYANMAR\",\"MYANMAR\",\"MYANMAR\",\"MYANMAR\",\"MYANMAR\",\"MYANMAR\",\"MYANMAR\",\"MYANMAR\",\"MYANMAR\",\"MYANMAR\",\"MYANMAR\",\"MYANMAR\",\"MYANMAR\",\"MYANMAR\",\"MYANMAR\",\"MYANMAR\",\"MYANMAR\",\"MYANMAR\",\"MYANMAR\"],\"legendgroup\":\"MYANMAR\",\"marker\":{\"color\":\"#B6E880\",\"size\":[49.31,30.12,34.1,52.71,60.89,75.07,89.64,113.19,110.7,140.44,185.82,221.64,207.97,320.62,545.38,544.66,787.01,773.24,1070.65,1107.89,966.19,1205.6,973.89,772.56,671.22],\"sizemode\":\"area\",\"sizeref\":15.496216666666665,\"symbol\":\"circle\"},\"mode\":\"markers\",\"name\":\"MYANMAR\",\"showlegend\":true,\"x\":[97,98,99,2000,2001,2002,2003,2004,2005,2006,2007,2008,2009,2010,2011,2012,2013,2014,2015,2016,2017,2018,2019,2020,2021],\"xaxis\":\"x\",\"y\":[224.01,173.76,171.59,181.69,374.43,336.04,409.01,405.91,525.96,782.65,808.63,928.97,1289.8,1017.67,1381.15,1412.69,1395.67,1231.54,984.27,1067.25,639.64,521.49,547.25,526.79,669.21],\"yaxis\":\"y\",\"type\":\"scattergl\"},{\"hovertemplate\":\"<b>%{hovertext}</b><br><br>Country=N. MARIANA IS.<br>Year(start)=%{x}<br>Import=%{y}<br>Export=%{marker.size}<extra></extra>\",\"hovertext\":[\"N. MARIANA IS.\",\"N. MARIANA IS.\",\"N. MARIANA IS.\",\"N. MARIANA IS.\",\"N. MARIANA IS.\",\"N. MARIANA IS.\",\"N. MARIANA IS.\",\"N. MARIANA IS.\",\"N. MARIANA IS.\",\"N. MARIANA IS.\",\"N. MARIANA IS.\"],\"legendgroup\":\"N. MARIANA IS.\",\"marker\":{\"color\":\"#FF97FF\",\"size\":[0.09,0.43,0.46,0.14,0.06,0.56,0.01,0.04,0.27,0.29,0.31],\"sizemode\":\"area\",\"sizeref\":15.496216666666665,\"symbol\":\"circle\"},\"mode\":\"markers\",\"name\":\"N. MARIANA IS.\",\"showlegend\":true,\"x\":[2007,2008,2009,2010,2013,2015,2016,2017,2018,2020,2021],\"xaxis\":\"x\",\"y\":[0.38,0.07,0.18,0.06,0.15,0.23,0.03,0.17,0.02,0.29,0.05],\"yaxis\":\"y\",\"type\":\"scattergl\"},{\"hovertemplate\":\"<b>%{hovertext}</b><br><br>Country=NAMIBIA<br>Year(start)=%{x}<br>Import=%{y}<br>Export=%{marker.size}<extra></extra>\",\"hovertext\":[\"NAMIBIA\",\"NAMIBIA\",\"NAMIBIA\",\"NAMIBIA\",\"NAMIBIA\",\"NAMIBIA\",\"NAMIBIA\",\"NAMIBIA\",\"NAMIBIA\",\"NAMIBIA\",\"NAMIBIA\",\"NAMIBIA\",\"NAMIBIA\",\"NAMIBIA\",\"NAMIBIA\",\"NAMIBIA\",\"NAMIBIA\",\"NAMIBIA\",\"NAMIBIA\",\"NAMIBIA\",\"NAMIBIA\",\"NAMIBIA\",\"NAMIBIA\",\"NAMIBIA\",\"NAMIBIA\"],\"legendgroup\":\"NAMIBIA\",\"marker\":{\"color\":\"#FECB52\",\"size\":[1.72,13.72,3.11,3.32,9.88,4.97,7.69,7.22,14.65,18.39,41.28,92.78,63.07,55.41,64.33,56.82,212.39,107.82,73.62,89.88,43.87,82.37,66.18,51.01,98.27],\"sizemode\":\"area\",\"sizeref\":15.496216666666665,\"symbol\":\"circle\"},\"mode\":\"markers\",\"name\":\"NAMIBIA\",\"showlegend\":true,\"x\":[97,98,99,2000,2001,2002,2003,2004,2005,2006,2007,2008,2009,2010,2011,2012,2013,2014,2015,2016,2017,2018,2019,2020,2021],\"xaxis\":\"x\",\"y\":[0.06,0.01,0.22,0.43,0.19,3.27,0.1,0.05,20.77,3.38,20.68,3.39,41.88,36.76,10.25,9.19,13.0,34.42,10.42,50.31,62.2,53.55,28.54,30.23,40.16],\"yaxis\":\"y\",\"type\":\"scattergl\"},{\"hovertemplate\":\"<b>%{hovertext}</b><br><br>Country=NAURU RP<br>Year(start)=%{x}<br>Import=%{y}<br>Export=%{marker.size}<extra></extra>\",\"hovertext\":[\"NAURU RP\",\"NAURU RP\",\"NAURU RP\",\"NAURU RP\",\"NAURU RP\",\"NAURU RP\",\"NAURU RP\",\"NAURU RP\",\"NAURU RP\",\"NAURU RP\",\"NAURU RP\",\"NAURU RP\",\"NAURU RP\",\"NAURU RP\",\"NAURU RP\",\"NAURU RP\",\"NAURU RP\",\"NAURU RP\",\"NAURU RP\",\"NAURU RP\",\"NAURU RP\",\"NAURU RP\",\"NAURU RP\",\"NAURU RP\",\"NAURU RP\"],\"legendgroup\":\"NAURU RP\",\"marker\":{\"color\":\"#636efa\",\"size\":[0.32,0.62,0.22,0.02,0.18,0.05,0.11,0.01,0.01,0.02,0.07,0.12,0.08,0.11,0.21,0.0,0.17,0.02,0.01,2.53,1.36,0.53,0.14,0.1,0.16],\"sizemode\":\"area\",\"sizeref\":15.496216666666665,\"symbol\":\"circle\"},\"mode\":\"markers\",\"name\":\"NAURU RP\",\"showlegend\":true,\"x\":[97,98,99,2000,2001,2002,2003,2004,2005,2006,2007,2008,2009,2010,2011,2012,2013,2014,2015,2016,2017,2018,2019,2020,2021],\"xaxis\":\"x\",\"y\":[0.32,2.06,8.11,7.43,1.74,2.27,3.66,1.69,0.18,0.75,0.4,28.07,15.72,4.05,15.18,21.03,4.76,10.19,5.76,0.04,0.01,0.16,0.07,0.05,17.0],\"yaxis\":\"y\",\"type\":\"scattergl\"},{\"hovertemplate\":\"<b>%{hovertext}</b><br><br>Country=NEPAL<br>Year(start)=%{x}<br>Import=%{y}<br>Export=%{marker.size}<extra></extra>\",\"hovertext\":[\"NEPAL\",\"NEPAL\",\"NEPAL\",\"NEPAL\",\"NEPAL\",\"NEPAL\",\"NEPAL\",\"NEPAL\",\"NEPAL\",\"NEPAL\",\"NEPAL\",\"NEPAL\",\"NEPAL\",\"NEPAL\",\"NEPAL\",\"NEPAL\",\"NEPAL\",\"NEPAL\",\"NEPAL\",\"NEPAL\",\"NEPAL\",\"NEPAL\",\"NEPAL\",\"NEPAL\",\"NEPAL\"],\"legendgroup\":\"NEPAL\",\"marker\":{\"color\":\"#EF553B\",\"size\":[170.05,122.41,151.23,140.84,214.46,350.36,669.35,743.14,859.97,927.4,1507.42,1570.15,1533.31,2168.06,2721.57,3088.84,3592.3,4558.77,3902.7,5453.59,6612.96,7766.2,7160.35,6838.46,7073.0],\"sizemode\":\"area\",\"sizeref\":15.496216666666665,\"symbol\":\"circle\"},\"mode\":\"markers\",\"name\":\"NEPAL\",\"showlegend\":true,\"x\":[97,98,99,2000,2001,2002,2003,2004,2005,2006,2007,2008,2009,2010,2011,2012,2013,2014,2015,2016,2017,2018,2019,2020,2021],\"xaxis\":\"x\",\"y\":[95.16,144.85,188.63,255.08,355.94,281.76,286.04,345.83,379.85,306.02,628.56,496.04,452.61,513.4,549.97,543.1,529.93,639.91,470.59,445.13,438.38,508.14,711.61,673.16,1118.51],\"yaxis\":\"y\",\"type\":\"scattergl\"},{\"hovertemplate\":\"<b>%{hovertext}</b><br><br>Country=NETHERLAND<br>Year(start)=%{x}<br>Import=%{y}<br>Export=%{marker.size}<extra></extra>\",\"hovertext\":[\"NETHERLAND\",\"NETHERLAND\",\"NETHERLAND\",\"NETHERLAND\",\"NETHERLAND\",\"NETHERLAND\",\"NETHERLAND\",\"NETHERLAND\",\"NETHERLAND\",\"NETHERLAND\",\"NETHERLAND\",\"NETHERLAND\",\"NETHERLAND\",\"NETHERLAND\",\"NETHERLAND\",\"NETHERLAND\",\"NETHERLAND\",\"NETHERLAND\",\"NETHERLAND\",\"NETHERLAND\",\"NETHERLAND\",\"NETHERLAND\",\"NETHERLAND\",\"NETHERLAND\",\"NETHERLAND\"],\"legendgroup\":\"NETHERLAND\",\"marker\":{\"color\":\"#00cc96\",\"size\":[802.39,763.53,885.76,880.09,863.88,1047.91,1289.11,1604.86,2474.78,2674.55,5249.08,6348.69,6397.56,7677.56,9151.25,10565.02,7995.59,6324.72,4725.1,5069.69,6261.14,8812.84,8366.11,6472.82,8114.98],\"sizemode\":\"area\",\"sizeref\":15.496216666666665,\"symbol\":\"circle\"},\"mode\":\"markers\",\"name\":\"NETHERLAND\",\"showlegend\":true,\"x\":[97,98,99,2000,2001,2002,2003,2004,2005,2006,2007,2008,2009,2010,2011,2012,2013,2014,2015,2016,2017,2018,2019,2020,2021],\"xaxis\":\"x\",\"y\":[445.19,464.19,470.9,437.53,466.47,385.74,535.56,791.46,1049.55,1158.4,1926.73,1914.95,2130.0,1853.1,2618.5,2379.09,3138.92,2802.9,1859.9,1895.71,2512.63,4062.8,3390.97,3317.72,3255.46],\"yaxis\":\"y\",\"type\":\"scattergl\"},{\"hovertemplate\":\"<b>%{hovertext}</b><br><br>Country=NETHERLANDANTIL<br>Year(start)=%{x}<br>Import=%{y}<br>Export=%{marker.size}<extra></extra>\",\"hovertext\":[\"NETHERLANDANTIL\",\"NETHERLANDANTIL\",\"NETHERLANDANTIL\",\"NETHERLANDANTIL\",\"NETHERLANDANTIL\",\"NETHERLANDANTIL\",\"NETHERLANDANTIL\",\"NETHERLANDANTIL\",\"NETHERLANDANTIL\",\"NETHERLANDANTIL\",\"NETHERLANDANTIL\",\"NETHERLANDANTIL\",\"NETHERLANDANTIL\",\"NETHERLANDANTIL\",\"NETHERLANDANTIL\",\"NETHERLANDANTIL\",\"NETHERLANDANTIL\",\"NETHERLANDANTIL\",\"NETHERLANDANTIL\",\"NETHERLANDANTIL\"],\"legendgroup\":\"NETHERLANDANTIL\",\"marker\":{\"color\":\"#ab63fa\",\"size\":[6.25,22.66,11.37,10.94,12.87,10.12,18.7,29.68,52.32,39.31,59.87,68.5,40.94,37.22,38.12,38.59,30.58,30.0,19.22,21.85],\"sizemode\":\"area\",\"sizeref\":15.496216666666665,\"symbol\":\"circle\"},\"mode\":\"markers\",\"name\":\"NETHERLANDANTIL\",\"showlegend\":true,\"x\":[98,2000,2003,2005,2006,2007,2008,2009,2010,2011,2012,2013,2014,2015,2016,2017,2018,2019,2020,2021],\"xaxis\":\"x\",\"y\":[0.03,0.14,0.2,0.06,1.08,1.25,1.43,0.98,3.47,27.4,15.73,4.33,11.26,59.24,66.7,8.19,9.64,22.76,4.07,8.46],\"yaxis\":\"y\",\"type\":\"scattergl\"},{\"hovertemplate\":\"<b>%{hovertext}</b><br><br>Country=NEW CALEDONIA<br>Year(start)=%{x}<br>Import=%{y}<br>Export=%{marker.size}<extra></extra>\",\"hovertext\":[\"NEW CALEDONIA\",\"NEW CALEDONIA\",\"NEW CALEDONIA\",\"NEW CALEDONIA\",\"NEW CALEDONIA\",\"NEW CALEDONIA\",\"NEW CALEDONIA\",\"NEW CALEDONIA\",\"NEW CALEDONIA\",\"NEW CALEDONIA\",\"NEW CALEDONIA\",\"NEW CALEDONIA\",\"NEW CALEDONIA\",\"NEW CALEDONIA\",\"NEW CALEDONIA\",\"NEW CALEDONIA\",\"NEW CALEDONIA\",\"NEW CALEDONIA\",\"NEW CALEDONIA\",\"NEW CALEDONIA\",\"NEW CALEDONIA\",\"NEW CALEDONIA\",\"NEW CALEDONIA\",\"NEW CALEDONIA\",\"NEW CALEDONIA\"],\"legendgroup\":\"NEW CALEDONIA\",\"marker\":{\"color\":\"#FFA15A\",\"size\":[0.66,0.22,0.3,0.73,0.67,0.8,1.9,0.83,1.19,3.23,2.23,4.47,3.55,16.76,59.5,12.52,8.8,10.77,4.68,8.09,10.25,8.83,15.2,11.5,16.06],\"sizemode\":\"area\",\"sizeref\":15.496216666666665,\"symbol\":\"circle\"},\"mode\":\"markers\",\"name\":\"NEW CALEDONIA\",\"showlegend\":true,\"x\":[97,98,99,2000,2001,2002,2003,2004,2005,2006,2007,2008,2009,2010,2011,2012,2013,2014,2015,2016,2017,2018,2019,2020,2021],\"xaxis\":\"x\",\"y\":[0.16,0.04,0.19,0.4,1.74,1.02,11.26,9.18,3.11,21.21,10.08,10.74,3.07,6.78,11.26,27.07,27.79,21.38,50.35,23.98,9.65,0.21,0.23,1.81,5.38],\"yaxis\":\"y\",\"type\":\"scattergl\"},{\"hovertemplate\":\"<b>%{hovertext}</b><br><br>Country=NEW ZEALAND<br>Year(start)=%{x}<br>Import=%{y}<br>Export=%{marker.size}<extra></extra>\",\"hovertext\":[\"NEW ZEALAND\",\"NEW ZEALAND\",\"NEW ZEALAND\",\"NEW ZEALAND\",\"NEW ZEALAND\",\"NEW ZEALAND\",\"NEW ZEALAND\",\"NEW ZEALAND\",\"NEW ZEALAND\",\"NEW ZEALAND\",\"NEW ZEALAND\",\"NEW ZEALAND\",\"NEW ZEALAND\",\"NEW ZEALAND\",\"NEW ZEALAND\",\"NEW ZEALAND\",\"NEW ZEALAND\",\"NEW ZEALAND\",\"NEW ZEALAND\",\"NEW ZEALAND\",\"NEW ZEALAND\",\"NEW ZEALAND\",\"NEW ZEALAND\",\"NEW ZEALAND\",\"NEW ZEALAND\"],\"legendgroup\":\"NEW ZEALAND\",\"marker\":{\"color\":\"#19d3f3\",\"size\":[71.93,56.82,64.35,63.28,62.21,67.7,85.97,93.22,141.9,495.52,158.82,188.62,255.17,190.59,251.64,302.06,276.68,322.1,308.04,309.66,352.85,379.87,378.55,486.25,369.54],\"sizemode\":\"area\",\"sizeref\":15.496216666666665,\"symbol\":\"circle\"},\"mode\":\"markers\",\"name\":\"NEW ZEALAND\",\"showlegend\":true,\"x\":[97,98,99,2000,2001,2002,2003,2004,2005,2006,2007,2008,2009,2010,2011,2012,2013,2014,2015,2016,2017,2018,2019,2020,2021],\"xaxis\":\"x\",\"y\":[83.76,88.33,96.5,79.34,82.17,76.4,78.89,127.96,216.63,265.5,335.94,423.74,499.21,625.21,822.72,696.62,614.52,591.4,547.61,504.44,643.71,630.78,521.83,381.53,297.73],\"yaxis\":\"y\",\"type\":\"scattergl\"},{\"hovertemplate\":\"<b>%{hovertext}</b><br><br>Country=NICARAGUA<br>Year(start)=%{x}<br>Import=%{y}<br>Export=%{marker.size}<extra></extra>\",\"hovertext\":[\"NICARAGUA\",\"NICARAGUA\",\"NICARAGUA\",\"NICARAGUA\",\"NICARAGUA\",\"NICARAGUA\",\"NICARAGUA\",\"NICARAGUA\",\"NICARAGUA\",\"NICARAGUA\",\"NICARAGUA\",\"NICARAGUA\",\"NICARAGUA\",\"NICARAGUA\",\"NICARAGUA\",\"NICARAGUA\",\"NICARAGUA\",\"NICARAGUA\",\"NICARAGUA\",\"NICARAGUA\",\"NICARAGUA\",\"NICARAGUA\",\"NICARAGUA\"],\"legendgroup\":\"NICARAGUA\",\"marker\":{\"color\":\"#FF6692\",\"size\":[2.52,4.06,5.75,5.23,5.96,11.38,10.63,14.89,54.16,20.7,23.2,30.01,45.7,59.26,59.23,65.51,82.54,86.33,87.31,53.87,65.52,89.67,81.48],\"sizemode\":\"area\",\"sizeref\":15.496216666666665,\"symbol\":\"circle\"},\"mode\":\"markers\",\"name\":\"NICARAGUA\",\"showlegend\":true,\"x\":[99,2000,2001,2002,2003,2004,2005,2006,2007,2008,2009,2010,2011,2012,2013,2014,2015,2016,2017,2018,2019,2020,2021],\"xaxis\":\"x\",\"y\":[0.03,0.02,0.58,0.49,0.34,0.2,5.49,0.07,0.38,0.61,0.35,0.91,0.97,0.82,2.65,2.19,3.85,2.62,4.17,3.6,3.6,6.18,6.72],\"yaxis\":\"y\",\"type\":\"scattergl\"},{\"hovertemplate\":\"<b>%{hovertext}</b><br><br>Country=NIGER<br>Year(start)=%{x}<br>Import=%{y}<br>Export=%{marker.size}<extra></extra>\",\"hovertext\":[\"NIGER\",\"NIGER\",\"NIGER\",\"NIGER\",\"NIGER\",\"NIGER\",\"NIGER\",\"NIGER\",\"NIGER\",\"NIGER\",\"NIGER\",\"NIGER\",\"NIGER\",\"NIGER\",\"NIGER\",\"NIGER\",\"NIGER\",\"NIGER\",\"NIGER\",\"NIGER\",\"NIGER\",\"NIGER\",\"NIGER\",\"NIGER\"],\"legendgroup\":\"NIGER\",\"marker\":{\"color\":\"#B6E880\",\"size\":[5.47,12.89,26.17,35.44,52.99,36.66,40.29,22.25,14.33,47.39,25.98,37.9,47.08,88.07,56.18,86.31,78.22,80.16,81.24,120.21,94.84,73.6,87.03,67.06],\"sizemode\":\"area\",\"sizeref\":15.496216666666665,\"symbol\":\"circle\"},\"mode\":\"markers\",\"name\":\"NIGER\",\"showlegend\":true,\"x\":[97,99,2000,2001,2002,2003,2004,2005,2006,2007,2008,2009,2010,2011,2012,2013,2014,2015,2016,2017,2018,2019,2020,2021],\"xaxis\":\"x\",\"y\":[0.08,0.08,1.64,0.6,0.06,2.21,0.72,0.76,5.31,0.67,0.17,0.25,10.47,73.68,69.05,0.54,0.55,0.32,0.03,20.24,0.65,0.9,4.12,4.53],\"yaxis\":\"y\",\"type\":\"scattergl\"},{\"hovertemplate\":\"<b>%{hovertext}</b><br><br>Country=NIGERIA<br>Year(start)=%{x}<br>Import=%{y}<br>Export=%{marker.size}<extra></extra>\",\"hovertext\":[\"NIGERIA\",\"NIGERIA\",\"NIGERIA\",\"NIGERIA\",\"NIGERIA\",\"NIGERIA\",\"NIGERIA\",\"NIGERIA\",\"NIGERIA\",\"NIGERIA\",\"NIGERIA\",\"NIGERIA\",\"NIGERIA\",\"NIGERIA\",\"NIGERIA\",\"NIGERIA\",\"NIGERIA\",\"NIGERIA\",\"NIGERIA\",\"NIGERIA\",\"NIGERIA\",\"NIGERIA\",\"NIGERIA\",\"NIGERIA\",\"NIGERIA\"],\"legendgroup\":\"NIGERIA\",\"marker\":{\"color\":\"#FF97FF\",\"size\":[215.53,248.09,293.71,384.66,563.14,449.08,565.49,644.68,874.03,902.84,1085.41,1529.26,1408.67,2098.94,2702.01,2740.04,2667.75,2681.37,2221.9,1764.11,2254.92,3005.21,3609.91,3134.89,3453.4],\"sizemode\":\"area\",\"sizeref\":15.496216666666665,\"symbol\":\"circle\"},\"mode\":\"markers\",\"name\":\"NIGERIA\",\"showlegend\":true,\"x\":[97,98,99,2000,2001,2002,2003,2004,2005,2006,2007,2008,2009,2010,2011,2012,2013,2014,2015,2016,2017,2018,2019,2020,2021],\"xaxis\":\"x\",\"y\":[1115.48,1177.73,2928.39,63.78,87.12,78.13,75.64,48.4,72.46,7009.21,7612.02,8900.35,7287.9,10787.72,14757.77,12086.11,14097.84,13682.97,9949.17,7659.48,9501.33,10884.71,10213.61,5672.38,7363.87],\"yaxis\":\"y\",\"type\":\"scattergl\"},{\"hovertemplate\":\"<b>%{hovertext}</b><br><br>Country=NIUE IS<br>Year(start)=%{x}<br>Import=%{y}<br>Export=%{marker.size}<extra></extra>\",\"hovertext\":[\"NIUE IS\",\"NIUE IS\",\"NIUE IS\",\"NIUE IS\",\"NIUE IS\"],\"legendgroup\":\"NIUE IS\",\"marker\":{\"color\":\"#FECB52\",\"size\":[0.11,0.01,0.0,0.04,0.01],\"sizemode\":\"area\",\"sizeref\":15.496216666666665,\"symbol\":\"circle\"},\"mode\":\"markers\",\"name\":\"NIUE IS\",\"showlegend\":true,\"x\":[2006,2007,2009,2012,2013],\"xaxis\":\"x\",\"y\":[0.29,0.04,0.06,0.01,0.02],\"yaxis\":\"y\",\"type\":\"scattergl\"},{\"hovertemplate\":\"<b>%{hovertext}</b><br><br>Country=NORFOLK IS<br>Year(start)=%{x}<br>Import=%{y}<br>Export=%{marker.size}<extra></extra>\",\"hovertext\":[\"NORFOLK IS\",\"NORFOLK IS\",\"NORFOLK IS\",\"NORFOLK IS\",\"NORFOLK IS\",\"NORFOLK IS\",\"NORFOLK IS\",\"NORFOLK IS\",\"NORFOLK IS\",\"NORFOLK IS\",\"NORFOLK IS\",\"NORFOLK IS\",\"NORFOLK IS\",\"NORFOLK IS\",\"NORFOLK IS\",\"NORFOLK IS\",\"NORFOLK IS\",\"NORFOLK IS\",\"NORFOLK IS\",\"NORFOLK IS\",\"NORFOLK IS\"],\"legendgroup\":\"NORFOLK IS\",\"marker\":{\"color\":\"#636efa\",\"size\":[0.1,0.75,0.24,0.1,0.09,0.54,0.49,0.38,0.11,0.76,0.24,0.49,1.36,0.06,0.33,0.28,0.38,0.19,0.33,0.22,0.18],\"sizemode\":\"area\",\"sizeref\":15.496216666666665,\"symbol\":\"circle\"},\"mode\":\"markers\",\"name\":\"NORFOLK IS\",\"showlegend\":true,\"x\":[99,2000,2002,2004,2005,2006,2007,2008,2009,2010,2011,2012,2013,2014,2015,2016,2017,2018,2019,2020,2021],\"xaxis\":\"x\",\"y\":[0.07,0.01,0.02,0.09,0.13,0.02,0.42,0.83,0.81,0.16,0.14,0.54,0.2,0.13,0.07,0.01,0.46,0.14,0.45,0.24,0.23],\"yaxis\":\"y\",\"type\":\"scattergl\"},{\"hovertemplate\":\"<b>%{hovertext}</b><br><br>Country=NORWAY<br>Year(start)=%{x}<br>Import=%{y}<br>Export=%{marker.size}<extra></extra>\",\"hovertext\":[\"NORWAY\",\"NORWAY\",\"NORWAY\",\"NORWAY\",\"NORWAY\",\"NORWAY\",\"NORWAY\",\"NORWAY\",\"NORWAY\",\"NORWAY\",\"NORWAY\",\"NORWAY\",\"NORWAY\",\"NORWAY\",\"NORWAY\",\"NORWAY\",\"NORWAY\",\"NORWAY\",\"NORWAY\",\"NORWAY\",\"NORWAY\",\"NORWAY\",\"NORWAY\",\"NORWAY\",\"NORWAY\"],\"legendgroup\":\"NORWAY\",\"marker\":{\"color\":\"#EF553B\",\"size\":[77.18,55.55,51.32,60.39,54.3,70.83,75.69,103.81,130.2,184.18,265.65,393.67,228.91,179.35,334.23,234.6,229.08,263.41,541.63,244.89,359.98,313.05,421.61,322.48,285.34],\"sizemode\":\"area\",\"sizeref\":15.496216666666665,\"symbol\":\"circle\"},\"mode\":\"markers\",\"name\":\"NORWAY\",\"showlegend\":true,\"x\":[97,98,99,2000,2001,2002,2003,2004,2005,2006,2007,2008,2009,2010,2011,2012,2013,2014,2015,2016,2017,2018,2019,2020,2021],\"xaxis\":\"x\",\"y\":[97.85,66.32,43.01,46.85,47.98,96.95,303.02,235.08,289.34,768.7,1639.55,1120.73,907.35,961.49,850.97,944.98,745.14,1001.11,585.37,566.79,842.08,366.47,630.79,673.66,1784.27],\"yaxis\":\"y\",\"type\":\"scattergl\"},{\"hovertemplate\":\"<b>%{hovertext}</b><br><br>Country=OMAN<br>Year(start)=%{x}<br>Import=%{y}<br>Export=%{marker.size}<extra></extra>\",\"hovertext\":[\"OMAN\",\"OMAN\",\"OMAN\",\"OMAN\",\"OMAN\",\"OMAN\",\"OMAN\",\"OMAN\",\"OMAN\",\"OMAN\",\"OMAN\",\"OMAN\",\"OMAN\",\"OMAN\",\"OMAN\",\"OMAN\",\"OMAN\",\"OMAN\",\"OMAN\",\"OMAN\",\"OMAN\",\"OMAN\",\"OMAN\",\"OMAN\",\"OMAN\"],\"legendgroup\":\"OMAN\",\"marker\":{\"color\":\"#00cc96\",\"size\":[109.29,118.55,132.77,144.62,148.99,198.61,258.99,267.67,408.43,630.97,939.43,779.04,1032.93,1082.24,1322.13,2599.49,2812.27,2379.44,2190.96,2728.3,2439.46,2246.31,2261.81,2355.3,1772.3],\"sizemode\":\"area\",\"sizeref\":15.496216666666665,\"symbol\":\"circle\"},\"mode\":\"markers\",\"name\":\"OMAN\",\"showlegend\":true,\"x\":[97,98,99,2000,2001,2002,2003,2004,2005,2006,2007,2008,2009,2010,2011,2012,2013,2014,2015,2016,2017,2018,2019,2020,2021],\"xaxis\":\"x\",\"y\":[32.46,22.68,62.24,6.34,8.48,13.84,50.88,20.61,265.59,458.9,1141.46,1205.46,3499.89,4002.07,3345.94,2009.72,2951.18,1752.24,1674.71,1290.5,4264.29,2759.0,3669.33,3087.93,4735.51],\"yaxis\":\"y\",\"type\":\"scattergl\"},{\"hovertemplate\":\"<b>%{hovertext}</b><br><br>Country=PACIFIC IS<br>Year(start)=%{x}<br>Import=%{y}<br>Export=%{marker.size}<extra></extra>\",\"hovertext\":[\"PACIFIC IS\"],\"legendgroup\":\"PACIFIC IS\",\"marker\":{\"color\":\"#ab63fa\",\"size\":[35.03],\"sizemode\":\"area\",\"sizeref\":15.496216666666665,\"symbol\":\"circle\"},\"mode\":\"markers\",\"name\":\"PACIFIC IS\",\"showlegend\":true,\"x\":[2011],\"xaxis\":\"x\",\"y\":[0.01],\"yaxis\":\"y\",\"type\":\"scattergl\"},{\"hovertemplate\":\"<b>%{hovertext}</b><br><br>Country=PAKISTAN IR<br>Year(start)=%{x}<br>Import=%{y}<br>Export=%{marker.size}<extra></extra>\",\"hovertext\":[\"PAKISTAN IR\",\"PAKISTAN IR\",\"PAKISTAN IR\",\"PAKISTAN IR\",\"PAKISTAN IR\",\"PAKISTAN IR\",\"PAKISTAN IR\",\"PAKISTAN IR\",\"PAKISTAN IR\",\"PAKISTAN IR\",\"PAKISTAN IR\",\"PAKISTAN IR\",\"PAKISTAN IR\",\"PAKISTAN IR\",\"PAKISTAN IR\",\"PAKISTAN IR\",\"PAKISTAN IR\",\"PAKISTAN IR\",\"PAKISTAN IR\",\"PAKISTAN IR\",\"PAKISTAN IR\",\"PAKISTAN IR\",\"PAKISTAN IR\",\"PAKISTAN IR\",\"PAKISTAN IR\"],\"legendgroup\":\"PAKISTAN IR\",\"marker\":{\"color\":\"#FFA15A\",\"size\":[143.15,106.1,92.95,186.83,144.01,206.16,286.94,521.05,689.23,1350.09,1950.53,1439.88,1573.32,2039.53,1541.56,2064.79,2274.26,1857.18,2171.17,1821.87,1924.28,2066.56,816.62,326.87,374.62],\"sizemode\":\"area\",\"sizeref\":15.496216666666665,\"symbol\":\"circle\"},\"mode\":\"markers\",\"name\":\"PAKISTAN IR\",\"showlegend\":true,\"x\":[97,98,99,2000,2001,2002,2003,2004,2005,2006,2007,2008,2009,2010,2011,2012,2013,2014,2015,2016,2017,2018,2019,2020,2021],\"xaxis\":\"x\",\"y\":[44.45,214.45,68.21,64.03,64.76,44.85,57.65,94.97,179.56,323.62,287.97,370.17,275.94,332.51,397.66,541.87,426.88,497.31,441.03,454.49,488.56,494.87,13.97,2.39,2.02],\"yaxis\":\"y\",\"type\":\"scattergl\"},{\"hovertemplate\":\"<b>%{hovertext}</b><br><br>Country=PALAU<br>Year(start)=%{x}<br>Import=%{y}<br>Export=%{marker.size}<extra></extra>\",\"hovertext\":[\"PALAU\",\"PALAU\",\"PALAU\",\"PALAU\",\"PALAU\",\"PALAU\",\"PALAU\",\"PALAU\",\"PALAU\"],\"legendgroup\":\"PALAU\",\"marker\":{\"color\":\"#19d3f3\",\"size\":[0.16,0.23,0.01,0.04,0.22,0.07,0.02,0.07,0.09],\"sizemode\":\"area\",\"sizeref\":15.496216666666665,\"symbol\":\"circle\"},\"mode\":\"markers\",\"name\":\"PALAU\",\"showlegend\":true,\"x\":[2007,2008,2009,2010,2011,2014,2015,2017,2018],\"xaxis\":\"x\",\"y\":[0.01,0.01,0.01,0.01,0.01,0.01,3.7,0.78,3.22],\"yaxis\":\"y\",\"type\":\"scattergl\"},{\"hovertemplate\":\"<b>%{hovertext}</b><br><br>Country=PANAMA C Z<br>Year(start)=%{x}<br>Import=%{y}<br>Export=%{marker.size}<extra></extra>\",\"hovertext\":[\"PANAMA C Z\",\"PANAMA C Z\",\"PANAMA C Z\",\"PANAMA C Z\",\"PANAMA C Z\",\"PANAMA C Z\",\"PANAMA C Z\",\"PANAMA C Z\",\"PANAMA C Z\",\"PANAMA C Z\",\"PANAMA C Z\",\"PANAMA C Z\"],\"legendgroup\":\"PANAMA C Z\",\"marker\":{\"color\":\"#FF6692\",\"size\":[5.38,9.08,3.2,0.48,4.53,0.66,0.96,0.69,0.46,0.36,0.07,0.01],\"sizemode\":\"area\",\"sizeref\":15.496216666666665,\"symbol\":\"circle\"},\"mode\":\"markers\",\"name\":\"PANAMA C Z\",\"showlegend\":true,\"x\":[98,2002,2003,2004,2005,2007,2008,2009,2011,2013,2014,2016],\"xaxis\":\"x\",\"y\":[5.38,0.03,0.53,8.75,0.48,0.03,0.01,26.97,58.6,21.41,44.25,0.45],\"yaxis\":\"y\",\"type\":\"scattergl\"},{\"hovertemplate\":\"<b>%{hovertext}</b><br><br>Country=PANAMA REPUBLIC<br>Year(start)=%{x}<br>Import=%{y}<br>Export=%{marker.size}<extra></extra>\",\"hovertext\":[\"PANAMA REPUBLIC\",\"PANAMA REPUBLIC\",\"PANAMA REPUBLIC\",\"PANAMA REPUBLIC\",\"PANAMA REPUBLIC\",\"PANAMA REPUBLIC\",\"PANAMA REPUBLIC\",\"PANAMA REPUBLIC\",\"PANAMA REPUBLIC\",\"PANAMA REPUBLIC\",\"PANAMA REPUBLIC\",\"PANAMA REPUBLIC\",\"PANAMA REPUBLIC\",\"PANAMA REPUBLIC\",\"PANAMA REPUBLIC\",\"PANAMA REPUBLIC\",\"PANAMA REPUBLIC\",\"PANAMA REPUBLIC\",\"PANAMA REPUBLIC\",\"PANAMA REPUBLIC\",\"PANAMA REPUBLIC\",\"PANAMA REPUBLIC\",\"PANAMA REPUBLIC\",\"PANAMA REPUBLIC\",\"PANAMA REPUBLIC\"],\"legendgroup\":\"PANAMA REPUBLIC\",\"marker\":{\"color\":\"#B6E880\",\"size\":[39.98,25.1,31.74,65.65,43.22,49.21,54.55,55.95,63.05,165.6,68.43,123.22,78.09,124.16,232.17,226.49,211.4,302.4,201.41,220.21,227.05,227.26,238.52,151.88,281.59],\"sizemode\":\"area\",\"sizeref\":15.496216666666665,\"symbol\":\"circle\"},\"mode\":\"markers\",\"name\":\"PANAMA REPUBLIC\",\"showlegend\":true,\"x\":[97,98,99,2000,2001,2002,2003,2004,2005,2006,2007,2008,2009,2010,2011,2012,2013,2014,2015,2016,2017,2018,2019,2020,2021],\"xaxis\":\"x\",\"y\":[47.99,17.32,0.15,9.5,26.75,17.94,7.99,90.87,247.44,306.12,252.81,135.64,366.35,188.47,160.69,109.55,41.64,30.46,72.49,201.83,43.32,38.88,75.83,32.95,207.19],\"yaxis\":\"y\",\"type\":\"scattergl\"},{\"hovertemplate\":\"<b>%{hovertext}</b><br><br>Country=PAPUA N GNA<br>Year(start)=%{x}<br>Import=%{y}<br>Export=%{marker.size}<extra></extra>\",\"hovertext\":[\"PAPUA N GNA\",\"PAPUA N GNA\",\"PAPUA N GNA\",\"PAPUA N GNA\",\"PAPUA N GNA\",\"PAPUA N GNA\",\"PAPUA N GNA\",\"PAPUA N GNA\",\"PAPUA N GNA\",\"PAPUA N GNA\",\"PAPUA N GNA\",\"PAPUA N GNA\",\"PAPUA N GNA\",\"PAPUA N GNA\",\"PAPUA N GNA\",\"PAPUA N GNA\",\"PAPUA N GNA\",\"PAPUA N GNA\",\"PAPUA N GNA\",\"PAPUA N GNA\",\"PAPUA N GNA\",\"PAPUA N GNA\",\"PAPUA N GNA\",\"PAPUA N GNA\",\"PAPUA N GNA\"],\"legendgroup\":\"PAPUA N GNA\",\"marker\":{\"color\":\"#FF97FF\",\"size\":[2.4,3.44,5.37,4.51,10.26,5.07,4.69,14.28,9.21,10.69,14.8,19.99,17.58,21.95,35.9,29.77,43.96,52.19,39.45,36.28,41.93,49.72,56.02,56.17,51.59],\"sizemode\":\"area\",\"sizeref\":15.496216666666665,\"symbol\":\"circle\"},\"mode\":\"markers\",\"name\":\"PAPUA N GNA\",\"showlegend\":true,\"x\":[97,98,99,2000,2001,2002,2003,2004,2005,2006,2007,2008,2009,2010,2011,2012,2013,2014,2015,2016,2017,2018,2019,2020,2021],\"xaxis\":\"x\",\"y\":[2.85,2.04,1.46,0.31,0.06,0.41,0.95,95.2,64.12,277.35,195.34,229.77,100.56,216.94,199.37,104.64,178.3,157.29,179.59,108.06,196.19,88.96,55.7,125.85,265.36],\"yaxis\":\"y\",\"type\":\"scattergl\"},{\"hovertemplate\":\"<b>%{hovertext}</b><br><br>Country=PARAGUAY<br>Year(start)=%{x}<br>Import=%{y}<br>Export=%{marker.size}<extra></extra>\",\"hovertext\":[\"PARAGUAY\",\"PARAGUAY\",\"PARAGUAY\",\"PARAGUAY\",\"PARAGUAY\",\"PARAGUAY\",\"PARAGUAY\",\"PARAGUAY\",\"PARAGUAY\",\"PARAGUAY\",\"PARAGUAY\",\"PARAGUAY\",\"PARAGUAY\",\"PARAGUAY\",\"PARAGUAY\",\"PARAGUAY\",\"PARAGUAY\",\"PARAGUAY\",\"PARAGUAY\",\"PARAGUAY\",\"PARAGUAY\",\"PARAGUAY\",\"PARAGUAY\",\"PARAGUAY\",\"PARAGUAY\"],\"legendgroup\":\"PARAGUAY\",\"marker\":{\"color\":\"#FECB52\",\"size\":[6.59,5.89,6.88,8.27,7.17,6.83,10.57,12.01,16.38,27.28,46.3,39.0,37.05,41.53,66.93,82.94,88.91,106.48,98.13,125.03,168.43,160.71,126.96,160.81,166.06],\"sizemode\":\"area\",\"sizeref\":15.496216666666665,\"symbol\":\"circle\"},\"mode\":\"markers\",\"name\":\"PARAGUAY\",\"showlegend\":true,\"x\":[97,98,99,2000,2001,2002,2003,2004,2005,2006,2007,2008,2009,2010,2011,2012,2013,2014,2015,2016,2017,2018,2019,2020,2021],\"xaxis\":\"x\",\"y\":[0.59,0.51,0.15,0.54,18.05,0.64,0.75,2.77,4.21,2.83,0.45,0.58,5.22,5.31,11.1,8.66,5.28,88.12,112.26,155.28,166.9,20.97,25.28,15.61,11.74],\"yaxis\":\"y\",\"type\":\"scattergl\"},{\"hovertemplate\":\"<b>%{hovertext}</b><br><br>Country=PERU<br>Year(start)=%{x}<br>Import=%{y}<br>Export=%{marker.size}<extra></extra>\",\"hovertext\":[\"PERU\",\"PERU\",\"PERU\",\"PERU\",\"PERU\",\"PERU\",\"PERU\",\"PERU\",\"PERU\",\"PERU\",\"PERU\",\"PERU\",\"PERU\",\"PERU\",\"PERU\",\"PERU\",\"PERU\",\"PERU\",\"PERU\",\"PERU\",\"PERU\",\"PERU\",\"PERU\",\"PERU\",\"PERU\"],\"legendgroup\":\"PERU\",\"marker\":{\"color\":\"#636efa\",\"size\":[21.62,23.51,32.85,26.32,35.07,49.69,38.01,68.82,84.26,125.64,288.44,308.31,274.33,417.6,564.29,637.93,620.55,819.86,703.12,696.42,760.68,721.03,764.0,764.69,680.54],\"sizemode\":\"area\",\"sizeref\":15.496216666666665,\"symbol\":\"circle\"},\"mode\":\"markers\",\"name\":\"PERU\",\"showlegend\":true,\"x\":[97,98,99,2000,2001,2002,2003,2004,2005,2006,2007,2008,2009,2010,2011,2012,2013,2014,2015,2016,2017,2018,2019,2020,2021],\"xaxis\":\"x\",\"y\":[14.08,9.32,49.53,9.13,27.95,24.77,29.91,36.35,23.06,127.41,158.44,269.94,136.62,187.36,548.27,561.32,524.2,590.4,820.22,1076.69,2376.86,2405.4,1575.09,1520.88,2107.6],\"yaxis\":\"y\",\"type\":\"scattergl\"},{\"hovertemplate\":\"<b>%{hovertext}</b><br><br>Country=Petroleum Products<br>Year(start)=%{x}<br>Import=%{y}<br>Export=%{marker.size}<extra></extra>\",\"hovertext\":[\"Petroleum Products\",\"Petroleum Products\",\"Petroleum Products\"],\"legendgroup\":\"Petroleum Products\",\"marker\":{\"color\":\"#EF553B\",\"size\":[352.75,29.98,1825.65],\"sizemode\":\"area\",\"sizeref\":15.496216666666665,\"symbol\":\"circle\"},\"mode\":\"markers\",\"name\":\"Petroleum Products\",\"showlegend\":true,\"x\":[97,99,2000],\"xaxis\":\"x\",\"y\":[3345.08,2565.97,886.46],\"yaxis\":\"y\",\"type\":\"scattergl\"},{\"hovertemplate\":\"<b>%{hovertext}</b><br><br>Country=PHILIPPINES<br>Year(start)=%{x}<br>Import=%{y}<br>Export=%{marker.size}<extra></extra>\",\"hovertext\":[\"PHILIPPINES\",\"PHILIPPINES\",\"PHILIPPINES\",\"PHILIPPINES\",\"PHILIPPINES\",\"PHILIPPINES\",\"PHILIPPINES\",\"PHILIPPINES\",\"PHILIPPINES\",\"PHILIPPINES\",\"PHILIPPINES\",\"PHILIPPINES\",\"PHILIPPINES\",\"PHILIPPINES\",\"PHILIPPINES\",\"PHILIPPINES\",\"PHILIPPINES\",\"PHILIPPINES\",\"PHILIPPINES\",\"PHILIPPINES\",\"PHILIPPINES\",\"PHILIPPINES\",\"PHILIPPINES\",\"PHILIPPINES\",\"PHILIPPINES\"],\"legendgroup\":\"PHILIPPINES\",\"marker\":{\"color\":\"#00cc96\",\"size\":[238.72,118.74,143.53,202.61,247.79,472.0,321.53,412.23,494.66,580.98,620.32,743.77,748.77,881.1,992.91,1187.19,1419.0,1395.58,1353.34,1482.52,1692.83,1743.64,1526.03,1457.3,1580.38],\"sizemode\":\"area\",\"sizeref\":15.496216666666665,\"symbol\":\"circle\"},\"mode\":\"markers\",\"name\":\"PHILIPPINES\",\"showlegend\":true,\"x\":[97,98,99,2000,2001,2002,2003,2004,2005,2006,2007,2008,2009,2010,2011,2012,2013,2014,2015,2016,2017,2018,2019,2020,2021],\"xaxis\":\"x\",\"y\":[23.06,37.25,56.24,63.04,94.84,123.77,122.11,187.39,235.49,166.79,204.54,254.77,313.07,429.39,441.38,504.0,391.59,423.04,542.16,494.62,764.36,581.1,523.83,572.47,551.66],\"yaxis\":\"y\",\"type\":\"scattergl\"},{\"hovertemplate\":\"<b>%{hovertext}</b><br><br>Country=PITCAIRN IS.<br>Year(start)=%{x}<br>Import=%{y}<br>Export=%{marker.size}<extra></extra>\",\"hovertext\":[\"PITCAIRN IS.\",\"PITCAIRN IS.\",\"PITCAIRN IS.\",\"PITCAIRN IS.\",\"PITCAIRN IS.\",\"PITCAIRN IS.\"],\"legendgroup\":\"PITCAIRN IS.\",\"marker\":{\"color\":\"#ab63fa\",\"size\":[0.07,0.03,0.01,0.01,0.02,0.12],\"sizemode\":\"area\",\"sizeref\":15.496216666666665,\"symbol\":\"circle\"},\"mode\":\"markers\",\"name\":\"PITCAIRN IS.\",\"showlegend\":true,\"x\":[2006,2008,2017,2018,2019,2020],\"xaxis\":\"x\",\"y\":[0.01,0.03,0.22,0.03,0.02,0.01],\"yaxis\":\"y\",\"type\":\"scattergl\"},{\"hovertemplate\":\"<b>%{hovertext}</b><br><br>Country=POLAND<br>Year(start)=%{x}<br>Import=%{y}<br>Export=%{marker.size}<extra></extra>\",\"hovertext\":[\"POLAND\",\"POLAND\",\"POLAND\",\"POLAND\",\"POLAND\",\"POLAND\",\"POLAND\",\"POLAND\",\"POLAND\",\"POLAND\",\"POLAND\",\"POLAND\",\"POLAND\",\"POLAND\",\"POLAND\",\"POLAND\",\"POLAND\",\"POLAND\",\"POLAND\",\"POLAND\",\"POLAND\",\"POLAND\",\"POLAND\",\"POLAND\",\"POLAND\"],\"legendgroup\":\"POLAND\",\"marker\":{\"color\":\"#FFA15A\",\"size\":[87.43,93.06,91.66,86.22,108.31,105.64,134.21,176.3,226.96,306.57,447.45,518.45,421.13,666.22,787.0,810.85,995.5,1050.79,1025.3,1197.81,1541.36,1572.8,1548.11,1652.67,1949.23],\"sizemode\":\"area\",\"sizeref\":15.496216666666665,\"symbol\":\"circle\"},\"mode\":\"markers\",\"name\":\"POLAND\",\"showlegend\":true,\"x\":[97,98,99,2000,2001,2002,2003,2004,2005,2006,2007,2008,2009,2010,2011,2012,2013,2014,2015,2016,2017,2018,2019,2020,2021],\"xaxis\":\"x\",\"y\":[32.7,33.81,38.49,42.63,31.39,38.84,49.05,90.37,107.81,117.23,189.46,266.12,387.29,386.04,624.25,863.25,622.57,635.6,569.66,690.98,766.99,793.39,849.58,706.35,800.91],\"yaxis\":\"y\",\"type\":\"scattergl\"},{\"hovertemplate\":\"<b>%{hovertext}</b><br><br>Country=PORTUGAL<br>Year(start)=%{x}<br>Import=%{y}<br>Export=%{marker.size}<extra></extra>\",\"hovertext\":[\"PORTUGAL\",\"PORTUGAL\",\"PORTUGAL\",\"PORTUGAL\",\"PORTUGAL\",\"PORTUGAL\",\"PORTUGAL\",\"PORTUGAL\",\"PORTUGAL\",\"PORTUGAL\",\"PORTUGAL\",\"PORTUGAL\",\"PORTUGAL\",\"PORTUGAL\",\"PORTUGAL\",\"PORTUGAL\",\"PORTUGAL\",\"PORTUGAL\",\"PORTUGAL\",\"PORTUGAL\",\"PORTUGAL\",\"PORTUGAL\",\"PORTUGAL\",\"PORTUGAL\",\"PORTUGAL\"],\"legendgroup\":\"PORTUGAL\",\"marker\":{\"color\":\"#19d3f3\",\"size\":[111.45,106.28,124.65,146.7,147.84,162.12,169.89,223.17,260.89,366.99,495.91,440.44,374.57,526.84,525.27,528.46,627.0,636.43,589.64,669.66,747.32,743.27,744.79,837.14,906.68],\"sizemode\":\"area\",\"sizeref\":15.496216666666665,\"symbol\":\"circle\"},\"mode\":\"markers\",\"name\":\"PORTUGAL\",\"showlegend\":true,\"x\":[97,98,99,2000,2001,2002,2003,2004,2005,2006,2007,2008,2009,2010,2011,2012,2013,2014,2015,2016,2017,2018,2019,2020,2021],\"xaxis\":\"x\",\"y\":[15.59,9.34,8.66,11.99,14.0,14.96,13.87,18.94,30.25,30.53,35.69,56.92,71.06,85.37,303.62,378.21,339.98,145.05,102.54,141.16,190.15,132.83,141.82,113.96,126.86],\"yaxis\":\"y\",\"type\":\"scattergl\"},{\"hovertemplate\":\"<b>%{hovertext}</b><br><br>Country=PUERTO RICO<br>Year(start)=%{x}<br>Import=%{y}<br>Export=%{marker.size}<extra></extra>\",\"hovertext\":[\"PUERTO RICO\",\"PUERTO RICO\",\"PUERTO RICO\",\"PUERTO RICO\",\"PUERTO RICO\",\"PUERTO RICO\",\"PUERTO RICO\",\"PUERTO RICO\",\"PUERTO RICO\",\"PUERTO RICO\",\"PUERTO RICO\",\"PUERTO RICO\",\"PUERTO RICO\",\"PUERTO RICO\",\"PUERTO RICO\",\"PUERTO RICO\",\"PUERTO RICO\",\"PUERTO RICO\",\"PUERTO RICO\",\"PUERTO RICO\",\"PUERTO RICO\",\"PUERTO RICO\",\"PUERTO RICO\",\"PUERTO RICO\"],\"legendgroup\":\"PUERTO RICO\",\"marker\":{\"color\":\"#FF6692\",\"size\":[2.57,3.08,5.43,6.67,6.66,26.43,14.67,19.26,28.51,35.33,65.96,87.73,65.0,103.03,106.29,90.84,99.02,115.0,105.87,78.05,138.42,134.44,156.21,203.04],\"sizemode\":\"area\",\"sizeref\":15.496216666666665,\"symbol\":\"circle\"},\"mode\":\"markers\",\"name\":\"PUERTO RICO\",\"showlegend\":true,\"x\":[98,99,2000,2001,2002,2003,2004,2005,2006,2007,2008,2009,2010,2011,2012,2013,2014,2015,2016,2017,2018,2019,2020,2021],\"xaxis\":\"x\",\"y\":[0.26,0.01,0.07,0.65,2.54,0.39,4.97,7.31,6.85,8.78,10.13,13.35,28.89,34.72,23.2,20.61,26.08,50.17,49.99,74.87,39.05,52.45,29.11,32.33],\"yaxis\":\"y\",\"type\":\"scattergl\"},{\"hovertemplate\":\"<b>%{hovertext}</b><br><br>Country=QATAR<br>Year(start)=%{x}<br>Import=%{y}<br>Export=%{marker.size}<extra></extra>\",\"hovertext\":[\"QATAR\",\"QATAR\",\"QATAR\",\"QATAR\",\"QATAR\",\"QATAR\",\"QATAR\",\"QATAR\",\"QATAR\",\"QATAR\",\"QATAR\",\"QATAR\",\"QATAR\",\"QATAR\",\"QATAR\",\"QATAR\",\"QATAR\",\"QATAR\",\"QATAR\",\"QATAR\",\"QATAR\",\"QATAR\",\"QATAR\",\"QATAR\",\"QATAR\"],\"legendgroup\":\"QATAR\",\"marker\":{\"color\":\"#B6E880\",\"size\":[44.07,40.16,35.56,63.63,49.0,96.1,128.44,209.42,259.34,331.53,538.73,674.37,536.97,375.39,807.95,687.18,969.06,1054.98,902.13,784.56,1471.88,1611.16,1268.35,1284.82,1319.14],\"sizemode\":\"area\",\"sizeref\":15.496216666666665,\"symbol\":\"circle\"},\"mode\":\"markers\",\"name\":\"QATAR\",\"showlegend\":true,\"x\":[97,98,99,2000,2001,2002,2003,2004,2005,2006,2007,2008,2009,2010,2011,2012,2013,2014,2015,2016,2017,2018,2019,2020,2021],\"xaxis\":\"x\",\"y\":[101.58,70.14,209.77,79.04,91.69,113.07,187.05,672.85,901.62,2060.08,2455.75,3498.91,4648.52,6819.87,12916.35,15693.08,15707.99,14604.71,9022.16,7646.22,8409.02,10721.7,9685.98,7930.15,8991.99],\"yaxis\":\"y\",\"type\":\"scattergl\"},{\"hovertemplate\":\"<b>%{hovertext}</b><br><br>Country=REUNION<br>Year(start)=%{x}<br>Import=%{y}<br>Export=%{marker.size}<extra></extra>\",\"hovertext\":[\"REUNION\",\"REUNION\",\"REUNION\",\"REUNION\",\"REUNION\",\"REUNION\",\"REUNION\",\"REUNION\",\"REUNION\",\"REUNION\",\"REUNION\",\"REUNION\",\"REUNION\",\"REUNION\",\"REUNION\",\"REUNION\",\"REUNION\",\"REUNION\",\"REUNION\",\"REUNION\",\"REUNION\",\"REUNION\"],\"legendgroup\":\"REUNION\",\"marker\":{\"color\":\"#FF97FF\",\"size\":[3.77,4.89,5.0,7.11,9.2,14.87,21.79,33.4,38.01,34.29,38.21,48.03,48.87,52.38,48.76,42.7,41.16,46.36,47.23,40.15,43.86,39.53],\"sizemode\":\"area\",\"sizeref\":15.496216666666665,\"symbol\":\"circle\"},\"mode\":\"markers\",\"name\":\"REUNION\",\"showlegend\":true,\"x\":[2000,2001,2002,2003,2004,2005,2006,2007,2008,2009,2010,2011,2012,2013,2014,2015,2016,2017,2018,2019,2020,2021],\"xaxis\":\"x\",\"y\":[0.2,0.32,0.22,1.26,3.44,3.31,5.5,12.56,25.17,15.46,18.33,28.06,27.74,22.79,22.61,18.78,13.9,18.05,18.16,18.52,18.42,22.02],\"yaxis\":\"y\",\"type\":\"scattergl\"},{\"hovertemplate\":\"<b>%{hovertext}</b><br><br>Country=ROMANIA<br>Year(start)=%{x}<br>Import=%{y}<br>Export=%{marker.size}<extra></extra>\",\"hovertext\":[\"ROMANIA\",\"ROMANIA\",\"ROMANIA\",\"ROMANIA\",\"ROMANIA\",\"ROMANIA\",\"ROMANIA\",\"ROMANIA\",\"ROMANIA\",\"ROMANIA\",\"ROMANIA\",\"ROMANIA\",\"ROMANIA\",\"ROMANIA\",\"ROMANIA\",\"ROMANIA\",\"ROMANIA\",\"ROMANIA\",\"ROMANIA\",\"ROMANIA\",\"ROMANIA\",\"ROMANIA\",\"ROMANIA\",\"ROMANIA\",\"ROMANIA\"],\"legendgroup\":\"ROMANIA\",\"marker\":{\"color\":\"#FECB52\",\"size\":[15.33,17.55,12.58,12.18,11.38,27.42,47.79,105.96,84.39,170.46,262.55,498.41,330.81,426.03,269.54,283.15,286.38,416.79,255.71,257.55,398.9,430.3,366.89,371.84,428.02],\"sizemode\":\"area\",\"sizeref\":15.496216666666665,\"symbol\":\"circle\"},\"mode\":\"markers\",\"name\":\"ROMANIA\",\"showlegend\":true,\"x\":[97,98,99,2000,2001,2002,2003,2004,2005,2006,2007,2008,2009,2010,2011,2012,2013,2014,2015,2016,2017,2018,2019,2020,2021],\"xaxis\":\"x\",\"y\":[61.43,43.21,20.09,21.67,48.42,45.58,71.93,168.44,270.12,291.82,416.91,341.23,225.35,237.45,455.43,311.12,375.64,296.45,309.3,317.36,411.72,315.29,261.34,193.97,199.62],\"yaxis\":\"y\",\"type\":\"scattergl\"},{\"hovertemplate\":\"<b>%{hovertext}</b><br><br>Country=RUSSIA<br>Year(start)=%{x}<br>Import=%{y}<br>Export=%{marker.size}<extra></extra>\",\"hovertext\":[\"RUSSIA\",\"RUSSIA\",\"RUSSIA\",\"RUSSIA\",\"RUSSIA\",\"RUSSIA\",\"RUSSIA\",\"RUSSIA\",\"RUSSIA\",\"RUSSIA\",\"RUSSIA\",\"RUSSIA\",\"RUSSIA\",\"RUSSIA\",\"RUSSIA\",\"RUSSIA\",\"RUSSIA\",\"RUSSIA\",\"RUSSIA\",\"RUSSIA\",\"RUSSIA\",\"RUSSIA\",\"RUSSIA\",\"RUSSIA\",\"RUSSIA\"],\"legendgroup\":\"RUSSIA\",\"marker\":{\"color\":\"#636efa\",\"size\":[952.97,709.42,947.92,889.01,798.18,704.0,713.75,631.26,733.15,903.69,940.61,1096.34,980.69,1689.43,1778.27,2295.68,2121.26,2097.01,1587.81,1937.06,2113.39,2389.47,3017.67,2655.52,2546.74],\"sizemode\":\"area\",\"sizeref\":15.496216666666665,\"symbol\":\"circle\"},\"mode\":\"markers\",\"name\":\"RUSSIA\",\"showlegend\":true,\"x\":[97,98,99,2000,2001,2002,2003,2004,2005,2006,2007,2008,2009,2010,2011,2012,2013,2014,2015,2016,2017,2018,2019,2020,2021],\"xaxis\":\"x\",\"y\":[643.12,545.54,623.18,517.66,535.51,592.61,959.63,1322.74,2022.19,2409.05,2478.16,4328.28,3566.79,3600.02,4764.31,4231.56,3894.4,4249.22,4584.98,5552.3,8573.46,5840.44,7093.01,5485.75,6893.57],\"yaxis\":\"y\",\"type\":\"scattergl\"},{\"hovertemplate\":\"<b>%{hovertext}</b><br><br>Country=RWANDA<br>Year(start)=%{x}<br>Import=%{y}<br>Export=%{marker.size}<extra></extra>\",\"hovertext\":[\"RWANDA\",\"RWANDA\",\"RWANDA\",\"RWANDA\",\"RWANDA\",\"RWANDA\",\"RWANDA\",\"RWANDA\",\"RWANDA\",\"RWANDA\",\"RWANDA\",\"RWANDA\",\"RWANDA\",\"RWANDA\",\"RWANDA\",\"RWANDA\",\"RWANDA\",\"RWANDA\",\"RWANDA\"],\"legendgroup\":\"RWANDA\",\"marker\":{\"color\":\"#EF553B\",\"size\":[4.03,8.36,10.64,13.78,13.0,29.53,26.45,32.46,48.28,77.86,87.56,149.27,106.08,88.05,90.6,144.9,124.05,134.29,94.94],\"sizemode\":\"area\",\"sizeref\":15.496216666666665,\"symbol\":\"circle\"},\"mode\":\"markers\",\"name\":\"RWANDA\",\"showlegend\":true,\"x\":[2001,2004,2005,2006,2007,2008,2009,2010,2011,2012,2013,2014,2015,2016,2017,2018,2019,2020,2021],\"xaxis\":\"x\",\"y\":[0.02,0.72,0.04,1.64,0.67,2.55,0.26,0.03,0.15,0.24,0.25,1.21,1.35,1.18,5.34,6.68,4.1,6.67,5.37],\"yaxis\":\"y\",\"type\":\"scattergl\"},{\"hovertemplate\":\"<b>%{hovertext}</b><br><br>Country=SAMOA<br>Year(start)=%{x}<br>Import=%{y}<br>Export=%{marker.size}<extra></extra>\",\"hovertext\":[\"SAMOA\",\"SAMOA\",\"SAMOA\",\"SAMOA\",\"SAMOA\",\"SAMOA\",\"SAMOA\",\"SAMOA\",\"SAMOA\",\"SAMOA\",\"SAMOA\",\"SAMOA\",\"SAMOA\",\"SAMOA\",\"SAMOA\",\"SAMOA\",\"SAMOA\",\"SAMOA\",\"SAMOA\",\"SAMOA\"],\"legendgroup\":\"SAMOA\",\"marker\":{\"color\":\"#00cc96\",\"size\":[0.86,1.0,0.39,0.36,0.21,0.43,0.66,1.45,1.53,2.2,2.01,4.3,2.48,2.22,1.77,2.4,2.59,4.25,2.71,1.15],\"sizemode\":\"area\",\"sizeref\":15.496216666666665,\"symbol\":\"circle\"},\"mode\":\"markers\",\"name\":\"SAMOA\",\"showlegend\":true,\"x\":[99,2000,2003,2005,2006,2007,2008,2009,2010,2011,2012,2013,2014,2015,2016,2017,2018,2019,2020,2021],\"xaxis\":\"x\",\"y\":[0.75,0.16,0.01,0.06,1.1,0.01,0.02,0.05,0.12,0.16,0.18,0.02,1.18,2.46,6.3,0.26,2.75,3.0,0.45,0.31],\"yaxis\":\"y\",\"type\":\"scattergl\"},{\"hovertemplate\":\"<b>%{hovertext}</b><br><br>Country=SAN MARINO<br>Year(start)=%{x}<br>Import=%{y}<br>Export=%{marker.size}<extra></extra>\",\"hovertext\":[\"SAN MARINO\",\"SAN MARINO\",\"SAN MARINO\",\"SAN MARINO\",\"SAN MARINO\",\"SAN MARINO\",\"SAN MARINO\",\"SAN MARINO\",\"SAN MARINO\"],\"legendgroup\":\"SAN MARINO\",\"marker\":{\"color\":\"#ab63fa\",\"size\":[0.0,0.05,0.26,0.23,0.14,0.15,0.25,0.25,0.14],\"sizemode\":\"area\",\"sizeref\":15.496216666666665,\"symbol\":\"circle\"},\"mode\":\"markers\",\"name\":\"SAN MARINO\",\"showlegend\":true,\"x\":[2013,2014,2015,2016,2017,2018,2019,2020,2021],\"xaxis\":\"x\",\"y\":[0.64,0.33,0.52,0.39,0.64,0.21,0.15,0.08,0.06],\"yaxis\":\"y\",\"type\":\"scattergl\"},{\"hovertemplate\":\"<b>%{hovertext}</b><br><br>Country=SAO TOME<br>Year(start)=%{x}<br>Import=%{y}<br>Export=%{marker.size}<extra></extra>\",\"hovertext\":[\"SAO TOME\",\"SAO TOME\",\"SAO TOME\",\"SAO TOME\",\"SAO TOME\",\"SAO TOME\",\"SAO TOME\",\"SAO TOME\",\"SAO TOME\",\"SAO TOME\"],\"legendgroup\":\"SAO TOME\",\"marker\":{\"color\":\"#FFA15A\",\"size\":[0.34,0.41,0.98,1.22,1.05,0.77,1.47,0.92,1.18,1.96],\"sizemode\":\"area\",\"sizeref\":15.496216666666665,\"symbol\":\"circle\"},\"mode\":\"markers\",\"name\":\"SAO TOME\",\"showlegend\":true,\"x\":[2002,2005,2008,2009,2010,2011,2014,2016,2018,2020],\"xaxis\":\"x\",\"y\":[0.04,0.02,0.06,0.05,0.11,0.02,0.05,0.02,0.01,0.08],\"yaxis\":\"y\",\"type\":\"scattergl\"},{\"hovertemplate\":\"<b>%{hovertext}</b><br><br>Country=SAUDI ARAB<br>Year(start)=%{x}<br>Import=%{y}<br>Export=%{marker.size}<extra></extra>\",\"hovertext\":[\"SAUDI ARAB\",\"SAUDI ARAB\",\"SAUDI ARAB\",\"SAUDI ARAB\",\"SAUDI ARAB\",\"SAUDI ARAB\",\"SAUDI ARAB\",\"SAUDI ARAB\",\"SAUDI ARAB\",\"SAUDI ARAB\",\"SAUDI ARAB\",\"SAUDI ARAB\",\"SAUDI ARAB\",\"SAUDI ARAB\",\"SAUDI ARAB\",\"SAUDI ARAB\",\"SAUDI ARAB\",\"SAUDI ARAB\",\"SAUDI ARAB\",\"SAUDI ARAB\",\"SAUDI ARAB\",\"SAUDI ARAB\",\"SAUDI ARAB\",\"SAUDI ARAB\",\"SAUDI ARAB\"],\"legendgroup\":\"SAUDI ARAB\",\"marker\":{\"color\":\"#19d3f3\",\"size\":[689.89,774.29,742.5,822.94,826.43,940.74,1123.31,1412.06,1809.77,2590.77,3711.16,5110.38,3907.0,4684.4,5683.29,9785.78,12218.95,11161.43,6381.47,5110.28,5410.7,5561.72,6236.86,5856.61,6630.08],\"sizemode\":\"area\",\"sizeref\":15.496216666666665,\"symbol\":\"circle\"},\"mode\":\"markers\",\"name\":\"SAUDI ARAB\",\"showlegend\":true,\"x\":[97,98,99,2000,2001,2002,2003,2004,2005,2006,2007,2008,2009,2010,2011,2012,2013,2014,2015,2016,2017,2018,2019,2020,2021],\"xaxis\":\"x\",\"y\":[1720.17,1831.47,2419.24,621.12,463.99,504.72,737.77,1301.15,1632.34,13355.33,19470.3,19972.74,17097.57,20385.28,31817.7,33998.11,36403.65,28107.56,20321.33,19972.4,22069.96,28479.21,26857.37,16186.76,22649.53],\"yaxis\":\"y\",\"type\":\"scattergl\"},{\"hovertemplate\":\"<b>%{hovertext}</b><br><br>Country=SENEGAL<br>Year(start)=%{x}<br>Import=%{y}<br>Export=%{marker.size}<extra></extra>\",\"hovertext\":[\"SENEGAL\",\"SENEGAL\",\"SENEGAL\",\"SENEGAL\",\"SENEGAL\",\"SENEGAL\",\"SENEGAL\",\"SENEGAL\",\"SENEGAL\",\"SENEGAL\",\"SENEGAL\",\"SENEGAL\",\"SENEGAL\",\"SENEGAL\",\"SENEGAL\",\"SENEGAL\",\"SENEGAL\",\"SENEGAL\",\"SENEGAL\",\"SENEGAL\",\"SENEGAL\",\"SENEGAL\",\"SENEGAL\",\"SENEGAL\",\"SENEGAL\"],\"legendgroup\":\"SENEGAL\",\"marker\":{\"color\":\"#FF6692\",\"size\":[28.97,34.22,20.06,23.77,23.03,51.35,26.74,69.24,93.5,152.18,198.21,144.82,188.7,210.16,365.05,490.24,426.48,518.75,558.71,634.1,724.11,639.24,477.1,699.1,668.46],\"sizemode\":\"area\",\"sizeref\":15.496216666666665,\"symbol\":\"circle\"},\"mode\":\"markers\",\"name\":\"SENEGAL\",\"showlegend\":true,\"x\":[97,98,99,2000,2001,2002,2003,2004,2005,2006,2007,2008,2009,2010,2011,2012,2013,2014,2015,2016,2017,2018,2019,2020,2021],\"xaxis\":\"x\",\"y\":[48.14,117.07,87.31,44.34,133.6,172.41,144.96,181.2,292.56,73.16,149.83,216.28,237.03,205.65,84.14,0.39,153.6,208.13,263.95,315.85,564.94,658.99,469.47,401.13,482.69],\"yaxis\":\"y\",\"type\":\"scattergl\"},{\"hovertemplate\":\"<b>%{hovertext}</b><br><br>Country=SERBIA<br>Year(start)=%{x}<br>Import=%{y}<br>Export=%{marker.size}<extra></extra>\",\"hovertext\":[\"SERBIA\",\"SERBIA\",\"SERBIA\",\"SERBIA\",\"SERBIA\",\"SERBIA\",\"SERBIA\",\"SERBIA\",\"SERBIA\"],\"legendgroup\":\"SERBIA\",\"marker\":{\"color\":\"#B6E880\",\"size\":[31.52,42.39,43.34,50.07,59.02,72.33,83.68,90.77,66.59],\"sizemode\":\"area\",\"sizeref\":15.496216666666665,\"symbol\":\"circle\"},\"mode\":\"markers\",\"name\":\"SERBIA\",\"showlegend\":true,\"x\":[2013,2014,2015,2016,2017,2018,2019,2020,2021],\"xaxis\":\"x\",\"y\":[3.27,23.71,22.34,27.24,24.12,21.45,11.51,7.31,7.18],\"yaxis\":\"y\",\"type\":\"scattergl\"},{\"hovertemplate\":\"<b>%{hovertext}</b><br><br>Country=SEYCHELLES<br>Year(start)=%{x}<br>Import=%{y}<br>Export=%{marker.size}<extra></extra>\",\"hovertext\":[\"SEYCHELLES\",\"SEYCHELLES\",\"SEYCHELLES\",\"SEYCHELLES\",\"SEYCHELLES\",\"SEYCHELLES\",\"SEYCHELLES\",\"SEYCHELLES\",\"SEYCHELLES\",\"SEYCHELLES\",\"SEYCHELLES\",\"SEYCHELLES\",\"SEYCHELLES\",\"SEYCHELLES\",\"SEYCHELLES\",\"SEYCHELLES\",\"SEYCHELLES\",\"SEYCHELLES\",\"SEYCHELLES\",\"SEYCHELLES\",\"SEYCHELLES\",\"SEYCHELLES\",\"SEYCHELLES\",\"SEYCHELLES\",\"SEYCHELLES\"],\"legendgroup\":\"SEYCHELLES\",\"marker\":{\"color\":\"#FF97FF\",\"size\":[6.08,8.73,5.15,7.85,5.73,6.18,10.08,10.62,10.62,12.9,71.89,97.43,20.09,27.02,34.72,38.87,52.72,32.56,34.14,35.96,42.06,84.49,66.64,55.08,32.43],\"sizemode\":\"area\",\"sizeref\":15.496216666666665,\"symbol\":\"circle\"},\"mode\":\"markers\",\"name\":\"SEYCHELLES\",\"showlegend\":true,\"x\":[97,98,99,2000,2001,2002,2003,2004,2005,2006,2007,2008,2009,2010,2011,2012,2013,2014,2015,2016,2017,2018,2019,2020,2021],\"xaxis\":\"x\",\"y\":[0.3,8.73,0.02,0.03,0.05,0.05,0.07,0.58,1.15,0.75,0.94,1.19,1.64,9.29,2.57,2.4,0.99,1.17,0.67,0.93,1.37,5.27,4.71,3.64,2.81],\"yaxis\":\"y\",\"type\":\"scattergl\"},{\"hovertemplate\":\"<b>%{hovertext}</b><br><br>Country=SIERRA LEONE<br>Year(start)=%{x}<br>Import=%{y}<br>Export=%{marker.size}<extra></extra>\",\"hovertext\":[\"SIERRA LEONE\",\"SIERRA LEONE\",\"SIERRA LEONE\",\"SIERRA LEONE\",\"SIERRA LEONE\",\"SIERRA LEONE\",\"SIERRA LEONE\",\"SIERRA LEONE\",\"SIERRA LEONE\",\"SIERRA LEONE\",\"SIERRA LEONE\",\"SIERRA LEONE\",\"SIERRA LEONE\",\"SIERRA LEONE\",\"SIERRA LEONE\",\"SIERRA LEONE\",\"SIERRA LEONE\",\"SIERRA LEONE\",\"SIERRA LEONE\",\"SIERRA LEONE\",\"SIERRA LEONE\",\"SIERRA LEONE\",\"SIERRA LEONE\",\"SIERRA LEONE\"],\"legendgroup\":\"SIERRA LEONE\",\"marker\":{\"color\":\"#FECB52\",\"size\":[2.02,3.31,4.18,17.35,10.96,12.78,13.12,18.54,20.81,30.23,49.21,37.15,54.3,86.23,184.23,100.99,80.4,91.17,93.71,93.51,112.27,115.37,152.11,140.13],\"sizemode\":\"area\",\"sizeref\":15.496216666666665,\"symbol\":\"circle\"},\"mode\":\"markers\",\"name\":\"SIERRA LEONE\",\"showlegend\":true,\"x\":[98,99,2000,2001,2002,2003,2004,2005,2006,2007,2008,2009,2010,2011,2012,2013,2014,2015,2016,2017,2018,2019,2020,2021],\"xaxis\":\"x\",\"y\":[0.17,0.11,1.02,0.44,4.15,6.47,2.27,3.56,2.35,51.19,7.56,4.16,6.67,5.36,5.8,5.56,23.59,16.56,12.23,24.17,11.73,24.49,8.71,12.23],\"yaxis\":\"y\",\"type\":\"scattergl\"},{\"hovertemplate\":\"<b>%{hovertext}</b><br><br>Country=SINGAPORE<br>Year(start)=%{x}<br>Import=%{y}<br>Export=%{marker.size}<extra></extra>\",\"hovertext\":[\"SINGAPORE\",\"SINGAPORE\",\"SINGAPORE\",\"SINGAPORE\",\"SINGAPORE\",\"SINGAPORE\",\"SINGAPORE\",\"SINGAPORE\",\"SINGAPORE\",\"SINGAPORE\",\"SINGAPORE\",\"SINGAPORE\",\"SINGAPORE\",\"SINGAPORE\",\"SINGAPORE\",\"SINGAPORE\",\"SINGAPORE\",\"SINGAPORE\",\"SINGAPORE\",\"SINGAPORE\",\"SINGAPORE\",\"SINGAPORE\",\"SINGAPORE\",\"SINGAPORE\",\"SINGAPORE\"],\"legendgroup\":\"SINGAPORE\",\"marker\":{\"color\":\"#636efa\",\"size\":[774.53,517.53,672.71,877.11,972.31,1421.58,2124.83,4000.61,5425.29,6053.84,7379.2,8444.93,7592.17,9825.44,16857.71,13619.24,12510.54,9809.36,7719.81,9564.58,10202.82,11572.27,8922.66,8675.5,8239.26],\"sizemode\":\"area\",\"sizeref\":15.496216666666665,\"symbol\":\"circle\"},\"mode\":\"markers\",\"name\":\"SINGAPORE\",\"showlegend\":true,\"x\":[97,98,99,2000,2001,2002,2003,2004,2005,2006,2007,2008,2009,2010,2011,2012,2013,2014,2015,2016,2017,2018,2019,2020,2021],\"xaxis\":\"x\",\"y\":[1002.0,1384.16,1160.31,1463.91,1304.09,1434.81,2085.37,2651.4,3353.77,5484.32,8122.63,7654.86,6454.57,7139.31,8388.49,7486.38,6762.49,7124.47,7308.38,7086.57,7466.99,16281.64,14746.78,13304.92,13258.88],\"yaxis\":\"y\",\"type\":\"scattergl\"},{\"hovertemplate\":\"<b>%{hovertext}</b><br><br>Country=SLOVAK REP<br>Year(start)=%{x}<br>Import=%{y}<br>Export=%{marker.size}<extra></extra>\",\"hovertext\":[\"SLOVAK REP\",\"SLOVAK REP\",\"SLOVAK REP\",\"SLOVAK REP\",\"SLOVAK REP\",\"SLOVAK REP\",\"SLOVAK REP\",\"SLOVAK REP\",\"SLOVAK REP\",\"SLOVAK REP\",\"SLOVAK REP\",\"SLOVAK REP\",\"SLOVAK REP\",\"SLOVAK REP\",\"SLOVAK REP\",\"SLOVAK REP\",\"SLOVAK REP\",\"SLOVAK REP\",\"SLOVAK REP\",\"SLOVAK REP\",\"SLOVAK REP\",\"SLOVAK REP\",\"SLOVAK REP\",\"SLOVAK REP\",\"SLOVAK REP\"],\"legendgroup\":\"SLOVAK REP\",\"marker\":{\"color\":\"#EF553B\",\"size\":[6.03,3.76,5.88,9.81,8.64,10.99,16.85,23.86,21.41,36.24,47.46,35.83,35.76,59.47,94.36,107.01,104.42,136.9,137.51,146.15,152.46,145.96,138.42,155.97,123.52],\"sizemode\":\"area\",\"sizeref\":15.496216666666665,\"symbol\":\"circle\"},\"mode\":\"markers\",\"name\":\"SLOVAK REP\",\"showlegend\":true,\"x\":[97,98,99,2000,2001,2002,2003,2004,2005,2006,2007,2008,2009,2010,2011,2012,2013,2014,2015,2016,2017,2018,2019,2020,2021],\"xaxis\":\"x\",\"y\":[32.09,11.17,11.69,6.96,12.66,11.39,10.62,22.89,39.86,19.81,43.84,46.01,40.3,88.03,87.98,63.44,53.14,137.04,64.64,68.53,95.2,57.42,54.84,35.58,78.28],\"yaxis\":\"y\",\"type\":\"scattergl\"},{\"hovertemplate\":\"<b>%{hovertext}</b><br><br>Country=SLOVENIA<br>Year(start)=%{x}<br>Import=%{y}<br>Export=%{marker.size}<extra></extra>\",\"hovertext\":[\"SLOVENIA\",\"SLOVENIA\",\"SLOVENIA\",\"SLOVENIA\",\"SLOVENIA\",\"SLOVENIA\",\"SLOVENIA\",\"SLOVENIA\",\"SLOVENIA\",\"SLOVENIA\",\"SLOVENIA\",\"SLOVENIA\",\"SLOVENIA\",\"SLOVENIA\",\"SLOVENIA\",\"SLOVENIA\",\"SLOVENIA\",\"SLOVENIA\",\"SLOVENIA\",\"SLOVENIA\",\"SLOVENIA\",\"SLOVENIA\",\"SLOVENIA\",\"SLOVENIA\",\"SLOVENIA\"],\"legendgroup\":\"SLOVENIA\",\"marker\":{\"color\":\"#00cc96\",\"size\":[10.47,15.11,7.58,14.92,28.89,24.04,36.19,63.37,76.6,88.63,119.47,160.7,192.58,187.42,227.02,273.79,212.26,245.77,263.76,251.61,284.13,314.05,332.55,354.78,336.06],\"sizemode\":\"area\",\"sizeref\":15.496216666666665,\"symbol\":\"circle\"},\"mode\":\"markers\",\"name\":\"SLOVENIA\",\"showlegend\":true,\"x\":[97,98,99,2000,2001,2002,2003,2004,2005,2006,2007,2008,2009,2010,2011,2012,2013,2014,2015,2016,2017,2018,2019,2020,2021],\"xaxis\":\"x\",\"y\":[5.72,4.31,11.09,21.88,26.32,70.34,60.85,21.45,23.61,36.24,57.73,75.18,118.14,92.0,156.98,117.5,118.12,104.54,88.6,101.68,112.08,248.62,248.43,271.78,221.38],\"yaxis\":\"y\",\"type\":\"scattergl\"},{\"hovertemplate\":\"<b>%{hovertext}</b><br><br>Country=SOLOMON IS<br>Year(start)=%{x}<br>Import=%{y}<br>Export=%{marker.size}<extra></extra>\",\"hovertext\":[\"SOLOMON IS\",\"SOLOMON IS\",\"SOLOMON IS\",\"SOLOMON IS\",\"SOLOMON IS\",\"SOLOMON IS\",\"SOLOMON IS\",\"SOLOMON IS\",\"SOLOMON IS\",\"SOLOMON IS\",\"SOLOMON IS\",\"SOLOMON IS\",\"SOLOMON IS\",\"SOLOMON IS\",\"SOLOMON IS\",\"SOLOMON IS\",\"SOLOMON IS\",\"SOLOMON IS\",\"SOLOMON IS\",\"SOLOMON IS\",\"SOLOMON IS\",\"SOLOMON IS\",\"SOLOMON IS\",\"SOLOMON IS\",\"SOLOMON IS\"],\"legendgroup\":\"SOLOMON IS\",\"marker\":{\"color\":\"#ab63fa\",\"size\":[0.83,1.28,0.46,0.46,0.25,0.3,6.09,0.26,0.22,0.3,28.5,0.9,0.93,1.14,1.18,1.52,2.06,5.22,2.71,2.31,1.28,2.57,2.04,1.65,1.36],\"sizemode\":\"area\",\"sizeref\":15.496216666666665,\"symbol\":\"circle\"},\"mode\":\"markers\",\"name\":\"SOLOMON IS\",\"showlegend\":true,\"x\":[97,98,99,2000,2001,2002,2003,2004,2005,2006,2007,2008,2009,2010,2011,2012,2013,2014,2015,2016,2017,2018,2019,2020,2021],\"xaxis\":\"x\",\"y\":[1.98,7.91,1.3,2.93,4.14,1.27,2.25,0.29,2.77,1.97,6.5,0.53,1.13,0.04,22.13,15.13,5.3,13.47,67.67,53.96,67.73,58.81,38.97,33.86,12.8],\"yaxis\":\"y\",\"type\":\"scattergl\"},{\"hovertemplate\":\"<b>%{hovertext}</b><br><br>Country=SOMALIA<br>Year(start)=%{x}<br>Import=%{y}<br>Export=%{marker.size}<extra></extra>\",\"hovertext\":[\"SOMALIA\",\"SOMALIA\",\"SOMALIA\",\"SOMALIA\",\"SOMALIA\",\"SOMALIA\",\"SOMALIA\",\"SOMALIA\",\"SOMALIA\",\"SOMALIA\",\"SOMALIA\",\"SOMALIA\",\"SOMALIA\",\"SOMALIA\",\"SOMALIA\",\"SOMALIA\",\"SOMALIA\",\"SOMALIA\",\"SOMALIA\",\"SOMALIA\",\"SOMALIA\",\"SOMALIA\",\"SOMALIA\",\"SOMALIA\",\"SOMALIA\"],\"legendgroup\":\"SOMALIA\",\"marker\":{\"color\":\"#FFA15A\",\"size\":[20.88,35.45,8.62,6.96,15.03,19.93,40.11,47.11,39.66,86.54,121.39,70.73,17.38,89.45,144.72,182.32,210.89,352.81,486.6,504.04,455.52,537.25,583.87,554.45,531.8],\"sizemode\":\"area\",\"sizeref\":15.496216666666665,\"symbol\":\"circle\"},\"mode\":\"markers\",\"name\":\"SOMALIA\",\"showlegend\":true,\"x\":[97,98,99,2000,2001,2002,2003,2004,2005,2006,2007,2008,2009,2010,2011,2012,2013,2014,2015,2016,2017,2018,2019,2020,2021],\"xaxis\":\"x\",\"y\":[1.41,0.82,0.8,3.14,14.31,26.65,9.68,7.47,11.56,18.03,7.72,6.59,4.06,9.24,3.49,12.54,46.39,38.25,15.58,17.7,3.55,18.33,15.05,5.67,15.45],\"yaxis\":\"y\",\"type\":\"scattergl\"},{\"hovertemplate\":\"<b>%{hovertext}</b><br><br>Country=SOUTH AFRICA<br>Year(start)=%{x}<br>Import=%{y}<br>Export=%{marker.size}<extra></extra>\",\"hovertext\":[\"SOUTH AFRICA\",\"SOUTH AFRICA\",\"SOUTH AFRICA\",\"SOUTH AFRICA\",\"SOUTH AFRICA\",\"SOUTH AFRICA\",\"SOUTH AFRICA\",\"SOUTH AFRICA\",\"SOUTH AFRICA\",\"SOUTH AFRICA\",\"SOUTH AFRICA\",\"SOUTH AFRICA\",\"SOUTH AFRICA\",\"SOUTH AFRICA\",\"SOUTH AFRICA\",\"SOUTH AFRICA\",\"SOUTH AFRICA\",\"SOUTH AFRICA\",\"SOUTH AFRICA\",\"SOUTH AFRICA\",\"SOUTH AFRICA\",\"SOUTH AFRICA\",\"SOUTH AFRICA\",\"SOUTH AFRICA\",\"SOUTH AFRICA\"],\"legendgroup\":\"SOUTH AFRICA\",\"marker\":{\"color\":\"#19d3f3\",\"size\":[393.79,387.72,285.4,310.67,352.94,483.98,539.35,984.04,1526.87,2241.61,2660.75,1980.28,2058.5,3912.37,4731.17,5106.93,5074.29,5301.99,3588.07,3545.95,3825.21,4067.2,4108.17,3934.2,4570.13],\"sizemode\":\"area\",\"sizeref\":15.496216666666665,\"symbol\":\"circle\"},\"mode\":\"markers\",\"name\":\"SOUTH AFRICA\",\"showlegend\":true,\"x\":[97,98,99,2000,2001,2002,2003,2004,2005,2006,2007,2008,2009,2010,2011,2012,2013,2014,2015,2016,2017,2018,2019,2020,2021],\"xaxis\":\"x\",\"y\":[498.11,1351.88,2015.72,1021.91,1440.9,2093.48,1899.19,2197.67,2471.8,2470.14,3605.35,5513.58,5674.5,7140.55,10971.76,8887.89,6075.26,6496.52,5948.42,5833.75,6834.7,6517.33,6969.79,7568.2,8197.86],\"yaxis\":\"y\",\"type\":\"scattergl\"},{\"hovertemplate\":\"<b>%{hovertext}</b><br><br>Country=SOUTH SUDAN<br>Year(start)=%{x}<br>Import=%{y}<br>Export=%{marker.size}<extra></extra>\",\"hovertext\":[\"SOUTH SUDAN\",\"SOUTH SUDAN\",\"SOUTH SUDAN\",\"SOUTH SUDAN\",\"SOUTH SUDAN\",\"SOUTH SUDAN\"],\"legendgroup\":\"SOUTH SUDAN\",\"marker\":{\"color\":\"#FF6692\",\"size\":[3.24,3.54,10.53,20.05,22.91,20.03],\"sizemode\":\"area\",\"sizeref\":15.496216666666665,\"symbol\":\"circle\"},\"mode\":\"markers\",\"name\":\"SOUTH SUDAN\",\"showlegend\":true,\"x\":[2016,2017,2018,2019,2020,2021],\"xaxis\":\"x\",\"y\":[0.18,70.56,89.97,7.33,1.58,0.82],\"yaxis\":\"y\",\"type\":\"scattergl\"},{\"hovertemplate\":\"<b>%{hovertext}</b><br><br>Country=SPAIN<br>Year(start)=%{x}<br>Import=%{y}<br>Export=%{marker.size}<extra></extra>\",\"hovertext\":[\"SPAIN\",\"SPAIN\",\"SPAIN\",\"SPAIN\",\"SPAIN\",\"SPAIN\",\"SPAIN\",\"SPAIN\",\"SPAIN\",\"SPAIN\",\"SPAIN\",\"SPAIN\",\"SPAIN\",\"SPAIN\",\"SPAIN\",\"SPAIN\",\"SPAIN\",\"SPAIN\",\"SPAIN\",\"SPAIN\",\"SPAIN\",\"SPAIN\",\"SPAIN\",\"SPAIN\",\"SPAIN\"],\"legendgroup\":\"SPAIN\",\"marker\":{\"color\":\"#B6E880\",\"size\":[441.98,499.34,547.95,666.25,677.21,810.49,1002.58,1389.37,1605.66,1878.66,2293.59,2538.15,2029.26,2565.29,2999.27,2865.75,2884.41,3148.12,3237.11,3424.99,3995.11,4182.49,3945.44,3238.52,3349.81],\"sizemode\":\"area\",\"sizeref\":15.496216666666665,\"symbol\":\"circle\"},\"mode\":\"markers\",\"name\":\"SPAIN\",\"showlegend\":true,\"x\":[97,98,99,2000,2001,2002,2003,2004,2005,2006,2007,2008,2009,2010,2011,2012,2013,2014,2015,2016,2017,2018,2019,2020,2021],\"xaxis\":\"x\",\"y\":[160.98,214.28,139.88,142.15,168.78,177.12,258.78,389.55,573.46,627.41,995.64,1023.8,1095.53,1487.58,1809.78,1815.66,1843.42,2005.2,1646.02,1968.77,1663.37,1680.5,1613.17,1511.92,1559.57],\"yaxis\":\"y\",\"type\":\"scattergl\"},{\"hovertemplate\":\"<b>%{hovertext}</b><br><br>Country=SRI LANKA DSR<br>Year(start)=%{x}<br>Import=%{y}<br>Export=%{marker.size}<extra></extra>\",\"hovertext\":[\"SRI LANKA DSR\",\"SRI LANKA DSR\",\"SRI LANKA DSR\",\"SRI LANKA DSR\",\"SRI LANKA DSR\",\"SRI LANKA DSR\",\"SRI LANKA DSR\",\"SRI LANKA DSR\",\"SRI LANKA DSR\",\"SRI LANKA DSR\",\"SRI LANKA DSR\",\"SRI LANKA DSR\",\"SRI LANKA DSR\",\"SRI LANKA DSR\",\"SRI LANKA DSR\",\"SRI LANKA DSR\",\"SRI LANKA DSR\",\"SRI LANKA DSR\",\"SRI LANKA DSR\",\"SRI LANKA DSR\",\"SRI LANKA DSR\",\"SRI LANKA DSR\",\"SRI LANKA DSR\",\"SRI LANKA DSR\",\"SRI LANKA DSR\"],\"legendgroup\":\"SRI LANKA DSR\",\"marker\":{\"color\":\"#FF97FF\",\"size\":[489.23,437.13,499.27,640.14,630.89,920.98,1319.2,1413.18,2024.67,2258.3,2830.43,2425.92,2188.01,3507.5,4378.79,3983.87,4534.35,6703.72,5310.75,3913.15,4476.46,4710.21,3800.91,3498.23,3653.42],\"sizemode\":\"area\",\"sizeref\":15.496216666666665,\"symbol\":\"circle\"},\"mode\":\"markers\",\"name\":\"SRI LANKA DSR\",\"showlegend\":true,\"x\":[97,98,99,2000,2001,2002,2003,2004,2005,2006,2007,2008,2009,2010,2011,2012,2013,2014,2015,2016,2017,2018,2019,2020,2021],\"xaxis\":\"x\",\"y\":[30.21,37.68,44.23,45.01,67.38,90.83,194.74,378.4,577.7,470.33,634.96,356.57,392.19,501.73,637.43,625.81,666.93,756.17,742.79,602.2,772.63,1488.4,903.69,642.94,766.66],\"yaxis\":\"y\",\"type\":\"scattergl\"},{\"hovertemplate\":\"<b>%{hovertext}</b><br><br>Country=ST HELENA<br>Year(start)=%{x}<br>Import=%{y}<br>Export=%{marker.size}<extra></extra>\",\"hovertext\":[\"ST HELENA\",\"ST HELENA\",\"ST HELENA\",\"ST HELENA\",\"ST HELENA\",\"ST HELENA\",\"ST HELENA\",\"ST HELENA\",\"ST HELENA\",\"ST HELENA\",\"ST HELENA\",\"ST HELENA\",\"ST HELENA\",\"ST HELENA\",\"ST HELENA\",\"ST HELENA\"],\"legendgroup\":\"ST HELENA\",\"marker\":{\"color\":\"#FECB52\",\"size\":[0.35,0.87,0.1,0.78,1.66,0.2,0.01,0.19,0.04,0.03,0.03,0.21,0.01,0.02,0.33,0.17],\"sizemode\":\"area\",\"sizeref\":15.496216666666665,\"symbol\":\"circle\"},\"mode\":\"markers\",\"name\":\"ST HELENA\",\"showlegend\":true,\"x\":[98,2003,2004,2005,2006,2008,2009,2010,2011,2012,2013,2014,2017,2018,2019,2020],\"xaxis\":\"x\",\"y\":[0.35,0.01,0.04,0.49,0.23,0.02,0.08,0.18,0.07,0.1,0.09,0.09,0.03,0.07,0.01,0.01],\"yaxis\":\"y\",\"type\":\"scattergl\"},{\"hovertemplate\":\"<b>%{hovertext}</b><br><br>Country=ST KITT N A<br>Year(start)=%{x}<br>Import=%{y}<br>Export=%{marker.size}<extra></extra>\",\"hovertext\":[\"ST KITT N A\",\"ST KITT N A\",\"ST KITT N A\",\"ST KITT N A\",\"ST KITT N A\",\"ST KITT N A\",\"ST KITT N A\",\"ST KITT N A\",\"ST KITT N A\",\"ST KITT N A\"],\"legendgroup\":\"ST KITT N A\",\"marker\":{\"color\":\"#636efa\",\"size\":[0.05,0.41,0.54,1.47,0.66,1.22,1.25,2.2,3.09,1.5],\"sizemode\":\"area\",\"sizeref\":15.496216666666665,\"symbol\":\"circle\"},\"mode\":\"markers\",\"name\":\"ST KITT N A\",\"showlegend\":true,\"x\":[98,2005,2007,2009,2011,2013,2014,2015,2016,2021],\"xaxis\":\"x\",\"y\":[0.02,0.01,0.09,0.03,0.1,0.02,0.37,0.16,0.01,1.01],\"yaxis\":\"y\",\"type\":\"scattergl\"},{\"hovertemplate\":\"<b>%{hovertext}</b><br><br>Country=ST LUCIA<br>Year(start)=%{x}<br>Import=%{y}<br>Export=%{marker.size}<extra></extra>\",\"hovertext\":[\"ST LUCIA\",\"ST LUCIA\",\"ST LUCIA\",\"ST LUCIA\",\"ST LUCIA\",\"ST LUCIA\",\"ST LUCIA\",\"ST LUCIA\",\"ST LUCIA\",\"ST LUCIA\",\"ST LUCIA\",\"ST LUCIA\",\"ST LUCIA\",\"ST LUCIA\",\"ST LUCIA\",\"ST LUCIA\"],\"legendgroup\":\"ST LUCIA\",\"marker\":{\"color\":\"#EF553B\",\"size\":[0.73,0.55,1.07,1.16,2.56,1.32,1.03,2.28,2.13,2.67,4.32,4.06,4.01,3.24,3.4,2.78],\"sizemode\":\"area\",\"sizeref\":15.496216666666665,\"symbol\":\"circle\"},\"mode\":\"markers\",\"name\":\"ST LUCIA\",\"showlegend\":true,\"x\":[2005,2007,2008,2009,2010,2011,2012,2013,2014,2015,2016,2017,2018,2019,2020,2021],\"xaxis\":\"x\",\"y\":[0.01,3.78,25.58,0.48,0.32,0.47,0.41,0.5,0.14,0.45,0.24,0.32,0.57,0.61,0.39,0.12],\"yaxis\":\"y\",\"type\":\"scattergl\"},{\"hovertemplate\":\"<b>%{hovertext}</b><br><br>Country=ST PIERRE<br>Year(start)=%{x}<br>Import=%{y}<br>Export=%{marker.size}<extra></extra>\",\"hovertext\":[\"ST PIERRE\",\"ST PIERRE\",\"ST PIERRE\",\"ST PIERRE\",\"ST PIERRE\",\"ST PIERRE\",\"ST PIERRE\",\"ST PIERRE\"],\"legendgroup\":\"ST PIERRE\",\"marker\":{\"color\":\"#00cc96\",\"size\":[0.13,2.48,1.6,22.62,5.39,0.0,0.05,0.06],\"sizemode\":\"area\",\"sizeref\":15.496216666666665,\"symbol\":\"circle\"},\"mode\":\"markers\",\"name\":\"ST PIERRE\",\"showlegend\":true,\"x\":[97,2004,2005,2006,2007,2008,2009,2010],\"xaxis\":\"x\",\"y\":[0.02,0.1,3.56,17.81,0.03,0.02,0.05,0.01],\"yaxis\":\"y\",\"type\":\"scattergl\"},{\"hovertemplate\":\"<b>%{hovertext}</b><br><br>Country=ST VINCENT<br>Year(start)=%{x}<br>Import=%{y}<br>Export=%{marker.size}<extra></extra>\",\"hovertext\":[\"ST VINCENT\",\"ST VINCENT\",\"ST VINCENT\",\"ST VINCENT\",\"ST VINCENT\",\"ST VINCENT\",\"ST VINCENT\",\"ST VINCENT\",\"ST VINCENT\",\"ST VINCENT\",\"ST VINCENT\"],\"legendgroup\":\"ST VINCENT\",\"marker\":{\"color\":\"#ab63fa\",\"size\":[0.1,0.21,0.09,0.25,0.41,0.34,0.47,0.82,0.36,0.73,0.63],\"sizemode\":\"area\",\"sizeref\":15.496216666666665,\"symbol\":\"circle\"},\"mode\":\"markers\",\"name\":\"ST VINCENT\",\"showlegend\":true,\"x\":[2001,2002,2003,2004,2005,2006,2007,2008,2009,2018,2020],\"xaxis\":\"x\",\"y\":[1.55,2.0,1.95,2.3,74.24,2.35,36.37,7.02,1.04,0.02,12.17],\"yaxis\":\"y\",\"type\":\"scattergl\"},{\"hovertemplate\":\"<b>%{hovertext}</b><br><br>Country=STATE OF PALEST<br>Year(start)=%{x}<br>Import=%{y}<br>Export=%{marker.size}<extra></extra>\",\"hovertext\":[\"STATE OF PALEST\",\"STATE OF PALEST\",\"STATE OF PALEST\",\"STATE OF PALEST\"],\"legendgroup\":\"STATE OF PALEST\",\"marker\":{\"color\":\"#FFA15A\",\"size\":[1.49,1.09,2.01,1.72],\"sizemode\":\"area\",\"sizeref\":15.496216666666665,\"symbol\":\"circle\"},\"mode\":\"markers\",\"name\":\"STATE OF PALEST\",\"showlegend\":true,\"x\":[2018,2019,2020,2021],\"xaxis\":\"x\",\"y\":[1.19,0.74,0.15,0.24],\"yaxis\":\"y\",\"type\":\"scattergl\"},{\"hovertemplate\":\"<b>%{hovertext}</b><br><br>Country=SUDAN<br>Year(start)=%{x}<br>Import=%{y}<br>Export=%{marker.size}<extra></extra>\",\"hovertext\":[\"SUDAN\",\"SUDAN\",\"SUDAN\",\"SUDAN\",\"SUDAN\",\"SUDAN\",\"SUDAN\",\"SUDAN\",\"SUDAN\",\"SUDAN\",\"SUDAN\",\"SUDAN\",\"SUDAN\",\"SUDAN\",\"SUDAN\",\"SUDAN\",\"SUDAN\",\"SUDAN\",\"SUDAN\",\"SUDAN\",\"SUDAN\",\"SUDAN\",\"SUDAN\",\"SUDAN\",\"SUDAN\"],\"legendgroup\":\"SUDAN\",\"marker\":{\"color\":\"#19d3f3\",\"size\":[44.57,54.96,71.47,97.79,122.19,105.18,107.38,317.45,294.65,403.49,407.51,485.07,461.06,488.46,717.37,755.12,863.04,882.47,782.35,748.71,822.72,920.88,1096.88,1022.33,694.22],\"sizemode\":\"area\",\"sizeref\":15.496216666666665,\"symbol\":\"circle\"},\"mode\":\"markers\",\"name\":\"SUDAN\",\"showlegend\":true,\"x\":[97,98,99,2000,2001,2002,2003,2004,2005,2006,2007,2008,2009,2010,2011,2012,2013,2014,2015,2016,2017,2018,2019,2020,2021],\"xaxis\":\"x\",\"y\":[4.47,15.12,6.61,8.02,13.42,24.49,31.22,22.88,32.62,89.08,433.14,415.53,475.0,613.78,430.79,127.14,436.43,569.66,149.2,245.15,452.07,742.63,396.75,368.28,99.18],\"yaxis\":\"y\",\"type\":\"scattergl\"},{\"hovertemplate\":\"<b>%{hovertext}</b><br><br>Country=SURINAME<br>Year(start)=%{x}<br>Import=%{y}<br>Export=%{marker.size}<extra></extra>\",\"hovertext\":[\"SURINAME\",\"SURINAME\",\"SURINAME\",\"SURINAME\",\"SURINAME\",\"SURINAME\",\"SURINAME\",\"SURINAME\",\"SURINAME\",\"SURINAME\",\"SURINAME\",\"SURINAME\",\"SURINAME\",\"SURINAME\",\"SURINAME\",\"SURINAME\",\"SURINAME\",\"SURINAME\",\"SURINAME\",\"SURINAME\",\"SURINAME\",\"SURINAME\",\"SURINAME\"],\"legendgroup\":\"SURINAME\",\"marker\":{\"color\":\"#FF6692\",\"size\":[1.14,1.01,1.39,1.82,3.73,17.58,15.67,16.67,11.21,13.46,16.26,12.06,10.43,30.34,24.18,17.62,12.86,10.5,17.38,22.58,31.12,17.12,12.72],\"sizemode\":\"area\",\"sizeref\":15.496216666666665,\"symbol\":\"circle\"},\"mode\":\"markers\",\"name\":\"SURINAME\",\"showlegend\":true,\"x\":[97,2000,2001,2002,2003,2004,2005,2006,2007,2008,2009,2010,2011,2012,2013,2014,2015,2016,2017,2018,2019,2020,2021],\"xaxis\":\"x\",\"y\":[1.14,0.19,0.26,3.25,0.51,0.96,6.48,1.09,0.86,1.2,1.47,0.88,4.4,13.4,13.15,210.87,43.33,45.92,92.76,89.39,55.07,34.14,24.32],\"yaxis\":\"y\",\"type\":\"scattergl\"},{\"hovertemplate\":\"<b>%{hovertext}</b><br><br>Country=SWAZILAND<br>Year(start)=%{x}<br>Import=%{y}<br>Export=%{marker.size}<extra></extra>\",\"hovertext\":[\"SWAZILAND\",\"SWAZILAND\",\"SWAZILAND\",\"SWAZILAND\",\"SWAZILAND\",\"SWAZILAND\",\"SWAZILAND\",\"SWAZILAND\",\"SWAZILAND\",\"SWAZILAND\",\"SWAZILAND\",\"SWAZILAND\",\"SWAZILAND\",\"SWAZILAND\",\"SWAZILAND\",\"SWAZILAND\",\"SWAZILAND\",\"SWAZILAND\",\"SWAZILAND\",\"SWAZILAND\",\"SWAZILAND\",\"SWAZILAND\",\"SWAZILAND\",\"SWAZILAND\",\"SWAZILAND\"],\"legendgroup\":\"SWAZILAND\",\"marker\":{\"color\":\"#B6E880\",\"size\":[1.18,0.62,1.06,1.51,1.38,12.93,29.07,22.27,5.24,4.73,10.36,41.68,20.26,86.9,22.91,47.26,22.81,39.94,59.9,39.56,32.71,19.2,18.57,24.32,19.48],\"sizemode\":\"area\",\"sizeref\":15.496216666666665,\"symbol\":\"circle\"},\"mode\":\"markers\",\"name\":\"SWAZILAND\",\"showlegend\":true,\"x\":[97,98,99,2000,2001,2002,2003,2004,2005,2006,2007,2008,2009,2010,2011,2012,2013,2014,2015,2016,2017,2018,2019,2020,2021],\"xaxis\":\"x\",\"y\":[1.01,0.31,0.56,0.95,0.21,0.45,1.69,3.14,23.63,56.89,37.47,39.78,33.01,109.49,46.01,70.71,124.66,22.03,40.82,39.24,8.92,9.6,7.03,50.87,234.42],\"yaxis\":\"y\",\"type\":\"scattergl\"},{\"hovertemplate\":\"<b>%{hovertext}</b><br><br>Country=SWEDEN<br>Year(start)=%{x}<br>Import=%{y}<br>Export=%{marker.size}<extra></extra>\",\"hovertext\":[\"SWEDEN\",\"SWEDEN\",\"SWEDEN\",\"SWEDEN\",\"SWEDEN\",\"SWEDEN\",\"SWEDEN\",\"SWEDEN\",\"SWEDEN\",\"SWEDEN\",\"SWEDEN\",\"SWEDEN\",\"SWEDEN\",\"SWEDEN\",\"SWEDEN\",\"SWEDEN\",\"SWEDEN\",\"SWEDEN\",\"SWEDEN\",\"SWEDEN\",\"SWEDEN\",\"SWEDEN\",\"SWEDEN\",\"SWEDEN\",\"SWEDEN\"],\"legendgroup\":\"SWEDEN\",\"marker\":{\"color\":\"#FF97FF\",\"size\":[165.95,149.61,146.48,176.16,154.27,176.29,219.88,241.8,326.39,387.7,544.19,566.69,476.63,627.73,825.0,686.15,733.45,740.47,683.54,708.93,771.5,792.23,748.42,763.84,747.88],\"sizemode\":\"area\",\"sizeref\":15.496216666666665,\"symbol\":\"circle\"},\"mode\":\"markers\",\"name\":\"SWEDEN\",\"showlegend\":true,\"x\":[97,98,99,2000,2001,2002,2003,2004,2005,2006,2007,2008,2009,2010,2011,2012,2013,2014,2015,2016,2017,2018,2019,2020,2021],\"xaxis\":\"x\",\"y\":[274.48,200.22,238.79,238.19,402.21,517.56,698.79,937.33,1172.2,1932.46,2128.11,1952.5,1590.14,1619.38,1940.78,1681.43,1679.42,1748.4,1484.85,1161.12,1464.47,1326.85,1114.48,1004.76,1070.57],\"yaxis\":\"y\",\"type\":\"scattergl\"},{\"hovertemplate\":\"<b>%{hovertext}</b><br><br>Country=SWITZERLAND<br>Year(start)=%{x}<br>Import=%{y}<br>Export=%{marker.size}<extra></extra>\",\"hovertext\":[\"SWITZERLAND\",\"SWITZERLAND\",\"SWITZERLAND\",\"SWITZERLAND\",\"SWITZERLAND\",\"SWITZERLAND\",\"SWITZERLAND\",\"SWITZERLAND\",\"SWITZERLAND\",\"SWITZERLAND\",\"SWITZERLAND\",\"SWITZERLAND\",\"SWITZERLAND\",\"SWITZERLAND\",\"SWITZERLAND\",\"SWITZERLAND\",\"SWITZERLAND\",\"SWITZERLAND\",\"SWITZERLAND\",\"SWITZERLAND\",\"SWITZERLAND\",\"SWITZERLAND\",\"SWITZERLAND\",\"SWITZERLAND\",\"SWITZERLAND\"],\"legendgroup\":\"SWITZERLAND\",\"marker\":{\"color\":\"#FECB52\",\"size\":[366.67,319.06,353.68,437.7,409.1,382.72,449.87,540.89,479.52,467.72,614.4,769.24,589.39,689.79,1095.34,1117.28,1796.95,1068.58,977.17,978.06,1083.84,1186.69,1200.08,1261.52,1012.57],\"sizemode\":\"area\",\"sizeref\":15.496216666666665,\"symbol\":\"circle\"},\"mode\":\"markers\",\"name\":\"SWITZERLAND\",\"showlegend\":true,\"x\":[97,98,99,2000,2001,2002,2003,2004,2005,2006,2007,2008,2009,2010,2011,2012,2013,2014,2015,2016,2017,2018,2019,2020,2021],\"xaxis\":\"x\",\"y\":[2640.68,2942.37,2597.71,3160.14,2870.75,2329.88,3312.73,5939.93,6555.8,9143.85,9758.28,11869.5,14698.43,24802.0,34758.96,32166.54,19311.01,22133.16,19299.49,17248.68,18923.05,18087.58,16899.89,18230.95,19615.05],\"yaxis\":\"y\",\"type\":\"scattergl\"},{\"hovertemplate\":\"<b>%{hovertext}</b><br><br>Country=SYRIA<br>Year(start)=%{x}<br>Import=%{y}<br>Export=%{marker.size}<extra></extra>\",\"hovertext\":[\"SYRIA\",\"SYRIA\",\"SYRIA\",\"SYRIA\",\"SYRIA\",\"SYRIA\",\"SYRIA\",\"SYRIA\",\"SYRIA\",\"SYRIA\",\"SYRIA\",\"SYRIA\",\"SYRIA\",\"SYRIA\",\"SYRIA\",\"SYRIA\",\"SYRIA\",\"SYRIA\",\"SYRIA\",\"SYRIA\",\"SYRIA\",\"SYRIA\",\"SYRIA\",\"SYRIA\",\"SYRIA\"],\"legendgroup\":\"SYRIA\",\"marker\":{\"color\":\"#636efa\",\"size\":[56.81,58.19,60.9,75.32,98.4,121.23,201.46,253.18,276.67,408.23,672.78,364.5,345.43,493.28,536.48,258.77,234.09,187.89,136.83,121.74,153.32,154.59,159.33,124.26,86.36],\"sizemode\":\"area\",\"sizeref\":15.496216666666665,\"symbol\":\"circle\"},\"mode\":\"markers\",\"name\":\"SYRIA\",\"showlegend\":true,\"x\":[97,98,99,2000,2001,2002,2003,2004,2005,2006,2007,2008,2009,2010,2011,2012,2013,2014,2015,2016,2017,2018,2019,2020,2021],\"xaxis\":\"x\",\"y\":[8.92,11.62,11.47,6.67,7.41,8.84,4.65,3.82,5.13,78.97,20.24,157.92,144.69,35.61,178.38,80.37,76.62,28.34,40.54,32.25,25.66,14.17,15.34,15.31,12.85],\"yaxis\":\"y\",\"type\":\"scattergl\"},{\"hovertemplate\":\"<b>%{hovertext}</b><br><br>Country=TAIWAN<br>Year(start)=%{x}<br>Import=%{y}<br>Export=%{marker.size}<extra></extra>\",\"hovertext\":[\"TAIWAN\",\"TAIWAN\",\"TAIWAN\",\"TAIWAN\",\"TAIWAN\",\"TAIWAN\",\"TAIWAN\",\"TAIWAN\",\"TAIWAN\",\"TAIWAN\",\"TAIWAN\",\"TAIWAN\",\"TAIWAN\",\"TAIWAN\",\"TAIWAN\",\"TAIWAN\",\"TAIWAN\",\"TAIWAN\",\"TAIWAN\",\"TAIWAN\",\"TAIWAN\",\"TAIWAN\",\"TAIWAN\",\"TAIWAN\",\"TAIWAN\"],\"legendgroup\":\"TAIWAN\",\"marker\":{\"color\":\"#EF553B\",\"size\":[403.78,307.96,315.82,391.67,360.11,578.51,532.45,618.51,629.05,915.27,1735.67,1504.3,1877.34,2301.49,3348.44,3043.97,1989.85,2178.7,1425.92,2183.64,2156.67,2607.21,1674.52,1620.09,2082.45],\"sizemode\":\"area\",\"sizeref\":15.496216666666665,\"symbol\":\"circle\"},\"mode\":\"markers\",\"name\":\"TAIWAN\",\"showlegend\":true,\"x\":[97,98,99,2000,2001,2002,2003,2004,2005,2006,2007,2008,2009,2010,2011,2012,2013,2014,2015,2016,2017,2018,2019,2020,2021],\"xaxis\":\"x\",\"y\":[472.41,367.45,414.8,508.69,559.28,662.73,768.94,1092.07,1382.96,1678.63,2399.52,2868.79,2612.66,3961.11,4826.38,3963.35,4040.88,4028.65,3354.28,3142.89,3926.25,4577.25,4046.23,4036.75,4471.43],\"yaxis\":\"y\",\"type\":\"scattergl\"},{\"hovertemplate\":\"<b>%{hovertext}</b><br><br>Country=TAJIKISTAN<br>Year(start)=%{x}<br>Import=%{y}<br>Export=%{marker.size}<extra></extra>\",\"hovertext\":[\"TAJIKISTAN\",\"TAJIKISTAN\",\"TAJIKISTAN\",\"TAJIKISTAN\",\"TAJIKISTAN\",\"TAJIKISTAN\",\"TAJIKISTAN\",\"TAJIKISTAN\",\"TAJIKISTAN\",\"TAJIKISTAN\",\"TAJIKISTAN\",\"TAJIKISTAN\",\"TAJIKISTAN\",\"TAJIKISTAN\",\"TAJIKISTAN\",\"TAJIKISTAN\",\"TAJIKISTAN\",\"TAJIKISTAN\",\"TAJIKISTAN\",\"TAJIKISTAN\",\"TAJIKISTAN\",\"TAJIKISTAN\",\"TAJIKISTAN\",\"TAJIKISTAN\"],\"legendgroup\":\"TAJIKISTAN\",\"marker\":{\"color\":\"#00cc96\",\"size\":[0.51,2.38,3.55,1.22,8.65,4.47,6.59,6.24,7.46,12.4,16.71,15.71,18.31,21.28,35.16,54.27,53.71,22.26,20.44,23.94,22.28,23.5,53.45,23.63],\"sizemode\":\"area\",\"sizeref\":15.496216666666665,\"symbol\":\"circle\"},\"mode\":\"markers\",\"name\":\"TAJIKISTAN\",\"showlegend\":true,\"x\":[98,99,2000,2001,2002,2003,2004,2005,2006,2007,2008,2009,2010,2011,2012,2013,2014,2015,2016,2017,2018,2019,2020,2021],\"xaxis\":\"x\",\"y\":[2.53,2.33,0.54,1.34,0.08,3.95,4.09,5.89,7.95,9.81,17.47,16.85,23.02,8.86,12.86,0.86,4.39,9.98,21.82,50.29,4.24,0.29,1.06,7.04],\"yaxis\":\"y\",\"type\":\"scattergl\"},{\"hovertemplate\":\"<b>%{hovertext}</b><br><br>Country=TANZANIA REP<br>Year(start)=%{x}<br>Import=%{y}<br>Export=%{marker.size}<extra></extra>\",\"hovertext\":[\"TANZANIA REP\",\"TANZANIA REP\",\"TANZANIA REP\",\"TANZANIA REP\",\"TANZANIA REP\",\"TANZANIA REP\",\"TANZANIA REP\",\"TANZANIA REP\",\"TANZANIA REP\",\"TANZANIA REP\",\"TANZANIA REP\",\"TANZANIA REP\",\"TANZANIA REP\",\"TANZANIA REP\",\"TANZANIA REP\",\"TANZANIA REP\",\"TANZANIA REP\",\"TANZANIA REP\",\"TANZANIA REP\",\"TANZANIA REP\",\"TANZANIA REP\",\"TANZANIA REP\",\"TANZANIA REP\",\"TANZANIA REP\",\"TANZANIA REP\"],\"legendgroup\":\"TANZANIA REP\",\"marker\":{\"color\":\"#ab63fa\",\"size\":[68.93,85.41,81.98,101.99,90.78,115.46,175.78,173.88,243.45,288.4,588.0,1051.36,920.48,1474.81,1614.69,2152.25,3400.76,2484.61,1654.64,1783.57,1618.8,1704.04,1740.08,1439.06,1262.47],\"sizemode\":\"area\",\"sizeref\":15.496216666666665,\"symbol\":\"circle\"},\"mode\":\"markers\",\"name\":\"TANZANIA REP\",\"showlegend\":true,\"x\":[97,98,99,2000,2001,2002,2003,2004,2005,2006,2007,2008,2009,2010,2011,2012,2013,2014,2015,2016,2017,2018,2019,2020,2021],\"xaxis\":\"x\",\"y\":[67.98,124.63,124.5,59.49,76.09,91.15,109.32,131.65,119.76,99.17,166.38,190.59,238.05,326.57,239.73,752.88,724.45,1089.03,924.79,948.49,1029.71,903.47,1023.47,934.88,1488.64],\"yaxis\":\"y\",\"type\":\"scattergl\"},{\"hovertemplate\":\"<b>%{hovertext}</b><br><br>Country=THAILAND<br>Year(start)=%{x}<br>Import=%{y}<br>Export=%{marker.size}<extra></extra>\",\"hovertext\":[\"THAILAND\",\"THAILAND\",\"THAILAND\",\"THAILAND\",\"THAILAND\",\"THAILAND\",\"THAILAND\",\"THAILAND\",\"THAILAND\",\"THAILAND\",\"THAILAND\",\"THAILAND\",\"THAILAND\",\"THAILAND\",\"THAILAND\",\"THAILAND\",\"THAILAND\",\"THAILAND\",\"THAILAND\",\"THAILAND\",\"THAILAND\",\"THAILAND\",\"THAILAND\",\"THAILAND\",\"THAILAND\"],\"legendgroup\":\"THAILAND\",\"marker\":{\"color\":\"#FFA15A\",\"size\":[342.9,321.0,449.59,530.12,633.13,711.2,831.68,901.39,1075.31,1445.54,1810.87,1938.31,1740.16,2274.21,2961.01,3733.17,3703.27,3464.83,2987.86,3133.44,3653.83,4441.4,4299.3,4237.59,4045.83],\"sizemode\":\"area\",\"sizeref\":15.496216666666665,\"symbol\":\"circle\"},\"mode\":\"markers\",\"name\":\"THAILAND\",\"showlegend\":true,\"x\":[97,98,99,2000,2001,2002,2003,2004,2005,2006,2007,2008,2009,2010,2011,2012,2013,2014,2015,2016,2017,2018,2019,2020,2021],\"xaxis\":\"x\",\"y\":[226.57,273.11,326.02,337.92,423.09,379.0,609.05,865.88,1211.58,1747.75,2300.93,2703.82,2931.52,4272.09,5283.84,5352.61,5340.2,5865.88,5510.16,5415.4,7134.46,7441.81,6788.38,5682.27,6660.21],\"yaxis\":\"y\",\"type\":\"scattergl\"},{\"hovertemplate\":\"<b>%{hovertext}</b><br><br>Country=TIMOR LESTE<br>Year(start)=%{x}<br>Import=%{y}<br>Export=%{marker.size}<extra></extra>\",\"hovertext\":[\"TIMOR LESTE\",\"TIMOR LESTE\",\"TIMOR LESTE\",\"TIMOR LESTE\",\"TIMOR LESTE\",\"TIMOR LESTE\",\"TIMOR LESTE\",\"TIMOR LESTE\",\"TIMOR LESTE\",\"TIMOR LESTE\",\"TIMOR LESTE\",\"TIMOR LESTE\",\"TIMOR LESTE\",\"TIMOR LESTE\",\"TIMOR LESTE\",\"TIMOR LESTE\"],\"legendgroup\":\"TIMOR LESTE\",\"marker\":{\"color\":\"#19d3f3\",\"size\":[1.33,1.57,0.39,0.53,0.41,0.9,1.22,546.08,7.42,2.15,2.19,3.24,3.42,2.31,3.32,25.36],\"sizemode\":\"area\",\"sizeref\":15.496216666666665,\"symbol\":\"circle\"},\"mode\":\"markers\",\"name\":\"TIMOR LESTE\",\"showlegend\":true,\"x\":[2003,2004,2005,2006,2007,2008,2009,2010,2011,2012,2013,2014,2015,2016,2017,2020],\"xaxis\":\"x\",\"y\":[0.02,0.01,0.04,0.58,0.05,0.23,0.01,1.7,22.17,0.05,0.83,0.31,0.03,0.17,0.1,0.04],\"yaxis\":\"y\",\"type\":\"scattergl\"},{\"hovertemplate\":\"<b>%{hovertext}</b><br><br>Country=TOGO<br>Year(start)=%{x}<br>Import=%{y}<br>Export=%{marker.size}<extra></extra>\",\"hovertext\":[\"TOGO\",\"TOGO\",\"TOGO\",\"TOGO\",\"TOGO\",\"TOGO\",\"TOGO\",\"TOGO\",\"TOGO\",\"TOGO\",\"TOGO\",\"TOGO\",\"TOGO\",\"TOGO\",\"TOGO\",\"TOGO\",\"TOGO\",\"TOGO\",\"TOGO\",\"TOGO\",\"TOGO\",\"TOGO\",\"TOGO\",\"TOGO\",\"TOGO\"],\"legendgroup\":\"TOGO\",\"marker\":{\"color\":\"#FF6692\",\"size\":[28.52,20.26,16.03,39.56,47.36,71.66,46.98,263.37,91.1,122.01,225.78,143.42,163.51,204.86,355.0,299.88,443.93,688.42,532.19,315.7,408.68,694.09,1040.6,1547.23,2228.08],\"sizemode\":\"area\",\"sizeref\":15.496216666666665,\"symbol\":\"circle\"},\"mode\":\"markers\",\"name\":\"TOGO\",\"showlegend\":true,\"x\":[97,98,99,2000,2001,2002,2003,2004,2005,2006,2007,2008,2009,2010,2011,2012,2013,2014,2015,2016,2017,2018,2019,2020,2021],\"xaxis\":\"x\",\"y\":[9.95,1.44,14.23,12.69,10.85,12.84,20.67,46.03,79.26,76.11,60.97,135.24,69.37,91.89,150.28,177.41,156.34,195.65,225.09,138.42,163.8,303.93,383.54,300.23,238.54],\"yaxis\":\"y\",\"type\":\"scattergl\"},{\"hovertemplate\":\"<b>%{hovertext}</b><br><br>Country=TOKELAU IS<br>Year(start)=%{x}<br>Import=%{y}<br>Export=%{marker.size}<extra></extra>\",\"hovertext\":[\"TOKELAU IS\",\"TOKELAU IS\",\"TOKELAU IS\",\"TOKELAU IS\",\"TOKELAU IS\",\"TOKELAU IS\",\"TOKELAU IS\",\"TOKELAU IS\",\"TOKELAU IS\",\"TOKELAU IS\",\"TOKELAU IS\",\"TOKELAU IS\",\"TOKELAU IS\",\"TOKELAU IS\",\"TOKELAU IS\",\"TOKELAU IS\"],\"legendgroup\":\"TOKELAU IS\",\"marker\":{\"color\":\"#B6E880\",\"size\":[0.24,0.09,0.06,0.29,0.07,0.15,0.05,0.03,0.0,14.94,0.05,0.03,0.17,0.03,0.0,0.0],\"sizemode\":\"area\",\"sizeref\":15.496216666666665,\"symbol\":\"circle\"},\"mode\":\"markers\",\"name\":\"TOKELAU IS\",\"showlegend\":true,\"x\":[98,2000,2001,2002,2005,2006,2007,2008,2009,2010,2011,2012,2013,2016,2018,2019],\"xaxis\":\"x\",\"y\":[0.24,0.21,0.02,0.15,0.03,0.25,0.08,0.01,0.01,0.01,0.01,0.06,0.3,0.01,0.02,0.08],\"yaxis\":\"y\",\"type\":\"scattergl\"},{\"hovertemplate\":\"<b>%{hovertext}</b><br><br>Country=TONGA<br>Year(start)=%{x}<br>Import=%{y}<br>Export=%{marker.size}<extra></extra>\",\"hovertext\":[\"TONGA\",\"TONGA\",\"TONGA\",\"TONGA\",\"TONGA\",\"TONGA\",\"TONGA\",\"TONGA\",\"TONGA\",\"TONGA\",\"TONGA\",\"TONGA\",\"TONGA\",\"TONGA\"],\"legendgroup\":\"TONGA\",\"marker\":{\"color\":\"#FF97FF\",\"size\":[0.2,0.31,0.95,0.44,0.5,0.34,0.32,0.72,0.77,1.68,1.04,0.92,1.21,0.35],\"sizemode\":\"area\",\"sizeref\":15.496216666666665,\"symbol\":\"circle\"},\"mode\":\"markers\",\"name\":\"TONGA\",\"showlegend\":true,\"x\":[98,2002,2003,2005,2006,2007,2008,2010,2011,2012,2013,2014,2016,2018],\"xaxis\":\"x\",\"y\":[0.02,1.1,0.81,0.11,0.16,0.04,0.2,0.22,0.01,0.07,0.02,0.01,0.05,0.05],\"yaxis\":\"y\",\"type\":\"scattergl\"},{\"hovertemplate\":\"<b>%{hovertext}</b><br><br>Country=TRINIDAD<br>Year(start)=%{x}<br>Import=%{y}<br>Export=%{marker.size}<extra></extra>\",\"hovertext\":[\"TRINIDAD\",\"TRINIDAD\",\"TRINIDAD\",\"TRINIDAD\",\"TRINIDAD\",\"TRINIDAD\",\"TRINIDAD\",\"TRINIDAD\",\"TRINIDAD\",\"TRINIDAD\",\"TRINIDAD\",\"TRINIDAD\",\"TRINIDAD\",\"TRINIDAD\",\"TRINIDAD\",\"TRINIDAD\",\"TRINIDAD\",\"TRINIDAD\",\"TRINIDAD\",\"TRINIDAD\",\"TRINIDAD\",\"TRINIDAD\",\"TRINIDAD\",\"TRINIDAD\"],\"legendgroup\":\"TRINIDAD\",\"marker\":{\"color\":\"#FECB52\",\"size\":[11.36,8.35,8.2,10.79,22.33,19.64,28.92,66.64,108.46,135.8,329.25,149.15,62.96,82.46,81.52,104.83,165.48,92.88,84.53,88.69,83.75,85.11,74.79,69.81],\"sizemode\":\"area\",\"sizeref\":15.496216666666665,\"symbol\":\"circle\"},\"mode\":\"markers\",\"name\":\"TRINIDAD\",\"showlegend\":true,\"x\":[97,98,99,2001,2002,2003,2004,2005,2006,2007,2008,2009,2010,2011,2012,2013,2014,2015,2016,2017,2018,2019,2020,2021],\"xaxis\":\"x\",\"y\":[2.62,0.64,0.01,0.14,0.11,7.36,13.95,1.82,51.92,174.96,93.33,57.68,80.18,204.11,8.9,5.35,68.42,91.94,173.54,42.48,195.37,84.42,189.36,110.7],\"yaxis\":\"y\",\"type\":\"scattergl\"},{\"hovertemplate\":\"<b>%{hovertext}</b><br><br>Country=TUNISIA<br>Year(start)=%{x}<br>Import=%{y}<br>Export=%{marker.size}<extra></extra>\",\"hovertext\":[\"TUNISIA\",\"TUNISIA\",\"TUNISIA\",\"TUNISIA\",\"TUNISIA\",\"TUNISIA\",\"TUNISIA\",\"TUNISIA\",\"TUNISIA\",\"TUNISIA\",\"TUNISIA\",\"TUNISIA\",\"TUNISIA\",\"TUNISIA\",\"TUNISIA\",\"TUNISIA\",\"TUNISIA\",\"TUNISIA\",\"TUNISIA\",\"TUNISIA\",\"TUNISIA\",\"TUNISIA\",\"TUNISIA\",\"TUNISIA\",\"TUNISIA\"],\"legendgroup\":\"TUNISIA\",\"marker\":{\"color\":\"#636efa\",\"size\":[14.83,22.82,28.12,38.37,46.37,58.94,68.16,74.46,82.57,109.65,124.29,213.07,213.55,282.33,285.62,298.79,274.1,249.83,222.37,255.42,281.77,304.21,245.02,264.65,299.4],\"sizemode\":\"area\",\"sizeref\":15.496216666666665,\"symbol\":\"circle\"},\"mode\":\"markers\",\"name\":\"TUNISIA\",\"showlegend\":true,\"x\":[97,98,99,2000,2001,2002,2003,2004,2005,2006,2007,2008,2009,2010,2011,2012,2013,2014,2015,2016,2017,2018,2019,2020,2021],\"xaxis\":\"x\",\"y\":[145.43,199.96,187.13,86.14,104.16,93.5,64.71,94.94,101.15,143.5,155.25,601.77,252.83,301.15,164.45,215.34,91.56,196.19,136.49,114.8,140.25,137.87,131.13,123.36,203.98],\"yaxis\":\"y\",\"type\":\"scattergl\"},{\"hovertemplate\":\"<b>%{hovertext}</b><br><br>Country=TURKEY<br>Year(start)=%{x}<br>Import=%{y}<br>Export=%{marker.size}<extra></extra>\",\"hovertext\":[\"TURKEY\",\"TURKEY\",\"TURKEY\",\"TURKEY\",\"TURKEY\",\"TURKEY\",\"TURKEY\",\"TURKEY\",\"TURKEY\",\"TURKEY\",\"TURKEY\",\"TURKEY\",\"TURKEY\",\"TURKEY\",\"TURKEY\",\"TURKEY\",\"TURKEY\",\"TURKEY\",\"TURKEY\",\"TURKEY\",\"TURKEY\",\"TURKEY\",\"TURKEY\",\"TURKEY\",\"TURKEY\"],\"legendgroup\":\"TURKEY\",\"marker\":{\"color\":\"#EF553B\",\"size\":[244.12,169.9,189.44,333.63,219.05,368.33,563.34,723.7,1010.08,1327.3,1752.61,1416.75,1539.2,2749.15,3547.26,3963.66,4433.75,5358.9,4140.0,4626.59,5090.7,5452.45,4969.47,3952.89,5997.41],\"sizemode\":\"area\",\"sizeref\":15.496216666666665,\"symbol\":\"circle\"},\"mode\":\"markers\",\"name\":\"TURKEY\",\"showlegend\":true,\"x\":[97,98,99,2000,2001,2002,2003,2004,2005,2006,2007,2008,2009,2010,2011,2012,2013,2014,2015,2016,2017,2018,2019,2020,2021],\"xaxis\":\"x\",\"y\":[64.32,98.58,96.56,43.33,69.36,59.64,73.32,134.92,193.8,335.92,1687.59,1504.3,1603.64,821.06,1021.91,2034.18,760.43,1463.87,776.94,1207.31,2132.2,2388.26,2116.56,1467.33,1558.23],\"yaxis\":\"y\",\"type\":\"scattergl\"},{\"hovertemplate\":\"<b>%{hovertext}</b><br><br>Country=TURKMENISTAN<br>Year(start)=%{x}<br>Import=%{y}<br>Export=%{marker.size}<extra></extra>\",\"hovertext\":[\"TURKMENISTAN\",\"TURKMENISTAN\",\"TURKMENISTAN\",\"TURKMENISTAN\",\"TURKMENISTAN\",\"TURKMENISTAN\",\"TURKMENISTAN\",\"TURKMENISTAN\",\"TURKMENISTAN\",\"TURKMENISTAN\",\"TURKMENISTAN\",\"TURKMENISTAN\",\"TURKMENISTAN\",\"TURKMENISTAN\",\"TURKMENISTAN\",\"TURKMENISTAN\",\"TURKMENISTAN\",\"TURKMENISTAN\",\"TURKMENISTAN\",\"TURKMENISTAN\",\"TURKMENISTAN\",\"TURKMENISTAN\",\"TURKMENISTAN\",\"TURKMENISTAN\",\"TURKMENISTAN\"],\"legendgroup\":\"TURKMENISTAN\",\"marker\":{\"color\":\"#00cc96\",\"size\":[1.68,1.93,5.64,2.71,4.35,10.29,19.21,15.26,18.83,33.99,36.09,41.4,36.15,26.16,43.95,69.92,73.62,91.98,68.53,57.6,54.31,45.64,33.9,60.34,88.54],\"sizemode\":\"area\",\"sizeref\":15.496216666666665,\"symbol\":\"circle\"},\"mode\":\"markers\",\"name\":\"TURKMENISTAN\",\"showlegend\":true,\"x\":[97,98,99,2000,2001,2002,2003,2004,2005,2006,2007,2008,2009,2010,2011,2012,2013,2014,2015,2016,2017,2018,2019,2020,2021],\"xaxis\":\"x\",\"y\":[0.02,0.11,0.38,1.12,1.95,5.4,9.34,10.87,12.35,11.95,8.55,12.1,10.0,9.73,19.46,8.33,14.1,13.05,46.97,21.32,26.15,20.63,3.99,0.3,3.77],\"yaxis\":\"y\",\"type\":\"scattergl\"},{\"hovertemplate\":\"<b>%{hovertext}</b><br><br>Country=TURKS C IS<br>Year(start)=%{x}<br>Import=%{y}<br>Export=%{marker.size}<extra></extra>\",\"hovertext\":[\"TURKS C IS\",\"TURKS C IS\",\"TURKS C IS\",\"TURKS C IS\",\"TURKS C IS\",\"TURKS C IS\",\"TURKS C IS\",\"TURKS C IS\",\"TURKS C IS\",\"TURKS C IS\",\"TURKS C IS\",\"TURKS C IS\",\"TURKS C IS\",\"TURKS C IS\",\"TURKS C IS\",\"TURKS C IS\",\"TURKS C IS\",\"TURKS C IS\",\"TURKS C IS\",\"TURKS C IS\",\"TURKS C IS\",\"TURKS C IS\"],\"legendgroup\":\"TURKS C IS\",\"marker\":{\"color\":\"#ab63fa\",\"size\":[0.18,1.01,21.0,29.1,50.56,17.27,0.41,0.53,0.83,0.53,0.17,0.05,0.17,0.32,0.41,0.15,0.16,0.78,1.15,0.64,0.13,0.38],\"sizemode\":\"area\",\"sizeref\":15.496216666666665,\"symbol\":\"circle\"},\"mode\":\"markers\",\"name\":\"TURKS C IS\",\"showlegend\":true,\"x\":[97,98,2000,2001,2002,2003,2005,2006,2007,2008,2009,2010,2011,2012,2013,2014,2015,2016,2017,2019,2020,2021],\"xaxis\":\"x\",\"y\":[0.18,0.04,0.02,0.06,0.01,0.01,3.5,0.33,0.4,1.57,1.87,0.08,0.01,0.05,0.12,0.01,0.02,0.03,0.02,0.01,0.05,0.01],\"yaxis\":\"y\",\"type\":\"scattergl\"},{\"hovertemplate\":\"<b>%{hovertext}</b><br><br>Country=TUVALU<br>Year(start)=%{x}<br>Import=%{y}<br>Export=%{marker.size}<extra></extra>\",\"hovertext\":[\"TUVALU\",\"TUVALU\",\"TUVALU\",\"TUVALU\",\"TUVALU\",\"TUVALU\",\"TUVALU\"],\"legendgroup\":\"TUVALU\",\"marker\":{\"color\":\"#FFA15A\",\"size\":[6.44,6.89,0.21,0.01,0.03,0.06,0.08],\"sizemode\":\"area\",\"sizeref\":15.496216666666665,\"symbol\":\"circle\"},\"mode\":\"markers\",\"name\":\"TUVALU\",\"showlegend\":true,\"x\":[2007,2008,2009,2011,2014,2015,2016],\"xaxis\":\"x\",\"y\":[1.56,0.35,0.05,0.01,1.42,0.01,0.13],\"yaxis\":\"y\",\"type\":\"scattergl\"},{\"hovertemplate\":\"<b>%{hovertext}</b><br><br>Country=U ARAB EMTS<br>Year(start)=%{x}<br>Import=%{y}<br>Export=%{marker.size}<extra></extra>\",\"hovertext\":[\"U ARAB EMTS\",\"U ARAB EMTS\",\"U ARAB EMTS\",\"U ARAB EMTS\",\"U ARAB EMTS\",\"U ARAB EMTS\",\"U ARAB EMTS\",\"U ARAB EMTS\",\"U ARAB EMTS\",\"U ARAB EMTS\",\"U ARAB EMTS\",\"U ARAB EMTS\",\"U ARAB EMTS\",\"U ARAB EMTS\",\"U ARAB EMTS\",\"U ARAB EMTS\",\"U ARAB EMTS\",\"U ARAB EMTS\",\"U ARAB EMTS\",\"U ARAB EMTS\",\"U ARAB EMTS\",\"U ARAB EMTS\",\"U ARAB EMTS\",\"U ARAB EMTS\",\"U ARAB EMTS\"],\"legendgroup\":\"U ARAB EMTS\",\"marker\":{\"color\":\"#19d3f3\",\"size\":[1629.56,1867.59,2082.74,2597.52,2491.79,3327.48,5125.58,7347.88,8591.79,12021.77,15636.91,24477.48,23970.4,33822.39,35925.52,36316.65,30520.42,33028.08,30316.5,31175.5,28146.12,30126.73,28853.59,16679.54,20052.57],\"sizemode\":\"area\",\"sizeref\":15.496216666666665,\"symbol\":\"circle\"},\"mode\":\"markers\",\"name\":\"U ARAB EMTS\",\"showlegend\":true,\"x\":[97,98,99,2000,2001,2002,2003,2004,2005,2006,2007,2008,2009,2010,2011,2012,2013,2014,2015,2016,2017,2018,2019,2020,2021],\"xaxis\":\"x\",\"y\":[1475.04,1721.24,2003.24,658.98,915.09,956.99,2059.84,4641.1,4354.08,8655.28,13482.61,23791.25,19499.1,32753.16,36756.32,39138.36,29019.82,26139.91,19445.68,21509.83,21739.11,29785.33,30256.65,26622.99,32716.4],\"yaxis\":\"y\",\"type\":\"scattergl\"},{\"hovertemplate\":\"<b>%{hovertext}</b><br><br>Country=U K<br>Year(start)=%{x}<br>Import=%{y}<br>Export=%{marker.size}<extra></extra>\",\"hovertext\":[\"U K\",\"U K\",\"U K\",\"U K\",\"U K\",\"U K\",\"U K\",\"U K\",\"U K\",\"U K\",\"U K\",\"U K\",\"U K\",\"U K\",\"U K\",\"U K\",\"U K\",\"U K\",\"U K\",\"U K\",\"U K\",\"U K\",\"U K\",\"U K\",\"U K\"],\"legendgroup\":\"U K\",\"marker\":{\"color\":\"#FF6692\",\"size\":[2092.4,1855.4,2034.79,2298.71,2160.87,2496.41,3023.25,3681.09,5059.28,5622.93,6705.5,6649.53,6221.39,7284.96,8589.93,8612.54,9779.07,9319.73,8828.48,8530.07,9691.07,9309.29,8737.85,8157.56,7676.83],\"sizemode\":\"area\",\"sizeref\":15.496216666666665,\"symbol\":\"circle\"},\"mode\":\"markers\",\"name\":\"U K\",\"showlegend\":true,\"x\":[97,98,99,2000,2001,2002,2003,2004,2005,2006,2007,2008,2009,2010,2011,2012,2013,2014,2015,2016,2017,2018,2019,2020,2021],\"xaxis\":\"x\",\"y\":[2443.29,2621.37,2702.57,3167.92,2563.2,2777.01,3234.33,3566.2,3930.3,4177.87,4953.68,5872.32,4461.67,5396.78,7134.3,6293.09,6045.1,5018.28,5192.54,3664.96,4806.75,7561.93,6712.63,4955.76,4827.28],\"yaxis\":\"y\",\"type\":\"scattergl\"},{\"hovertemplate\":\"<b>%{hovertext}</b><br><br>Country=U S A<br>Year(start)=%{x}<br>Import=%{y}<br>Export=%{marker.size}<extra></extra>\",\"hovertext\":[\"U S A\",\"U S A\",\"U S A\",\"U S A\",\"U S A\",\"U S A\",\"U S A\",\"U S A\",\"U S A\",\"U S A\",\"U S A\",\"U S A\",\"U S A\",\"U S A\",\"U S A\",\"U S A\",\"U S A\",\"U S A\",\"U S A\",\"U S A\",\"U S A\",\"U S A\",\"U S A\",\"U S A\",\"U S A\"],\"legendgroup\":\"U S A\",\"marker\":{\"color\":\"#B6E880\",\"size\":[6735.4,7199.59,8395.61,9305.12,8513.34,10895.76,11490.03,13765.75,17353.06,18863.47,20731.34,21149.53,19535.49,25291.91,34741.6,36155.22,39142.1,42448.66,40336.01,42212.27,47878.48,52406.27,53088.77,51623.14,55786.38],\"sizemode\":\"area\",\"sizeref\":15.496216666666665,\"symbol\":\"circle\"},\"mode\":\"markers\",\"name\":\"U S A\",\"showlegend\":true,\"x\":[97,98,99,2000,2001,2002,2003,2004,2005,2006,2007,2008,2009,2010,2011,2012,2013,2014,2015,2016,2017,2018,2019,2020,2021],\"xaxis\":\"x\",\"y\":[3714.18,3640.25,3560.22,3015.0,3149.62,4443.58,5034.83,7001.35,9454.74,11738.24,21067.24,18561.42,16973.68,20050.72,23454.92,25204.73,22505.08,21814.6,21781.39,22307.44,26611.03,35549.48,35819.87,28888.1,31344.0],\"yaxis\":\"y\",\"type\":\"scattergl\"},{\"hovertemplate\":\"<b>%{hovertext}</b><br><br>Country=UGANDA<br>Year(start)=%{x}<br>Import=%{y}<br>Export=%{marker.size}<extra></extra>\",\"hovertext\":[\"UGANDA\",\"UGANDA\",\"UGANDA\",\"UGANDA\",\"UGANDA\",\"UGANDA\",\"UGANDA\",\"UGANDA\",\"UGANDA\",\"UGANDA\",\"UGANDA\",\"UGANDA\",\"UGANDA\",\"UGANDA\",\"UGANDA\",\"UGANDA\",\"UGANDA\",\"UGANDA\",\"UGANDA\",\"UGANDA\",\"UGANDA\",\"UGANDA\",\"UGANDA\",\"UGANDA\",\"UGANDA\"],\"legendgroup\":\"UGANDA\",\"marker\":{\"color\":\"#FF97FF\",\"size\":[44.04,44.83,39.06,45.23,55.59,65.87,87.73,75.98,92.65,107.34,153.8,217.78,206.93,292.8,435.08,465.0,530.62,553.93,569.94,494.48,532.26,580.08,621.52,670.32,530.02],\"sizemode\":\"area\",\"sizeref\":15.496216666666665,\"symbol\":\"circle\"},\"mode\":\"markers\",\"name\":\"UGANDA\",\"showlegend\":true,\"x\":[97,98,99,2000,2001,2002,2003,2004,2005,2006,2007,2008,2009,2010,2011,2012,2013,2014,2015,2016,2017,2018,2019,2020,2021],\"xaxis\":\"x\",\"y\":[0.47,0.33,2.27,3.07,1.2,1.97,2.05,6.6,2.84,4.76,15.12,19.32,13.38,13.64,18.22,27.4,33.14,37.69,45.52,68.93,56.21,23.06,33.98,38.59,47.29],\"yaxis\":\"y\",\"type\":\"scattergl\"},{\"hovertemplate\":\"<b>%{hovertext}</b><br><br>Country=UKRAINE<br>Year(start)=%{x}<br>Import=%{y}<br>Export=%{marker.size}<extra></extra>\",\"hovertext\":[\"UKRAINE\",\"UKRAINE\",\"UKRAINE\",\"UKRAINE\",\"UKRAINE\",\"UKRAINE\",\"UKRAINE\",\"UKRAINE\",\"UKRAINE\",\"UKRAINE\",\"UKRAINE\",\"UKRAINE\",\"UKRAINE\",\"UKRAINE\",\"UKRAINE\",\"UKRAINE\",\"UKRAINE\",\"UKRAINE\",\"UKRAINE\",\"UKRAINE\",\"UKRAINE\",\"UKRAINE\",\"UKRAINE\",\"UKRAINE\",\"UKRAINE\"],\"legendgroup\":\"UKRAINE\",\"marker\":{\"color\":\"#FECB52\",\"size\":[60.69,34.39,42.36,70.8,81.05,93.7,110.27,207.73,258.19,290.08,400.04,400.7,289.03,514.28,491.22,519.79,481.25,348.91,259.11,310.16,330.1,390.8,463.81,450.97,372.23],\"sizemode\":\"area\",\"sizeref\":15.496216666666665,\"symbol\":\"circle\"},\"mode\":\"markers\",\"name\":\"UKRAINE\",\"showlegend\":true,\"x\":[97,98,99,2000,2001,2002,2003,2004,2005,2006,2007,2008,2009,2010,2011,2012,2013,2014,2015,2016,2017,2018,2019,2020,2021],\"xaxis\":\"x\",\"y\":[179.74,135.82,152.63,130.25,166.88,194.96,235.15,538.67,792.39,996.49,883.5,1538.13,1593.52,1418.46,2463.71,2657.47,1804.75,2238.99,1751.1,2481.47,2355.97,2341.03,2060.79,2139.86,1980.11],\"yaxis\":\"y\",\"type\":\"scattergl\"},{\"hovertemplate\":\"<b>%{hovertext}</b><br><br>Country=UNION OF SERBIA & MONTENEGRO<br>Year(start)=%{x}<br>Import=%{y}<br>Export=%{marker.size}<extra></extra>\",\"hovertext\":[\"UNION OF SERBIA & MONTENEGRO\",\"UNION OF SERBIA & MONTENEGRO\",\"UNION OF SERBIA & MONTENEGRO\",\"UNION OF SERBIA & MONTENEGRO\",\"UNION OF SERBIA & MONTENEGRO\",\"UNION OF SERBIA & MONTENEGRO\",\"UNION OF SERBIA & MONTENEGRO\",\"UNION OF SERBIA & MONTENEGRO\",\"UNION OF SERBIA & MONTENEGRO\",\"UNION OF SERBIA & MONTENEGRO\",\"UNION OF SERBIA & MONTENEGRO\",\"UNION OF SERBIA & MONTENEGRO\",\"UNION OF SERBIA & MONTENEGRO\",\"UNION OF SERBIA & MONTENEGRO\",\"UNION OF SERBIA & MONTENEGRO\",\"UNION OF SERBIA & MONTENEGRO\",\"UNION OF SERBIA & MONTENEGRO\",\"UNION OF SERBIA & MONTENEGRO\",\"UNION OF SERBIA & MONTENEGRO\"],\"legendgroup\":\"UNION OF SERBIA & MONTENEGRO\",\"marker\":{\"color\":\"#636efa\",\"size\":[5.03,6.82,4.44,6.65,5.52,4.61,16.83,9.25,8.36,12.09,13.35,14.06,12.74,23.56,41.7,71.0,30.16,6.68,1.38],\"sizemode\":\"area\",\"sizeref\":15.496216666666665,\"symbol\":\"circle\"},\"mode\":\"markers\",\"name\":\"UNION OF SERBIA & MONTENEGRO\",\"showlegend\":true,\"x\":[97,98,99,2000,2001,2002,2003,2004,2005,2006,2007,2008,2009,2010,2011,2012,2013,2014,2015],\"xaxis\":\"x\",\"y\":[4.06,2.48,1.86,3.28,2.16,1.21,3.64,4.25,1.95,1.72,4.27,13.27,5.76,3.08,2.26,13.15,5.63,15.35,2.9],\"yaxis\":\"y\",\"type\":\"scattergl\"},{\"hovertemplate\":\"<b>%{hovertext}</b><br><br>Country=UNSPECIFIED<br>Year(start)=%{x}<br>Import=%{y}<br>Export=%{marker.size}<extra></extra>\",\"hovertext\":[\"UNSPECIFIED\",\"UNSPECIFIED\",\"UNSPECIFIED\",\"UNSPECIFIED\",\"UNSPECIFIED\",\"UNSPECIFIED\",\"UNSPECIFIED\",\"UNSPECIFIED\",\"UNSPECIFIED\",\"UNSPECIFIED\",\"UNSPECIFIED\",\"UNSPECIFIED\",\"UNSPECIFIED\",\"UNSPECIFIED\",\"UNSPECIFIED\",\"UNSPECIFIED\",\"UNSPECIFIED\",\"UNSPECIFIED\",\"UNSPECIFIED\",\"UNSPECIFIED\",\"UNSPECIFIED\",\"UNSPECIFIED\"],\"legendgroup\":\"UNSPECIFIED\",\"marker\":{\"color\":\"#EF553B\",\"size\":[3.98,2100.05,206.05,209.38,373.82,191.85,244.77,365.21,4505.65,4116.19,14390.26,16436.76,5437.47,11544.49,4161.29,2482.91,2470.14,2429.68,2907.22,2546.99,733.33,737.54],\"sizemode\":\"area\",\"sizeref\":15.496216666666665,\"symbol\":\"circle\"},\"mode\":\"markers\",\"name\":\"UNSPECIFIED\",\"showlegend\":true,\"x\":[2000,2001,2002,2003,2004,2005,2006,2007,2008,2009,2010,2011,2012,2013,2014,2015,2016,2017,2018,2019,2020,2021],\"xaxis\":\"x\",\"y\":[14795.19,14074.87,17783.38,20753.69,25978.91,24807.23,681.47,1779.76,1412.66,939.31,4317.48,1039.26,1924.94,4097.07,7562.83,8709.59,7343.64,9194.62,89.74,123.49,56.44,33.83],\"yaxis\":\"y\",\"type\":\"scattergl\"},{\"hovertemplate\":\"<b>%{hovertext}</b><br><br>Country=URUGUAY<br>Year(start)=%{x}<br>Import=%{y}<br>Export=%{marker.size}<extra></extra>\",\"hovertext\":[\"URUGUAY\",\"URUGUAY\",\"URUGUAY\",\"URUGUAY\",\"URUGUAY\",\"URUGUAY\",\"URUGUAY\",\"URUGUAY\",\"URUGUAY\",\"URUGUAY\",\"URUGUAY\",\"URUGUAY\",\"URUGUAY\",\"URUGUAY\",\"URUGUAY\",\"URUGUAY\",\"URUGUAY\",\"URUGUAY\",\"URUGUAY\",\"URUGUAY\",\"URUGUAY\",\"URUGUAY\",\"URUGUAY\",\"URUGUAY\",\"URUGUAY\"],\"legendgroup\":\"URUGUAY\",\"marker\":{\"color\":\"#00cc96\",\"size\":[34.0,36.5,26.53,35.71,25.94,16.89,19.47,24.51,27.93,36.97,50.76,65.55,48.33,85.34,140.68,143.19,160.98,208.32,152.9,187.8,159.45,180.99,147.69,104.71,117.83],\"sizemode\":\"area\",\"sizeref\":15.496216666666665,\"symbol\":\"circle\"},\"mode\":\"markers\",\"name\":\"URUGUAY\",\"showlegend\":true,\"x\":[97,98,99,2000,2001,2002,2003,2004,2005,2006,2007,2008,2009,2010,2011,2012,2013,2014,2015,2016,2017,2018,2019,2020,2021],\"xaxis\":\"x\",\"y\":[3.12,1.9,2.04,2.89,3.52,4.66,10.22,4.05,4.04,7.29,13.14,14.73,16.04,17.32,31.43,24.41,20.42,20.35,17.71,13.45,24.98,42.96,57.24,163.59,120.22],\"yaxis\":\"y\",\"type\":\"scattergl\"},{\"hovertemplate\":\"<b>%{hovertext}</b><br><br>Country=US MINOR OUTLYING ISLANDS<br>Year(start)=%{x}<br>Import=%{y}<br>Export=%{marker.size}<extra></extra>\",\"hovertext\":[\"US MINOR OUTLYING ISLANDS\",\"US MINOR OUTLYING ISLANDS\",\"US MINOR OUTLYING ISLANDS\",\"US MINOR OUTLYING ISLANDS\",\"US MINOR OUTLYING ISLANDS\",\"US MINOR OUTLYING ISLANDS\",\"US MINOR OUTLYING ISLANDS\",\"US MINOR OUTLYING ISLANDS\"],\"legendgroup\":\"US MINOR OUTLYING ISLANDS\",\"marker\":{\"color\":\"#ab63fa\",\"size\":[0.68,0.17,1.08,0.52,0.69,0.4,0.97,0.23],\"sizemode\":\"area\",\"sizeref\":15.496216666666665,\"symbol\":\"circle\"},\"mode\":\"markers\",\"name\":\"US MINOR OUTLYING ISLANDS\",\"showlegend\":true,\"x\":[2014,2015,2016,2017,2018,2019,2020,2021],\"xaxis\":\"x\",\"y\":[0.85,0.36,0.56,0.74,0.08,0.4,0.29,0.13],\"yaxis\":\"y\",\"type\":\"scattergl\"},{\"hovertemplate\":\"<b>%{hovertext}</b><br><br>Country=UZBEKISTAN<br>Year(start)=%{x}<br>Import=%{y}<br>Export=%{marker.size}<extra></extra>\",\"hovertext\":[\"UZBEKISTAN\",\"UZBEKISTAN\",\"UZBEKISTAN\",\"UZBEKISTAN\",\"UZBEKISTAN\",\"UZBEKISTAN\",\"UZBEKISTAN\",\"UZBEKISTAN\",\"UZBEKISTAN\",\"UZBEKISTAN\",\"UZBEKISTAN\",\"UZBEKISTAN\",\"UZBEKISTAN\",\"UZBEKISTAN\",\"UZBEKISTAN\",\"UZBEKISTAN\",\"UZBEKISTAN\",\"UZBEKISTAN\",\"UZBEKISTAN\",\"UZBEKISTAN\",\"UZBEKISTAN\",\"UZBEKISTAN\",\"UZBEKISTAN\",\"UZBEKISTAN\",\"UZBEKISTAN\"],\"legendgroup\":\"UZBEKISTAN\",\"marker\":{\"color\":\"#FFA15A\",\"size\":[17.59,12.83,9.94,9.39,6.53,5.08,15.14,21.35,24.44,29.69,40.32,45.53,54.03,60.42,89.39,124.9,114.07,170.44,94.64,108.97,132.72,201.41,180.21,280.07,200.37],\"sizemode\":\"area\",\"sizeref\":15.496216666666665,\"symbol\":\"circle\"},\"mode\":\"markers\",\"name\":\"UZBEKISTAN\",\"showlegend\":true,\"x\":[97,98,99,2000,2001,2002,2003,2004,2005,2006,2007,2008,2009,2010,2011,2012,2013,2014,2015,2016,2017,2018,2019,2020,2021],\"xaxis\":\"x\",\"y\":[2.71,1.67,12.97,10.58,17.27,20.54,27.7,31.46,26.13,33.91,16.2,70.74,29.97,20.63,37.04,31.85,31.5,55.86,45.26,46.54,101.67,126.73,66.85,14.94,18.4],\"yaxis\":\"y\",\"type\":\"scattergl\"},{\"hovertemplate\":\"<b>%{hovertext}</b><br><br>Country=VANUATU REP<br>Year(start)=%{x}<br>Import=%{y}<br>Export=%{marker.size}<extra></extra>\",\"hovertext\":[\"VANUATU REP\",\"VANUATU REP\",\"VANUATU REP\",\"VANUATU REP\",\"VANUATU REP\",\"VANUATU REP\",\"VANUATU REP\",\"VANUATU REP\",\"VANUATU REP\",\"VANUATU REP\",\"VANUATU REP\",\"VANUATU REP\",\"VANUATU REP\",\"VANUATU REP\",\"VANUATU REP\",\"VANUATU REP\",\"VANUATU REP\"],\"legendgroup\":\"VANUATU REP\",\"marker\":{\"color\":\"#19d3f3\",\"size\":[0.18,6.59,0.11,0.14,0.53,1.65,1.84,2.25,2.16,4.99,2.27,2.49,3.43,1.86,2.01,2.42,2.25],\"sizemode\":\"area\",\"sizeref\":15.496216666666665,\"symbol\":\"circle\"},\"mode\":\"markers\",\"name\":\"VANUATU REP\",\"showlegend\":true,\"x\":[99,2000,2001,2002,2003,2004,2005,2006,2007,2008,2009,2010,2012,2014,2015,2019,2020],\"xaxis\":\"x\",\"y\":[7.29,29.18,0.04,4.45,13.63,0.2,48.1,9.35,1.05,6.94,2.27,0.07,5.37,0.01,0.29,0.26,0.02],\"yaxis\":\"y\",\"type\":\"scattergl\"},{\"hovertemplate\":\"<b>%{hovertext}</b><br><br>Country=VATICAN CITY<br>Year(start)=%{x}<br>Import=%{y}<br>Export=%{marker.size}<extra></extra>\",\"hovertext\":[\"VATICAN CITY\",\"VATICAN CITY\",\"VATICAN CITY\",\"VATICAN CITY\",\"VATICAN CITY\"],\"legendgroup\":\"VATICAN CITY\",\"marker\":{\"color\":\"#FF6692\",\"size\":[0.12,0.04,0.03,0.03,0.07],\"sizemode\":\"area\",\"sizeref\":15.496216666666665,\"symbol\":\"circle\"},\"mode\":\"markers\",\"name\":\"VATICAN CITY\",\"showlegend\":true,\"x\":[2014,2016,2018,2019,2020],\"xaxis\":\"x\",\"y\":[0.17,0.02,0.09,0.18,0.02],\"yaxis\":\"y\",\"type\":\"scattergl\"},{\"hovertemplate\":\"<b>%{hovertext}</b><br><br>Country=VENEZUELA<br>Year(start)=%{x}<br>Import=%{y}<br>Export=%{marker.size}<extra></extra>\",\"hovertext\":[\"VENEZUELA\",\"VENEZUELA\",\"VENEZUELA\",\"VENEZUELA\",\"VENEZUELA\",\"VENEZUELA\",\"VENEZUELA\",\"VENEZUELA\",\"VENEZUELA\",\"VENEZUELA\",\"VENEZUELA\",\"VENEZUELA\",\"VENEZUELA\",\"VENEZUELA\",\"VENEZUELA\",\"VENEZUELA\",\"VENEZUELA\",\"VENEZUELA\",\"VENEZUELA\",\"VENEZUELA\",\"VENEZUELA\",\"VENEZUELA\",\"VENEZUELA\",\"VENEZUELA\",\"VENEZUELA\"],\"legendgroup\":\"VENEZUELA\",\"marker\":{\"color\":\"#B6E880\",\"size\":[22.68,26.34,23.34,42.29,55.55,40.54,21.13,71.97,94.41,126.08,142.8,184.51,183.96,176.0,249.72,234.14,196.96,258.07,130.65,62.22,79.21,164.77,339.71,557.1,286.21],\"sizemode\":\"area\",\"sizeref\":15.496216666666665,\"symbol\":\"circle\"},\"mode\":\"markers\",\"name\":\"VENEZUELA\",\"showlegend\":true,\"x\":[97,98,99,2000,2001,2002,2003,2004,2005,2006,2007,2008,2009,2010,2011,2012,2013,2014,2015,2016,2017,2018,2019,2020,2021],\"xaxis\":\"x\",\"y\":[6.77,6.6,2.57,14.44,2.58,3.71,2.51,4.02,9.55,748.9,389.91,4217.05,2885.76,5209.96,6666.9,14117.67,13940.13,11729.89,5701.81,5512.06,5866.37,7258.95,6057.01,714.24,52.66],\"yaxis\":\"y\",\"type\":\"scattergl\"},{\"hovertemplate\":\"<b>%{hovertext}</b><br><br>Country=VIETNAM SOC REP<br>Year(start)=%{x}<br>Import=%{y}<br>Export=%{marker.size}<extra></extra>\",\"hovertext\":[\"VIETNAM SOC REP\",\"VIETNAM SOC REP\",\"VIETNAM SOC REP\",\"VIETNAM SOC REP\",\"VIETNAM SOC REP\",\"VIETNAM SOC REP\",\"VIETNAM SOC REP\",\"VIETNAM SOC REP\",\"VIETNAM SOC REP\",\"VIETNAM SOC REP\",\"VIETNAM SOC REP\",\"VIETNAM SOC REP\",\"VIETNAM SOC REP\",\"VIETNAM SOC REP\",\"VIETNAM SOC REP\",\"VIETNAM SOC REP\",\"VIETNAM SOC REP\",\"VIETNAM SOC REP\",\"VIETNAM SOC REP\",\"VIETNAM SOC REP\",\"VIETNAM SOC REP\",\"VIETNAM SOC REP\",\"VIETNAM SOC REP\",\"VIETNAM SOC REP\",\"VIETNAM SOC REP\"],\"legendgroup\":\"VIETNAM SOC REP\",\"marker\":{\"color\":\"#FF97FF\",\"size\":[126.6,125.43,154.37,225.9,218.17,337.39,410.43,555.96,690.68,985.69,1610.09,1738.65,1838.95,2651.44,3719.09,3967.37,5441.94,6257.88,5265.99,6786.56,7813.08,6507.38,5059.9,4999.64,5105.88],\"sizemode\":\"area\",\"sizeref\":15.496216666666665,\"symbol\":\"circle\"},\"mode\":\"markers\",\"name\":\"VIETNAM SOC REP\",\"showlegend\":true,\"x\":[97,98,99,2000,2001,2002,2003,2004,2005,2006,2007,2008,2009,2010,2011,2012,2013,2014,2015,2016,2017,2018,2019,2020,2021],\"xaxis\":\"x\",\"y\":[8.73,9.14,11.52,12.39,18.91,29.18,38.21,86.5,131.39,167.38,173.68,408.66,521.81,1064.9,1722.87,2314.78,2594.25,3003.35,2560.39,3320.56,5018.55,7192.23,7283.42,6120.66,5075.21],\"yaxis\":\"y\",\"type\":\"scattergl\"},{\"hovertemplate\":\"<b>%{hovertext}</b><br><br>Country=VIRGIN IS US<br>Year(start)=%{x}<br>Import=%{y}<br>Export=%{marker.size}<extra></extra>\",\"hovertext\":[\"VIRGIN IS US\",\"VIRGIN IS US\",\"VIRGIN IS US\",\"VIRGIN IS US\",\"VIRGIN IS US\",\"VIRGIN IS US\",\"VIRGIN IS US\",\"VIRGIN IS US\",\"VIRGIN IS US\",\"VIRGIN IS US\",\"VIRGIN IS US\",\"VIRGIN IS US\",\"VIRGIN IS US\",\"VIRGIN IS US\",\"VIRGIN IS US\",\"VIRGIN IS US\",\"VIRGIN IS US\",\"VIRGIN IS US\",\"VIRGIN IS US\",\"VIRGIN IS US\",\"VIRGIN IS US\",\"VIRGIN IS US\"],\"legendgroup\":\"VIRGIN IS US\",\"marker\":{\"color\":\"#FECB52\",\"size\":[0.32,3.2,0.97,0.92,1.55,0.63,1.58,1.14,1.33,4.21,1.33,3.72,1.43,3.9,4.83,4.23,5.33,2.88,42.5,81.4,74.97,3.54],\"sizemode\":\"area\",\"sizeref\":15.496216666666665,\"symbol\":\"circle\"},\"mode\":\"markers\",\"name\":\"VIRGIN IS US\",\"showlegend\":true,\"x\":[98,2001,2002,2003,2004,2005,2006,2007,2008,2009,2010,2011,2012,2013,2014,2015,2016,2017,2018,2019,2020,2021],\"xaxis\":\"x\",\"y\":[0.01,0.84,9.39,0.12,0.07,0.37,0.09,2.18,1.54,2.47,0.34,0.09,0.4,2.26,0.6,1.08,4.53,0.28,0.76,7.5,0.09,0.39],\"yaxis\":\"y\",\"type\":\"scattergl\"},{\"hovertemplate\":\"<b>%{hovertext}</b><br><br>Country=WALLIS F IS<br>Year(start)=%{x}<br>Import=%{y}<br>Export=%{marker.size}<extra></extra>\",\"hovertext\":[\"WALLIS F IS\",\"WALLIS F IS\",\"WALLIS F IS\",\"WALLIS F IS\",\"WALLIS F IS\",\"WALLIS F IS\",\"WALLIS F IS\"],\"legendgroup\":\"WALLIS F IS\",\"marker\":{\"color\":\"#636efa\",\"size\":[0.09,0.61,0.05,0.16,0.0,0.04,0.05],\"sizemode\":\"area\",\"sizeref\":15.496216666666665,\"symbol\":\"circle\"},\"mode\":\"markers\",\"name\":\"WALLIS F IS\",\"showlegend\":true,\"x\":[2004,2006,2007,2008,2013,2014,2017],\"xaxis\":\"x\",\"y\":[0.16,0.04,0.02,0.02,0.1,1.02,0.01],\"yaxis\":\"y\",\"type\":\"scattergl\"},{\"hovertemplate\":\"<b>%{hovertext}</b><br><br>Country=YEMEN REPUBLC<br>Year(start)=%{x}<br>Import=%{y}<br>Export=%{marker.size}<extra></extra>\",\"hovertext\":[\"YEMEN REPUBLC\",\"YEMEN REPUBLC\",\"YEMEN REPUBLC\",\"YEMEN REPUBLC\",\"YEMEN REPUBLC\",\"YEMEN REPUBLC\",\"YEMEN REPUBLC\",\"YEMEN REPUBLC\",\"YEMEN REPUBLC\",\"YEMEN REPUBLC\",\"YEMEN REPUBLC\",\"YEMEN REPUBLC\",\"YEMEN REPUBLC\",\"YEMEN REPUBLC\",\"YEMEN REPUBLC\",\"YEMEN REPUBLC\",\"YEMEN REPUBLC\",\"YEMEN REPUBLC\",\"YEMEN REPUBLC\",\"YEMEN REPUBLC\",\"YEMEN REPUBLC\",\"YEMEN REPUBLC\",\"YEMEN REPUBLC\",\"YEMEN REPUBLC\",\"YEMEN REPUBLC\"],\"legendgroup\":\"YEMEN REPUBLC\",\"marker\":{\"color\":\"#EF553B\",\"size\":[57.57,63.04,80.26,158.94,147.74,163.75,217.55,246.41,278.81,1184.26,1010.82,787.29,727.39,514.1,730.62,1477.27,1306.99,992.13,399.79,446.13,563.46,741.32,721.25,785.54,541.78],\"sizemode\":\"area\",\"sizeref\":15.496216666666665,\"symbol\":\"circle\"},\"mode\":\"markers\",\"name\":\"YEMEN REPUBLC\",\"showlegend\":true,\"x\":[97,98,99,2000,2001,2002,2003,2004,2005,2006,2007,2008,2009,2010,2011,2012,2013,2014,2015,2016,2017,2018,2019,2020,2021],\"xaxis\":\"x\",\"y\":[11.8,10.71,255.2,15.32,47.81,42.24,29.76,30.82,10.0,2004.23,1457.78,754.61,1575.55,1743.9,970.72,958.92,782.18,540.68,6.88,4.81,153.05,11.77,22.73,23.39,89.63],\"yaxis\":\"y\",\"type\":\"scattergl\"},{\"hovertemplate\":\"<b>%{hovertext}</b><br><br>Country=ZAMBIA<br>Year(start)=%{x}<br>Import=%{y}<br>Export=%{marker.size}<extra></extra>\",\"hovertext\":[\"ZAMBIA\",\"ZAMBIA\",\"ZAMBIA\",\"ZAMBIA\",\"ZAMBIA\",\"ZAMBIA\",\"ZAMBIA\",\"ZAMBIA\",\"ZAMBIA\",\"ZAMBIA\",\"ZAMBIA\",\"ZAMBIA\",\"ZAMBIA\",\"ZAMBIA\",\"ZAMBIA\",\"ZAMBIA\",\"ZAMBIA\",\"ZAMBIA\",\"ZAMBIA\",\"ZAMBIA\",\"ZAMBIA\",\"ZAMBIA\",\"ZAMBIA\",\"ZAMBIA\",\"ZAMBIA\"],\"legendgroup\":\"ZAMBIA\",\"marker\":{\"color\":\"#00cc96\",\"size\":[26.59,17.32,23.28,22.48,25.71,30.95,39.86,50.4,66.51,107.97,131.85,107.43,88.34,118.45,210.91,243.08,377.3,366.59,298.11,237.21,294.29,319.05,247.64,268.87,258.64],\"sizemode\":\"area\",\"sizeref\":15.496216666666665,\"symbol\":\"circle\"},\"mode\":\"markers\",\"name\":\"ZAMBIA\",\"showlegend\":true,\"x\":[97,98,99,2000,2001,2002,2003,2004,2005,2006,2007,2008,2009,2010,2011,2012,2013,2014,2015,2016,2017,2018,2019,2020,2021],\"xaxis\":\"x\",\"y\":[97.24,39.1,25.95,11.57,13.49,14.4,18.55,22.96,40.56,85.14,73.21,208.4,102.22,32.09,168.81,324.87,243.15,283.35,475.38,743.9,1094.98,510.5,843.32,126.5,99.97],\"yaxis\":\"y\",\"type\":\"scattergl\"},{\"hovertemplate\":\"<b>%{hovertext}</b><br><br>Country=ZIMBABWE<br>Year(start)=%{x}<br>Import=%{y}<br>Export=%{marker.size}<extra></extra>\",\"hovertext\":[\"ZIMBABWE\",\"ZIMBABWE\",\"ZIMBABWE\",\"ZIMBABWE\",\"ZIMBABWE\",\"ZIMBABWE\",\"ZIMBABWE\",\"ZIMBABWE\",\"ZIMBABWE\",\"ZIMBABWE\",\"ZIMBABWE\",\"ZIMBABWE\",\"ZIMBABWE\",\"ZIMBABWE\",\"ZIMBABWE\",\"ZIMBABWE\",\"ZIMBABWE\",\"ZIMBABWE\",\"ZIMBABWE\",\"ZIMBABWE\",\"ZIMBABWE\",\"ZIMBABWE\",\"ZIMBABWE\",\"ZIMBABWE\",\"ZIMBABWE\"],\"legendgroup\":\"ZIMBABWE\",\"marker\":{\"color\":\"#ab63fa\",\"size\":[23.93,23.59,18.47,15.06,12.5,15.83,23.51,23.45,23.99,31.78,31.97,58.99,48.7,113.15,129.32,153.19,158.06,223.96,205.09,109.08,163.54,181.72,161.13,175.72,148.89],\"sizemode\":\"area\",\"sizeref\":15.496216666666665,\"symbol\":\"circle\"},\"mode\":\"markers\",\"name\":\"ZIMBABWE\",\"showlegend\":true,\"x\":[97,98,99,2000,2001,2002,2003,2004,2005,2006,2007,2008,2009,2010,2011,2012,2013,2014,2015,2016,2017,2018,2019,2020,2021],\"xaxis\":\"x\",\"y\":[17.23,14.9,14.03,8.34,18.49,14.04,16.42,27.15,25.55,32.25,22.22,13.77,21.1,11.62,2.89,34.54,12.5,32.7,24.45,60.46,62.2,7.79,13.59,5.71,1.69],\"yaxis\":\"y\",\"type\":\"scattergl\"}],                        {\"template\":{\"data\":{\"bar\":[{\"error_x\":{\"color\":\"#2a3f5f\"},\"error_y\":{\"color\":\"#2a3f5f\"},\"marker\":{\"line\":{\"color\":\"#E5ECF6\",\"width\":0.5},\"pattern\":{\"fillmode\":\"overlay\",\"size\":10,\"solidity\":0.2}},\"type\":\"bar\"}],\"barpolar\":[{\"marker\":{\"line\":{\"color\":\"#E5ECF6\",\"width\":0.5},\"pattern\":{\"fillmode\":\"overlay\",\"size\":10,\"solidity\":0.2}},\"type\":\"barpolar\"}],\"carpet\":[{\"aaxis\":{\"endlinecolor\":\"#2a3f5f\",\"gridcolor\":\"white\",\"linecolor\":\"white\",\"minorgridcolor\":\"white\",\"startlinecolor\":\"#2a3f5f\"},\"baxis\":{\"endlinecolor\":\"#2a3f5f\",\"gridcolor\":\"white\",\"linecolor\":\"white\",\"minorgridcolor\":\"white\",\"startlinecolor\":\"#2a3f5f\"},\"type\":\"carpet\"}],\"choropleth\":[{\"colorbar\":{\"outlinewidth\":0,\"ticks\":\"\"},\"type\":\"choropleth\"}],\"contour\":[{\"colorbar\":{\"outlinewidth\":0,\"ticks\":\"\"},\"colorscale\":[[0.0,\"#0d0887\"],[0.1111111111111111,\"#46039f\"],[0.2222222222222222,\"#7201a8\"],[0.3333333333333333,\"#9c179e\"],[0.4444444444444444,\"#bd3786\"],[0.5555555555555556,\"#d8576b\"],[0.6666666666666666,\"#ed7953\"],[0.7777777777777778,\"#fb9f3a\"],[0.8888888888888888,\"#fdca26\"],[1.0,\"#f0f921\"]],\"type\":\"contour\"}],\"contourcarpet\":[{\"colorbar\":{\"outlinewidth\":0,\"ticks\":\"\"},\"type\":\"contourcarpet\"}],\"heatmap\":[{\"colorbar\":{\"outlinewidth\":0,\"ticks\":\"\"},\"colorscale\":[[0.0,\"#0d0887\"],[0.1111111111111111,\"#46039f\"],[0.2222222222222222,\"#7201a8\"],[0.3333333333333333,\"#9c179e\"],[0.4444444444444444,\"#bd3786\"],[0.5555555555555556,\"#d8576b\"],[0.6666666666666666,\"#ed7953\"],[0.7777777777777778,\"#fb9f3a\"],[0.8888888888888888,\"#fdca26\"],[1.0,\"#f0f921\"]],\"type\":\"heatmap\"}],\"heatmapgl\":[{\"colorbar\":{\"outlinewidth\":0,\"ticks\":\"\"},\"colorscale\":[[0.0,\"#0d0887\"],[0.1111111111111111,\"#46039f\"],[0.2222222222222222,\"#7201a8\"],[0.3333333333333333,\"#9c179e\"],[0.4444444444444444,\"#bd3786\"],[0.5555555555555556,\"#d8576b\"],[0.6666666666666666,\"#ed7953\"],[0.7777777777777778,\"#fb9f3a\"],[0.8888888888888888,\"#fdca26\"],[1.0,\"#f0f921\"]],\"type\":\"heatmapgl\"}],\"histogram\":[{\"marker\":{\"pattern\":{\"fillmode\":\"overlay\",\"size\":10,\"solidity\":0.2}},\"type\":\"histogram\"}],\"histogram2d\":[{\"colorbar\":{\"outlinewidth\":0,\"ticks\":\"\"},\"colorscale\":[[0.0,\"#0d0887\"],[0.1111111111111111,\"#46039f\"],[0.2222222222222222,\"#7201a8\"],[0.3333333333333333,\"#9c179e\"],[0.4444444444444444,\"#bd3786\"],[0.5555555555555556,\"#d8576b\"],[0.6666666666666666,\"#ed7953\"],[0.7777777777777778,\"#fb9f3a\"],[0.8888888888888888,\"#fdca26\"],[1.0,\"#f0f921\"]],\"type\":\"histogram2d\"}],\"histogram2dcontour\":[{\"colorbar\":{\"outlinewidth\":0,\"ticks\":\"\"},\"colorscale\":[[0.0,\"#0d0887\"],[0.1111111111111111,\"#46039f\"],[0.2222222222222222,\"#7201a8\"],[0.3333333333333333,\"#9c179e\"],[0.4444444444444444,\"#bd3786\"],[0.5555555555555556,\"#d8576b\"],[0.6666666666666666,\"#ed7953\"],[0.7777777777777778,\"#fb9f3a\"],[0.8888888888888888,\"#fdca26\"],[1.0,\"#f0f921\"]],\"type\":\"histogram2dcontour\"}],\"mesh3d\":[{\"colorbar\":{\"outlinewidth\":0,\"ticks\":\"\"},\"type\":\"mesh3d\"}],\"parcoords\":[{\"line\":{\"colorbar\":{\"outlinewidth\":0,\"ticks\":\"\"}},\"type\":\"parcoords\"}],\"pie\":[{\"automargin\":true,\"type\":\"pie\"}],\"scatter\":[{\"marker\":{\"colorbar\":{\"outlinewidth\":0,\"ticks\":\"\"}},\"type\":\"scatter\"}],\"scatter3d\":[{\"line\":{\"colorbar\":{\"outlinewidth\":0,\"ticks\":\"\"}},\"marker\":{\"colorbar\":{\"outlinewidth\":0,\"ticks\":\"\"}},\"type\":\"scatter3d\"}],\"scattercarpet\":[{\"marker\":{\"colorbar\":{\"outlinewidth\":0,\"ticks\":\"\"}},\"type\":\"scattercarpet\"}],\"scattergeo\":[{\"marker\":{\"colorbar\":{\"outlinewidth\":0,\"ticks\":\"\"}},\"type\":\"scattergeo\"}],\"scattergl\":[{\"marker\":{\"colorbar\":{\"outlinewidth\":0,\"ticks\":\"\"}},\"type\":\"scattergl\"}],\"scattermapbox\":[{\"marker\":{\"colorbar\":{\"outlinewidth\":0,\"ticks\":\"\"}},\"type\":\"scattermapbox\"}],\"scatterpolar\":[{\"marker\":{\"colorbar\":{\"outlinewidth\":0,\"ticks\":\"\"}},\"type\":\"scatterpolar\"}],\"scatterpolargl\":[{\"marker\":{\"colorbar\":{\"outlinewidth\":0,\"ticks\":\"\"}},\"type\":\"scatterpolargl\"}],\"scatterternary\":[{\"marker\":{\"colorbar\":{\"outlinewidth\":0,\"ticks\":\"\"}},\"type\":\"scatterternary\"}],\"surface\":[{\"colorbar\":{\"outlinewidth\":0,\"ticks\":\"\"},\"colorscale\":[[0.0,\"#0d0887\"],[0.1111111111111111,\"#46039f\"],[0.2222222222222222,\"#7201a8\"],[0.3333333333333333,\"#9c179e\"],[0.4444444444444444,\"#bd3786\"],[0.5555555555555556,\"#d8576b\"],[0.6666666666666666,\"#ed7953\"],[0.7777777777777778,\"#fb9f3a\"],[0.8888888888888888,\"#fdca26\"],[1.0,\"#f0f921\"]],\"type\":\"surface\"}],\"table\":[{\"cells\":{\"fill\":{\"color\":\"#EBF0F8\"},\"line\":{\"color\":\"white\"}},\"header\":{\"fill\":{\"color\":\"#C8D4E3\"},\"line\":{\"color\":\"white\"}},\"type\":\"table\"}]},\"layout\":{\"annotationdefaults\":{\"arrowcolor\":\"#2a3f5f\",\"arrowhead\":0,\"arrowwidth\":1},\"autotypenumbers\":\"strict\",\"coloraxis\":{\"colorbar\":{\"outlinewidth\":0,\"ticks\":\"\"}},\"colorscale\":{\"diverging\":[[0,\"#8e0152\"],[0.1,\"#c51b7d\"],[0.2,\"#de77ae\"],[0.3,\"#f1b6da\"],[0.4,\"#fde0ef\"],[0.5,\"#f7f7f7\"],[0.6,\"#e6f5d0\"],[0.7,\"#b8e186\"],[0.8,\"#7fbc41\"],[0.9,\"#4d9221\"],[1,\"#276419\"]],\"sequential\":[[0.0,\"#0d0887\"],[0.1111111111111111,\"#46039f\"],[0.2222222222222222,\"#7201a8\"],[0.3333333333333333,\"#9c179e\"],[0.4444444444444444,\"#bd3786\"],[0.5555555555555556,\"#d8576b\"],[0.6666666666666666,\"#ed7953\"],[0.7777777777777778,\"#fb9f3a\"],[0.8888888888888888,\"#fdca26\"],[1.0,\"#f0f921\"]],\"sequentialminus\":[[0.0,\"#0d0887\"],[0.1111111111111111,\"#46039f\"],[0.2222222222222222,\"#7201a8\"],[0.3333333333333333,\"#9c179e\"],[0.4444444444444444,\"#bd3786\"],[0.5555555555555556,\"#d8576b\"],[0.6666666666666666,\"#ed7953\"],[0.7777777777777778,\"#fb9f3a\"],[0.8888888888888888,\"#fdca26\"],[1.0,\"#f0f921\"]]},\"colorway\":[\"#636efa\",\"#EF553B\",\"#00cc96\",\"#ab63fa\",\"#FFA15A\",\"#19d3f3\",\"#FF6692\",\"#B6E880\",\"#FF97FF\",\"#FECB52\"],\"font\":{\"color\":\"#2a3f5f\"},\"geo\":{\"bgcolor\":\"white\",\"lakecolor\":\"white\",\"landcolor\":\"#E5ECF6\",\"showlakes\":true,\"showland\":true,\"subunitcolor\":\"white\"},\"hoverlabel\":{\"align\":\"left\"},\"hovermode\":\"closest\",\"mapbox\":{\"style\":\"light\"},\"paper_bgcolor\":\"white\",\"plot_bgcolor\":\"#E5ECF6\",\"polar\":{\"angularaxis\":{\"gridcolor\":\"white\",\"linecolor\":\"white\",\"ticks\":\"\"},\"bgcolor\":\"#E5ECF6\",\"radialaxis\":{\"gridcolor\":\"white\",\"linecolor\":\"white\",\"ticks\":\"\"}},\"scene\":{\"xaxis\":{\"backgroundcolor\":\"#E5ECF6\",\"gridcolor\":\"white\",\"gridwidth\":2,\"linecolor\":\"white\",\"showbackground\":true,\"ticks\":\"\",\"zerolinecolor\":\"white\"},\"yaxis\":{\"backgroundcolor\":\"#E5ECF6\",\"gridcolor\":\"white\",\"gridwidth\":2,\"linecolor\":\"white\",\"showbackground\":true,\"ticks\":\"\",\"zerolinecolor\":\"white\"},\"zaxis\":{\"backgroundcolor\":\"#E5ECF6\",\"gridcolor\":\"white\",\"gridwidth\":2,\"linecolor\":\"white\",\"showbackground\":true,\"ticks\":\"\",\"zerolinecolor\":\"white\"}},\"shapedefaults\":{\"line\":{\"color\":\"#2a3f5f\"}},\"ternary\":{\"aaxis\":{\"gridcolor\":\"white\",\"linecolor\":\"white\",\"ticks\":\"\"},\"baxis\":{\"gridcolor\":\"white\",\"linecolor\":\"white\",\"ticks\":\"\"},\"bgcolor\":\"#E5ECF6\",\"caxis\":{\"gridcolor\":\"white\",\"linecolor\":\"white\",\"ticks\":\"\"}},\"title\":{\"x\":0.05},\"xaxis\":{\"automargin\":true,\"gridcolor\":\"white\",\"linecolor\":\"white\",\"ticks\":\"\",\"title\":{\"standoff\":15},\"zerolinecolor\":\"white\",\"zerolinewidth\":2},\"yaxis\":{\"automargin\":true,\"gridcolor\":\"white\",\"linecolor\":\"white\",\"ticks\":\"\",\"title\":{\"standoff\":15},\"zerolinecolor\":\"white\",\"zerolinewidth\":2}}},\"xaxis\":{\"anchor\":\"y\",\"domain\":[0.0,1.0],\"title\":{\"text\":\"Year(start)\"},\"range\":[1997,2022]},\"yaxis\":{\"anchor\":\"x\",\"domain\":[0.0,1.0],\"title\":{\"text\":\"Import\"}},\"legend\":{\"title\":{\"text\":\"Country\"},\"tracegroupgap\":0,\"itemsizing\":\"constant\"},\"margin\":{\"t\":60}},                        {\"responsive\": true}                    ).then(function(){\n",
              "                            \n",
              "var gd = document.getElementById('1a0f07b8-cdad-41d1-8291-29bfb1bbdd6c');\n",
              "var x = new MutationObserver(function (mutations, observer) {{\n",
              "        var display = window.getComputedStyle(gd).display;\n",
              "        if (!display || display === 'none') {{\n",
              "            console.log([gd, 'removed!']);\n",
              "            Plotly.purge(gd);\n",
              "            observer.disconnect();\n",
              "        }}\n",
              "}});\n",
              "\n",
              "// Listen for the removal of the full notebook cells\n",
              "var notebookContainer = gd.closest('#notebook-container');\n",
              "if (notebookContainer) {{\n",
              "    x.observe(notebookContainer, {childList: true});\n",
              "}}\n",
              "\n",
              "// Listen for the clearing of the current output cell\n",
              "var outputEl = gd.closest('.output');\n",
              "if (outputEl) {{\n",
              "    x.observe(outputEl, {childList: true});\n",
              "}}\n",
              "\n",
              "                        })                };                            </script>        </div>\n",
              "</body>\n",
              "</html>"
            ]
          },
          "metadata": {}
        }
      ]
    },
    {
      "cell_type": "markdown",
      "source": [
        "* Import and export from US and UAE is continously increase"
      ],
      "metadata": {
        "id": "F_BDDvcntCyO"
      }
    },
    {
      "cell_type": "markdown",
      "source": [
        "## Find the countries to which india export but do not import anything in 2021?"
      ],
      "metadata": {
        "id": "w1YF7zrAsVxA"
      }
    },
    {
      "cell_type": "code",
      "source": [
        "imp_tr = dataset['Import'] == 0\n",
        "exp_tr = dataset['Export'] > 0\n",
        "dataset[imp_tr & exp_tr][dataset[imp_tr & exp_tr]['Year(start)'] == 2021].reset_index()"
      ],
      "metadata": {
        "colab": {
          "base_uri": "https://localhost:8080/",
          "height": 614
        },
        "id": "EZA6z8ognjcr",
        "outputId": "b675ad81-7631-462a-864a-b07055801f4b"
      },
      "execution_count": 73,
      "outputs": [
        {
          "output_type": "execute_result",
          "data": {
            "text/plain": [
              "    index       Country  Export  Import  Total Trade  Trade Balance  \\\n",
              "0      99   AMERI SAMOA    0.62     0.0         0.62           0.62   \n",
              "1     124       ANDORRA    0.05     0.0         0.00           0.00   \n",
              "2     577       BERMUDA    4.17     0.0         4.18           4.17   \n",
              "3     852    C AFRI REP   13.02     0.0         0.00           0.00   \n",
              "4    1246       COOK IS    0.04     0.0         0.00           0.00   \n",
              "5    1711     FAROE IS.    0.20     0.0         0.00           0.00   \n",
              "6    2050     GREENLAND    1.40     0.0         0.00           0.00   \n",
              "7    2871       LESOTHO    9.30     0.0         0.00           0.00   \n",
              "8    3342    MICRONESIA    0.51     0.0         0.00           0.00   \n",
              "9    3445    MONTSERRAT    0.08     0.0         0.00           0.00   \n",
              "10   3945         PALAU    0.09     0.0         0.00           0.00   \n",
              "11   4397      SAO TOME    1.79     0.0         0.00           0.00   \n",
              "12   4831    ST VINCENT    0.67     0.0         0.67           0.66   \n",
              "13   5112   TIMOR LESTE   18.16     0.0        18.16          18.16   \n",
              "14   5183         TONGA    1.21     0.0         0.00           0.00   \n",
              "15   5333        TUVALU    0.10     0.0         0.00           0.00   \n",
              "16   5585   VANUATU REP    2.60     0.0         0.00           0.00   \n",
              "17   5593  VATICAN CITY    0.03     0.0         0.00           0.00   \n",
              "\n",
              "    Year(start)  Year(end)  \n",
              "0          2021       2022  \n",
              "1          2021       2022  \n",
              "2          2021       2022  \n",
              "3          2021       2022  \n",
              "4          2021       2022  \n",
              "5          2021       2022  \n",
              "6          2021       2022  \n",
              "7          2021       2022  \n",
              "8          2021       2022  \n",
              "9          2021       2022  \n",
              "10         2021       2022  \n",
              "11         2021       2022  \n",
              "12         2021       2022  \n",
              "13         2021       2022  \n",
              "14         2021       2022  \n",
              "15         2021       2022  \n",
              "16         2021       2022  \n",
              "17         2021       2022  "
            ],
            "text/html": [
              "\n",
              "  <div id=\"df-7983d49d-b1ac-4076-a749-d37db5eb3fea\">\n",
              "    <div class=\"colab-df-container\">\n",
              "      <div>\n",
              "<style scoped>\n",
              "    .dataframe tbody tr th:only-of-type {\n",
              "        vertical-align: middle;\n",
              "    }\n",
              "\n",
              "    .dataframe tbody tr th {\n",
              "        vertical-align: top;\n",
              "    }\n",
              "\n",
              "    .dataframe thead th {\n",
              "        text-align: right;\n",
              "    }\n",
              "</style>\n",
              "<table border=\"1\" class=\"dataframe\">\n",
              "  <thead>\n",
              "    <tr style=\"text-align: right;\">\n",
              "      <th></th>\n",
              "      <th>index</th>\n",
              "      <th>Country</th>\n",
              "      <th>Export</th>\n",
              "      <th>Import</th>\n",
              "      <th>Total Trade</th>\n",
              "      <th>Trade Balance</th>\n",
              "      <th>Year(start)</th>\n",
              "      <th>Year(end)</th>\n",
              "    </tr>\n",
              "  </thead>\n",
              "  <tbody>\n",
              "    <tr>\n",
              "      <th>0</th>\n",
              "      <td>99</td>\n",
              "      <td>AMERI SAMOA</td>\n",
              "      <td>0.62</td>\n",
              "      <td>0.0</td>\n",
              "      <td>0.62</td>\n",
              "      <td>0.62</td>\n",
              "      <td>2021</td>\n",
              "      <td>2022</td>\n",
              "    </tr>\n",
              "    <tr>\n",
              "      <th>1</th>\n",
              "      <td>124</td>\n",
              "      <td>ANDORRA</td>\n",
              "      <td>0.05</td>\n",
              "      <td>0.0</td>\n",
              "      <td>0.00</td>\n",
              "      <td>0.00</td>\n",
              "      <td>2021</td>\n",
              "      <td>2022</td>\n",
              "    </tr>\n",
              "    <tr>\n",
              "      <th>2</th>\n",
              "      <td>577</td>\n",
              "      <td>BERMUDA</td>\n",
              "      <td>4.17</td>\n",
              "      <td>0.0</td>\n",
              "      <td>4.18</td>\n",
              "      <td>4.17</td>\n",
              "      <td>2021</td>\n",
              "      <td>2022</td>\n",
              "    </tr>\n",
              "    <tr>\n",
              "      <th>3</th>\n",
              "      <td>852</td>\n",
              "      <td>C AFRI REP</td>\n",
              "      <td>13.02</td>\n",
              "      <td>0.0</td>\n",
              "      <td>0.00</td>\n",
              "      <td>0.00</td>\n",
              "      <td>2021</td>\n",
              "      <td>2022</td>\n",
              "    </tr>\n",
              "    <tr>\n",
              "      <th>4</th>\n",
              "      <td>1246</td>\n",
              "      <td>COOK IS</td>\n",
              "      <td>0.04</td>\n",
              "      <td>0.0</td>\n",
              "      <td>0.00</td>\n",
              "      <td>0.00</td>\n",
              "      <td>2021</td>\n",
              "      <td>2022</td>\n",
              "    </tr>\n",
              "    <tr>\n",
              "      <th>5</th>\n",
              "      <td>1711</td>\n",
              "      <td>FAROE IS.</td>\n",
              "      <td>0.20</td>\n",
              "      <td>0.0</td>\n",
              "      <td>0.00</td>\n",
              "      <td>0.00</td>\n",
              "      <td>2021</td>\n",
              "      <td>2022</td>\n",
              "    </tr>\n",
              "    <tr>\n",
              "      <th>6</th>\n",
              "      <td>2050</td>\n",
              "      <td>GREENLAND</td>\n",
              "      <td>1.40</td>\n",
              "      <td>0.0</td>\n",
              "      <td>0.00</td>\n",
              "      <td>0.00</td>\n",
              "      <td>2021</td>\n",
              "      <td>2022</td>\n",
              "    </tr>\n",
              "    <tr>\n",
              "      <th>7</th>\n",
              "      <td>2871</td>\n",
              "      <td>LESOTHO</td>\n",
              "      <td>9.30</td>\n",
              "      <td>0.0</td>\n",
              "      <td>0.00</td>\n",
              "      <td>0.00</td>\n",
              "      <td>2021</td>\n",
              "      <td>2022</td>\n",
              "    </tr>\n",
              "    <tr>\n",
              "      <th>8</th>\n",
              "      <td>3342</td>\n",
              "      <td>MICRONESIA</td>\n",
              "      <td>0.51</td>\n",
              "      <td>0.0</td>\n",
              "      <td>0.00</td>\n",
              "      <td>0.00</td>\n",
              "      <td>2021</td>\n",
              "      <td>2022</td>\n",
              "    </tr>\n",
              "    <tr>\n",
              "      <th>9</th>\n",
              "      <td>3445</td>\n",
              "      <td>MONTSERRAT</td>\n",
              "      <td>0.08</td>\n",
              "      <td>0.0</td>\n",
              "      <td>0.00</td>\n",
              "      <td>0.00</td>\n",
              "      <td>2021</td>\n",
              "      <td>2022</td>\n",
              "    </tr>\n",
              "    <tr>\n",
              "      <th>10</th>\n",
              "      <td>3945</td>\n",
              "      <td>PALAU</td>\n",
              "      <td>0.09</td>\n",
              "      <td>0.0</td>\n",
              "      <td>0.00</td>\n",
              "      <td>0.00</td>\n",
              "      <td>2021</td>\n",
              "      <td>2022</td>\n",
              "    </tr>\n",
              "    <tr>\n",
              "      <th>11</th>\n",
              "      <td>4397</td>\n",
              "      <td>SAO TOME</td>\n",
              "      <td>1.79</td>\n",
              "      <td>0.0</td>\n",
              "      <td>0.00</td>\n",
              "      <td>0.00</td>\n",
              "      <td>2021</td>\n",
              "      <td>2022</td>\n",
              "    </tr>\n",
              "    <tr>\n",
              "      <th>12</th>\n",
              "      <td>4831</td>\n",
              "      <td>ST VINCENT</td>\n",
              "      <td>0.67</td>\n",
              "      <td>0.0</td>\n",
              "      <td>0.67</td>\n",
              "      <td>0.66</td>\n",
              "      <td>2021</td>\n",
              "      <td>2022</td>\n",
              "    </tr>\n",
              "    <tr>\n",
              "      <th>13</th>\n",
              "      <td>5112</td>\n",
              "      <td>TIMOR LESTE</td>\n",
              "      <td>18.16</td>\n",
              "      <td>0.0</td>\n",
              "      <td>18.16</td>\n",
              "      <td>18.16</td>\n",
              "      <td>2021</td>\n",
              "      <td>2022</td>\n",
              "    </tr>\n",
              "    <tr>\n",
              "      <th>14</th>\n",
              "      <td>5183</td>\n",
              "      <td>TONGA</td>\n",
              "      <td>1.21</td>\n",
              "      <td>0.0</td>\n",
              "      <td>0.00</td>\n",
              "      <td>0.00</td>\n",
              "      <td>2021</td>\n",
              "      <td>2022</td>\n",
              "    </tr>\n",
              "    <tr>\n",
              "      <th>15</th>\n",
              "      <td>5333</td>\n",
              "      <td>TUVALU</td>\n",
              "      <td>0.10</td>\n",
              "      <td>0.0</td>\n",
              "      <td>0.00</td>\n",
              "      <td>0.00</td>\n",
              "      <td>2021</td>\n",
              "      <td>2022</td>\n",
              "    </tr>\n",
              "    <tr>\n",
              "      <th>16</th>\n",
              "      <td>5585</td>\n",
              "      <td>VANUATU REP</td>\n",
              "      <td>2.60</td>\n",
              "      <td>0.0</td>\n",
              "      <td>0.00</td>\n",
              "      <td>0.00</td>\n",
              "      <td>2021</td>\n",
              "      <td>2022</td>\n",
              "    </tr>\n",
              "    <tr>\n",
              "      <th>17</th>\n",
              "      <td>5593</td>\n",
              "      <td>VATICAN CITY</td>\n",
              "      <td>0.03</td>\n",
              "      <td>0.0</td>\n",
              "      <td>0.00</td>\n",
              "      <td>0.00</td>\n",
              "      <td>2021</td>\n",
              "      <td>2022</td>\n",
              "    </tr>\n",
              "  </tbody>\n",
              "</table>\n",
              "</div>\n",
              "      <button class=\"colab-df-convert\" onclick=\"convertToInteractive('df-7983d49d-b1ac-4076-a749-d37db5eb3fea')\"\n",
              "              title=\"Convert this dataframe to an interactive table.\"\n",
              "              style=\"display:none;\">\n",
              "        \n",
              "  <svg xmlns=\"http://www.w3.org/2000/svg\" height=\"24px\"viewBox=\"0 0 24 24\"\n",
              "       width=\"24px\">\n",
              "    <path d=\"M0 0h24v24H0V0z\" fill=\"none\"/>\n",
              "    <path d=\"M18.56 5.44l.94 2.06.94-2.06 2.06-.94-2.06-.94-.94-2.06-.94 2.06-2.06.94zm-11 1L8.5 8.5l.94-2.06 2.06-.94-2.06-.94L8.5 2.5l-.94 2.06-2.06.94zm10 10l.94 2.06.94-2.06 2.06-.94-2.06-.94-.94-2.06-.94 2.06-2.06.94z\"/><path d=\"M17.41 7.96l-1.37-1.37c-.4-.4-.92-.59-1.43-.59-.52 0-1.04.2-1.43.59L10.3 9.45l-7.72 7.72c-.78.78-.78 2.05 0 2.83L4 21.41c.39.39.9.59 1.41.59.51 0 1.02-.2 1.41-.59l7.78-7.78 2.81-2.81c.8-.78.8-2.07 0-2.86zM5.41 20L4 18.59l7.72-7.72 1.47 1.35L5.41 20z\"/>\n",
              "  </svg>\n",
              "      </button>\n",
              "      \n",
              "  <style>\n",
              "    .colab-df-container {\n",
              "      display:flex;\n",
              "      flex-wrap:wrap;\n",
              "      gap: 12px;\n",
              "    }\n",
              "\n",
              "    .colab-df-convert {\n",
              "      background-color: #E8F0FE;\n",
              "      border: none;\n",
              "      border-radius: 50%;\n",
              "      cursor: pointer;\n",
              "      display: none;\n",
              "      fill: #1967D2;\n",
              "      height: 32px;\n",
              "      padding: 0 0 0 0;\n",
              "      width: 32px;\n",
              "    }\n",
              "\n",
              "    .colab-df-convert:hover {\n",
              "      background-color: #E2EBFA;\n",
              "      box-shadow: 0px 1px 2px rgba(60, 64, 67, 0.3), 0px 1px 3px 1px rgba(60, 64, 67, 0.15);\n",
              "      fill: #174EA6;\n",
              "    }\n",
              "\n",
              "    [theme=dark] .colab-df-convert {\n",
              "      background-color: #3B4455;\n",
              "      fill: #D2E3FC;\n",
              "    }\n",
              "\n",
              "    [theme=dark] .colab-df-convert:hover {\n",
              "      background-color: #434B5C;\n",
              "      box-shadow: 0px 1px 3px 1px rgba(0, 0, 0, 0.15);\n",
              "      filter: drop-shadow(0px 1px 2px rgba(0, 0, 0, 0.3));\n",
              "      fill: #FFFFFF;\n",
              "    }\n",
              "  </style>\n",
              "\n",
              "      <script>\n",
              "        const buttonEl =\n",
              "          document.querySelector('#df-7983d49d-b1ac-4076-a749-d37db5eb3fea button.colab-df-convert');\n",
              "        buttonEl.style.display =\n",
              "          google.colab.kernel.accessAllowed ? 'block' : 'none';\n",
              "\n",
              "        async function convertToInteractive(key) {\n",
              "          const element = document.querySelector('#df-7983d49d-b1ac-4076-a749-d37db5eb3fea');\n",
              "          const dataTable =\n",
              "            await google.colab.kernel.invokeFunction('convertToInteractive',\n",
              "                                                     [key], {});\n",
              "          if (!dataTable) return;\n",
              "\n",
              "          const docLinkHtml = 'Like what you see? Visit the ' +\n",
              "            '<a target=\"_blank\" href=https://colab.research.google.com/notebooks/data_table.ipynb>data table notebook</a>'\n",
              "            + ' to learn more about interactive tables.';\n",
              "          element.innerHTML = '';\n",
              "          dataTable['output_type'] = 'display_data';\n",
              "          await google.colab.output.renderOutput(dataTable, element);\n",
              "          const docLink = document.createElement('div');\n",
              "          docLink.innerHTML = docLinkHtml;\n",
              "          element.appendChild(docLink);\n",
              "        }\n",
              "      </script>\n",
              "    </div>\n",
              "  </div>\n",
              "  "
            ]
          },
          "metadata": {},
          "execution_count": 73
        }
      ]
    },
    {
      "cell_type": "markdown",
      "source": [
        "There 18 countries to which india export but not import"
      ],
      "metadata": {
        "id": "CAbMCysTyehD"
      }
    },
    {
      "cell_type": "markdown",
      "source": [
        "## Find the countries from which india import but do not export anything in 2021?"
      ],
      "metadata": {
        "id": "IE-AKJSByeeB"
      }
    },
    {
      "cell_type": "code",
      "source": [
        "imp_tr = dataset['Import'] > 0\n",
        "exp_tr = dataset['Export'] == 0\n",
        "dataset[imp_tr & exp_tr][dataset[imp_tr & exp_tr]['Year(start)'] == 2021].reset_index()"
      ],
      "metadata": {
        "colab": {
          "base_uri": "https://localhost:8080/",
          "height": 50
        },
        "id": "Zh5k0xqkvP0W",
        "outputId": "bd173819-dc2c-4ad9-bdbc-49c2671edccc"
      },
      "execution_count": 75,
      "outputs": [
        {
          "output_type": "execute_result",
          "data": {
            "text/plain": [
              "Empty DataFrame\n",
              "Columns: [Country, Export, Import, Total Trade, Trade Balance, Year(start), Year(end)]\n",
              "Index: []"
            ],
            "text/html": [
              "\n",
              "  <div id=\"df-0d4f3027-bb7c-427c-9696-6659a89179d1\">\n",
              "    <div class=\"colab-df-container\">\n",
              "      <div>\n",
              "<style scoped>\n",
              "    .dataframe tbody tr th:only-of-type {\n",
              "        vertical-align: middle;\n",
              "    }\n",
              "\n",
              "    .dataframe tbody tr th {\n",
              "        vertical-align: top;\n",
              "    }\n",
              "\n",
              "    .dataframe thead th {\n",
              "        text-align: right;\n",
              "    }\n",
              "</style>\n",
              "<table border=\"1\" class=\"dataframe\">\n",
              "  <thead>\n",
              "    <tr style=\"text-align: right;\">\n",
              "      <th></th>\n",
              "      <th>Country</th>\n",
              "      <th>Export</th>\n",
              "      <th>Import</th>\n",
              "      <th>Total Trade</th>\n",
              "      <th>Trade Balance</th>\n",
              "      <th>Year(start)</th>\n",
              "      <th>Year(end)</th>\n",
              "    </tr>\n",
              "  </thead>\n",
              "  <tbody>\n",
              "  </tbody>\n",
              "</table>\n",
              "</div>\n",
              "      <button class=\"colab-df-convert\" onclick=\"convertToInteractive('df-0d4f3027-bb7c-427c-9696-6659a89179d1')\"\n",
              "              title=\"Convert this dataframe to an interactive table.\"\n",
              "              style=\"display:none;\">\n",
              "        \n",
              "  <svg xmlns=\"http://www.w3.org/2000/svg\" height=\"24px\"viewBox=\"0 0 24 24\"\n",
              "       width=\"24px\">\n",
              "    <path d=\"M0 0h24v24H0V0z\" fill=\"none\"/>\n",
              "    <path d=\"M18.56 5.44l.94 2.06.94-2.06 2.06-.94-2.06-.94-.94-2.06-.94 2.06-2.06.94zm-11 1L8.5 8.5l.94-2.06 2.06-.94-2.06-.94L8.5 2.5l-.94 2.06-2.06.94zm10 10l.94 2.06.94-2.06 2.06-.94-2.06-.94-.94-2.06-.94 2.06-2.06.94z\"/><path d=\"M17.41 7.96l-1.37-1.37c-.4-.4-.92-.59-1.43-.59-.52 0-1.04.2-1.43.59L10.3 9.45l-7.72 7.72c-.78.78-.78 2.05 0 2.83L4 21.41c.39.39.9.59 1.41.59.51 0 1.02-.2 1.41-.59l7.78-7.78 2.81-2.81c.8-.78.8-2.07 0-2.86zM5.41 20L4 18.59l7.72-7.72 1.47 1.35L5.41 20z\"/>\n",
              "  </svg>\n",
              "      </button>\n",
              "      \n",
              "  <style>\n",
              "    .colab-df-container {\n",
              "      display:flex;\n",
              "      flex-wrap:wrap;\n",
              "      gap: 12px;\n",
              "    }\n",
              "\n",
              "    .colab-df-convert {\n",
              "      background-color: #E8F0FE;\n",
              "      border: none;\n",
              "      border-radius: 50%;\n",
              "      cursor: pointer;\n",
              "      display: none;\n",
              "      fill: #1967D2;\n",
              "      height: 32px;\n",
              "      padding: 0 0 0 0;\n",
              "      width: 32px;\n",
              "    }\n",
              "\n",
              "    .colab-df-convert:hover {\n",
              "      background-color: #E2EBFA;\n",
              "      box-shadow: 0px 1px 2px rgba(60, 64, 67, 0.3), 0px 1px 3px 1px rgba(60, 64, 67, 0.15);\n",
              "      fill: #174EA6;\n",
              "    }\n",
              "\n",
              "    [theme=dark] .colab-df-convert {\n",
              "      background-color: #3B4455;\n",
              "      fill: #D2E3FC;\n",
              "    }\n",
              "\n",
              "    [theme=dark] .colab-df-convert:hover {\n",
              "      background-color: #434B5C;\n",
              "      box-shadow: 0px 1px 3px 1px rgba(0, 0, 0, 0.15);\n",
              "      filter: drop-shadow(0px 1px 2px rgba(0, 0, 0, 0.3));\n",
              "      fill: #FFFFFF;\n",
              "    }\n",
              "  </style>\n",
              "\n",
              "      <script>\n",
              "        const buttonEl =\n",
              "          document.querySelector('#df-0d4f3027-bb7c-427c-9696-6659a89179d1 button.colab-df-convert');\n",
              "        buttonEl.style.display =\n",
              "          google.colab.kernel.accessAllowed ? 'block' : 'none';\n",
              "\n",
              "        async function convertToInteractive(key) {\n",
              "          const element = document.querySelector('#df-0d4f3027-bb7c-427c-9696-6659a89179d1');\n",
              "          const dataTable =\n",
              "            await google.colab.kernel.invokeFunction('convertToInteractive',\n",
              "                                                     [key], {});\n",
              "          if (!dataTable) return;\n",
              "\n",
              "          const docLinkHtml = 'Like what you see? Visit the ' +\n",
              "            '<a target=\"_blank\" href=https://colab.research.google.com/notebooks/data_table.ipynb>data table notebook</a>'\n",
              "            + ' to learn more about interactive tables.';\n",
              "          element.innerHTML = '';\n",
              "          dataTable['output_type'] = 'display_data';\n",
              "          await google.colab.output.renderOutput(dataTable, element);\n",
              "          const docLink = document.createElement('div');\n",
              "          docLink.innerHTML = docLinkHtml;\n",
              "          element.appendChild(docLink);\n",
              "        }\n",
              "      </script>\n",
              "    </div>\n",
              "  </div>\n",
              "  "
            ]
          },
          "metadata": {},
          "execution_count": 75
        }
      ]
    },
    {
      "cell_type": "markdown",
      "source": [
        "No countries found from which india import but do not export 2021"
      ],
      "metadata": {
        "id": "xRQ593uBy9lW"
      }
    },
    {
      "cell_type": "markdown",
      "source": [
        "## Find the countries from which india imported but do not exported anything year 1997 - 2022?"
      ],
      "metadata": {
        "id": "ivljXLa9zjHW"
      }
    },
    {
      "cell_type": "code",
      "source": [
        "imp_tr = dataset['Import'] > 0\n",
        "exp_tr = dataset['Export'] == 0\n",
        "dataset[imp_tr & exp_tr].reset_index(drop=True)\n"
      ],
      "metadata": {
        "colab": {
          "base_uri": "https://localhost:8080/",
          "height": 708
        },
        "id": "Cd5_Eeq3y1G5",
        "outputId": "3f872521-7f4e-47a7-ce6d-6fe2bf372638"
      },
      "execution_count": 81,
      "outputs": [
        {
          "output_type": "execute_result",
          "data": {
            "text/plain": [
              "            Country  Export  Import  Total Trade  Trade Balance  Year(start)  \\\n",
              "0         ANTARTICA     0.0    4.84         4.84          -4.83         2014   \n",
              "1         ANTARTICA     0.0    1.11         1.11          -1.10         2015   \n",
              "2         ANTARTICA     0.0    0.03         0.04          -0.03         2018   \n",
              "3     CHRISTMAS IS.     0.0    0.01         0.02          -0.01         2019   \n",
              "4          COCOS IS     0.0    0.05         0.05          -0.04         2008   \n",
              "5           COOK IS     0.0    0.03         0.03          -0.02         2006   \n",
              "6       FALKLAND IS     0.0    1.44         1.44          -1.44         2012   \n",
              "7       FALKLAND IS     0.0    1.75         1.75          -1.74         2015   \n",
              "8         FAROE IS.     0.0    0.08         0.08          -0.08           98   \n",
              "9       FR S ANT TR     0.0    0.01         0.01          -0.01         2010   \n",
              "10        GREENLAND     0.0    0.05         0.05          -0.05         2006   \n",
              "11  HEARD MACDONALD     0.0    0.03         0.03          -0.03         2008   \n",
              "12  HEARD MACDONALD     0.0    0.16         0.16          -0.16         2012   \n",
              "13         NAURU RP     0.0   21.03        21.03         -21.03         2012   \n",
              "14          NIUE IS     0.0    0.06         0.07          -0.06         2009   \n",
              "15       SAN MARINO     0.0    0.64         0.64          -0.64         2013   \n",
              "16        ST PIERRE     0.0    0.02         0.02          -0.02         2008   \n",
              "17       TOKELAU IS     0.0    0.01         0.02          -0.01         2009   \n",
              "18       TOKELAU IS     0.0    0.02         0.02          -0.02         2018   \n",
              "19       TOKELAU IS     0.0    0.08         0.08          -0.08         2019   \n",
              "20      WALLIS F IS     0.0    0.10         0.10          -0.10         2013   \n",
              "\n",
              "    Year(end)  \n",
              "0        2015  \n",
              "1        2016  \n",
              "2        2019  \n",
              "3        2020  \n",
              "4        2009  \n",
              "5        2007  \n",
              "6        2013  \n",
              "7        2016  \n",
              "8          99  \n",
              "9        2011  \n",
              "10       2007  \n",
              "11       2009  \n",
              "12       2013  \n",
              "13       2013  \n",
              "14       2010  \n",
              "15       2014  \n",
              "16       2009  \n",
              "17       2010  \n",
              "18       2019  \n",
              "19       2020  \n",
              "20       2014  "
            ],
            "text/html": [
              "\n",
              "  <div id=\"df-a4654d29-fe68-4082-9ba0-a4fa24e7feed\">\n",
              "    <div class=\"colab-df-container\">\n",
              "      <div>\n",
              "<style scoped>\n",
              "    .dataframe tbody tr th:only-of-type {\n",
              "        vertical-align: middle;\n",
              "    }\n",
              "\n",
              "    .dataframe tbody tr th {\n",
              "        vertical-align: top;\n",
              "    }\n",
              "\n",
              "    .dataframe thead th {\n",
              "        text-align: right;\n",
              "    }\n",
              "</style>\n",
              "<table border=\"1\" class=\"dataframe\">\n",
              "  <thead>\n",
              "    <tr style=\"text-align: right;\">\n",
              "      <th></th>\n",
              "      <th>Country</th>\n",
              "      <th>Export</th>\n",
              "      <th>Import</th>\n",
              "      <th>Total Trade</th>\n",
              "      <th>Trade Balance</th>\n",
              "      <th>Year(start)</th>\n",
              "      <th>Year(end)</th>\n",
              "    </tr>\n",
              "  </thead>\n",
              "  <tbody>\n",
              "    <tr>\n",
              "      <th>0</th>\n",
              "      <td>ANTARTICA</td>\n",
              "      <td>0.0</td>\n",
              "      <td>4.84</td>\n",
              "      <td>4.84</td>\n",
              "      <td>-4.83</td>\n",
              "      <td>2014</td>\n",
              "      <td>2015</td>\n",
              "    </tr>\n",
              "    <tr>\n",
              "      <th>1</th>\n",
              "      <td>ANTARTICA</td>\n",
              "      <td>0.0</td>\n",
              "      <td>1.11</td>\n",
              "      <td>1.11</td>\n",
              "      <td>-1.10</td>\n",
              "      <td>2015</td>\n",
              "      <td>2016</td>\n",
              "    </tr>\n",
              "    <tr>\n",
              "      <th>2</th>\n",
              "      <td>ANTARTICA</td>\n",
              "      <td>0.0</td>\n",
              "      <td>0.03</td>\n",
              "      <td>0.04</td>\n",
              "      <td>-0.03</td>\n",
              "      <td>2018</td>\n",
              "      <td>2019</td>\n",
              "    </tr>\n",
              "    <tr>\n",
              "      <th>3</th>\n",
              "      <td>CHRISTMAS IS.</td>\n",
              "      <td>0.0</td>\n",
              "      <td>0.01</td>\n",
              "      <td>0.02</td>\n",
              "      <td>-0.01</td>\n",
              "      <td>2019</td>\n",
              "      <td>2020</td>\n",
              "    </tr>\n",
              "    <tr>\n",
              "      <th>4</th>\n",
              "      <td>COCOS IS</td>\n",
              "      <td>0.0</td>\n",
              "      <td>0.05</td>\n",
              "      <td>0.05</td>\n",
              "      <td>-0.04</td>\n",
              "      <td>2008</td>\n",
              "      <td>2009</td>\n",
              "    </tr>\n",
              "    <tr>\n",
              "      <th>5</th>\n",
              "      <td>COOK IS</td>\n",
              "      <td>0.0</td>\n",
              "      <td>0.03</td>\n",
              "      <td>0.03</td>\n",
              "      <td>-0.02</td>\n",
              "      <td>2006</td>\n",
              "      <td>2007</td>\n",
              "    </tr>\n",
              "    <tr>\n",
              "      <th>6</th>\n",
              "      <td>FALKLAND IS</td>\n",
              "      <td>0.0</td>\n",
              "      <td>1.44</td>\n",
              "      <td>1.44</td>\n",
              "      <td>-1.44</td>\n",
              "      <td>2012</td>\n",
              "      <td>2013</td>\n",
              "    </tr>\n",
              "    <tr>\n",
              "      <th>7</th>\n",
              "      <td>FALKLAND IS</td>\n",
              "      <td>0.0</td>\n",
              "      <td>1.75</td>\n",
              "      <td>1.75</td>\n",
              "      <td>-1.74</td>\n",
              "      <td>2015</td>\n",
              "      <td>2016</td>\n",
              "    </tr>\n",
              "    <tr>\n",
              "      <th>8</th>\n",
              "      <td>FAROE IS.</td>\n",
              "      <td>0.0</td>\n",
              "      <td>0.08</td>\n",
              "      <td>0.08</td>\n",
              "      <td>-0.08</td>\n",
              "      <td>98</td>\n",
              "      <td>99</td>\n",
              "    </tr>\n",
              "    <tr>\n",
              "      <th>9</th>\n",
              "      <td>FR S ANT TR</td>\n",
              "      <td>0.0</td>\n",
              "      <td>0.01</td>\n",
              "      <td>0.01</td>\n",
              "      <td>-0.01</td>\n",
              "      <td>2010</td>\n",
              "      <td>2011</td>\n",
              "    </tr>\n",
              "    <tr>\n",
              "      <th>10</th>\n",
              "      <td>GREENLAND</td>\n",
              "      <td>0.0</td>\n",
              "      <td>0.05</td>\n",
              "      <td>0.05</td>\n",
              "      <td>-0.05</td>\n",
              "      <td>2006</td>\n",
              "      <td>2007</td>\n",
              "    </tr>\n",
              "    <tr>\n",
              "      <th>11</th>\n",
              "      <td>HEARD MACDONALD</td>\n",
              "      <td>0.0</td>\n",
              "      <td>0.03</td>\n",
              "      <td>0.03</td>\n",
              "      <td>-0.03</td>\n",
              "      <td>2008</td>\n",
              "      <td>2009</td>\n",
              "    </tr>\n",
              "    <tr>\n",
              "      <th>12</th>\n",
              "      <td>HEARD MACDONALD</td>\n",
              "      <td>0.0</td>\n",
              "      <td>0.16</td>\n",
              "      <td>0.16</td>\n",
              "      <td>-0.16</td>\n",
              "      <td>2012</td>\n",
              "      <td>2013</td>\n",
              "    </tr>\n",
              "    <tr>\n",
              "      <th>13</th>\n",
              "      <td>NAURU RP</td>\n",
              "      <td>0.0</td>\n",
              "      <td>21.03</td>\n",
              "      <td>21.03</td>\n",
              "      <td>-21.03</td>\n",
              "      <td>2012</td>\n",
              "      <td>2013</td>\n",
              "    </tr>\n",
              "    <tr>\n",
              "      <th>14</th>\n",
              "      <td>NIUE IS</td>\n",
              "      <td>0.0</td>\n",
              "      <td>0.06</td>\n",
              "      <td>0.07</td>\n",
              "      <td>-0.06</td>\n",
              "      <td>2009</td>\n",
              "      <td>2010</td>\n",
              "    </tr>\n",
              "    <tr>\n",
              "      <th>15</th>\n",
              "      <td>SAN MARINO</td>\n",
              "      <td>0.0</td>\n",
              "      <td>0.64</td>\n",
              "      <td>0.64</td>\n",
              "      <td>-0.64</td>\n",
              "      <td>2013</td>\n",
              "      <td>2014</td>\n",
              "    </tr>\n",
              "    <tr>\n",
              "      <th>16</th>\n",
              "      <td>ST PIERRE</td>\n",
              "      <td>0.0</td>\n",
              "      <td>0.02</td>\n",
              "      <td>0.02</td>\n",
              "      <td>-0.02</td>\n",
              "      <td>2008</td>\n",
              "      <td>2009</td>\n",
              "    </tr>\n",
              "    <tr>\n",
              "      <th>17</th>\n",
              "      <td>TOKELAU IS</td>\n",
              "      <td>0.0</td>\n",
              "      <td>0.01</td>\n",
              "      <td>0.02</td>\n",
              "      <td>-0.01</td>\n",
              "      <td>2009</td>\n",
              "      <td>2010</td>\n",
              "    </tr>\n",
              "    <tr>\n",
              "      <th>18</th>\n",
              "      <td>TOKELAU IS</td>\n",
              "      <td>0.0</td>\n",
              "      <td>0.02</td>\n",
              "      <td>0.02</td>\n",
              "      <td>-0.02</td>\n",
              "      <td>2018</td>\n",
              "      <td>2019</td>\n",
              "    </tr>\n",
              "    <tr>\n",
              "      <th>19</th>\n",
              "      <td>TOKELAU IS</td>\n",
              "      <td>0.0</td>\n",
              "      <td>0.08</td>\n",
              "      <td>0.08</td>\n",
              "      <td>-0.08</td>\n",
              "      <td>2019</td>\n",
              "      <td>2020</td>\n",
              "    </tr>\n",
              "    <tr>\n",
              "      <th>20</th>\n",
              "      <td>WALLIS F IS</td>\n",
              "      <td>0.0</td>\n",
              "      <td>0.10</td>\n",
              "      <td>0.10</td>\n",
              "      <td>-0.10</td>\n",
              "      <td>2013</td>\n",
              "      <td>2014</td>\n",
              "    </tr>\n",
              "  </tbody>\n",
              "</table>\n",
              "</div>\n",
              "      <button class=\"colab-df-convert\" onclick=\"convertToInteractive('df-a4654d29-fe68-4082-9ba0-a4fa24e7feed')\"\n",
              "              title=\"Convert this dataframe to an interactive table.\"\n",
              "              style=\"display:none;\">\n",
              "        \n",
              "  <svg xmlns=\"http://www.w3.org/2000/svg\" height=\"24px\"viewBox=\"0 0 24 24\"\n",
              "       width=\"24px\">\n",
              "    <path d=\"M0 0h24v24H0V0z\" fill=\"none\"/>\n",
              "    <path d=\"M18.56 5.44l.94 2.06.94-2.06 2.06-.94-2.06-.94-.94-2.06-.94 2.06-2.06.94zm-11 1L8.5 8.5l.94-2.06 2.06-.94-2.06-.94L8.5 2.5l-.94 2.06-2.06.94zm10 10l.94 2.06.94-2.06 2.06-.94-2.06-.94-.94-2.06-.94 2.06-2.06.94z\"/><path d=\"M17.41 7.96l-1.37-1.37c-.4-.4-.92-.59-1.43-.59-.52 0-1.04.2-1.43.59L10.3 9.45l-7.72 7.72c-.78.78-.78 2.05 0 2.83L4 21.41c.39.39.9.59 1.41.59.51 0 1.02-.2 1.41-.59l7.78-7.78 2.81-2.81c.8-.78.8-2.07 0-2.86zM5.41 20L4 18.59l7.72-7.72 1.47 1.35L5.41 20z\"/>\n",
              "  </svg>\n",
              "      </button>\n",
              "      \n",
              "  <style>\n",
              "    .colab-df-container {\n",
              "      display:flex;\n",
              "      flex-wrap:wrap;\n",
              "      gap: 12px;\n",
              "    }\n",
              "\n",
              "    .colab-df-convert {\n",
              "      background-color: #E8F0FE;\n",
              "      border: none;\n",
              "      border-radius: 50%;\n",
              "      cursor: pointer;\n",
              "      display: none;\n",
              "      fill: #1967D2;\n",
              "      height: 32px;\n",
              "      padding: 0 0 0 0;\n",
              "      width: 32px;\n",
              "    }\n",
              "\n",
              "    .colab-df-convert:hover {\n",
              "      background-color: #E2EBFA;\n",
              "      box-shadow: 0px 1px 2px rgba(60, 64, 67, 0.3), 0px 1px 3px 1px rgba(60, 64, 67, 0.15);\n",
              "      fill: #174EA6;\n",
              "    }\n",
              "\n",
              "    [theme=dark] .colab-df-convert {\n",
              "      background-color: #3B4455;\n",
              "      fill: #D2E3FC;\n",
              "    }\n",
              "\n",
              "    [theme=dark] .colab-df-convert:hover {\n",
              "      background-color: #434B5C;\n",
              "      box-shadow: 0px 1px 3px 1px rgba(0, 0, 0, 0.15);\n",
              "      filter: drop-shadow(0px 1px 2px rgba(0, 0, 0, 0.3));\n",
              "      fill: #FFFFFF;\n",
              "    }\n",
              "  </style>\n",
              "\n",
              "      <script>\n",
              "        const buttonEl =\n",
              "          document.querySelector('#df-a4654d29-fe68-4082-9ba0-a4fa24e7feed button.colab-df-convert');\n",
              "        buttonEl.style.display =\n",
              "          google.colab.kernel.accessAllowed ? 'block' : 'none';\n",
              "\n",
              "        async function convertToInteractive(key) {\n",
              "          const element = document.querySelector('#df-a4654d29-fe68-4082-9ba0-a4fa24e7feed');\n",
              "          const dataTable =\n",
              "            await google.colab.kernel.invokeFunction('convertToInteractive',\n",
              "                                                     [key], {});\n",
              "          if (!dataTable) return;\n",
              "\n",
              "          const docLinkHtml = 'Like what you see? Visit the ' +\n",
              "            '<a target=\"_blank\" href=https://colab.research.google.com/notebooks/data_table.ipynb>data table notebook</a>'\n",
              "            + ' to learn more about interactive tables.';\n",
              "          element.innerHTML = '';\n",
              "          dataTable['output_type'] = 'display_data';\n",
              "          await google.colab.output.renderOutput(dataTable, element);\n",
              "          const docLink = document.createElement('div');\n",
              "          docLink.innerHTML = docLinkHtml;\n",
              "          element.appendChild(docLink);\n",
              "        }\n",
              "      </script>\n",
              "    </div>\n",
              "  </div>\n",
              "  "
            ]
          },
          "metadata": {},
          "execution_count": 81
        }
      ]
    },
    {
      "cell_type": "markdown",
      "source": [
        "There are 21 countries found from year 1997 to 2022 from which india imported but do not exported "
      ],
      "metadata": {
        "id": "1uq7gFMXz4wp"
      }
    },
    {
      "cell_type": "markdown",
      "source": [
        "## What is the total trade value we imported and exported in year 2021?"
      ],
      "metadata": {
        "id": "AYc83hli0sd0"
      }
    },
    {
      "cell_type": "code",
      "source": [
        "imp_exp = (dataset.groupby('Year(start)')['Import','Export','Total Trade'].sum()).reset_index();\n",
        "pd.DataFrame(imp_exp.loc[24])"
      ],
      "metadata": {
        "colab": {
          "base_uri": "https://localhost:8080/",
          "height": 244
        },
        "id": "IAQEa-_8zYKH",
        "outputId": "63de0ac8-c53f-40f7-a4ce-530588173bc6"
      },
      "execution_count": 119,
      "outputs": [
        {
          "output_type": "stream",
          "name": "stderr",
          "text": [
            "/usr/local/lib/python3.7/dist-packages/ipykernel_launcher.py:1: FutureWarning:\n",
            "\n",
            "Indexing with multiple keys (implicitly converted to a tuple of keys) will be deprecated, use a list instead.\n",
            "\n"
          ]
        },
        {
          "output_type": "execute_result",
          "data": {
            "text/plain": [
              "                    24\n",
              "Year(start)    2021.00\n",
              "Import       440923.49\n",
              "Export       305026.06\n",
              "Total Trade  745919.19"
            ],
            "text/html": [
              "\n",
              "  <div id=\"df-f6f65d0f-1dfb-400d-949b-834d91b93c76\">\n",
              "    <div class=\"colab-df-container\">\n",
              "      <div>\n",
              "<style scoped>\n",
              "    .dataframe tbody tr th:only-of-type {\n",
              "        vertical-align: middle;\n",
              "    }\n",
              "\n",
              "    .dataframe tbody tr th {\n",
              "        vertical-align: top;\n",
              "    }\n",
              "\n",
              "    .dataframe thead th {\n",
              "        text-align: right;\n",
              "    }\n",
              "</style>\n",
              "<table border=\"1\" class=\"dataframe\">\n",
              "  <thead>\n",
              "    <tr style=\"text-align: right;\">\n",
              "      <th></th>\n",
              "      <th>24</th>\n",
              "    </tr>\n",
              "  </thead>\n",
              "  <tbody>\n",
              "    <tr>\n",
              "      <th>Year(start)</th>\n",
              "      <td>2021.00</td>\n",
              "    </tr>\n",
              "    <tr>\n",
              "      <th>Import</th>\n",
              "      <td>440923.49</td>\n",
              "    </tr>\n",
              "    <tr>\n",
              "      <th>Export</th>\n",
              "      <td>305026.06</td>\n",
              "    </tr>\n",
              "    <tr>\n",
              "      <th>Total Trade</th>\n",
              "      <td>745919.19</td>\n",
              "    </tr>\n",
              "  </tbody>\n",
              "</table>\n",
              "</div>\n",
              "      <button class=\"colab-df-convert\" onclick=\"convertToInteractive('df-f6f65d0f-1dfb-400d-949b-834d91b93c76')\"\n",
              "              title=\"Convert this dataframe to an interactive table.\"\n",
              "              style=\"display:none;\">\n",
              "        \n",
              "  <svg xmlns=\"http://www.w3.org/2000/svg\" height=\"24px\"viewBox=\"0 0 24 24\"\n",
              "       width=\"24px\">\n",
              "    <path d=\"M0 0h24v24H0V0z\" fill=\"none\"/>\n",
              "    <path d=\"M18.56 5.44l.94 2.06.94-2.06 2.06-.94-2.06-.94-.94-2.06-.94 2.06-2.06.94zm-11 1L8.5 8.5l.94-2.06 2.06-.94-2.06-.94L8.5 2.5l-.94 2.06-2.06.94zm10 10l.94 2.06.94-2.06 2.06-.94-2.06-.94-.94-2.06-.94 2.06-2.06.94z\"/><path d=\"M17.41 7.96l-1.37-1.37c-.4-.4-.92-.59-1.43-.59-.52 0-1.04.2-1.43.59L10.3 9.45l-7.72 7.72c-.78.78-.78 2.05 0 2.83L4 21.41c.39.39.9.59 1.41.59.51 0 1.02-.2 1.41-.59l7.78-7.78 2.81-2.81c.8-.78.8-2.07 0-2.86zM5.41 20L4 18.59l7.72-7.72 1.47 1.35L5.41 20z\"/>\n",
              "  </svg>\n",
              "      </button>\n",
              "      \n",
              "  <style>\n",
              "    .colab-df-container {\n",
              "      display:flex;\n",
              "      flex-wrap:wrap;\n",
              "      gap: 12px;\n",
              "    }\n",
              "\n",
              "    .colab-df-convert {\n",
              "      background-color: #E8F0FE;\n",
              "      border: none;\n",
              "      border-radius: 50%;\n",
              "      cursor: pointer;\n",
              "      display: none;\n",
              "      fill: #1967D2;\n",
              "      height: 32px;\n",
              "      padding: 0 0 0 0;\n",
              "      width: 32px;\n",
              "    }\n",
              "\n",
              "    .colab-df-convert:hover {\n",
              "      background-color: #E2EBFA;\n",
              "      box-shadow: 0px 1px 2px rgba(60, 64, 67, 0.3), 0px 1px 3px 1px rgba(60, 64, 67, 0.15);\n",
              "      fill: #174EA6;\n",
              "    }\n",
              "\n",
              "    [theme=dark] .colab-df-convert {\n",
              "      background-color: #3B4455;\n",
              "      fill: #D2E3FC;\n",
              "    }\n",
              "\n",
              "    [theme=dark] .colab-df-convert:hover {\n",
              "      background-color: #434B5C;\n",
              "      box-shadow: 0px 1px 3px 1px rgba(0, 0, 0, 0.15);\n",
              "      filter: drop-shadow(0px 1px 2px rgba(0, 0, 0, 0.3));\n",
              "      fill: #FFFFFF;\n",
              "    }\n",
              "  </style>\n",
              "\n",
              "      <script>\n",
              "        const buttonEl =\n",
              "          document.querySelector('#df-f6f65d0f-1dfb-400d-949b-834d91b93c76 button.colab-df-convert');\n",
              "        buttonEl.style.display =\n",
              "          google.colab.kernel.accessAllowed ? 'block' : 'none';\n",
              "\n",
              "        async function convertToInteractive(key) {\n",
              "          const element = document.querySelector('#df-f6f65d0f-1dfb-400d-949b-834d91b93c76');\n",
              "          const dataTable =\n",
              "            await google.colab.kernel.invokeFunction('convertToInteractive',\n",
              "                                                     [key], {});\n",
              "          if (!dataTable) return;\n",
              "\n",
              "          const docLinkHtml = 'Like what you see? Visit the ' +\n",
              "            '<a target=\"_blank\" href=https://colab.research.google.com/notebooks/data_table.ipynb>data table notebook</a>'\n",
              "            + ' to learn more about interactive tables.';\n",
              "          element.innerHTML = '';\n",
              "          dataTable['output_type'] = 'display_data';\n",
              "          await google.colab.output.renderOutput(dataTable, element);\n",
              "          const docLink = document.createElement('div');\n",
              "          docLink.innerHTML = docLinkHtml;\n",
              "          element.appendChild(docLink);\n",
              "        }\n",
              "      </script>\n",
              "    </div>\n",
              "  </div>\n",
              "  "
            ]
          },
          "metadata": {},
          "execution_count": 119
        }
      ]
    },
    {
      "cell_type": "code",
      "source": [
        ""
      ],
      "metadata": {
        "id": "PilJbDJ42nHx"
      },
      "execution_count": null,
      "outputs": []
    }
  ],
  "metadata": {
    "colab": {
      "collapsed_sections": [],
      "name": "EDA:Exports and Imports of India(1997-2022).ipynb",
      "provenance": [],
      "authorship_tag": "ABX9TyOrlnjOOX+Hxj6J+7xLf2nb",
      "include_colab_link": true
    },
    "kernelspec": {
      "display_name": "Python 3",
      "name": "python3"
    },
    "language_info": {
      "name": "python"
    }
  },
  "nbformat": 4,
  "nbformat_minor": 0
}