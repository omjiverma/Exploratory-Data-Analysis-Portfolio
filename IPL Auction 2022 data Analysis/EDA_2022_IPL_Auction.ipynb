{
  "nbformat": 4,
  "nbformat_minor": 0,
  "metadata": {
    "colab": {
      "name": "EDA-2022 IPL Auction.ipynb",
      "provenance": [],
      "collapsed_sections": []
    },
    "kernelspec": {
      "name": "python3",
      "display_name": "Python 3"
    },
    "language_info": {
      "name": "python"
    }
  },
  "cells": [
    {
      "cell_type": "markdown",
      "source": [
        "# **2022** IPL Auction Dataset\n",
        "The IPL 2022 Mega Player auction have featured a total of 600 players who were set to go under the hammer in Bengaluru. The initial list had over 1000 cricketers who had registered for the auction. However, the final list was trimmed to 590. There was a total of 217 slots spread across ten franchises up for grabs. Among the 600 players, 229 are capped players, 371 are uncapped players\n",
        "\n",
        "<img src='https://www.crictracker.com/wp-content/uploads/2022/03/IPL-2022-Schedule-Announcement.jpeg'>"
      ],
      "metadata": {
        "id": "gcQanywvM_EJ"
      }
    },
    {
      "cell_type": "code",
      "execution_count": 2,
      "metadata": {
        "id": "SWa6NCxkMiTL"
      },
      "outputs": [],
      "source": [
        "!pip install opendatasets -q"
      ]
    },
    {
      "cell_type": "markdown",
      "source": [
        "Required Library Import"
      ],
      "metadata": {
        "id": "jyV_ychaM4Tx"
      }
    },
    {
      "cell_type": "code",
      "source": [
        "import opendatasets as od\n",
        "import pandas as pd\n",
        "import matplotlib.pyplot as plt\n",
        "import seaborn as sns\n",
        "import plotly.express as px\n",
        "%matplotlib inline\n"
      ],
      "metadata": {
        "id": "sgtLWzQBMo1r"
      },
      "execution_count": 61,
      "outputs": []
    },
    {
      "cell_type": "code",
      "source": [
        "DATASET_URL = 'https://www.kaggle.com/shivavashishtha/2022-ipl-auction-dataset'\n",
        "od.download(DATASET_URL)"
      ],
      "metadata": {
        "colab": {
          "base_uri": "https://localhost:8080/"
        },
        "id": "kC_IUyKjM1Jh",
        "outputId": "15934e19-edb0-4a53-e38a-068e20aaa2cb"
      },
      "execution_count": 62,
      "outputs": [
        {
          "output_type": "stream",
          "name": "stdout",
          "text": [
            "Skipping, found downloaded files in \"./2022-ipl-auction-dataset\" (use force=True to force download)\n"
          ]
        }
      ]
    },
    {
      "cell_type": "code",
      "source": [
        "df = pd.read_csv('2022-ipl-auction-dataset/ipl_2022_dataset.csv')\n",
        "df.info()"
      ],
      "metadata": {
        "colab": {
          "base_uri": "https://localhost:8080/"
        },
        "id": "WjQW7v1SQJpH",
        "outputId": "f2c097ea-18f0-49bf-fdca-3f265edfe00f"
      },
      "execution_count": 63,
      "outputs": [
        {
          "output_type": "stream",
          "name": "stdout",
          "text": [
            "<class 'pandas.core.frame.DataFrame'>\n",
            "RangeIndex: 633 entries, 0 to 632\n",
            "Data columns (total 8 columns):\n",
            " #   Column           Non-Null Count  Dtype  \n",
            "---  ------           --------------  -----  \n",
            " 0   Unnamed: 0       633 non-null    int64  \n",
            " 1   Player           633 non-null    object \n",
            " 2   Base Price       633 non-null    object \n",
            " 3   TYPE             633 non-null    object \n",
            " 4   COST IN ₹ (CR.)  237 non-null    float64\n",
            " 5   Cost IN $ (000)  237 non-null    float64\n",
            " 6   2021 Squad       199 non-null    object \n",
            " 7   Team             633 non-null    object \n",
            "dtypes: float64(2), int64(1), object(5)\n",
            "memory usage: 39.7+ KB\n"
          ]
        }
      ]
    },
    {
      "cell_type": "markdown",
      "source": [
        "### Removing Column Which are not required"
      ],
      "metadata": {
        "id": "CiemOAT2V1YJ"
      }
    },
    {
      "cell_type": "code",
      "source": [
        "df = df[['Player','TYPE','COST IN ₹ (CR.)','2021 Squad','Team']]"
      ],
      "metadata": {
        "id": "_wwsEynhQZTA"
      },
      "execution_count": 64,
      "outputs": []
    },
    {
      "cell_type": "code",
      "source": [
        "df"
      ],
      "metadata": {
        "colab": {
          "base_uri": "https://localhost:8080/",
          "height": 423
        },
        "id": "JCiUwT42UzBo",
        "outputId": "08cf8684-f6a7-44d8-c589-52c2bd779e69"
      },
      "execution_count": 65,
      "outputs": [
        {
          "output_type": "execute_result",
          "data": {
            "text/html": [
              "\n",
              "  <div id=\"df-ad7f1439-e0f4-48ee-91f8-5ef4e81a2544\">\n",
              "    <div class=\"colab-df-container\">\n",
              "      <div>\n",
              "<style scoped>\n",
              "    .dataframe tbody tr th:only-of-type {\n",
              "        vertical-align: middle;\n",
              "    }\n",
              "\n",
              "    .dataframe tbody tr th {\n",
              "        vertical-align: top;\n",
              "    }\n",
              "\n",
              "    .dataframe thead th {\n",
              "        text-align: right;\n",
              "    }\n",
              "</style>\n",
              "<table border=\"1\" class=\"dataframe\">\n",
              "  <thead>\n",
              "    <tr style=\"text-align: right;\">\n",
              "      <th></th>\n",
              "      <th>Player</th>\n",
              "      <th>TYPE</th>\n",
              "      <th>COST IN ₹ (CR.)</th>\n",
              "      <th>2021 Squad</th>\n",
              "      <th>Team</th>\n",
              "    </tr>\n",
              "  </thead>\n",
              "  <tbody>\n",
              "    <tr>\n",
              "      <th>0</th>\n",
              "      <td>Rashid Khan</td>\n",
              "      <td>BOWLER</td>\n",
              "      <td>15.0</td>\n",
              "      <td>SRH</td>\n",
              "      <td>Gujarat Titans</td>\n",
              "    </tr>\n",
              "    <tr>\n",
              "      <th>1</th>\n",
              "      <td>Hardik Pandya</td>\n",
              "      <td>ALL-ROUNDER</td>\n",
              "      <td>15.0</td>\n",
              "      <td>MI</td>\n",
              "      <td>Gujarat Titans</td>\n",
              "    </tr>\n",
              "    <tr>\n",
              "      <th>2</th>\n",
              "      <td>Lockie Ferguson</td>\n",
              "      <td>BOWLER</td>\n",
              "      <td>10.0</td>\n",
              "      <td>KKR</td>\n",
              "      <td>Gujarat Titans</td>\n",
              "    </tr>\n",
              "    <tr>\n",
              "      <th>3</th>\n",
              "      <td>Rahul Tewatia</td>\n",
              "      <td>ALL-ROUNDER</td>\n",
              "      <td>9.0</td>\n",
              "      <td>RR</td>\n",
              "      <td>Gujarat Titans</td>\n",
              "    </tr>\n",
              "    <tr>\n",
              "      <th>4</th>\n",
              "      <td>Shubman Gill</td>\n",
              "      <td>BATTER</td>\n",
              "      <td>8.0</td>\n",
              "      <td>KKR</td>\n",
              "      <td>Gujarat Titans</td>\n",
              "    </tr>\n",
              "    <tr>\n",
              "      <th>...</th>\n",
              "      <td>...</td>\n",
              "      <td>...</td>\n",
              "      <td>...</td>\n",
              "      <td>...</td>\n",
              "      <td>...</td>\n",
              "    </tr>\n",
              "    <tr>\n",
              "      <th>628</th>\n",
              "      <td>Sairaj Patil</td>\n",
              "      <td>BATTER</td>\n",
              "      <td>NaN</td>\n",
              "      <td>NaN</td>\n",
              "      <td>Unsold</td>\n",
              "    </tr>\n",
              "    <tr>\n",
              "      <th>629</th>\n",
              "      <td>Monu Singh</td>\n",
              "      <td>BOWLER</td>\n",
              "      <td>NaN</td>\n",
              "      <td>NaN</td>\n",
              "      <td>Unsold</td>\n",
              "    </tr>\n",
              "    <tr>\n",
              "      <th>630</th>\n",
              "      <td>Nivethan Radhakrishnan</td>\n",
              "      <td>BOWLER</td>\n",
              "      <td>NaN</td>\n",
              "      <td>NaN</td>\n",
              "      <td>Unsold</td>\n",
              "    </tr>\n",
              "    <tr>\n",
              "      <th>631</th>\n",
              "      <td>Lance Morris</td>\n",
              "      <td>BOWLER</td>\n",
              "      <td>NaN</td>\n",
              "      <td>NaN</td>\n",
              "      <td>Unsold</td>\n",
              "    </tr>\n",
              "    <tr>\n",
              "      <th>632</th>\n",
              "      <td>Aaron Hardie</td>\n",
              "      <td>ALL-ROUNDER</td>\n",
              "      <td>NaN</td>\n",
              "      <td>NaN</td>\n",
              "      <td>Unsold</td>\n",
              "    </tr>\n",
              "  </tbody>\n",
              "</table>\n",
              "<p>633 rows × 5 columns</p>\n",
              "</div>\n",
              "      <button class=\"colab-df-convert\" onclick=\"convertToInteractive('df-ad7f1439-e0f4-48ee-91f8-5ef4e81a2544')\"\n",
              "              title=\"Convert this dataframe to an interactive table.\"\n",
              "              style=\"display:none;\">\n",
              "        \n",
              "  <svg xmlns=\"http://www.w3.org/2000/svg\" height=\"24px\"viewBox=\"0 0 24 24\"\n",
              "       width=\"24px\">\n",
              "    <path d=\"M0 0h24v24H0V0z\" fill=\"none\"/>\n",
              "    <path d=\"M18.56 5.44l.94 2.06.94-2.06 2.06-.94-2.06-.94-.94-2.06-.94 2.06-2.06.94zm-11 1L8.5 8.5l.94-2.06 2.06-.94-2.06-.94L8.5 2.5l-.94 2.06-2.06.94zm10 10l.94 2.06.94-2.06 2.06-.94-2.06-.94-.94-2.06-.94 2.06-2.06.94z\"/><path d=\"M17.41 7.96l-1.37-1.37c-.4-.4-.92-.59-1.43-.59-.52 0-1.04.2-1.43.59L10.3 9.45l-7.72 7.72c-.78.78-.78 2.05 0 2.83L4 21.41c.39.39.9.59 1.41.59.51 0 1.02-.2 1.41-.59l7.78-7.78 2.81-2.81c.8-.78.8-2.07 0-2.86zM5.41 20L4 18.59l7.72-7.72 1.47 1.35L5.41 20z\"/>\n",
              "  </svg>\n",
              "      </button>\n",
              "      \n",
              "  <style>\n",
              "    .colab-df-container {\n",
              "      display:flex;\n",
              "      flex-wrap:wrap;\n",
              "      gap: 12px;\n",
              "    }\n",
              "\n",
              "    .colab-df-convert {\n",
              "      background-color: #E8F0FE;\n",
              "      border: none;\n",
              "      border-radius: 50%;\n",
              "      cursor: pointer;\n",
              "      display: none;\n",
              "      fill: #1967D2;\n",
              "      height: 32px;\n",
              "      padding: 0 0 0 0;\n",
              "      width: 32px;\n",
              "    }\n",
              "\n",
              "    .colab-df-convert:hover {\n",
              "      background-color: #E2EBFA;\n",
              "      box-shadow: 0px 1px 2px rgba(60, 64, 67, 0.3), 0px 1px 3px 1px rgba(60, 64, 67, 0.15);\n",
              "      fill: #174EA6;\n",
              "    }\n",
              "\n",
              "    [theme=dark] .colab-df-convert {\n",
              "      background-color: #3B4455;\n",
              "      fill: #D2E3FC;\n",
              "    }\n",
              "\n",
              "    [theme=dark] .colab-df-convert:hover {\n",
              "      background-color: #434B5C;\n",
              "      box-shadow: 0px 1px 3px 1px rgba(0, 0, 0, 0.15);\n",
              "      filter: drop-shadow(0px 1px 2px rgba(0, 0, 0, 0.3));\n",
              "      fill: #FFFFFF;\n",
              "    }\n",
              "  </style>\n",
              "\n",
              "      <script>\n",
              "        const buttonEl =\n",
              "          document.querySelector('#df-ad7f1439-e0f4-48ee-91f8-5ef4e81a2544 button.colab-df-convert');\n",
              "        buttonEl.style.display =\n",
              "          google.colab.kernel.accessAllowed ? 'block' : 'none';\n",
              "\n",
              "        async function convertToInteractive(key) {\n",
              "          const element = document.querySelector('#df-ad7f1439-e0f4-48ee-91f8-5ef4e81a2544');\n",
              "          const dataTable =\n",
              "            await google.colab.kernel.invokeFunction('convertToInteractive',\n",
              "                                                     [key], {});\n",
              "          if (!dataTable) return;\n",
              "\n",
              "          const docLinkHtml = 'Like what you see? Visit the ' +\n",
              "            '<a target=\"_blank\" href=https://colab.research.google.com/notebooks/data_table.ipynb>data table notebook</a>'\n",
              "            + ' to learn more about interactive tables.';\n",
              "          element.innerHTML = '';\n",
              "          dataTable['output_type'] = 'display_data';\n",
              "          await google.colab.output.renderOutput(dataTable, element);\n",
              "          const docLink = document.createElement('div');\n",
              "          docLink.innerHTML = docLinkHtml;\n",
              "          element.appendChild(docLink);\n",
              "        }\n",
              "      </script>\n",
              "    </div>\n",
              "  </div>\n",
              "  "
            ],
            "text/plain": [
              "                     Player         TYPE  COST IN ₹ (CR.) 2021 Squad  \\\n",
              "0               Rashid Khan       BOWLER             15.0        SRH   \n",
              "1             Hardik Pandya  ALL-ROUNDER             15.0         MI   \n",
              "2           Lockie Ferguson       BOWLER             10.0        KKR   \n",
              "3             Rahul Tewatia  ALL-ROUNDER              9.0         RR   \n",
              "4              Shubman Gill       BATTER              8.0        KKR   \n",
              "..                      ...          ...              ...        ...   \n",
              "628            Sairaj Patil       BATTER              NaN        NaN   \n",
              "629              Monu Singh       BOWLER              NaN        NaN   \n",
              "630  Nivethan Radhakrishnan       BOWLER              NaN        NaN   \n",
              "631            Lance Morris       BOWLER              NaN        NaN   \n",
              "632            Aaron Hardie  ALL-ROUNDER              NaN        NaN   \n",
              "\n",
              "               Team  \n",
              "0    Gujarat Titans  \n",
              "1    Gujarat Titans  \n",
              "2    Gujarat Titans  \n",
              "3    Gujarat Titans  \n",
              "4    Gujarat Titans  \n",
              "..              ...  \n",
              "628          Unsold  \n",
              "629          Unsold  \n",
              "630          Unsold  \n",
              "631          Unsold  \n",
              "632          Unsold  \n",
              "\n",
              "[633 rows x 5 columns]"
            ]
          },
          "metadata": {},
          "execution_count": 65
        }
      ]
    },
    {
      "cell_type": "markdown",
      "source": [
        "### Removing Unsold Players data rows"
      ],
      "metadata": {
        "id": "W2Ca1vEvWVje"
      }
    },
    {
      "cell_type": "code",
      "source": [
        "df = df[df.Team != 'Unsold']\n",
        "df"
      ],
      "metadata": {
        "colab": {
          "base_uri": "https://localhost:8080/",
          "height": 423
        },
        "id": "pMMtrPCaVQFQ",
        "outputId": "34a59d59-a61b-468a-ae65-bf6f12f5aa39"
      },
      "execution_count": 66,
      "outputs": [
        {
          "output_type": "execute_result",
          "data": {
            "text/html": [
              "\n",
              "  <div id=\"df-78da05e3-c74d-47f4-a494-0b31134dd676\">\n",
              "    <div class=\"colab-df-container\">\n",
              "      <div>\n",
              "<style scoped>\n",
              "    .dataframe tbody tr th:only-of-type {\n",
              "        vertical-align: middle;\n",
              "    }\n",
              "\n",
              "    .dataframe tbody tr th {\n",
              "        vertical-align: top;\n",
              "    }\n",
              "\n",
              "    .dataframe thead th {\n",
              "        text-align: right;\n",
              "    }\n",
              "</style>\n",
              "<table border=\"1\" class=\"dataframe\">\n",
              "  <thead>\n",
              "    <tr style=\"text-align: right;\">\n",
              "      <th></th>\n",
              "      <th>Player</th>\n",
              "      <th>TYPE</th>\n",
              "      <th>COST IN ₹ (CR.)</th>\n",
              "      <th>2021 Squad</th>\n",
              "      <th>Team</th>\n",
              "    </tr>\n",
              "  </thead>\n",
              "  <tbody>\n",
              "    <tr>\n",
              "      <th>0</th>\n",
              "      <td>Rashid Khan</td>\n",
              "      <td>BOWLER</td>\n",
              "      <td>15.0</td>\n",
              "      <td>SRH</td>\n",
              "      <td>Gujarat Titans</td>\n",
              "    </tr>\n",
              "    <tr>\n",
              "      <th>1</th>\n",
              "      <td>Hardik Pandya</td>\n",
              "      <td>ALL-ROUNDER</td>\n",
              "      <td>15.0</td>\n",
              "      <td>MI</td>\n",
              "      <td>Gujarat Titans</td>\n",
              "    </tr>\n",
              "    <tr>\n",
              "      <th>2</th>\n",
              "      <td>Lockie Ferguson</td>\n",
              "      <td>BOWLER</td>\n",
              "      <td>10.0</td>\n",
              "      <td>KKR</td>\n",
              "      <td>Gujarat Titans</td>\n",
              "    </tr>\n",
              "    <tr>\n",
              "      <th>3</th>\n",
              "      <td>Rahul Tewatia</td>\n",
              "      <td>ALL-ROUNDER</td>\n",
              "      <td>9.0</td>\n",
              "      <td>RR</td>\n",
              "      <td>Gujarat Titans</td>\n",
              "    </tr>\n",
              "    <tr>\n",
              "      <th>4</th>\n",
              "      <td>Shubman Gill</td>\n",
              "      <td>BATTER</td>\n",
              "      <td>8.0</td>\n",
              "      <td>KKR</td>\n",
              "      <td>Gujarat Titans</td>\n",
              "    </tr>\n",
              "    <tr>\n",
              "      <th>...</th>\n",
              "      <td>...</td>\n",
              "      <td>...</td>\n",
              "      <td>...</td>\n",
              "      <td>...</td>\n",
              "      <td>...</td>\n",
              "    </tr>\n",
              "    <tr>\n",
              "      <th>232</th>\n",
              "      <td>Priyam Garg</td>\n",
              "      <td>BATTER</td>\n",
              "      <td>0.2</td>\n",
              "      <td>SRH</td>\n",
              "      <td>Sunrisers Hyderabad</td>\n",
              "    </tr>\n",
              "    <tr>\n",
              "      <th>233</th>\n",
              "      <td>R Samarth</td>\n",
              "      <td>BATTER</td>\n",
              "      <td>0.2</td>\n",
              "      <td>NaN</td>\n",
              "      <td>Sunrisers Hyderabad</td>\n",
              "    </tr>\n",
              "    <tr>\n",
              "      <th>234</th>\n",
              "      <td>Jagadeesha Suchith</td>\n",
              "      <td>BOWLER</td>\n",
              "      <td>0.2</td>\n",
              "      <td>SRH</td>\n",
              "      <td>Sunrisers Hyderabad</td>\n",
              "    </tr>\n",
              "    <tr>\n",
              "      <th>235</th>\n",
              "      <td>Shashank Singh</td>\n",
              "      <td>ALL-ROUNDER</td>\n",
              "      <td>0.2</td>\n",
              "      <td>NaN</td>\n",
              "      <td>Sunrisers Hyderabad</td>\n",
              "    </tr>\n",
              "    <tr>\n",
              "      <th>236</th>\n",
              "      <td>Saurabh Dubey</td>\n",
              "      <td>BOWLER</td>\n",
              "      <td>0.2</td>\n",
              "      <td>NaN</td>\n",
              "      <td>Sunrisers Hyderabad</td>\n",
              "    </tr>\n",
              "  </tbody>\n",
              "</table>\n",
              "<p>237 rows × 5 columns</p>\n",
              "</div>\n",
              "      <button class=\"colab-df-convert\" onclick=\"convertToInteractive('df-78da05e3-c74d-47f4-a494-0b31134dd676')\"\n",
              "              title=\"Convert this dataframe to an interactive table.\"\n",
              "              style=\"display:none;\">\n",
              "        \n",
              "  <svg xmlns=\"http://www.w3.org/2000/svg\" height=\"24px\"viewBox=\"0 0 24 24\"\n",
              "       width=\"24px\">\n",
              "    <path d=\"M0 0h24v24H0V0z\" fill=\"none\"/>\n",
              "    <path d=\"M18.56 5.44l.94 2.06.94-2.06 2.06-.94-2.06-.94-.94-2.06-.94 2.06-2.06.94zm-11 1L8.5 8.5l.94-2.06 2.06-.94-2.06-.94L8.5 2.5l-.94 2.06-2.06.94zm10 10l.94 2.06.94-2.06 2.06-.94-2.06-.94-.94-2.06-.94 2.06-2.06.94z\"/><path d=\"M17.41 7.96l-1.37-1.37c-.4-.4-.92-.59-1.43-.59-.52 0-1.04.2-1.43.59L10.3 9.45l-7.72 7.72c-.78.78-.78 2.05 0 2.83L4 21.41c.39.39.9.59 1.41.59.51 0 1.02-.2 1.41-.59l7.78-7.78 2.81-2.81c.8-.78.8-2.07 0-2.86zM5.41 20L4 18.59l7.72-7.72 1.47 1.35L5.41 20z\"/>\n",
              "  </svg>\n",
              "      </button>\n",
              "      \n",
              "  <style>\n",
              "    .colab-df-container {\n",
              "      display:flex;\n",
              "      flex-wrap:wrap;\n",
              "      gap: 12px;\n",
              "    }\n",
              "\n",
              "    .colab-df-convert {\n",
              "      background-color: #E8F0FE;\n",
              "      border: none;\n",
              "      border-radius: 50%;\n",
              "      cursor: pointer;\n",
              "      display: none;\n",
              "      fill: #1967D2;\n",
              "      height: 32px;\n",
              "      padding: 0 0 0 0;\n",
              "      width: 32px;\n",
              "    }\n",
              "\n",
              "    .colab-df-convert:hover {\n",
              "      background-color: #E2EBFA;\n",
              "      box-shadow: 0px 1px 2px rgba(60, 64, 67, 0.3), 0px 1px 3px 1px rgba(60, 64, 67, 0.15);\n",
              "      fill: #174EA6;\n",
              "    }\n",
              "\n",
              "    [theme=dark] .colab-df-convert {\n",
              "      background-color: #3B4455;\n",
              "      fill: #D2E3FC;\n",
              "    }\n",
              "\n",
              "    [theme=dark] .colab-df-convert:hover {\n",
              "      background-color: #434B5C;\n",
              "      box-shadow: 0px 1px 3px 1px rgba(0, 0, 0, 0.15);\n",
              "      filter: drop-shadow(0px 1px 2px rgba(0, 0, 0, 0.3));\n",
              "      fill: #FFFFFF;\n",
              "    }\n",
              "  </style>\n",
              "\n",
              "      <script>\n",
              "        const buttonEl =\n",
              "          document.querySelector('#df-78da05e3-c74d-47f4-a494-0b31134dd676 button.colab-df-convert');\n",
              "        buttonEl.style.display =\n",
              "          google.colab.kernel.accessAllowed ? 'block' : 'none';\n",
              "\n",
              "        async function convertToInteractive(key) {\n",
              "          const element = document.querySelector('#df-78da05e3-c74d-47f4-a494-0b31134dd676');\n",
              "          const dataTable =\n",
              "            await google.colab.kernel.invokeFunction('convertToInteractive',\n",
              "                                                     [key], {});\n",
              "          if (!dataTable) return;\n",
              "\n",
              "          const docLinkHtml = 'Like what you see? Visit the ' +\n",
              "            '<a target=\"_blank\" href=https://colab.research.google.com/notebooks/data_table.ipynb>data table notebook</a>'\n",
              "            + ' to learn more about interactive tables.';\n",
              "          element.innerHTML = '';\n",
              "          dataTable['output_type'] = 'display_data';\n",
              "          await google.colab.output.renderOutput(dataTable, element);\n",
              "          const docLink = document.createElement('div');\n",
              "          docLink.innerHTML = docLinkHtml;\n",
              "          element.appendChild(docLink);\n",
              "        }\n",
              "      </script>\n",
              "    </div>\n",
              "  </div>\n",
              "  "
            ],
            "text/plain": [
              "                 Player         TYPE  COST IN ₹ (CR.) 2021 Squad  \\\n",
              "0           Rashid Khan       BOWLER             15.0        SRH   \n",
              "1         Hardik Pandya  ALL-ROUNDER             15.0         MI   \n",
              "2       Lockie Ferguson       BOWLER             10.0        KKR   \n",
              "3         Rahul Tewatia  ALL-ROUNDER              9.0         RR   \n",
              "4          Shubman Gill       BATTER              8.0        KKR   \n",
              "..                  ...          ...              ...        ...   \n",
              "232         Priyam Garg       BATTER              0.2        SRH   \n",
              "233           R Samarth       BATTER              0.2        NaN   \n",
              "234  Jagadeesha Suchith       BOWLER              0.2        SRH   \n",
              "235      Shashank Singh  ALL-ROUNDER              0.2        NaN   \n",
              "236       Saurabh Dubey       BOWLER              0.2        NaN   \n",
              "\n",
              "                    Team  \n",
              "0         Gujarat Titans  \n",
              "1         Gujarat Titans  \n",
              "2         Gujarat Titans  \n",
              "3         Gujarat Titans  \n",
              "4         Gujarat Titans  \n",
              "..                   ...  \n",
              "232  Sunrisers Hyderabad  \n",
              "233  Sunrisers Hyderabad  \n",
              "234  Sunrisers Hyderabad  \n",
              "235  Sunrisers Hyderabad  \n",
              "236  Sunrisers Hyderabad  \n",
              "\n",
              "[237 rows x 5 columns]"
            ]
          },
          "metadata": {},
          "execution_count": 66
        }
      ]
    },
    {
      "cell_type": "code",
      "source": [
        "df.shape"
      ],
      "metadata": {
        "colab": {
          "base_uri": "https://localhost:8080/"
        },
        "id": "9wiOPxTwWjN7",
        "outputId": "f52ae864-1c74-4172-a720-a07f23b79d32"
      },
      "execution_count": 67,
      "outputs": [
        {
          "output_type": "execute_result",
          "data": {
            "text/plain": [
              "(237, 5)"
            ]
          },
          "metadata": {},
          "execution_count": 67
        }
      ]
    },
    {
      "cell_type": "markdown",
      "source": [
        "EXPLORATORY DATA ANALYSIS"
      ],
      "metadata": {
        "id": "ovEdeJEeaJhD"
      }
    },
    {
      "cell_type": "code",
      "source": [
        "pd.Series(pd.unique(df['Team']))"
      ],
      "metadata": {
        "colab": {
          "base_uri": "https://localhost:8080/"
        },
        "id": "jI1HeKuVW6hM",
        "outputId": "2a5156c6-2c2f-4223-d4ca-07691b844fc4"
      },
      "execution_count": 68,
      "outputs": [
        {
          "output_type": "execute_result",
          "data": {
            "text/plain": [
              "0                 Gujarat Titans\n",
              "1            Chennai Super Kings\n",
              "2                 Delhi Capitals\n",
              "3          Kolkata Knight Riders\n",
              "4                   Punjab Kings\n",
              "5           Lucknow Super Giants\n",
              "6                 Mumbai Indians\n",
              "7    Royal Challengers Bangalore\n",
              "8               Rajasthan Royals\n",
              "9            Sunrisers Hyderabad\n",
              "dtype: object"
            ]
          },
          "metadata": {},
          "execution_count": 68
        }
      ]
    },
    {
      "cell_type": "markdown",
      "source": [
        "There are **10** teams in IPL this year"
      ],
      "metadata": {
        "id": "T3uoJEOKYxb_"
      }
    },
    {
      "cell_type": "code",
      "source": [
        "expenditure_df = df.groupby('Team')['COST IN ₹ (CR.)'].sum()\n",
        "expenditure_df=expenditure_df.reset_index()\n",
        "expenditure_df = expenditure_df.rename({\"COST IN ₹ (CR.)\":\"Expenditure (Cr.)\"},axis='columns')\n",
        "expenditure_df = expenditure_df.sort_values(\"Expenditure (Cr.)\", ascending=False)\n",
        "\n",
        "cm = sns.light_palette(\"red\", as_cmap=True)\n",
        "expenditure_df.style.background_gradient(cmap=cm)"
      ],
      "metadata": {
        "colab": {
          "base_uri": "https://localhost:8080/",
          "height": 363
        },
        "id": "kBThrswHYb7f",
        "outputId": "d92326b6-84af-47dc-f4ff-d45986203e2c"
      },
      "execution_count": 69,
      "outputs": [
        {
          "output_type": "execute_result",
          "data": {
            "text/html": [
              "<style type=\"text/css\">\n",
              "#T_6c656_row0_col1, #T_6c656_row1_col1 {\n",
              "  background-color: #ff0000;\n",
              "  color: #f1f1f1;\n",
              "}\n",
              "#T_6c656_row2_col1 {\n",
              "  background-color: #ff0707;\n",
              "  color: #f1f1f1;\n",
              "}\n",
              "#T_6c656_row3_col1 {\n",
              "  background-color: #fe0e0e;\n",
              "  color: #f1f1f1;\n",
              "}\n",
              "#T_6c656_row4_col1 {\n",
              "  background-color: #fe1818;\n",
              "  color: #f1f1f1;\n",
              "}\n",
              "#T_6c656_row5_col1 {\n",
              "  background-color: #fd2929;\n",
              "  color: #f1f1f1;\n",
              "}\n",
              "#T_6c656_row6_col1 {\n",
              "  background-color: #fb5252;\n",
              "  color: #f1f1f1;\n",
              "}\n",
              "#T_6c656_row7_col1 {\n",
              "  background-color: #fa6565;\n",
              "  color: #f1f1f1;\n",
              "}\n",
              "#T_6c656_row8_col1 {\n",
              "  background-color: #f79a9a;\n",
              "  color: #000000;\n",
              "}\n",
              "#T_6c656_row9_col1 {\n",
              "  background-color: #f3f0f0;\n",
              "  color: #000000;\n",
              "}\n",
              "</style>\n",
              "<table id=\"T_6c656_\" class=\"dataframe\">\n",
              "  <thead>\n",
              "    <tr>\n",
              "      <th class=\"blank level0\" >&nbsp;</th>\n",
              "      <th class=\"col_heading level0 col0\" >Team</th>\n",
              "      <th class=\"col_heading level0 col1\" >Expenditure (Cr.)</th>\n",
              "    </tr>\n",
              "  </thead>\n",
              "  <tbody>\n",
              "    <tr>\n",
              "      <th id=\"T_6c656_level0_row0\" class=\"row_heading level0 row0\" >5</th>\n",
              "      <td id=\"T_6c656_row0_col0\" class=\"data row0 col0\" >Mumbai Indians</td>\n",
              "      <td id=\"T_6c656_row0_col1\" class=\"data row0 col1\" >89.900000</td>\n",
              "    </tr>\n",
              "    <tr>\n",
              "      <th id=\"T_6c656_level0_row1\" class=\"row_heading level0 row1\" >9</th>\n",
              "      <td id=\"T_6c656_row1_col0\" class=\"data row1 col0\" >Sunrisers Hyderabad</td>\n",
              "      <td id=\"T_6c656_row1_col1\" class=\"data row1 col1\" >89.900000</td>\n",
              "    </tr>\n",
              "    <tr>\n",
              "      <th id=\"T_6c656_level0_row2\" class=\"row_heading level0 row2\" >2</th>\n",
              "      <td id=\"T_6c656_row2_col0\" class=\"data row2 col0\" >Gujarat Titans</td>\n",
              "      <td id=\"T_6c656_row2_col1\" class=\"data row2 col1\" >89.650000</td>\n",
              "    </tr>\n",
              "    <tr>\n",
              "      <th id=\"T_6c656_level0_row3\" class=\"row_heading level0 row3\" >4</th>\n",
              "      <td id=\"T_6c656_row3_col0\" class=\"data row3 col0\" >Lucknow Super Giants</td>\n",
              "      <td id=\"T_6c656_row3_col1\" class=\"data row3 col1\" >89.400000</td>\n",
              "    </tr>\n",
              "    <tr>\n",
              "      <th id=\"T_6c656_level0_row4\" class=\"row_heading level0 row4\" >7</th>\n",
              "      <td id=\"T_6c656_row4_col0\" class=\"data row4 col0\" >Rajasthan Royals</td>\n",
              "      <td id=\"T_6c656_row4_col1\" class=\"data row4 col1\" >89.050000</td>\n",
              "    </tr>\n",
              "    <tr>\n",
              "      <th id=\"T_6c656_level0_row5\" class=\"row_heading level0 row5\" >8</th>\n",
              "      <td id=\"T_6c656_row5_col0\" class=\"data row5 col0\" >Royal Challengers Bangalore</td>\n",
              "      <td id=\"T_6c656_row5_col1\" class=\"data row5 col1\" >88.450000</td>\n",
              "    </tr>\n",
              "    <tr>\n",
              "      <th id=\"T_6c656_level0_row6\" class=\"row_heading level0 row6\" >0</th>\n",
              "      <td id=\"T_6c656_row6_col0\" class=\"data row6 col0\" >Chennai Super Kings</td>\n",
              "      <td id=\"T_6c656_row6_col1\" class=\"data row6 col1\" >87.050000</td>\n",
              "    </tr>\n",
              "    <tr>\n",
              "      <th id=\"T_6c656_level0_row7\" class=\"row_heading level0 row7\" >1</th>\n",
              "      <td id=\"T_6c656_row7_col0\" class=\"data row7 col0\" >Delhi Capitals</td>\n",
              "      <td id=\"T_6c656_row7_col1\" class=\"data row7 col1\" >86.400000</td>\n",
              "    </tr>\n",
              "    <tr>\n",
              "      <th id=\"T_6c656_level0_row8\" class=\"row_heading level0 row8\" >6</th>\n",
              "      <td id=\"T_6c656_row8_col0\" class=\"data row8 col0\" >Punjab Kings</td>\n",
              "      <td id=\"T_6c656_row8_col1\" class=\"data row8 col1\" >84.550000</td>\n",
              "    </tr>\n",
              "    <tr>\n",
              "      <th id=\"T_6c656_level0_row9\" class=\"row_heading level0 row9\" >3</th>\n",
              "      <td id=\"T_6c656_row9_col0\" class=\"data row9 col0\" >Kolkata Knight Riders</td>\n",
              "      <td id=\"T_6c656_row9_col1\" class=\"data row9 col1\" >81.550000</td>\n",
              "    </tr>\n",
              "  </tbody>\n",
              "</table>\n"
            ],
            "text/plain": [
              "<pandas.io.formats.style.Styler at 0x7f826ff936d0>"
            ]
          },
          "metadata": {},
          "execution_count": 69
        }
      ]
    },
    {
      "cell_type": "code",
      "source": [
        "fig = px.bar(expenditure_df, x='Team', y='Expenditure (Cr.)',text_auto=True,template='xgridoff', color='Team')\n",
        "fig.show()"
      ],
      "metadata": {
        "colab": {
          "base_uri": "https://localhost:8080/",
          "height": 542
        },
        "id": "80m6Oxsfcwtv",
        "outputId": "48aa806e-a218-4266-f3a2-574bc136396a"
      },
      "execution_count": 70,
      "outputs": [
        {
          "output_type": "display_data",
          "data": {
            "text/html": [
              "<html>\n",
              "<head><meta charset=\"utf-8\" /></head>\n",
              "<body>\n",
              "    <div>            <script src=\"https://cdnjs.cloudflare.com/ajax/libs/mathjax/2.7.5/MathJax.js?config=TeX-AMS-MML_SVG\"></script><script type=\"text/javascript\">if (window.MathJax) {MathJax.Hub.Config({SVG: {font: \"STIX-Web\"}});}</script>                <script type=\"text/javascript\">window.PlotlyConfig = {MathJaxConfig: 'local'};</script>\n",
              "        <script src=\"https://cdn.plot.ly/plotly-2.8.3.min.js\"></script>                <div id=\"ff4a1f8c-8a80-4757-970d-58129d018ab4\" class=\"plotly-graph-div\" style=\"height:525px; width:100%;\"></div>            <script type=\"text/javascript\">                                    window.PLOTLYENV=window.PLOTLYENV || {};                                    if (document.getElementById(\"ff4a1f8c-8a80-4757-970d-58129d018ab4\")) {                    Plotly.newPlot(                        \"ff4a1f8c-8a80-4757-970d-58129d018ab4\",                        [{\"alignmentgroup\":\"True\",\"hovertemplate\":\"Team=%{x}<br>Expenditure (Cr.)=%{y}<extra></extra>\",\"legendgroup\":\"Mumbai Indians\",\"marker\":{\"color\":\"#1F77B4\",\"pattern\":{\"shape\":\"\"}},\"name\":\"Mumbai Indians\",\"offsetgroup\":\"Mumbai Indians\",\"orientation\":\"v\",\"showlegend\":true,\"textposition\":\"auto\",\"texttemplate\":\"%{y}\",\"x\":[\"Mumbai Indians\"],\"xaxis\":\"x\",\"y\":[89.9],\"yaxis\":\"y\",\"type\":\"bar\"},{\"alignmentgroup\":\"True\",\"hovertemplate\":\"Team=%{x}<br>Expenditure (Cr.)=%{y}<extra></extra>\",\"legendgroup\":\"Sunrisers Hyderabad\",\"marker\":{\"color\":\"#FF7F0E\",\"pattern\":{\"shape\":\"\"}},\"name\":\"Sunrisers Hyderabad\",\"offsetgroup\":\"Sunrisers Hyderabad\",\"orientation\":\"v\",\"showlegend\":true,\"textposition\":\"auto\",\"texttemplate\":\"%{y}\",\"x\":[\"Sunrisers Hyderabad\"],\"xaxis\":\"x\",\"y\":[89.9],\"yaxis\":\"y\",\"type\":\"bar\"},{\"alignmentgroup\":\"True\",\"hovertemplate\":\"Team=%{x}<br>Expenditure (Cr.)=%{y}<extra></extra>\",\"legendgroup\":\"Gujarat Titans\",\"marker\":{\"color\":\"#2CA02C\",\"pattern\":{\"shape\":\"\"}},\"name\":\"Gujarat Titans\",\"offsetgroup\":\"Gujarat Titans\",\"orientation\":\"v\",\"showlegend\":true,\"textposition\":\"auto\",\"texttemplate\":\"%{y}\",\"x\":[\"Gujarat Titans\"],\"xaxis\":\"x\",\"y\":[89.65],\"yaxis\":\"y\",\"type\":\"bar\"},{\"alignmentgroup\":\"True\",\"hovertemplate\":\"Team=%{x}<br>Expenditure (Cr.)=%{y}<extra></extra>\",\"legendgroup\":\"Lucknow Super Giants\",\"marker\":{\"color\":\"#D62728\",\"pattern\":{\"shape\":\"\"}},\"name\":\"Lucknow Super Giants\",\"offsetgroup\":\"Lucknow Super Giants\",\"orientation\":\"v\",\"showlegend\":true,\"textposition\":\"auto\",\"texttemplate\":\"%{y}\",\"x\":[\"Lucknow Super Giants\"],\"xaxis\":\"x\",\"y\":[89.4],\"yaxis\":\"y\",\"type\":\"bar\"},{\"alignmentgroup\":\"True\",\"hovertemplate\":\"Team=%{x}<br>Expenditure (Cr.)=%{y}<extra></extra>\",\"legendgroup\":\"Rajasthan Royals\",\"marker\":{\"color\":\"#9467BD\",\"pattern\":{\"shape\":\"\"}},\"name\":\"Rajasthan Royals\",\"offsetgroup\":\"Rajasthan Royals\",\"orientation\":\"v\",\"showlegend\":true,\"textposition\":\"auto\",\"texttemplate\":\"%{y}\",\"x\":[\"Rajasthan Royals\"],\"xaxis\":\"x\",\"y\":[89.05],\"yaxis\":\"y\",\"type\":\"bar\"},{\"alignmentgroup\":\"True\",\"hovertemplate\":\"Team=%{x}<br>Expenditure (Cr.)=%{y}<extra></extra>\",\"legendgroup\":\"Royal Challengers Bangalore\",\"marker\":{\"color\":\"#8C564B\",\"pattern\":{\"shape\":\"\"}},\"name\":\"Royal Challengers Bangalore\",\"offsetgroup\":\"Royal Challengers Bangalore\",\"orientation\":\"v\",\"showlegend\":true,\"textposition\":\"auto\",\"texttemplate\":\"%{y}\",\"x\":[\"Royal Challengers Bangalore\"],\"xaxis\":\"x\",\"y\":[88.45],\"yaxis\":\"y\",\"type\":\"bar\"},{\"alignmentgroup\":\"True\",\"hovertemplate\":\"Team=%{x}<br>Expenditure (Cr.)=%{y}<extra></extra>\",\"legendgroup\":\"Chennai Super Kings\",\"marker\":{\"color\":\"#E377C2\",\"pattern\":{\"shape\":\"\"}},\"name\":\"Chennai Super Kings\",\"offsetgroup\":\"Chennai Super Kings\",\"orientation\":\"v\",\"showlegend\":true,\"textposition\":\"auto\",\"texttemplate\":\"%{y}\",\"x\":[\"Chennai Super Kings\"],\"xaxis\":\"x\",\"y\":[87.05],\"yaxis\":\"y\",\"type\":\"bar\"},{\"alignmentgroup\":\"True\",\"hovertemplate\":\"Team=%{x}<br>Expenditure (Cr.)=%{y}<extra></extra>\",\"legendgroup\":\"Delhi Capitals\",\"marker\":{\"color\":\"#7F7F7F\",\"pattern\":{\"shape\":\"\"}},\"name\":\"Delhi Capitals\",\"offsetgroup\":\"Delhi Capitals\",\"orientation\":\"v\",\"showlegend\":true,\"textposition\":\"auto\",\"texttemplate\":\"%{y}\",\"x\":[\"Delhi Capitals\"],\"xaxis\":\"x\",\"y\":[86.4],\"yaxis\":\"y\",\"type\":\"bar\"},{\"alignmentgroup\":\"True\",\"hovertemplate\":\"Team=%{x}<br>Expenditure (Cr.)=%{y}<extra></extra>\",\"legendgroup\":\"Punjab Kings\",\"marker\":{\"color\":\"#BCBD22\",\"pattern\":{\"shape\":\"\"}},\"name\":\"Punjab Kings\",\"offsetgroup\":\"Punjab Kings\",\"orientation\":\"v\",\"showlegend\":true,\"textposition\":\"auto\",\"texttemplate\":\"%{y}\",\"x\":[\"Punjab Kings\"],\"xaxis\":\"x\",\"y\":[84.55],\"yaxis\":\"y\",\"type\":\"bar\"},{\"alignmentgroup\":\"True\",\"hovertemplate\":\"Team=%{x}<br>Expenditure (Cr.)=%{y}<extra></extra>\",\"legendgroup\":\"Kolkata Knight Riders\",\"marker\":{\"color\":\"#17BECF\",\"pattern\":{\"shape\":\"\"}},\"name\":\"Kolkata Knight Riders\",\"offsetgroup\":\"Kolkata Knight Riders\",\"orientation\":\"v\",\"showlegend\":true,\"textposition\":\"auto\",\"texttemplate\":\"%{y}\",\"x\":[\"Kolkata Knight Riders\"],\"xaxis\":\"x\",\"y\":[81.55],\"yaxis\":\"y\",\"type\":\"bar\"}],                        {\"template\":{\"data\":{\"pie\":[{\"automargin\":true,\"type\":\"pie\"}]},\"layout\":{\"xaxis\":{\"showgrid\":false,\"title\":{\"standoff\":15}},\"yaxis\":{\"title\":{\"standoff\":15}}}},\"xaxis\":{\"anchor\":\"y\",\"domain\":[0.0,1.0],\"title\":{\"text\":\"Team\"},\"categoryorder\":\"array\",\"categoryarray\":[\"Mumbai Indians\",\"Sunrisers Hyderabad\",\"Gujarat Titans\",\"Lucknow Super Giants\",\"Rajasthan Royals\",\"Royal Challengers Bangalore\",\"Chennai Super Kings\",\"Delhi Capitals\",\"Punjab Kings\",\"Kolkata Knight Riders\"]},\"yaxis\":{\"anchor\":\"x\",\"domain\":[0.0,1.0],\"title\":{\"text\":\"Expenditure (Cr.)\"}},\"legend\":{\"title\":{\"text\":\"Team\"},\"tracegroupgap\":0},\"margin\":{\"t\":60},\"barmode\":\"relative\"},                        {\"responsive\": true}                    ).then(function(){\n",
              "                            \n",
              "var gd = document.getElementById('ff4a1f8c-8a80-4757-970d-58129d018ab4');\n",
              "var x = new MutationObserver(function (mutations, observer) {{\n",
              "        var display = window.getComputedStyle(gd).display;\n",
              "        if (!display || display === 'none') {{\n",
              "            console.log([gd, 'removed!']);\n",
              "            Plotly.purge(gd);\n",
              "            observer.disconnect();\n",
              "        }}\n",
              "}});\n",
              "\n",
              "// Listen for the removal of the full notebook cells\n",
              "var notebookContainer = gd.closest('#notebook-container');\n",
              "if (notebookContainer) {{\n",
              "    x.observe(notebookContainer, {childList: true});\n",
              "}}\n",
              "\n",
              "// Listen for the clearing of the current output cell\n",
              "var outputEl = gd.closest('.output');\n",
              "if (outputEl) {{\n",
              "    x.observe(outputEl, {childList: true});\n",
              "}}\n",
              "\n",
              "                        })                };                            </script>        </div>\n",
              "</body>\n",
              "</html>"
            ]
          },
          "metadata": {}
        }
      ]
    },
    {
      "cell_type": "markdown",
      "source": [
        "* Mumbai indian and Sunrisers hyderabad has the highest expediture this year IPL\n",
        "* Punjab Kings and Kolkata Knight Riders are having lowest Expenditure this year"
      ],
      "metadata": {
        "id": "FvTtR1r_FUO_"
      }
    },
    {
      "cell_type": "code",
      "source": [
        "fig = px.histogram(df, x=\"COST IN ₹ (CR.)\",template='xgridoff',title =' Price distribution of the IPL Auction 2022')\n",
        "fig.show()"
      ],
      "metadata": {
        "id": "yRCirp_Ph0Oo",
        "colab": {
          "base_uri": "https://localhost:8080/",
          "height": 542
        },
        "outputId": "0fc5b403-5eae-4aae-d688-c844309bdbf4"
      },
      "execution_count": 71,
      "outputs": [
        {
          "output_type": "display_data",
          "data": {
            "text/html": [
              "<html>\n",
              "<head><meta charset=\"utf-8\" /></head>\n",
              "<body>\n",
              "    <div>            <script src=\"https://cdnjs.cloudflare.com/ajax/libs/mathjax/2.7.5/MathJax.js?config=TeX-AMS-MML_SVG\"></script><script type=\"text/javascript\">if (window.MathJax) {MathJax.Hub.Config({SVG: {font: \"STIX-Web\"}});}</script>                <script type=\"text/javascript\">window.PlotlyConfig = {MathJaxConfig: 'local'};</script>\n",
              "        <script src=\"https://cdn.plot.ly/plotly-2.8.3.min.js\"></script>                <div id=\"f0782938-d659-480f-aacf-8af4dff469f5\" class=\"plotly-graph-div\" style=\"height:525px; width:100%;\"></div>            <script type=\"text/javascript\">                                    window.PLOTLYENV=window.PLOTLYENV || {};                                    if (document.getElementById(\"f0782938-d659-480f-aacf-8af4dff469f5\")) {                    Plotly.newPlot(                        \"f0782938-d659-480f-aacf-8af4dff469f5\",                        [{\"alignmentgroup\":\"True\",\"bingroup\":\"x\",\"hovertemplate\":\"COST IN \\u20b9 (CR.)=%{x}<br>count=%{y}<extra></extra>\",\"legendgroup\":\"\",\"marker\":{\"color\":\"#1F77B4\",\"pattern\":{\"shape\":\"\"}},\"name\":\"\",\"offsetgroup\":\"\",\"orientation\":\"v\",\"showlegend\":false,\"x\":[15.0,15.0,10.0,9.0,8.0,6.25,3.2,3.0,3.0,2.6,2.4,2.4,2.0,1.9,1.7,1.4,1.1,0.5,0.5,0.3,0.2,0.2,16.0,14.0,12.0,8.0,6.75,6.0,4.4,4.0,3.6,2.0,1.9,1.9,1.5,1.2,1.0,0.7,0.5,0.2,0.2,0.2,0.2,0.2,0.2,0.2,0.2,16.0,10.75,9.0,7.5,6.5,6.5,6.25,5.25,4.2,2.8,2.0,2.0,2.0,1.1,1.1,0.65,0.5,0.5,0.5,0.5,0.2,0.2,0.2,0.2,12.25,12.0,8.0,8.0,8.0,7.25,7.25,6.0,2.0,2.0,1.5,1.5,1.0,1.0,0.6,0.55,0.55,0.5,0.4,0.2,0.2,0.2,0.2,0.2,0.2,12.0,11.5,9.25,9.0,8.25,6.75,6.0,5.25,4.0,3.8,2.0,2.0,0.75,0.6,0.55,0.5,0.5,0.4,0.25,0.2,0.2,0.2,0.2,0.2,0.2,17.0,10.0,9.2,8.75,8.25,7.5,6.75,5.75,4.6,4.0,2.0,2.0,0.9,0.5,0.5,0.5,0.2,0.2,0.2,0.2,0.2,0.2,16.0,15.25,12.0,8.25,8.0,8.0,6.0,3.0,2.6,1.7,1.6,1.5,1.3,1.0,0.75,0.65,0.5,0.3,0.3,0.2,0.2,0.2,0.2,0.2,0.2,15.0,11.0,10.75,10.75,7.75,7.0,7.0,5.5,3.4,2.4,2.0,1.0,0.95,0.8,0.75,0.75,0.5,0.3,0.25,0.2,0.2,0.2,14.0,10.0,10.0,8.5,8.0,7.75,6.5,5.0,4.0,3.8,2.6,2.0,1.5,1.4,1.0,0.75,0.75,0.3,0.2,0.2,0.2,0.2,0.2,0.2,14.0,10.75,8.75,8.5,7.75,6.5,4.2,4.2,4.0,4.0,4.0,4.0,2.6,2.4,1.5,0.75,0.5,0.5,0.2,0.2,0.2,0.2,0.2],\"xaxis\":\"x\",\"yaxis\":\"y\",\"type\":\"histogram\"}],                        {\"template\":{\"data\":{\"pie\":[{\"automargin\":true,\"type\":\"pie\"}]},\"layout\":{\"xaxis\":{\"showgrid\":false,\"title\":{\"standoff\":15}},\"yaxis\":{\"title\":{\"standoff\":15}}}},\"xaxis\":{\"anchor\":\"y\",\"domain\":[0.0,1.0],\"title\":{\"text\":\"COST IN \\u20b9 (CR.)\"}},\"yaxis\":{\"anchor\":\"x\",\"domain\":[0.0,1.0],\"title\":{\"text\":\"count\"}},\"legend\":{\"tracegroupgap\":0},\"title\":{\"text\":\" Price distribution of the IPL Auction 2022\"},\"barmode\":\"relative\"},                        {\"responsive\": true}                    ).then(function(){\n",
              "                            \n",
              "var gd = document.getElementById('f0782938-d659-480f-aacf-8af4dff469f5');\n",
              "var x = new MutationObserver(function (mutations, observer) {{\n",
              "        var display = window.getComputedStyle(gd).display;\n",
              "        if (!display || display === 'none') {{\n",
              "            console.log([gd, 'removed!']);\n",
              "            Plotly.purge(gd);\n",
              "            observer.disconnect();\n",
              "        }}\n",
              "}});\n",
              "\n",
              "// Listen for the removal of the full notebook cells\n",
              "var notebookContainer = gd.closest('#notebook-container');\n",
              "if (notebookContainer) {{\n",
              "    x.observe(notebookContainer, {childList: true});\n",
              "}}\n",
              "\n",
              "// Listen for the clearing of the current output cell\n",
              "var outputEl = gd.closest('.output');\n",
              "if (outputEl) {{\n",
              "    x.observe(outputEl, {childList: true});\n",
              "}}\n",
              "\n",
              "                        })                };                            </script>        </div>\n",
              "</body>\n",
              "</html>"
            ]
          },
          "metadata": {}
        }
      ]
    },
    {
      "cell_type": "markdown",
      "source": [
        "\n",
        "\n",
        "*  Most Of the Player around 96 are Sold in between 0 - 0.99 Crore\n",
        "*  Only 3 Player are Sold For 16 - 16.99 crore\n",
        "*  Only 1 player is sold for 17 - 17.99 crore\n",
        "\n"
      ],
      "metadata": {
        "id": "DykxV2X2kH2Z"
      }
    },
    {
      "cell_type": "code",
      "source": [
        "fig= px.bar(df.nlargest(10, 'COST IN ₹ (CR.)'),x='COST IN ₹ (CR.)',y='Player',color='Team',hover_name='TYPE',orientation='h',template='xgridoff',text_auto=True,title='Top 10 Highest Sold Player')\n",
        "fig.update_layout(yaxis={'tickangle': 50},margin=dict(l=95),)\n",
        "fig.show()"
      ],
      "metadata": {
        "colab": {
          "base_uri": "https://localhost:8080/",
          "height": 542
        },
        "id": "C0wecmW0kMYj",
        "outputId": "e459aa7e-6967-4fdc-81a5-b2ec9400746e"
      },
      "execution_count": 81,
      "outputs": [
        {
          "output_type": "display_data",
          "data": {
            "text/html": [
              "<html>\n",
              "<head><meta charset=\"utf-8\" /></head>\n",
              "<body>\n",
              "    <div>            <script src=\"https://cdnjs.cloudflare.com/ajax/libs/mathjax/2.7.5/MathJax.js?config=TeX-AMS-MML_SVG\"></script><script type=\"text/javascript\">if (window.MathJax) {MathJax.Hub.Config({SVG: {font: \"STIX-Web\"}});}</script>                <script type=\"text/javascript\">window.PlotlyConfig = {MathJaxConfig: 'local'};</script>\n",
              "        <script src=\"https://cdn.plot.ly/plotly-2.8.3.min.js\"></script>                <div id=\"81a5251c-c0f0-438d-a7cc-ed512582aaa0\" class=\"plotly-graph-div\" style=\"height:525px; width:100%;\"></div>            <script type=\"text/javascript\">                                    window.PLOTLYENV=window.PLOTLYENV || {};                                    if (document.getElementById(\"81a5251c-c0f0-438d-a7cc-ed512582aaa0\")) {                    Plotly.newPlot(                        \"81a5251c-c0f0-438d-a7cc-ed512582aaa0\",                        [{\"alignmentgroup\":\"True\",\"hovertemplate\":\"<b>%{hovertext}</b><br><br>Team=Lucknow Super Giants<br>COST IN \\u20b9 (CR.)=%{x}<br>Player=%{y}<extra></extra>\",\"hovertext\":[\"WICKETKEEPER\"],\"legendgroup\":\"Lucknow Super Giants\",\"marker\":{\"color\":\"#1F77B4\",\"pattern\":{\"shape\":\"\"}},\"name\":\"Lucknow Super Giants\",\"offsetgroup\":\"Lucknow Super Giants\",\"orientation\":\"h\",\"showlegend\":true,\"textposition\":\"auto\",\"texttemplate\":\"%{x}\",\"x\":[17.0],\"xaxis\":\"x\",\"y\":[\"KL Rahul\"],\"yaxis\":\"y\",\"type\":\"bar\"},{\"alignmentgroup\":\"True\",\"hovertemplate\":\"<b>%{hovertext}</b><br><br>Team=Chennai Super Kings<br>COST IN \\u20b9 (CR.)=%{x}<br>Player=%{y}<extra></extra>\",\"hovertext\":[\"ALL-ROUNDER\",\"BOWLER\"],\"legendgroup\":\"Chennai Super Kings\",\"marker\":{\"color\":\"#FF7F0E\",\"pattern\":{\"shape\":\"\"}},\"name\":\"Chennai Super Kings\",\"offsetgroup\":\"Chennai Super Kings\",\"orientation\":\"h\",\"showlegend\":true,\"textposition\":\"auto\",\"texttemplate\":\"%{x}\",\"x\":[16.0,14.0],\"xaxis\":\"x\",\"y\":[\"Ravindra Jadeja\",\"Deepak Chahar\"],\"yaxis\":\"y\",\"type\":\"bar\"},{\"alignmentgroup\":\"True\",\"hovertemplate\":\"<b>%{hovertext}</b><br><br>Team=Delhi Capitals<br>COST IN \\u20b9 (CR.)=%{x}<br>Player=%{y}<extra></extra>\",\"hovertext\":[\"WICKETKEEPER\"],\"legendgroup\":\"Delhi Capitals\",\"marker\":{\"color\":\"#2CA02C\",\"pattern\":{\"shape\":\"\"}},\"name\":\"Delhi Capitals\",\"offsetgroup\":\"Delhi Capitals\",\"orientation\":\"h\",\"showlegend\":true,\"textposition\":\"auto\",\"texttemplate\":\"%{x}\",\"x\":[16.0],\"xaxis\":\"x\",\"y\":[\"Rishabh Pant\"],\"yaxis\":\"y\",\"type\":\"bar\"},{\"alignmentgroup\":\"True\",\"hovertemplate\":\"<b>%{hovertext}</b><br><br>Team=Mumbai Indians<br>COST IN \\u20b9 (CR.)=%{x}<br>Player=%{y}<extra></extra>\",\"hovertext\":[\"BATTER\",\"WICKETKEEPER\"],\"legendgroup\":\"Mumbai Indians\",\"marker\":{\"color\":\"#D62728\",\"pattern\":{\"shape\":\"\"}},\"name\":\"Mumbai Indians\",\"offsetgroup\":\"Mumbai Indians\",\"orientation\":\"h\",\"showlegend\":true,\"textposition\":\"auto\",\"texttemplate\":\"%{x}\",\"x\":[16.0,15.25],\"xaxis\":\"x\",\"y\":[\"Rohit Sharma\",\"Ishan Kishan\"],\"yaxis\":\"y\",\"type\":\"bar\"},{\"alignmentgroup\":\"True\",\"hovertemplate\":\"<b>%{hovertext}</b><br><br>Team=Gujarat Titans<br>COST IN \\u20b9 (CR.)=%{x}<br>Player=%{y}<extra></extra>\",\"hovertext\":[\"BOWLER\",\"ALL-ROUNDER\"],\"legendgroup\":\"Gujarat Titans\",\"marker\":{\"color\":\"#9467BD\",\"pattern\":{\"shape\":\"\"}},\"name\":\"Gujarat Titans\",\"offsetgroup\":\"Gujarat Titans\",\"orientation\":\"h\",\"showlegend\":true,\"textposition\":\"auto\",\"texttemplate\":\"%{x}\",\"x\":[15.0,15.0],\"xaxis\":\"x\",\"y\":[\"Rashid Khan\",\"Hardik Pandya\"],\"yaxis\":\"y\",\"type\":\"bar\"},{\"alignmentgroup\":\"True\",\"hovertemplate\":\"<b>%{hovertext}</b><br><br>Team=Royal Challengers Bangalore<br>COST IN \\u20b9 (CR.)=%{x}<br>Player=%{y}<extra></extra>\",\"hovertext\":[\"BATTER\"],\"legendgroup\":\"Royal Challengers Bangalore\",\"marker\":{\"color\":\"#8C564B\",\"pattern\":{\"shape\":\"\"}},\"name\":\"Royal Challengers Bangalore\",\"offsetgroup\":\"Royal Challengers Bangalore\",\"orientation\":\"h\",\"showlegend\":true,\"textposition\":\"auto\",\"texttemplate\":\"%{x}\",\"x\":[15.0],\"xaxis\":\"x\",\"y\":[\"Virat Kohli\"],\"yaxis\":\"y\",\"type\":\"bar\"},{\"alignmentgroup\":\"True\",\"hovertemplate\":\"<b>%{hovertext}</b><br><br>Team=Rajasthan Royals<br>COST IN \\u20b9 (CR.)=%{x}<br>Player=%{y}<extra></extra>\",\"hovertext\":[\"WICKETKEEPER\"],\"legendgroup\":\"Rajasthan Royals\",\"marker\":{\"color\":\"#E377C2\",\"pattern\":{\"shape\":\"\"}},\"name\":\"Rajasthan Royals\",\"offsetgroup\":\"Rajasthan Royals\",\"orientation\":\"h\",\"showlegend\":true,\"textposition\":\"auto\",\"texttemplate\":\"%{x}\",\"x\":[14.0],\"xaxis\":\"x\",\"y\":[\"Sanju Samson\"],\"yaxis\":\"y\",\"type\":\"bar\"}],                        {\"template\":{\"data\":{\"pie\":[{\"automargin\":true,\"type\":\"pie\"}]},\"layout\":{\"xaxis\":{\"showgrid\":false,\"title\":{\"standoff\":15}},\"yaxis\":{\"title\":{\"standoff\":15}}}},\"xaxis\":{\"anchor\":\"y\",\"domain\":[0.0,1.0],\"title\":{\"text\":\"COST IN \\u20b9 (CR.)\"}},\"yaxis\":{\"anchor\":\"x\",\"domain\":[0.0,1.0],\"title\":{\"text\":\"Player\"},\"tickangle\":50},\"legend\":{\"title\":{\"text\":\"Team\"},\"tracegroupgap\":0},\"title\":{\"text\":\"Top 10 Highest Sold Player\"},\"barmode\":\"relative\",\"margin\":{\"l\":95}},                        {\"responsive\": true}                    ).then(function(){\n",
              "                            \n",
              "var gd = document.getElementById('81a5251c-c0f0-438d-a7cc-ed512582aaa0');\n",
              "var x = new MutationObserver(function (mutations, observer) {{\n",
              "        var display = window.getComputedStyle(gd).display;\n",
              "        if (!display || display === 'none') {{\n",
              "            console.log([gd, 'removed!']);\n",
              "            Plotly.purge(gd);\n",
              "            observer.disconnect();\n",
              "        }}\n",
              "}});\n",
              "\n",
              "// Listen for the removal of the full notebook cells\n",
              "var notebookContainer = gd.closest('#notebook-container');\n",
              "if (notebookContainer) {{\n",
              "    x.observe(notebookContainer, {childList: true});\n",
              "}}\n",
              "\n",
              "// Listen for the clearing of the current output cell\n",
              "var outputEl = gd.closest('.output');\n",
              "if (outputEl) {{\n",
              "    x.observe(outputEl, {childList: true});\n",
              "}}\n",
              "\n",
              "                        })                };                            </script>        </div>\n",
              "</body>\n",
              "</html>"
            ]
          },
          "metadata": {}
        }
      ]
    },
    {
      "cell_type": "markdown",
      "source": [
        "* Kl Rahul (Wicket Keeper) Lucknow Super Giants are sold for the highest 17 Crore\n"
      ],
      "metadata": {
        "id": "Ewm1dh6YouLR"
      }
    },
    {
      "cell_type": "code",
      "source": [
        "fig= px.bar((df[df.TYPE == 'BOWLER']).nlargest(10,'COST IN ₹ (CR.)'),x='COST IN ₹ (CR.)',y='Player',color='Team',orientation='h',template='xgridoff',text_auto=True,title='Top 10 Hisghest Sold Bowler')\n",
        "fig.update_layout(yaxis={'tickangle': 50},margin=dict(l=95),)\n",
        "fig.show()"
      ],
      "metadata": {
        "colab": {
          "base_uri": "https://localhost:8080/",
          "height": 542
        },
        "id": "diQfbxSHk1dM",
        "outputId": "0f6ad7e6-59d7-4cc5-836e-e74cba12c84f"
      },
      "execution_count": 82,
      "outputs": [
        {
          "output_type": "display_data",
          "data": {
            "text/html": [
              "<html>\n",
              "<head><meta charset=\"utf-8\" /></head>\n",
              "<body>\n",
              "    <div>            <script src=\"https://cdnjs.cloudflare.com/ajax/libs/mathjax/2.7.5/MathJax.js?config=TeX-AMS-MML_SVG\"></script><script type=\"text/javascript\">if (window.MathJax) {MathJax.Hub.Config({SVG: {font: \"STIX-Web\"}});}</script>                <script type=\"text/javascript\">window.PlotlyConfig = {MathJaxConfig: 'local'};</script>\n",
              "        <script src=\"https://cdn.plot.ly/plotly-2.8.3.min.js\"></script>                <div id=\"4e45d35b-8864-457a-9381-a8b7ed5cd144\" class=\"plotly-graph-div\" style=\"height:525px; width:100%;\"></div>            <script type=\"text/javascript\">                                    window.PLOTLYENV=window.PLOTLYENV || {};                                    if (document.getElementById(\"4e45d35b-8864-457a-9381-a8b7ed5cd144\")) {                    Plotly.newPlot(                        \"4e45d35b-8864-457a-9381-a8b7ed5cd144\",                        [{\"alignmentgroup\":\"True\",\"hovertemplate\":\"Team=Gujarat Titans<br>COST IN \\u20b9 (CR.)=%{x}<br>Player=%{y}<extra></extra>\",\"legendgroup\":\"Gujarat Titans\",\"marker\":{\"color\":\"#1F77B4\",\"pattern\":{\"shape\":\"\"}},\"name\":\"Gujarat Titans\",\"offsetgroup\":\"Gujarat Titans\",\"orientation\":\"h\",\"showlegend\":true,\"textposition\":\"auto\",\"texttemplate\":\"%{x}\",\"x\":[15.0,10.0],\"xaxis\":\"x\",\"y\":[\"Rashid Khan\",\"Lockie Ferguson\"],\"yaxis\":\"y\",\"type\":\"bar\"},{\"alignmentgroup\":\"True\",\"hovertemplate\":\"Team=Chennai Super Kings<br>COST IN \\u20b9 (CR.)=%{x}<br>Player=%{y}<extra></extra>\",\"legendgroup\":\"Chennai Super Kings\",\"marker\":{\"color\":\"#FF7F0E\",\"pattern\":{\"shape\":\"\"}},\"name\":\"Chennai Super Kings\",\"offsetgroup\":\"Chennai Super Kings\",\"orientation\":\"h\",\"showlegend\":true,\"textposition\":\"auto\",\"texttemplate\":\"%{x}\",\"x\":[14.0],\"xaxis\":\"x\",\"y\":[\"Deepak Chahar\"],\"yaxis\":\"y\",\"type\":\"bar\"},{\"alignmentgroup\":\"True\",\"hovertemplate\":\"Team=Mumbai Indians<br>COST IN \\u20b9 (CR.)=%{x}<br>Player=%{y}<extra></extra>\",\"legendgroup\":\"Mumbai Indians\",\"marker\":{\"color\":\"#2CA02C\",\"pattern\":{\"shape\":\"\"}},\"name\":\"Mumbai Indians\",\"offsetgroup\":\"Mumbai Indians\",\"orientation\":\"h\",\"showlegend\":true,\"textposition\":\"auto\",\"texttemplate\":\"%{x}\",\"x\":[12.0],\"xaxis\":\"x\",\"y\":[\"Jasprit Bumrah\"],\"yaxis\":\"y\",\"type\":\"bar\"},{\"alignmentgroup\":\"True\",\"hovertemplate\":\"Team=Delhi Capitals<br>COST IN \\u20b9 (CR.)=%{x}<br>Player=%{y}<extra></extra>\",\"legendgroup\":\"Delhi Capitals\",\"marker\":{\"color\":\"#D62728\",\"pattern\":{\"shape\":\"\"}},\"name\":\"Delhi Capitals\",\"offsetgroup\":\"Delhi Capitals\",\"orientation\":\"h\",\"showlegend\":true,\"textposition\":\"auto\",\"texttemplate\":\"%{x}\",\"x\":[10.75],\"xaxis\":\"x\",\"y\":[\"Shardul Thakur\"],\"yaxis\":\"y\",\"type\":\"bar\"},{\"alignmentgroup\":\"True\",\"hovertemplate\":\"Team=Lucknow Super Giants<br>COST IN \\u20b9 (CR.)=%{x}<br>Player=%{y}<extra></extra>\",\"legendgroup\":\"Lucknow Super Giants\",\"marker\":{\"color\":\"#9467BD\",\"pattern\":{\"shape\":\"\"}},\"name\":\"Lucknow Super Giants\",\"offsetgroup\":\"Lucknow Super Giants\",\"orientation\":\"h\",\"showlegend\":true,\"textposition\":\"auto\",\"texttemplate\":\"%{x}\",\"x\":[10.0],\"xaxis\":\"x\",\"y\":[\"Avesh Khan\"],\"yaxis\":\"y\",\"type\":\"bar\"},{\"alignmentgroup\":\"True\",\"hovertemplate\":\"Team=Rajasthan Royals<br>COST IN \\u20b9 (CR.)=%{x}<br>Player=%{y}<extra></extra>\",\"legendgroup\":\"Rajasthan Royals\",\"marker\":{\"color\":\"#8C564B\",\"pattern\":{\"shape\":\"\"}},\"name\":\"Rajasthan Royals\",\"offsetgroup\":\"Rajasthan Royals\",\"orientation\":\"h\",\"showlegend\":true,\"textposition\":\"auto\",\"texttemplate\":\"%{x}\",\"x\":[10.0,8.0],\"xaxis\":\"x\",\"y\":[\"Prasidh Krishna\",\"Trent Boult\"],\"yaxis\":\"y\",\"type\":\"bar\"},{\"alignmentgroup\":\"True\",\"hovertemplate\":\"Team=Punjab Kings<br>COST IN \\u20b9 (CR.)=%{x}<br>Player=%{y}<extra></extra>\",\"legendgroup\":\"Punjab Kings\",\"marker\":{\"color\":\"#E377C2\",\"pattern\":{\"shape\":\"\"}},\"name\":\"Punjab Kings\",\"offsetgroup\":\"Punjab Kings\",\"orientation\":\"h\",\"showlegend\":true,\"textposition\":\"auto\",\"texttemplate\":\"%{x}\",\"x\":[9.25],\"xaxis\":\"x\",\"y\":[\"Kagiso Rabada\"],\"yaxis\":\"y\",\"type\":\"bar\"},{\"alignmentgroup\":\"True\",\"hovertemplate\":\"Team=Kolkata Knight Riders<br>COST IN \\u20b9 (CR.)=%{x}<br>Player=%{y}<extra></extra>\",\"legendgroup\":\"Kolkata Knight Riders\",\"marker\":{\"color\":\"#7F7F7F\",\"pattern\":{\"shape\":\"\"}},\"name\":\"Kolkata Knight Riders\",\"offsetgroup\":\"Kolkata Knight Riders\",\"orientation\":\"h\",\"showlegend\":true,\"textposition\":\"auto\",\"texttemplate\":\"%{x}\",\"x\":[8.0],\"xaxis\":\"x\",\"y\":[\"Varun Chakaravarthy\"],\"yaxis\":\"y\",\"type\":\"bar\"}],                        {\"template\":{\"data\":{\"pie\":[{\"automargin\":true,\"type\":\"pie\"}]},\"layout\":{\"xaxis\":{\"showgrid\":false,\"title\":{\"standoff\":15}},\"yaxis\":{\"title\":{\"standoff\":15}}}},\"xaxis\":{\"anchor\":\"y\",\"domain\":[0.0,1.0],\"title\":{\"text\":\"COST IN \\u20b9 (CR.)\"}},\"yaxis\":{\"anchor\":\"x\",\"domain\":[0.0,1.0],\"title\":{\"text\":\"Player\"},\"tickangle\":50},\"legend\":{\"title\":{\"text\":\"Team\"},\"tracegroupgap\":0},\"title\":{\"text\":\"Top 10 Hisghest Sold Bowler\"},\"barmode\":\"relative\",\"margin\":{\"l\":95}},                        {\"responsive\": true}                    ).then(function(){\n",
              "                            \n",
              "var gd = document.getElementById('4e45d35b-8864-457a-9381-a8b7ed5cd144');\n",
              "var x = new MutationObserver(function (mutations, observer) {{\n",
              "        var display = window.getComputedStyle(gd).display;\n",
              "        if (!display || display === 'none') {{\n",
              "            console.log([gd, 'removed!']);\n",
              "            Plotly.purge(gd);\n",
              "            observer.disconnect();\n",
              "        }}\n",
              "}});\n",
              "\n",
              "// Listen for the removal of the full notebook cells\n",
              "var notebookContainer = gd.closest('#notebook-container');\n",
              "if (notebookContainer) {{\n",
              "    x.observe(notebookContainer, {childList: true});\n",
              "}}\n",
              "\n",
              "// Listen for the clearing of the current output cell\n",
              "var outputEl = gd.closest('.output');\n",
              "if (outputEl) {{\n",
              "    x.observe(outputEl, {childList: true});\n",
              "}}\n",
              "\n",
              "                        })                };                            </script>        </div>\n",
              "</body>\n",
              "</html>"
            ]
          },
          "metadata": {}
        }
      ]
    },
    {
      "cell_type": "code",
      "source": [
        ""
      ],
      "metadata": {
        "id": "wI8iWCuatDE6"
      },
      "execution_count": null,
      "outputs": []
    }
  ]
}